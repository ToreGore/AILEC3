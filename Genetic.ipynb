{
 "cells": [
  {
   "cell_type": "code",
   "execution_count": 1,
   "id": "79dfea5c",
   "metadata": {},
   "outputs": [
    {
     "name": "stdout",
     "output_type": "stream",
     "text": [
      "importing Jupyter notebook from Cloud.ipynb\n"
     ]
    }
   ],
   "source": [
    "import import_ipynb\n",
    "import itertools\n",
    "\n",
    "import random as rnd\n",
    "import Cloud as cld\n",
    "import numpy as np\n",
    "import copy\n",
    "\n",
    "from tqdm.notebook import tqdm\n",
    "from pprint import pprint"
   ]
  },
  {
   "cell_type": "code",
   "execution_count": 2,
   "id": "f892dc8e",
   "metadata": {},
   "outputs": [],
   "source": [
    "def shuffle(lst):\n",
    "    arr = lst\n",
    "    # Get length of List\n",
    "    n = len(arr)\n",
    "    #repeat the following for n number of times\n",
    "    for i in range(n):\n",
    "        #select an index randomly\n",
    "        j = rnd.randint(0, n-1)\n",
    "        #delete the element at that index.\n",
    "        element=arr.pop(j)\n",
    "        #now append that deleted element to the list\n",
    "        arr.append(element)\n",
    "    return arr"
   ]
  },
  {
   "cell_type": "code",
   "execution_count": 3,
   "id": "461b7875",
   "metadata": {},
   "outputs": [],
   "source": [
    "def array_split(lst, num_chunks):\n",
    "    if num_chunks > len(lst):\n",
    "        return lst\n",
    "    assert(num_chunks > 0)\n",
    "    # Chunk length\n",
    "    i = len(lst) // num_chunks\n",
    "    #print(i)\n",
    "    l = [lst[k*i:(k+1)*i] for k in range(num_chunks-1)]\n",
    "    l.append(lst[i*(num_chunks-1):])\n",
    "    return l"
   ]
  },
  {
   "cell_type": "markdown",
   "id": "a1100a2b",
   "metadata": {},
   "source": [
    "#### Fitness function to calculate the fitness score of each gene\n",
    "Calculated the max time that each server expends on its own workload.<br>\n",
    "Need to take into account the speed of the processors"
   ]
  },
  {
   "cell_type": "code",
   "execution_count": 4,
   "id": "b8fbaff1",
   "metadata": {},
   "outputs": [],
   "source": [
    "def fitness(chromosome):\n",
    "    servers_fitness = []\n",
    "    \n",
    "    for server in chromosome.servers:\n",
    "        core_num, core_speed, server_processes = server.cores, server.cpu_speed, server.workload\n",
    "        execq = {c:[[],0] for c in range(core_num)}\n",
    "        \n",
    "        for proc in server_processes:\n",
    "            key = min(execq, key=lambda p: execq[p][1])\n",
    "            time_core = execq[key][1]\n",
    "            time_core += proc.process_length\n",
    "            execq[key][0].append(proc)\n",
    "            execq[key][1] = time_core\n",
    "            \n",
    "        longest_time = max(execq, key=lambda p: execq[p][1]) #/ core_speed\n",
    "        servers_fitness.append((server.name, execq[longest_time]))\n",
    "    \n",
    "    average_fitness = sum([pack[1][1] for pack in servers_fitness]) / len([pack[1][1] for pack in servers_fitness])\n",
    "    return servers_fitness, average_fitness"
   ]
  },
  {
   "cell_type": "markdown",
   "id": "3e42da7a",
   "metadata": {},
   "source": [
    "#### Chromosome Class"
   ]
  },
  {
   "cell_type": "code",
   "execution_count": 5,
   "id": "dfdb1f23",
   "metadata": {},
   "outputs": [],
   "source": [
    "class Chromosome:\n",
    "    def __init__(self, servers, processes, individual=None, generation=0):\n",
    "        self.servers = servers\n",
    "        self.processes = processes\n",
    "        self.detailed_fitness = fitness(self)\n",
    "        self.fit = self.detailed_fitness[0]\n",
    "        self.average_fitness = self.detailed_fitness[1]\n",
    "        self.individual = individual\n",
    "        self.generation = generation\n",
    "    def __lt__(self, other):\n",
    "         return self.average_fitness < other.average_fitness\n",
    "    def __repr__(self):\n",
    "        return \"Average Chromosome fitness: {0}\\n\\tIndividual: {1}\\n\\tGENERATION: {2}\".format(self.average_fitness, self.individual, self.generation)"
   ]
  },
  {
   "cell_type": "code",
   "execution_count": 6,
   "id": "f7136682",
   "metadata": {},
   "outputs": [],
   "source": [
    "num_servers = 20\n",
    "cores = [16, 18, 20, 24, 48, 96]\n",
    "cpu_speeds = [3, 4, 5, 10, 20]\n",
    "rnd.seed(42)\n",
    "servers = [cld.Server(name=x, cpu_speed=cpu_speeds[rnd.randint(0, 4)], cores=cores[rnd.randint(0, 4)]) for x in range(0, num_servers)]"
   ]
  },
  {
   "cell_type": "code",
   "execution_count": 7,
   "id": "a51c7e9e",
   "metadata": {},
   "outputs": [],
   "source": [
    "num_processes = 4098\n",
    "processes_lengths = [round(rnd.uniform(0.02, 1.000), 2) for x in range(0, num_processes)] \n",
    "# Fraction of billion of instructions. 1 = 1 billion instructions\n",
    "processes = [cld.Process(x, processes_lengths[rnd.randint(0, len(processes_lengths)-1)]) for x in range(0, num_processes)]"
   ]
  },
  {
   "cell_type": "code",
   "execution_count": 8,
   "id": "1c0eec29",
   "metadata": {},
   "outputs": [],
   "source": [
    "def make_first_chromosome(servers, processes, individual):\n",
    "    backup_servers = copy.deepcopy(servers)\n",
    "    shuffled_processes = copy.deepcopy(processes)\n",
    "    np.random.seed(individual)\n",
    "    np.random.shuffle(shuffled_processes)\n",
    "    split_processes = array_split(np.asarray(shuffled_processes), len(servers))\n",
    "    #print(split_processes)\n",
    "    for i in range(len(split_processes)):\n",
    "        backup_servers[i].workload = split_processes[i]\n",
    "        #print(backup_servers[i].workload)\n",
    "    #print(servers[0].workload)\n",
    "    chrom = Chromosome(backup_servers, processes, individual)\n",
    "    del(backup_servers)\n",
    "    del(shuffled_processes)\n",
    "    return chrom"
   ]
  },
  {
   "cell_type": "markdown",
   "id": "d9b18b98",
   "metadata": {},
   "source": [
    "# Qualcosa in make_first_chromosome punta ai workload randomizzati, non a sè stesso. Porca madonna"
   ]
  },
  {
   "cell_type": "code",
   "execution_count": 9,
   "id": "3ce77684",
   "metadata": {},
   "outputs": [],
   "source": [
    "chrom1 = make_first_chromosome(servers, processes, 0)"
   ]
  },
  {
   "cell_type": "code",
   "execution_count": 10,
   "id": "771cb383",
   "metadata": {},
   "outputs": [],
   "source": [
    "chrom2 = make_first_chromosome(servers, processes, 1)"
   ]
  },
  {
   "cell_type": "markdown",
   "id": "2577f60a",
   "metadata": {},
   "source": [
    "chrom1.servers[0].workload"
   ]
  },
  {
   "cell_type": "markdown",
   "id": "1673b1a1",
   "metadata": {},
   "source": [
    "chrom2.servers[0].workload"
   ]
  },
  {
   "cell_type": "code",
   "execution_count": 11,
   "id": "a1f56fbf",
   "metadata": {},
   "outputs": [
    {
     "data": {
      "text/plain": [
       "(False,\n",
       " Average Chromosome fitness: 5.202000000000001\n",
       " \tIndividual: 0\n",
       " \tGENERATION: 0,\n",
       " Average Chromosome fitness: 5.156000000000001\n",
       " \tIndividual: 1\n",
       " \tGENERATION: 0)"
      ]
     },
     "execution_count": 11,
     "metadata": {},
     "output_type": "execute_result"
    }
   ],
   "source": [
    "chrom1 < chrom2, chrom1, chrom2"
   ]
  },
  {
   "cell_type": "markdown",
   "id": "1e0819e9",
   "metadata": {},
   "source": [
    "#### Function to create the first generation population"
   ]
  },
  {
   "cell_type": "code",
   "execution_count": 12,
   "id": "3eccc256",
   "metadata": {},
   "outputs": [],
   "source": [
    "def make_first_gen(servers, processes, pop_size):\n",
    "    population = []\n",
    "    x = 0\n",
    "    for i in tqdm(range(pop_size)):\n",
    "        rnd.seed(i)#RandomState(i)\n",
    "        #np.random.shuffle(processes)\n",
    "        population.append(make_first_chromosome(servers, rnd.sample(copy.deepcopy(processes[:]), len(processes)), x))\n",
    "        x += 1\n",
    "    return sorted(population)"
   ]
  },
  {
   "cell_type": "code",
   "execution_count": 13,
   "id": "9cdec467",
   "metadata": {},
   "outputs": [
    {
     "data": {
      "application/vnd.jupyter.widget-view+json": {
       "model_id": "a3a2af77d07540529204196067fc04cd",
       "version_major": 2,
       "version_minor": 0
      },
      "text/plain": [
       "  0%|          | 0/20 [00:00<?, ?it/s]"
      ]
     },
     "metadata": {},
     "output_type": "display_data"
    }
   ],
   "source": [
    "first_gen = make_first_gen(servers, processes, num_servers)"
   ]
  },
  {
   "cell_type": "code",
   "execution_count": 14,
   "id": "edef5d7f",
   "metadata": {},
   "outputs": [
    {
     "data": {
      "text/plain": [
       "[Average Chromosome fitness: 5.193\n",
       " \tIndividual: 9\n",
       " \tGENERATION: 0,\n",
       " Average Chromosome fitness: 5.214\n",
       " \tIndividual: 6\n",
       " \tGENERATION: 0,\n",
       " Average Chromosome fitness: 5.2170000000000005\n",
       " \tIndividual: 19\n",
       " \tGENERATION: 0,\n",
       " Average Chromosome fitness: 5.217999999999998\n",
       " \tIndividual: 14\n",
       " \tGENERATION: 0,\n",
       " Average Chromosome fitness: 5.218\n",
       " \tIndividual: 8\n",
       " \tGENERATION: 0,\n",
       " Average Chromosome fitness: 5.22\n",
       " \tIndividual: 4\n",
       " \tGENERATION: 0,\n",
       " Average Chromosome fitness: 5.223000000000001\n",
       " \tIndividual: 12\n",
       " \tGENERATION: 0,\n",
       " Average Chromosome fitness: 5.231\n",
       " \tIndividual: 10\n",
       " \tGENERATION: 0,\n",
       " Average Chromosome fitness: 5.2335\n",
       " \tIndividual: 18\n",
       " \tGENERATION: 0,\n",
       " Average Chromosome fitness: 5.234\n",
       " \tIndividual: 17\n",
       " \tGENERATION: 0,\n",
       " Average Chromosome fitness: 5.237500000000001\n",
       " \tIndividual: 5\n",
       " \tGENERATION: 0,\n",
       " Average Chromosome fitness: 5.2425\n",
       " \tIndividual: 15\n",
       " \tGENERATION: 0,\n",
       " Average Chromosome fitness: 5.2455\n",
       " \tIndividual: 16\n",
       " \tGENERATION: 0,\n",
       " Average Chromosome fitness: 5.251500000000002\n",
       " \tIndividual: 1\n",
       " \tGENERATION: 0,\n",
       " Average Chromosome fitness: 5.2545\n",
       " \tIndividual: 2\n",
       " \tGENERATION: 0,\n",
       " Average Chromosome fitness: 5.2555\n",
       " \tIndividual: 7\n",
       " \tGENERATION: 0,\n",
       " Average Chromosome fitness: 5.255999999999999\n",
       " \tIndividual: 13\n",
       " \tGENERATION: 0,\n",
       " Average Chromosome fitness: 5.274499999999999\n",
       " \tIndividual: 11\n",
       " \tGENERATION: 0,\n",
       " Average Chromosome fitness: 5.284000000000001\n",
       " \tIndividual: 0\n",
       " \tGENERATION: 0,\n",
       " Average Chromosome fitness: 5.306000000000001\n",
       " \tIndividual: 3\n",
       " \tGENERATION: 0]"
      ]
     },
     "execution_count": 14,
     "metadata": {},
     "output_type": "execute_result"
    }
   ],
   "source": [
    "first_gen"
   ]
  },
  {
   "cell_type": "markdown",
   "id": "fceead68",
   "metadata": {},
   "source": [
    "#### Mutation Function\n",
    "This function remixes the process list in a chromosome<br>\n",
    "##### It appears to be useless by the nature of the crossover. Might want to look a bit more into it later"
   ]
  },
  {
   "cell_type": "code",
   "execution_count": 15,
   "id": "01c9c892",
   "metadata": {},
   "outputs": [],
   "source": [
    "def mutation(chromosome):\n",
    "    pass"
   ]
  },
  {
   "cell_type": "markdown",
   "id": "606374c2",
   "metadata": {},
   "source": [
    "#### Crossover Function\n",
    "This function selects the best subjects from one generation and \"breeds\" them into the next. <br>\n",
    "The two best subjects from the previous generation cross into the next. <br>\n",
    "<br>\n",
    "##### Crossbreed Logic\n",
    "Compare the best performing workloads on each server. <br>\n",
    "Take workload with best performance. <br>\n",
    "If there are shared processess between servers:\n",
    "1. Keep process on faster server;\n",
    "2. Eliminate the process on slower server;\n",
    "3. Place this process in a list;\n",
    "4. Insert a random pending process from the list; **This is a mutation** \n",
    "5. Repeat redistribution 3. and 4. for num_children times.\n",
    "6. The parents cross in the next generation pool.<br>\n",
    "\n",
    "This should ensure a steadily improve each generation."
   ]
  },
  {
   "cell_type": "markdown",
   "id": "4c2cb8c4",
   "metadata": {},
   "source": [
    "##### Breed logic [Randomized]\n",
    "Compare the speed of the servers for each chromosome.\n",
    "Reshape the workload to get only the fastest processes. <br>\n",
    "1. Pick first server of chrom1 and random server of chrom2;\n",
    "2. Pick fastest server of the two and merge workloads\n",
    "3. Heaviest processes go to faster server\n",
    "4. Repeat for every server of chrom1, exclude already picked servers of chrom3\n",
    "\n",
    "This should ensure a steadily improve each generation."
   ]
  },
  {
   "cell_type": "code",
   "execution_count": 16,
   "id": "9614dee4",
   "metadata": {},
   "outputs": [],
   "source": [
    "# Breed function to generate one child from two chromosomes\n",
    "def breed_rnd(chrom1, chrom2):\n",
    "    already_picked_chrom2 = []\n",
    "    merged_workloads = np.asarray([])\n",
    "    new_servers = []\n",
    "    for server in chrom1.servers:\n",
    "        already_picked_chrom2.append(server)\n",
    "        rnd_pick = rnd.randint(0, len(chrom2.servers)-1)\n",
    "        #print(type(server.workload))\n",
    "        merged_workloads = np.append(merged_workloads, server.workload)#.tolist()\n",
    "        while chrom2.servers[rnd_pick] in already_picked_chrom2:\n",
    "            #print(\"Error\")\n",
    "            rnd_pick = rnd.randint(0, len(chrom2.servers)-1)\n",
    "        server2 = chrom2.servers[rnd_pick]\n",
    "        already_picked_chrom2.append(chrom2.servers[rnd_pick])\n",
    "        \n",
    "        merged_workloads = np.append(merged_workloads, server2.workload)#.tolist()\n",
    "        \n",
    "        # Pick fastest server of the two and reset its workload\n",
    "        fastest = max((server, server2), key=lambda x: x.cpu_speed * x.cores)\n",
    "        slowest = min((server, server2), key=lambda x: x.cpu_speed * x.cores)\n",
    "        worksize = len(fastest.workload)\n",
    "        fastest.workload = []\n",
    "        \n",
    "        # Sort merged workloads to pick heaviest first\n",
    "        merged_workloads = sorted(merged_workloads, key=lambda x: x.process_length, reverse=True)\n",
    "        fastest.workloads = merged_workloads[worksize:]\n",
    "        merged_workloads = merged_workloads[:worksize]\n",
    "        \n",
    "        # TODO: CREATE CHROMOSOME, MAKE SURE NOT TO ADD DUPLICATES\n",
    "        new_servers.append(fastest)\n",
    "        new_servers.append(slowest)\n",
    "    return new_servers\n",
    "    #return #sorted(already_picked_chrom2, key=lambda x: x.name)\n",
    "        "
   ]
  },
  {
   "cell_type": "code",
   "execution_count": 17,
   "id": "e0415614",
   "metadata": {},
   "outputs": [
    {
     "data": {
      "text/plain": [
       "Server: 2\n",
       "\tNumber of Cores: 18\n",
       "\tCore Speed: 4"
      ]
     },
     "execution_count": 17,
     "metadata": {},
     "output_type": "execute_result"
    }
   ],
   "source": [
    "max((chrom1.servers[0], chrom2.servers[2]), key=lambda x: x.cpu_speed * x.cores)"
   ]
  },
  {
   "cell_type": "code",
   "execution_count": 18,
   "id": "7ee05a4d",
   "metadata": {},
   "outputs": [
    {
     "data": {
      "text/plain": [
       "[Server: 16\n",
       " \tNumber of Cores: 18\n",
       " \tCore Speed: 4,\n",
       " Server: 0\n",
       " \tNumber of Cores: 16\n",
       " \tCore Speed: 3,\n",
       " Server: 1\n",
       " \tNumber of Cores: 18\n",
       " \tCore Speed: 5,\n",
       " Server: 1\n",
       " \tNumber of Cores: 18\n",
       " \tCore Speed: 5,\n",
       " Server: 2\n",
       " \tNumber of Cores: 18\n",
       " \tCore Speed: 4,\n",
       " Server: 19\n",
       " \tNumber of Cores: 20\n",
       " \tCore Speed: 3,\n",
       " Server: 5\n",
       " \tNumber of Cores: 16\n",
       " \tCore Speed: 10,\n",
       " Server: 3\n",
       " \tNumber of Cores: 48\n",
       " \tCore Speed: 3,\n",
       " Server: 4\n",
       " \tNumber of Cores: 48\n",
       " \tCore Speed: 3,\n",
       " Server: 13\n",
       " \tNumber of Cores: 16\n",
       " \tCore Speed: 5,\n",
       " Server: 12\n",
       " \tNumber of Cores: 48\n",
       " \tCore Speed: 10,\n",
       " Server: 5\n",
       " \tNumber of Cores: 16\n",
       " \tCore Speed: 10,\n",
       " Server: 10\n",
       " \tNumber of Cores: 48\n",
       " \tCore Speed: 4,\n",
       " Server: 6\n",
       " \tNumber of Cores: 16\n",
       " \tCore Speed: 3,\n",
       " Server: 7\n",
       " \tNumber of Cores: 18\n",
       " \tCore Speed: 4,\n",
       " Server: 6\n",
       " \tNumber of Cores: 16\n",
       " \tCore Speed: 3,\n",
       " Server: 8\n",
       " \tNumber of Cores: 48\n",
       " \tCore Speed: 20,\n",
       " Server: 0\n",
       " \tNumber of Cores: 16\n",
       " \tCore Speed: 3,\n",
       " Server: 9\n",
       " \tNumber of Cores: 48\n",
       " \tCore Speed: 3,\n",
       " Server: 14\n",
       " \tNumber of Cores: 24\n",
       " \tCore Speed: 4,\n",
       " Server: 10\n",
       " \tNumber of Cores: 48\n",
       " \tCore Speed: 4,\n",
       " Server: 2\n",
       " \tNumber of Cores: 18\n",
       " \tCore Speed: 4,\n",
       " Server: 11\n",
       " \tNumber of Cores: 18\n",
       " \tCore Speed: 10,\n",
       " Server: 18\n",
       " \tNumber of Cores: 24\n",
       " \tCore Speed: 3,\n",
       " Server: 12\n",
       " \tNumber of Cores: 48\n",
       " \tCore Speed: 10,\n",
       " Server: 17\n",
       " \tNumber of Cores: 16\n",
       " \tCore Speed: 5,\n",
       " Server: 8\n",
       " \tNumber of Cores: 48\n",
       " \tCore Speed: 20,\n",
       " Server: 13\n",
       " \tNumber of Cores: 16\n",
       " \tCore Speed: 5,\n",
       " Server: 15\n",
       " \tNumber of Cores: 20\n",
       " \tCore Speed: 5,\n",
       " Server: 14\n",
       " \tNumber of Cores: 24\n",
       " \tCore Speed: 4,\n",
       " Server: 3\n",
       " \tNumber of Cores: 48\n",
       " \tCore Speed: 3,\n",
       " Server: 15\n",
       " \tNumber of Cores: 20\n",
       " \tCore Speed: 5,\n",
       " Server: 9\n",
       " \tNumber of Cores: 48\n",
       " \tCore Speed: 3,\n",
       " Server: 16\n",
       " \tNumber of Cores: 18\n",
       " \tCore Speed: 4,\n",
       " Server: 17\n",
       " \tNumber of Cores: 16\n",
       " \tCore Speed: 5,\n",
       " Server: 7\n",
       " \tNumber of Cores: 18\n",
       " \tCore Speed: 4,\n",
       " Server: 4\n",
       " \tNumber of Cores: 48\n",
       " \tCore Speed: 3,\n",
       " Server: 18\n",
       " \tNumber of Cores: 24\n",
       " \tCore Speed: 3,\n",
       " Server: 11\n",
       " \tNumber of Cores: 18\n",
       " \tCore Speed: 10,\n",
       " Server: 19\n",
       " \tNumber of Cores: 20\n",
       " \tCore Speed: 3]"
      ]
     },
     "execution_count": 18,
     "metadata": {},
     "output_type": "execute_result"
    }
   ],
   "source": [
    "breed_rnd(chrom1, chrom2)"
   ]
  },
  {
   "cell_type": "code",
   "execution_count": 19,
   "id": "e0a30f79",
   "metadata": {},
   "outputs": [
    {
     "ename": "AttributeError",
     "evalue": "'Server' object has no attribute 'pid'",
     "output_type": "error",
     "traceback": [
      "\u001b[1;31m---------------------------------------------------------------------------\u001b[0m",
      "\u001b[1;31mAttributeError\u001b[0m                            Traceback (most recent call last)",
      "\u001b[1;32m~\\AppData\\Local\\Temp/ipykernel_8540/3224621842.py\u001b[0m in \u001b[0;36m<module>\u001b[1;34m\u001b[0m\n\u001b[1;32m----> 1\u001b[1;33m \u001b[0msorted\u001b[0m\u001b[1;33m(\u001b[0m\u001b[0mbreed_rnd\u001b[0m\u001b[1;33m(\u001b[0m\u001b[0mchrom1\u001b[0m\u001b[1;33m,\u001b[0m \u001b[0mchrom2\u001b[0m\u001b[1;33m)\u001b[0m\u001b[1;33m,\u001b[0m \u001b[0mkey\u001b[0m\u001b[1;33m=\u001b[0m\u001b[1;32mlambda\u001b[0m \u001b[0mx\u001b[0m\u001b[1;33m:\u001b[0m \u001b[0mx\u001b[0m\u001b[1;33m.\u001b[0m\u001b[0mpid\u001b[0m\u001b[1;33m)\u001b[0m\u001b[1;33m\u001b[0m\u001b[1;33m\u001b[0m\u001b[0m\n\u001b[0m",
      "\u001b[1;32m~\\AppData\\Local\\Temp/ipykernel_8540/3224621842.py\u001b[0m in \u001b[0;36m<lambda>\u001b[1;34m(x)\u001b[0m\n\u001b[1;32m----> 1\u001b[1;33m \u001b[0msorted\u001b[0m\u001b[1;33m(\u001b[0m\u001b[0mbreed_rnd\u001b[0m\u001b[1;33m(\u001b[0m\u001b[0mchrom1\u001b[0m\u001b[1;33m,\u001b[0m \u001b[0mchrom2\u001b[0m\u001b[1;33m)\u001b[0m\u001b[1;33m,\u001b[0m \u001b[0mkey\u001b[0m\u001b[1;33m=\u001b[0m\u001b[1;32mlambda\u001b[0m \u001b[0mx\u001b[0m\u001b[1;33m:\u001b[0m \u001b[0mx\u001b[0m\u001b[1;33m.\u001b[0m\u001b[0mpid\u001b[0m\u001b[1;33m)\u001b[0m\u001b[1;33m\u001b[0m\u001b[1;33m\u001b[0m\u001b[0m\n\u001b[0m",
      "\u001b[1;31mAttributeError\u001b[0m: 'Server' object has no attribute 'pid'"
     ]
    }
   ],
   "source": [
    "sorted(breed_rnd(chrom1, chrom2), key=lambda x: x.pid)"
   ]
  },
  {
   "cell_type": "code",
   "execution_count": 230,
   "id": "748030a4",
   "metadata": {},
   "outputs": [],
   "source": [
    "def crossover(generation, num_children, num_surv=2):\n",
    "    # Select best specimen\n",
    "    survivors = generation[:2]#[:num_surv]\n",
    "    print(survivors)\n",
    "    # Num_surv is variable but let's assume it is always two\n",
    "    father, mother = survivors[0], survivors[1]\n",
    "    # Here are placed the best servers with no workload in common\n",
    "    absolute_gene_expression = []\n",
    "    #for i in range(len(father.workload)):\n",
    "        \n",
    "    # Check fittest servers between the two chromosomes\n",
    "        # Need to calculate the fitness of each server"
   ]
  },
  {
   "cell_type": "code",
   "execution_count": 231,
   "id": "316e4421",
   "metadata": {},
   "outputs": [
    {
     "name": "stdout",
     "output_type": "stream",
     "text": [
      "[Average Chromosome fitness: 5.199\n",
      "\tIndividual: 7\n",
      "\tGENERATION: 0, Average Chromosome fitness: 5.216000000000001\n",
      "\tIndividual: 14\n",
      "\tGENERATION: 0]\n"
     ]
    }
   ],
   "source": [
    "crossover(first_gen, 3)"
   ]
  },
  {
   "cell_type": "code",
   "execution_count": 213,
   "id": "26d90a28",
   "metadata": {},
   "outputs": [
    {
     "name": "stdout",
     "output_type": "stream",
     "text": [
      "[PID: 23937\n",
      " \tLength of process: 0.3 instructions\n",
      " PID: 18078\n",
      " \tLength of process: 0.17 instructions\n",
      " PID: 26913\n",
      " \tLength of process: 0.23 instructions ...\n",
      " PID: 12210\n",
      " \tLength of process: 0.73 instructions\n",
      " PID: 4394\n",
      " \tLength of process: 0.24 instructions\n",
      " PID: 12619\n",
      " \tLength of process: 0.47 instructions]\n",
      "[PID: 23937\n",
      " \tLength of process: 0.3 instructions\n",
      " PID: 18078\n",
      " \tLength of process: 0.17 instructions\n",
      " PID: 26913\n",
      " \tLength of process: 0.23 instructions ...\n",
      " PID: 12210\n",
      " \tLength of process: 0.73 instructions\n",
      " PID: 4394\n",
      " \tLength of process: 0.24 instructions\n",
      " PID: 12619\n",
      " \tLength of process: 0.47 instructions]\n"
     ]
    },
    {
     "data": {
      "text/plain": [
       "True"
      ]
     },
     "execution_count": 213,
     "metadata": {},
     "output_type": "execute_result"
    }
   ],
   "source": [
    "a, b = first_gen[0], first_gen[4]\n",
    "server_fitness(a.__dict__[\"servers\"][0]) == server_fitness(b.__dict__[\"servers\"][0])#.workload"
   ]
  },
  {
   "cell_type": "code",
   "execution_count": 214,
   "id": "8833f628",
   "metadata": {},
   "outputs": [
    {
     "data": {
      "text/plain": [
       "array([PID: 23937\n",
       "       \tLength of process: 0.3 instructions,\n",
       "       PID: 18078\n",
       "       \tLength of process: 0.17 instructions,\n",
       "       PID: 26913\n",
       "       \tLength of process: 0.23 instructions, ...,\n",
       "       PID: 12210\n",
       "       \tLength of process: 0.73 instructions,\n",
       "       PID: 4394\n",
       "       \tLength of process: 0.24 instructions,\n",
       "       PID: 12619\n",
       "       \tLength of process: 0.47 instructions], dtype=object)"
      ]
     },
     "execution_count": 214,
     "metadata": {},
     "output_type": "execute_result"
    }
   ],
   "source": []
  },
  {
   "cell_type": "code",
   "execution_count": 216,
   "id": "00bc43d9",
   "metadata": {},
   "outputs": [
    {
     "data": {
      "text/plain": [
       "array([ True,  True,  True, ...,  True,  True,  True])"
      ]
     },
     "execution_count": 216,
     "metadata": {},
     "output_type": "execute_result"
    }
   ],
   "source": [
    "a.__dict__[\"servers\"][0].workload==b.__dict__[\"servers\"][0].workload"
   ]
  },
  {
   "cell_type": "code",
   "execution_count": null,
   "id": "e2e82d84",
   "metadata": {},
   "outputs": [],
   "source": []
  }
 ],
 "metadata": {
  "kernelspec": {
   "display_name": "Python 3 (ipykernel)",
   "language": "python",
   "name": "python3"
  },
  "language_info": {
   "codemirror_mode": {
    "name": "ipython",
    "version": 3
   },
   "file_extension": ".py",
   "mimetype": "text/x-python",
   "name": "python",
   "nbconvert_exporter": "python",
   "pygments_lexer": "ipython3",
   "version": "3.9.13"
  }
 },
 "nbformat": 4,
 "nbformat_minor": 5
}
