{
 "cells": [
  {
   "cell_type": "code",
   "execution_count": 1,
   "metadata": {},
   "outputs": [],
   "source": [
    "import numpy as np\n",
    "import pickle\n",
    "import random\n",
    "import json\n",
    "import os\n",
    "import plotly.graph_objects as go\n",
    "import kaleido\n",
    "\n",
    "from tqdm.notebook import tqdm\n",
    "\n",
    "# A Process class which emulates a process in a server. It has a pid and a length measured in numbers of instructions.\n",
    "# Furthermore, it possesses the __repr__ method which is used to print the object.\n",
    "# Moreover, it possesses a to_json method which is used to convert the object to a json string and a from_json to convert it back.\n",
    "\n",
    "class Process:\n",
    "    def __init__(self, pid, length):\n",
    "        self.pid = pid\n",
    "        self.length = length\n",
    "\n",
    "    def __repr__(self):\n",
    "        return f\"Process(pid={self.pid}, length={self.length})\"\n",
    "\n",
    "    def to_json(self):\n",
    "        return json.dumps(self, default=lambda o: o.__dict__, sort_keys=True, indent=4)\n",
    "    \n",
    "    @staticmethod\n",
    "    def from_json(json_string):\n",
    "        return json.loads(json_string)"
   ]
  },
  {
   "cell_type": "code",
   "execution_count": 2,
   "metadata": {},
   "outputs": [],
   "source": [
    "# A Server class which emulates a server. It has a name, a number of cpus, the speed of its cpu measured in GHz and a workload list, which represents \n",
    "# the processes that are assigned to the server. The workload starts as empty. \n",
    "# Furthermore, it possesses the __repr__ method which is used to print the object.\n",
    "# Moreover, it possesses a to_json method which is used to convert the object to a json string and a from_json to convert it back.\n",
    "\n",
    "class Server:\n",
    "    def __init__(self, name, cpus, cpu_speed):\n",
    "        self.name = name\n",
    "        self.cpus = cpus\n",
    "        self.cpu_speed = cpu_speed\n",
    "\n",
    "    def __repr__(self):\n",
    "        return f\"Server(name={self.name}, cpus={self.cpus}, cpu_speed={self.cpu_speed}\"\n",
    "\n",
    "    def to_json(self):\n",
    "        return json.dumps(self, default=lambda o: o.__dict__, sort_keys=True, indent=4)\n",
    "    \n",
    "    @staticmethod\n",
    "    def from_json(json_string):\n",
    "        return json.loads(json_string)\n"
   ]
  },
  {
   "cell_type": "code",
   "execution_count": 3,
   "metadata": {},
   "outputs": [],
   "source": [
    "# Function to find the magnitude of a vector.\n",
    "def magnitude(vector):\n",
    "    return np.sqrt(np.sum(np.square(vector)))\n",
    "\n",
    "# Function to find the module of a vector.\n",
    "def module(vector):\n",
    "    return np.sum(np.square(vector))\n",
    "\n",
    "# function to rescale vector between 0 and 1 and return it as a list\n",
    "def rescale_vector(vector):\n",
    "    return list((vector - np.min(vector)) / (np.max(vector) - np.min(vector)))"
   ]
  },
  {
   "cell_type": "code",
   "execution_count": 4,
   "metadata": {},
   "outputs": [],
   "source": [
    "\n",
    "# A Solution class, wich represents a solution to the problem. is made of a list of tuples in the form <server, associated processes>\n",
    "# The solution object possesses a fitness value, which is a vector of the fitness of each servers with respect to their associated processes. \n",
    "# The fitness is calculated as the sum of the length of the processes assigned to the server divided by the number of cpus of the server times their speed.\n",
    "# It possesses the __repr__ method which is used to print the object.\n",
    "# It possesses a to_json method which is used to convert the object to a json string and a from_json to convert it back.\n",
    "\n",
    "class Solution:\n",
    "    def __init__(self, solution):\n",
    "        self.solution = solution\n",
    "        self.fitness = rescale_vector(self.calculate_fitness())\n",
    "\n",
    "    def __repr__(self):\n",
    "        return f\"Solution(solution={self.solution}, fitness={self.fitness})\"\n",
    "\n",
    "    def to_json(self):\n",
    "        return json.dumps(self, default=lambda o: o.__dict__, sort_keys=True, indent=4)\n",
    "    \n",
    "    @staticmethod\n",
    "    def from_json(json_string):\n",
    "        return json.loads(json_string)\n",
    "\n",
    "    def calculate_fitness(self):\n",
    "        fitness = []\n",
    "        for server, processes in self.solution:\n",
    "            fitness.append(sum([process.length for process in processes]) * (server.cpus * server.cpu_speed))\n",
    "        return fitness\n",
    "\n",
    "    def crossover(self, other):\n",
    "        child = []\n",
    "        for i in range(len(self.solution)):\n",
    "            if random.random() > 0.5:\n",
    "                child.append(self.solution[i])\n",
    "            else:\n",
    "                child.append(other.solution[i])\n",
    "        return Solution(child)\n",
    "        \n",
    "    def __lt__(self, other):\n",
    "        if magnitude(self.fitness) < magnitude(other.fitness):\n",
    "            return 1\n",
    "        elif magnitude(self.fitness) > magnitude(other.fitness):\n",
    "            return -1\n",
    "        else:\n",
    "            return 0"
   ]
  },
  {
   "cell_type": "code",
   "execution_count": 6,
   "metadata": {},
   "outputs": [],
   "source": [
    "# A Particle Swarm Optimization algorithm comprised of all the necessary methods for implementing one:\n",
    "# The algorithm is initialized with:\n",
    "# - a list of servers coming from the path ./servers/{}.json with {} being the name of the server\n",
    "# - a list of processes coming from the path ./processes/{}.json with {} being the name of the process\n",
    "# - a number of particles\n",
    "# - a number of iterations\n",
    "\n",
    "class PSO:\n",
    "    def __init__(self, servers, processes, particles, iterations):\n",
    "        self.servers = servers\n",
    "        self.processes = processes\n",
    "        self.particles = particles\n",
    "        self.iterations = iterations\n",
    "        self.swarm = []\n",
    "        self.gbest = None\n",
    "        self.pbest = None\n",
    "        self.w = 0.9\n",
    "        self.c1 = 0.5\n",
    "        self.c2 = 0.5\n",
    "        self.vmax = 1\n",
    "\n",
    "    def __repr__(self):\n",
    "        return f\"PSO(servers={self.servers}, processes={self.processes}, particles={self.particles}, iterations={self.iterations})\"\n",
    "\n",
    "    def to_json(self):\n",
    "        return json.dumps(self, default=lambda o: o.__dict__, sort_keys=True, indent=4)\n",
    "    \n",
    "    @staticmethod\n",
    "    def from_json(json_string):\n",
    "        return json.loads(json_string)\n",
    "\n",
    "    # Function to initialize the swarm with random solutions\n",
    "    def initialize_swarm(self):\n",
    "        self.swarm = []\n",
    "        for i in range(self.particles):\n",
    "            solution = []\n",
    "            for server in self.servers:\n",
    "                solution.append((server, []))\n",
    "            for process in self.processes:\n",
    "                solution[random.randint(0, len(solution) - 1)][1].append(process)\n",
    "            self.swarm.append(Solution(solution))\n",
    "\n",
    "    # Function to initialize the pbest and gbest\n",
    "    def initialize_pbest_gbest(self):\n",
    "        self.pbest = self.swarm\n",
    "        self.gbest = self.pbest[0]\n",
    "\n",
    "    # Function to update the pbest and gbest\n",
    "    def update_pbest_gbest(self):\n",
    "        for i in range(len(self.pbest)):\n",
    "            if self.pbest[i] < self.swarm[i]:\n",
    "                self.pbest[i] = self.swarm[i]\n",
    "            if self.pbest[i] < self.gbest:\n",
    "                self.gbest = self.pbest[i]\n",
    "\n",
    "    # Function to update the velocity of each particle\n",
    "    def update_velocity(self):\n",
    "        for i in range(len(self.swarm)):\n",
    "            for j in range(len(self.swarm[i].solution)):\n",
    "                for k in range(len(self.swarm[i].solution[j][1])):\n",
    "                    self.swarm[i].solution[j][1][k].length += random.uniform(-self.vmax, self.vmax)\n",
    "\n",
    "    # Function to update the position of each particle\n",
    "    def update_position(self):\n",
    "        for i in range(len(self.swarm)):\n",
    "            for j in range(len(self.swarm[i].solution)):\n",
    "                for k in range(len(self.swarm[i].solution[j][1])):\n",
    "                    self.swarm[i].solution[j][1][k].length = max(0, self.swarm[i].solution[j][1][k].length)\n",
    "\n",
    "    # Function to update the swarm\n",
    "    def update_swarm(self):\n",
    "        self.update_velocity()\n",
    "        self.update_position()\n",
    "        self.update_pbest_gbest()\n",
    "\n",
    "    # Function to run the algorithm\n",
    "    def run(self):\n",
    "        self.initialize_swarm()\n",
    "        self.initialize_pbest_gbest()\n",
    "        for i in tqdm(range(self.iterations)):\n",
    "            self.update_swarm()\n",
    "        return self.gbest"
   ]
  },
  {
   "cell_type": "code",
   "execution_count": 17,
   "metadata": {},
   "outputs": [],
   "source": [
    "# An improvement of the PSO algorithm, called PSOPlus, which implements the strategy called \"local search\" to improve the results of the PSO algorithm.\n",
    "# The algorithm is initialized with:\n",
    "# - a list of servers coming from the path ./servers/{}.json with {} being the name of the server\n",
    "# - a list of processes coming from the path ./processes/{}.json with {} being the name of the process\n",
    "# - a number of particles\n",
    "# - a number of iterations\n",
    "# - a number of local search iterations\n",
    "\n",
    "class PSOPlus(PSO):\n",
    "    def __init__(self, servers, processes, particles, iterations, local_search_iterations):\n",
    "        super().__init__(servers, processes, particles, iterations)\n",
    "        self.local_search_iterations = local_search_iterations\n",
    "\n",
    "    def __repr__(self):\n",
    "        return f\"PSOPlus(servers={self.servers}, processes={self.processes}, particles={self.particles}, iterations={self.iterations}, local_search_iterations={self.local_search_iterations})\"\n",
    "\n",
    "    def to_json(self):\n",
    "        return json.dumps(self, default=lambda o: o.__dict__, sort_keys=True, indent=4)\n",
    "    \n",
    "    @staticmethod\n",
    "    def from_json(json_string):\n",
    "        return json.loads(json_string)\n",
    "\n",
    "    # Function to run the algorithm\n",
    "    def run(self):\n",
    "        self.initialize_swarm()\n",
    "        self.initialize_pbest_gbest()\n",
    "        for i in tqdm(range(self.iterations)):\n",
    "            self.update_swarm()\n",
    "            for j in range(self.local_search_iterations):\n",
    "                for k in range(len(self.swarm)):\n",
    "                    self.swarm[k] = self.swarm[k].crossover(self.gbest)\n",
    "        return self.gbest"
   ]
  },
  {
   "cell_type": "code",
   "execution_count": 18,
   "metadata": {},
   "outputs": [],
   "source": [
    "with open(f\"./servers/0.pickle\", \"rb\") as f:\n",
    "    servers = pickle.load(f)\n",
    "with open(f\"./processes/0.pickle\", \"rb\") as f:\n",
    "    processes = pickle.load(f)"
   ]
  },
  {
   "cell_type": "code",
   "execution_count": 19,
   "metadata": {},
   "outputs": [],
   "source": [
    "particles = 100\n",
    "iterations = 1000\n",
    "pso = PSO(servers, processes, particles, iterations)\n",
    "psoplus = PSOPlus(servers, processes, particles, iterations, 100)"
   ]
  },
  {
   "cell_type": "code",
   "execution_count": 21,
   "metadata": {},
   "outputs": [
    {
     "data": {
      "application/vnd.jupyter.widget-view+json": {
       "model_id": "8d0803c2dcbc4271b3188e7887f6b451",
       "version_major": 2,
       "version_minor": 0
      },
      "text/plain": [
       "  0%|          | 0/1000 [00:00<?, ?it/s]"
      ]
     },
     "metadata": {},
     "output_type": "display_data"
    }
   ],
   "source": [
    "gbest = pso.run()"
   ]
  },
  {
   "cell_type": "code",
   "execution_count": 22,
   "metadata": {},
   "outputs": [
    {
     "data": {
      "application/vnd.jupyter.widget-view+json": {
       "model_id": "a10a215086e947789cab375e59c04a74",
       "version_major": 2,
       "version_minor": 0
      },
      "text/plain": [
       "  0%|          | 0/1000 [00:00<?, ?it/s]"
      ]
     },
     "metadata": {},
     "output_type": "display_data"
    }
   ],
   "source": [
    "gbestplus = psoplus.run()"
   ]
  },
  {
   "cell_type": "code",
   "execution_count": 26,
   "metadata": {},
   "outputs": [
    {
     "data": {
      "text/plain": [
       "1.3002539775462334"
      ]
     },
     "execution_count": 26,
     "metadata": {},
     "output_type": "execute_result"
    }
   ],
   "source": [
    "a = []\n",
    "for p in pso.pbest:\n",
    "    a.append(magnitude(p.fitness))\n",
    "min(a)"
   ]
  },
  {
   "cell_type": "code",
   "execution_count": 27,
   "metadata": {},
   "outputs": [
    {
     "data": {
      "text/plain": [
       "1.3816927281336238"
      ]
     },
     "execution_count": 27,
     "metadata": {},
     "output_type": "execute_result"
    }
   ],
   "source": [
    "b = []\n",
    "for p in psoplus.pbest:\n",
    "    b.append(magnitude(p.fitness))\n",
    "min(b)"
   ]
  },
  {
   "cell_type": "code",
   "execution_count": null,
   "metadata": {},
   "outputs": [],
   "source": []
  }
 ],
 "metadata": {
  "kernelspec": {
   "display_name": "base",
   "language": "python",
   "name": "python3"
  },
  "language_info": {
   "codemirror_mode": {
    "name": "ipython",
    "version": 3
   },
   "file_extension": ".py",
   "mimetype": "text/x-python",
   "name": "python",
   "nbconvert_exporter": "python",
   "pygments_lexer": "ipython3",
   "version": "3.9.13"
  },
  "orig_nbformat": 4,
  "vscode": {
   "interpreter": {
    "hash": "6df5dbe78b82ea8c0f062544b4d15ef4da7d4a50b627e950c93151a221081c6d"
   }
  }
 },
 "nbformat": 4,
 "nbformat_minor": 2
}
