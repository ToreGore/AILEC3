{
 "cells": [
  {
   "cell_type": "code",
   "execution_count": 1,
   "metadata": {},
   "outputs": [],
   "source": [
    "import numpy as np\n",
    "import pickle\n",
    "import random\n",
    "import json\n",
    "import os\n",
    "import plotly.graph_objects as go\n",
    "\n",
    "from tqdm.notebook import tqdm\n",
    "\n",
    "# A Process class which emulates a process in a server. It has a pid and a length measured in numbers of instructions.\n",
    "# Furthermore, it possesses the __repr__ method which is used to print the object.\n",
    "# Moreover, it possesses a to_json method which is used to convert the object to a json string and a from_json to convert it back.\n",
    "\n",
    "class Process:\n",
    "    def __init__(self, pid, length):\n",
    "        self.pid = pid\n",
    "        self.length = length\n",
    "\n",
    "    def __repr__(self):\n",
    "        return f\"Process(pid={self.pid}, length={self.length})\"\n",
    "\n",
    "    def to_json(self):\n",
    "        return json.dumps(self, default=lambda o: o.__dict__, sort_keys=True, indent=4)\n",
    "    \n",
    "    @staticmethod\n",
    "    def from_json(json_string):\n",
    "        return json.loads(json_string)"
   ]
  },
  {
   "cell_type": "code",
   "execution_count": 2,
   "metadata": {},
   "outputs": [],
   "source": [
    "# A Server class which emulates a server. It has a name, a number of cpus, the speed of its cpu measured in GHz and a workload list, which represents \n",
    "# the processes that are assigned to the server. The workload starts as empty. \n",
    "# Furthermore, it possesses the __repr__ method which is used to print the object.\n",
    "# Moreover, it possesses a to_json method which is used to convert the object to a json string and a from_json to convert it back.\n",
    "\n",
    "class Server:\n",
    "    def __init__(self, name, cpus, cpu_speed):\n",
    "        self.name = name\n",
    "        self.cpus = cpus\n",
    "        self.cpu_speed = cpu_speed\n",
    "\n",
    "    def __repr__(self):\n",
    "        return f\"Server(name={self.name}, cpus={self.cpus}, cpu_speed={self.cpu_speed}\"\n",
    "\n",
    "    def to_json(self):\n",
    "        return json.dumps(self, default=lambda o: o.__dict__, sort_keys=True, indent=4)\n",
    "    \n",
    "    @staticmethod\n",
    "    def from_json(json_string):\n",
    "        return json.loads(json_string)\n"
   ]
  },
  {
   "cell_type": "code",
   "execution_count": 3,
   "metadata": {},
   "outputs": [],
   "source": [
    "\n",
    "# A Solution class, wich represents a solution to the problem. is made of a list of tuples in the form <server, associated processes>\n",
    "# The solution object possesses a fitness value, which is a vector of the fitness of each servers with respect to their associated processes. \n",
    "# The fitness is calculated as the sum of the length of the processes assigned to the server divided by the number of cpus of the server times their speed.\n",
    "# It possesses the __repr__ method which is used to print the object.\n",
    "# It possesses a to_json method which is used to convert the object to a json string and a from_json to convert it back.\n",
    "\n",
    "class Solution:\n",
    "    def __init__(self, solution):\n",
    "        self.solution = solution\n",
    "        self.fitness = self.calculate_fitness()\n",
    "\n",
    "    def __repr__(self):\n",
    "        return f\"Solution(solution={self.solution}, fitness={self.fitness})\"\n",
    "\n",
    "    def to_json(self):\n",
    "        return json.dumps(self, default=lambda o: o.__dict__, sort_keys=True, indent=4)\n",
    "    \n",
    "    @staticmethod\n",
    "    def from_json(json_string):\n",
    "        return json.loads(json_string)\n",
    "\n",
    "    def calculate_fitness(self):\n",
    "        fitness = []\n",
    "        for server, processes in self.solution:\n",
    "            fitness.append(sum([process.length for process in processes]) / (server.cpus * server.cpu_speed))\n",
    "        return fitness"
   ]
  },
  {
   "cell_type": "code",
   "execution_count": null,
   "metadata": {},
   "outputs": [],
   "source": [
    "# A clusterization algorithm which:\n",
    "# 1. Clusterizes the processes in an amount of servers equal to the number of servers\n",
    "# 2. Assign the servers to a cluster in a greedy fashion.\n",
    "#    > The server that fits best the "
   ]
  }
 ],
 "metadata": {
  "kernelspec": {
   "display_name": "base",
   "language": "python",
   "name": "python3"
  },
  "language_info": {
   "codemirror_mode": {
    "name": "ipython",
    "version": 3
   },
   "file_extension": ".py",
   "mimetype": "text/x-python",
   "name": "python",
   "nbconvert_exporter": "python",
   "pygments_lexer": "ipython3",
   "version": "3.9.13"
  },
  "orig_nbformat": 4,
  "vscode": {
   "interpreter": {
    "hash": "6df5dbe78b82ea8c0f062544b4d15ef4da7d4a50b627e950c93151a221081c6d"
   }
  }
 },
 "nbformat": 4,
 "nbformat_minor": 2
}
