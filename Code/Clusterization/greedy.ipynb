{
 "cells": [
  {
   "cell_type": "code",
   "execution_count": 1,
   "metadata": {},
   "outputs": [],
   "source": [
    "import numpy as np\n",
    "import pickle\n",
    "import random\n",
    "import json\n",
    "import os\n",
    "import plotly.graph_objects as go\n",
    "import sklearn.cluster as cluster\n",
    "\n",
    "from tqdm.notebook import tqdm\n",
    "\n",
    "# A Process class which emulates a process in a server. It has a pid and a length measured in numbers of instructions.\n",
    "# Furthermore, it possesses the __repr__ method which is used to print the object.\n",
    "# Moreover, it possesses a to_json method which is used to convert the object to a json string and a from_json to convert it back.\n",
    "\n",
    "class Process:\n",
    "    def __init__(self, pid, length):\n",
    "        self.pid = pid\n",
    "        self.length = length\n",
    "\n",
    "    def __repr__(self):\n",
    "        return f\"Process(pid={self.pid}, length={self.length})\"\n",
    "\n",
    "    def to_json(self):\n",
    "        return json.dumps(self, default=lambda o: o.__dict__, sort_keys=True, indent=4)\n",
    "    \n",
    "    @staticmethod\n",
    "    def from_json(json_string):\n",
    "        return json.loads(json_string)"
   ]
  },
  {
   "cell_type": "code",
   "execution_count": 2,
   "metadata": {},
   "outputs": [],
   "source": [
    "# A Server class which emulates a server. It has a name, a number of cpus, the speed of its cpu measured in GHz and a workload list, which represents \n",
    "# the processes that are assigned to the server. The workload starts as empty. \n",
    "# Furthermore, it possesses the __repr__ method which is used to print the object.\n",
    "# Moreover, it possesses a to_json method which is used to convert the object to a json string and a from_json to convert it back.\n",
    "\n",
    "class Server:\n",
    "    def __init__(self, name, cpus, cpu_speed):\n",
    "        self.name = name\n",
    "        self.cpus = cpus\n",
    "        self.cpu_speed = cpu_speed\n",
    "\n",
    "    def __repr__(self):\n",
    "        return f\"Server(name={self.name}, cpus={self.cpus}, cpu_speed={self.cpu_speed}\"\n",
    "\n",
    "    def to_json(self):\n",
    "        return json.dumps(self, default=lambda o: o.__dict__, sort_keys=True, indent=4)\n",
    "    \n",
    "    @staticmethod\n",
    "    def from_json(json_string):\n",
    "        return json.loads(json_string)\n"
   ]
  },
  {
   "cell_type": "code",
   "execution_count": 3,
   "metadata": {},
   "outputs": [],
   "source": [
    "# Function to find the magnitude of a vector.\n",
    "def magnitude(vector):\n",
    "    return np.sqrt(np.sum(np.square(vector)))\n",
    "\n",
    "# Function to find the module of a vector.\n",
    "def module(vector):\n",
    "    return np.sum(np.square(vector))\n",
    "\n",
    "# function to rescale vector between 0 and 1 and return it as a list\n",
    "def rescale_vector(vector):\n",
    "    return list((vector - np.min(vector)) / (np.max(vector) - np.min(vector)))"
   ]
  },
  {
   "cell_type": "code",
   "execution_count": 4,
   "metadata": {},
   "outputs": [],
   "source": [
    "\n",
    "# A Solution class, wich represents a solution to the problem. is made of a list of tuples in the form <server, associated processes>\n",
    "# The solution object possesses a fitness value, which is a vector of the fitness of each servers with respect to their associated processes. \n",
    "# The fitness is calculated as the sum of the length of the processes assigned to the server divided by the number of cpus of the server times their speed.\n",
    "# It possesses the __repr__ method which is used to print the object.\n",
    "# It possesses a to_json method which is used to convert the object to a json string and a from_json to convert it back.\n",
    "\n",
    "class Solution:\n",
    "    def __init__(self, solution):\n",
    "        self.solution = solution\n",
    "        self.fitness = rescale_vector(self.calculate_fitness())\n",
    "\n",
    "    def __repr__(self):\n",
    "        return f\"Solution(solution={self.solution}, fitness={self.fitness})\"\n",
    "\n",
    "    def to_json(self):\n",
    "        return json.dumps(self, default=lambda o: o.__dict__, sort_keys=True, indent=4)\n",
    "    \n",
    "    @staticmethod\n",
    "    def from_json(json_string):\n",
    "        return json.loads(json_string)\n",
    "\n",
    "    def calculate_fitness(self):\n",
    "        fitness = []\n",
    "        for server, processes in self.solution:\n",
    "            fitness.append(sum([process.length for process in processes]) * (server.cpus * server.cpu_speed))\n",
    "        return fitness\n",
    "        \n",
    "    def __lt__(self, other):\n",
    "        if magnitude(self.fitness) < magnitude(other.fitness):\n",
    "            return 1\n",
    "        elif magnitude(self.fitness) > magnitude(other.fitness):\n",
    "            return -1\n",
    "        else:\n",
    "            return 0"
   ]
  },
  {
   "cell_type": "code",
   "execution_count": 5,
   "metadata": {},
   "outputs": [],
   "source": [
    "# A clusterization algorithm which:\n",
    "# 1. Clusterizes the processes in N subsets, with N equal to the number of servers\n",
    "# 2. Assign the servers to a cluster in a greedy fashion.\n",
    "#    > The server that fits best the cluster is assigned to it.\n",
    "#    > The server that fits best the cluster is the one that has the highest fitness value.\n",
    "#    > The fitness value is calculated as the sum of the length of the processes assigned to the server times by the number of cpus of the server times their speed.\n",
    "\n",
    "class GreeedyClusterization:\n",
    "    def __init__(self, servers, processes):\n",
    "        self.processes = processes\n",
    "        self.servers = servers\n",
    "        self.solution = self.clusterize()\n",
    "        self.name = \"greedy\"\n",
    "\n",
    "    def clusterize(self):\n",
    "        clusters = []\n",
    "        for i in range(len(self.servers)):\n",
    "            clusters.append([])\n",
    "        for i in range(len(self.processes)):\n",
    "            clusters[i % len(self.servers)].append(self.processes[i])\n",
    "        solution = []\n",
    "        for i in range(len(self.servers)):\n",
    "            solution.append((self.servers[i], clusters[i]))\n",
    "        return Solution(solution)\n",
    "\n",
    "        "
   ]
  },
  {
   "cell_type": "code",
   "execution_count": 6,
   "metadata": {},
   "outputs": [],
   "source": [
    "# Clusterization algorithm which:\n",
    "# 1. Clusterizes the processes in N subsets, with N equal to the number of servers\n",
    "# 2. Assign the servers to a cluster by using the k-means algorithm.\n",
    "#    > The server that fits best the cluster is assigned to it.\n",
    "#    > The server that fits best the cluster is the one that has the highest fitness value.+\n",
    "# Use of the kmeans algorithm from the sklearn library.\n",
    "\n",
    "class KMeansClusterization:\n",
    "    def __init__(self, servers, processes):\n",
    "        self.processes = processes\n",
    "        self.servers = servers\n",
    "        self.solution = self.clusterize()\n",
    "        self.name = \"kmeans\"\n",
    "\n",
    "    def clusterize(self):\n",
    "        clusters = []\n",
    "        for i in range(len(self.servers)):\n",
    "            clusters.append([])\n",
    "        for i in range(len(self.processes)):\n",
    "            clusters[i % len(self.servers)].append(self.processes[i])\n",
    "        solution = []\n",
    "        for i in range(len(self.servers)):\n",
    "            solution.append((self.servers[i], clusters[i]))\n",
    "        return Solution(solution)"
   ]
  },
  {
   "cell_type": "code",
   "execution_count": 7,
   "metadata": {},
   "outputs": [],
   "source": [
    "def execute(ga):\n",
    "    clusters = []\n",
    "    for j in tqdm(range(10)):\n",
    "        with open(f\"../Genetic/servers/{j}.pickle\", \"rb\") as f:\n",
    "            servers = pickle.load(f)\n",
    "        with open(f\"../Genetic/processes/{j}.pickle\", \"rb\") as f:\n",
    "            processes = pickle.load(f)\n",
    "        if ga == \"greedy\":\n",
    "            algorithm = GreeedyClusterization(servers, processes)\n",
    "        elif ga == \"kmeans\":\n",
    "            algorithm = KMeansClusterization(servers, processes)\n",
    "        clusters.append(algorithm.clusterize())\n",
    "    return clusters"
   ]
  },
  {
   "cell_type": "code",
   "execution_count": 8,
   "metadata": {},
   "outputs": [
    {
     "data": {
      "application/vnd.jupyter.widget-view+json": {
       "model_id": "4e91ba76a56144c6a143a8f3cf0172d4",
       "version_major": 2,
       "version_minor": 0
      },
      "text/plain": [
       "  0%|          | 0/10 [00:00<?, ?it/s]"
      ]
     },
     "metadata": {},
     "output_type": "display_data"
    }
   ],
   "source": [
    "greed = execute(\"greedy\")"
   ]
  },
  {
   "cell_type": "code",
   "execution_count": 13,
   "metadata": {},
   "outputs": [],
   "source": [
    "for solution in greed:\n",
    "    sol = solution \n",
    "    #print(magnitude(solution.fitness))"
   ]
  },
  {
   "cell_type": "code",
   "execution_count": 34,
   "metadata": {},
   "outputs": [],
   "source": [
    "lst = []\n",
    "for subgreed in greed:\n",
    "    lst.append(subgreed.fitness)"
   ]
  },
  {
   "cell_type": "code",
   "execution_count": 36,
   "metadata": {},
   "outputs": [],
   "source": [
    "means = []\n",
    "for i in range(len(lst)):\n",
    "    submeans = []\n",
    "    for j in range(len(lst[0])):\n",
    "        submeans.append(lst[j][i])\n",
    "    means.append(np.mean(submeans))"
   ]
  },
  {
   "cell_type": "code",
   "execution_count": 37,
   "metadata": {},
   "outputs": [
    {
     "data": {
      "text/plain": [
       "[0.4467059764917848,\n",
       " 0.4154749758621986,\n",
       " 0.4439058637856622,\n",
       " 0.20396144041707961,\n",
       " 0.4194880778208465,\n",
       " 0.3312832490457533,\n",
       " 0.3942544274016749,\n",
       " 0.4249287316496904,\n",
       " 0.20844783619615764,\n",
       " 0.4952326160868642]"
      ]
     },
     "execution_count": 37,
     "metadata": {},
     "output_type": "execute_result"
    }
   ],
   "source": [
    "means"
   ]
  },
  {
   "cell_type": "code",
   "execution_count": 12,
   "metadata": {},
   "outputs": [
    {
     "data": {
      "application/vnd.jupyter.widget-view+json": {
       "model_id": "efd521784c9c4806b203247398010650",
       "version_major": 2,
       "version_minor": 0
      },
      "text/plain": [
       "  0%|          | 0/10 [00:00<?, ?it/s]"
      ]
     },
     "metadata": {},
     "output_type": "display_data"
    }
   ],
   "source": [
    "kmeans = execute(\"kmeans\")"
   ]
  }
 ],
 "metadata": {
  "kernelspec": {
   "display_name": "base",
   "language": "python",
   "name": "python3"
  },
  "language_info": {
   "codemirror_mode": {
    "name": "ipython",
    "version": 3
   },
   "file_extension": ".py",
   "mimetype": "text/x-python",
   "name": "python",
   "nbconvert_exporter": "python",
   "pygments_lexer": "ipython3",
   "version": "3.9.13"
  },
  "orig_nbformat": 4,
  "vscode": {
   "interpreter": {
    "hash": "6df5dbe78b82ea8c0f062544b4d15ef4da7d4a50b627e950c93151a221081c6d"
   }
  }
 },
 "nbformat": 4,
 "nbformat_minor": 2
}
