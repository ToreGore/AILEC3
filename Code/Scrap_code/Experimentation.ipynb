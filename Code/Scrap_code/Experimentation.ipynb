{
 "cells": [
  {
   "cell_type": "code",
   "execution_count": 1,
   "id": "f8622757",
   "metadata": {},
   "outputs": [
    {
     "name": "stdout",
     "output_type": "stream",
     "text": [
      "importing Jupyter notebook from GeneticSuite.ipynb\n"
     ]
    }
   ],
   "source": [
    "import import_ipynb\n",
    "import random\n",
    "import GeneticSuite as gs"
   ]
  },
  {
   "cell_type": "code",
   "execution_count": 6,
   "id": "f00ca240",
   "metadata": {},
   "outputs": [
    {
     "data": {
      "text/plain": [
       "'\\n# Shuffle the processes list\\nrandom.shuffle(processes)\\n\\n# Divide the processes list into N sublists, one for each server\\nsublists = [processes[i::N] for i in range(N)]\\n\\n# Assign the sublists to the servers\\nfor i, server in enumerate(servers):\\n    server.workload = sublists[i]'"
      ]
     },
     "execution_count": 6,
     "metadata": {},
     "output_type": "execute_result"
    }
   ],
   "source": [
    "N = 10  # Number of servers\n",
    "K = 20  # Number of processes\n",
    "\n",
    "# Create a list of servers\n",
    "servers = [gs.Server(random.uniform(1, 3), random.randint(1, 8)) for _ in range(N)]\n",
    "\n",
    "# Create a list of processes\n",
    "processes = [gs.Process(i, random.randint(1, 100)) for i in range(K)]\n",
    "\"\"\"\n",
    "# Shuffle the processes list\n",
    "random.shuffle(processes)\n",
    "\n",
    "# Divide the processes list into N sublists, one for each server\n",
    "sublists = [processes[i::N] for i in range(N)]\n",
    "\n",
    "# Assign the sublists to the servers\n",
    "for i, server in enumerate(servers):\n",
    "    server.workload = sublists[i]\"\"\""
   ]
  },
  {
   "cell_type": "code",
   "execution_count": 7,
   "id": "320c5a85",
   "metadata": {},
   "outputs": [
    {
     "data": {
      "application/vnd.jupyter.widget-view+json": {
       "model_id": "3b763a6497d149e4a561db26079f5fe9",
       "version_major": 2,
       "version_minor": 0
      },
      "text/plain": [
       "Assign process:   0%|          | 0/100 [00:00<?, ?it/s]"
      ]
     },
     "metadata": {},
     "output_type": "display_data"
    },
    {
     "data": {
      "application/vnd.jupyter.widget-view+json": {
       "model_id": "d645a96bf28243668915e20965b4bdcc",
       "version_major": 2,
       "version_minor": 0
      },
      "text/plain": [
       "Evaluating fitness:   0%|          | 0/10 [00:00<?, ?it/s]"
      ]
     },
     "metadata": {},
     "output_type": "display_data"
    },
    {
     "data": {
      "application/vnd.jupyter.widget-view+json": {
       "model_id": "fb11e329a0af4a9fa06a97a31a11073e",
       "version_major": 2,
       "version_minor": 0
      },
      "text/plain": [
       "Evaluating fitness:   0%|          | 0/10 [00:00<?, ?it/s]"
      ]
     },
     "metadata": {},
     "output_type": "display_data"
    },
    {
     "data": {
      "application/vnd.jupyter.widget-view+json": {
       "model_id": "a34dd040600a4dc2a04aee176b66a49d",
       "version_major": 2,
       "version_minor": 0
      },
      "text/plain": [
       "Evaluating fitness:   0%|          | 0/10 [00:00<?, ?it/s]"
      ]
     },
     "metadata": {},
     "output_type": "display_data"
    },
    {
     "data": {
      "application/vnd.jupyter.widget-view+json": {
       "model_id": "53a448a6fe284d28a56cd026b870b739",
       "version_major": 2,
       "version_minor": 0
      },
      "text/plain": [
       "Evaluating fitness:   0%|          | 0/10 [00:00<?, ?it/s]"
      ]
     },
     "metadata": {},
     "output_type": "display_data"
    },
    {
     "data": {
      "application/vnd.jupyter.widget-view+json": {
       "model_id": "413810f1655646a1917f3e1c2360ebf8",
       "version_major": 2,
       "version_minor": 0
      },
      "text/plain": [
       "Evaluating fitness:   0%|          | 0/10 [00:00<?, ?it/s]"
      ]
     },
     "metadata": {},
     "output_type": "display_data"
    },
    {
     "data": {
      "application/vnd.jupyter.widget-view+json": {
       "model_id": "d4fb09c3067b4b44b7921cb839d3cfc9",
       "version_major": 2,
       "version_minor": 0
      },
      "text/plain": [
       "Evaluating fitness:   0%|          | 0/10 [00:00<?, ?it/s]"
      ]
     },
     "metadata": {},
     "output_type": "display_data"
    },
    {
     "data": {
      "application/vnd.jupyter.widget-view+json": {
       "model_id": "847c2d3f28a84573973dce74866a586c",
       "version_major": 2,
       "version_minor": 0
      },
      "text/plain": [
       "Evaluating fitness:   0%|          | 0/10 [00:00<?, ?it/s]"
      ]
     },
     "metadata": {},
     "output_type": "display_data"
    },
    {
     "data": {
      "application/vnd.jupyter.widget-view+json": {
       "model_id": "6e87891e301445c19d17440ecce0b5e4",
       "version_major": 2,
       "version_minor": 0
      },
      "text/plain": [
       "Evaluating fitness:   0%|          | 0/10 [00:00<?, ?it/s]"
      ]
     },
     "metadata": {},
     "output_type": "display_data"
    },
    {
     "data": {
      "application/vnd.jupyter.widget-view+json": {
       "model_id": "25431f7478ba4ac69847c28612d236b5",
       "version_major": 2,
       "version_minor": 0
      },
      "text/plain": [
       "Evaluating fitness:   0%|          | 0/10 [00:00<?, ?it/s]"
      ]
     },
     "metadata": {},
     "output_type": "display_data"
    },
    {
     "data": {
      "application/vnd.jupyter.widget-view+json": {
       "model_id": "2c9d663a071f44588f8a82150d17d812",
       "version_major": 2,
       "version_minor": 0
      },
      "text/plain": [
       "Evaluating fitness:   0%|          | 0/10 [00:00<?, ?it/s]"
      ]
     },
     "metadata": {},
     "output_type": "display_data"
    },
    {
     "data": {
      "application/vnd.jupyter.widget-view+json": {
       "model_id": "c7d3c6cad0d6485e8c0f0e25bf4d20c1",
       "version_major": 2,
       "version_minor": 0
      },
      "text/plain": [
       "Evaluating fitness:   0%|          | 0/10 [00:00<?, ?it/s]"
      ]
     },
     "metadata": {},
     "output_type": "display_data"
    },
    {
     "data": {
      "application/vnd.jupyter.widget-view+json": {
       "model_id": "02f4c2c6f8e34153bbdc01c9c29788dd",
       "version_major": 2,
       "version_minor": 0
      },
      "text/plain": [
       "Evaluating fitness:   0%|          | 0/10 [00:00<?, ?it/s]"
      ]
     },
     "metadata": {},
     "output_type": "display_data"
    },
    {
     "data": {
      "application/vnd.jupyter.widget-view+json": {
       "model_id": "a8ea8cb96d4d4b5aa796d410e3c3de8b",
       "version_major": 2,
       "version_minor": 0
      },
      "text/plain": [
       "Evaluating fitness:   0%|          | 0/10 [00:00<?, ?it/s]"
      ]
     },
     "metadata": {},
     "output_type": "display_data"
    },
    {
     "data": {
      "application/vnd.jupyter.widget-view+json": {
       "model_id": "781f370aaad04641997e188676b26e89",
       "version_major": 2,
       "version_minor": 0
      },
      "text/plain": [
       "Evaluating fitness:   0%|          | 0/10 [00:00<?, ?it/s]"
      ]
     },
     "metadata": {},
     "output_type": "display_data"
    },
    {
     "data": {
      "application/vnd.jupyter.widget-view+json": {
       "model_id": "e9585e93bf5e41cdb729336e5f87bcdd",
       "version_major": 2,
       "version_minor": 0
      },
      "text/plain": [
       "Evaluating fitness:   0%|          | 0/10 [00:00<?, ?it/s]"
      ]
     },
     "metadata": {},
     "output_type": "display_data"
    },
    {
     "data": {
      "application/vnd.jupyter.widget-view+json": {
       "model_id": "4c22bac8571b4cc5a843aadc141a5257",
       "version_major": 2,
       "version_minor": 0
      },
      "text/plain": [
       "Evaluating fitness:   0%|          | 0/10 [00:00<?, ?it/s]"
      ]
     },
     "metadata": {},
     "output_type": "display_data"
    },
    {
     "data": {
      "application/vnd.jupyter.widget-view+json": {
       "model_id": "eb9a9d462de34fddbaaef546264522e9",
       "version_major": 2,
       "version_minor": 0
      },
      "text/plain": [
       "Evaluating fitness:   0%|          | 0/10 [00:00<?, ?it/s]"
      ]
     },
     "metadata": {},
     "output_type": "display_data"
    },
    {
     "data": {
      "application/vnd.jupyter.widget-view+json": {
       "model_id": "361a6ebdd6e24cdfb4d37740b50610cf",
       "version_major": 2,
       "version_minor": 0
      },
      "text/plain": [
       "Evaluating fitness:   0%|          | 0/10 [00:00<?, ?it/s]"
      ]
     },
     "metadata": {},
     "output_type": "display_data"
    },
    {
     "data": {
      "application/vnd.jupyter.widget-view+json": {
       "model_id": "adcc873eb61a4072bab964c33212b960",
       "version_major": 2,
       "version_minor": 0
      },
      "text/plain": [
       "Evaluating fitness:   0%|          | 0/10 [00:00<?, ?it/s]"
      ]
     },
     "metadata": {},
     "output_type": "display_data"
    },
    {
     "data": {
      "application/vnd.jupyter.widget-view+json": {
       "model_id": "189ea08ce0aa46a293426d89687fc908",
       "version_major": 2,
       "version_minor": 0
      },
      "text/plain": [
       "Evaluating fitness:   0%|          | 0/10 [00:00<?, ?it/s]"
      ]
     },
     "metadata": {},
     "output_type": "display_data"
    },
    {
     "data": {
      "application/vnd.jupyter.widget-view+json": {
       "model_id": "89fb270d3e0c41c9b25f6aa128e33ad8",
       "version_major": 2,
       "version_minor": 0
      },
      "text/plain": [
       "Evaluating fitness:   0%|          | 0/10 [00:00<?, ?it/s]"
      ]
     },
     "metadata": {},
     "output_type": "display_data"
    },
    {
     "data": {
      "application/vnd.jupyter.widget-view+json": {
       "model_id": "bc744fd628d043d9b904860296f6db45",
       "version_major": 2,
       "version_minor": 0
      },
      "text/plain": [
       "Evaluating fitness:   0%|          | 0/10 [00:00<?, ?it/s]"
      ]
     },
     "metadata": {},
     "output_type": "display_data"
    },
    {
     "data": {
      "application/vnd.jupyter.widget-view+json": {
       "model_id": "117c2b033df14240a37cc36100500471",
       "version_major": 2,
       "version_minor": 0
      },
      "text/plain": [
       "Evaluating fitness:   0%|          | 0/10 [00:00<?, ?it/s]"
      ]
     },
     "metadata": {},
     "output_type": "display_data"
    },
    {
     "data": {
      "application/vnd.jupyter.widget-view+json": {
       "model_id": "659398bdf41641cfb0cbee9ab2d22997",
       "version_major": 2,
       "version_minor": 0
      },
      "text/plain": [
       "Evaluating fitness:   0%|          | 0/10 [00:00<?, ?it/s]"
      ]
     },
     "metadata": {},
     "output_type": "display_data"
    },
    {
     "data": {
      "application/vnd.jupyter.widget-view+json": {
       "model_id": "a37ba2f68a7c4ac0bb1870dc623e9a6d",
       "version_major": 2,
       "version_minor": 0
      },
      "text/plain": [
       "Evaluating fitness:   0%|          | 0/10 [00:00<?, ?it/s]"
      ]
     },
     "metadata": {},
     "output_type": "display_data"
    },
    {
     "data": {
      "application/vnd.jupyter.widget-view+json": {
       "model_id": "8b469b0e66a14af3824083151d7bb7a9",
       "version_major": 2,
       "version_minor": 0
      },
      "text/plain": [
       "Evaluating fitness:   0%|          | 0/10 [00:00<?, ?it/s]"
      ]
     },
     "metadata": {},
     "output_type": "display_data"
    },
    {
     "data": {
      "application/vnd.jupyter.widget-view+json": {
       "model_id": "d32bb96cf30c4f199411acdae3e6d5f4",
       "version_major": 2,
       "version_minor": 0
      },
      "text/plain": [
       "Evaluating fitness:   0%|          | 0/10 [00:00<?, ?it/s]"
      ]
     },
     "metadata": {},
     "output_type": "display_data"
    },
    {
     "data": {
      "application/vnd.jupyter.widget-view+json": {
       "model_id": "525ee8c0c4b64ecbbb739ec5ae84f0e0",
       "version_major": 2,
       "version_minor": 0
      },
      "text/plain": [
       "Evaluating fitness:   0%|          | 0/10 [00:00<?, ?it/s]"
      ]
     },
     "metadata": {},
     "output_type": "display_data"
    },
    {
     "data": {
      "application/vnd.jupyter.widget-view+json": {
       "model_id": "b286bfb5d2584ff5b70eddaff26cb587",
       "version_major": 2,
       "version_minor": 0
      },
      "text/plain": [
       "Evaluating fitness:   0%|          | 0/10 [00:00<?, ?it/s]"
      ]
     },
     "metadata": {},
     "output_type": "display_data"
    },
    {
     "data": {
      "application/vnd.jupyter.widget-view+json": {
       "model_id": "cf22db8c030741038c6a6a51e17d5964",
       "version_major": 2,
       "version_minor": 0
      },
      "text/plain": [
       "Evaluating fitness:   0%|          | 0/10 [00:00<?, ?it/s]"
      ]
     },
     "metadata": {},
     "output_type": "display_data"
    },
    {
     "data": {
      "application/vnd.jupyter.widget-view+json": {
       "model_id": "e4fa629d83874472b84cbb51e70ac230",
       "version_major": 2,
       "version_minor": 0
      },
      "text/plain": [
       "Evaluating fitness:   0%|          | 0/10 [00:00<?, ?it/s]"
      ]
     },
     "metadata": {},
     "output_type": "display_data"
    },
    {
     "data": {
      "application/vnd.jupyter.widget-view+json": {
       "model_id": "7486628718bf48f997df82dc7a313454",
       "version_major": 2,
       "version_minor": 0
      },
      "text/plain": [
       "Evaluating fitness:   0%|          | 0/10 [00:00<?, ?it/s]"
      ]
     },
     "metadata": {},
     "output_type": "display_data"
    },
    {
     "data": {
      "application/vnd.jupyter.widget-view+json": {
       "model_id": "d0d864cb322547c3afe3d2e1a0c1f15f",
       "version_major": 2,
       "version_minor": 0
      },
      "text/plain": [
       "Evaluating fitness:   0%|          | 0/10 [00:00<?, ?it/s]"
      ]
     },
     "metadata": {},
     "output_type": "display_data"
    },
    {
     "data": {
      "application/vnd.jupyter.widget-view+json": {
       "model_id": "3aa1822637b240bda628ce11010d90c0",
       "version_major": 2,
       "version_minor": 0
      },
      "text/plain": [
       "Evaluating fitness:   0%|          | 0/10 [00:00<?, ?it/s]"
      ]
     },
     "metadata": {},
     "output_type": "display_data"
    },
    {
     "data": {
      "application/vnd.jupyter.widget-view+json": {
       "model_id": "7e05885e47734497ab4d2ac349cbdb7f",
       "version_major": 2,
       "version_minor": 0
      },
      "text/plain": [
       "Evaluating fitness:   0%|          | 0/10 [00:00<?, ?it/s]"
      ]
     },
     "metadata": {},
     "output_type": "display_data"
    },
    {
     "data": {
      "application/vnd.jupyter.widget-view+json": {
       "model_id": "49235ca7ee5347bb96a591d95fa1f115",
       "version_major": 2,
       "version_minor": 0
      },
      "text/plain": [
       "Evaluating fitness:   0%|          | 0/10 [00:00<?, ?it/s]"
      ]
     },
     "metadata": {},
     "output_type": "display_data"
    },
    {
     "data": {
      "application/vnd.jupyter.widget-view+json": {
       "model_id": "e200d5bf32ff47ecb48a9f6d83bc4d0a",
       "version_major": 2,
       "version_minor": 0
      },
      "text/plain": [
       "Evaluating fitness:   0%|          | 0/10 [00:00<?, ?it/s]"
      ]
     },
     "metadata": {},
     "output_type": "display_data"
    },
    {
     "data": {
      "application/vnd.jupyter.widget-view+json": {
       "model_id": "5a74d930265a443fa190997aeeba3542",
       "version_major": 2,
       "version_minor": 0
      },
      "text/plain": [
       "Evaluating fitness:   0%|          | 0/10 [00:00<?, ?it/s]"
      ]
     },
     "metadata": {},
     "output_type": "display_data"
    },
    {
     "data": {
      "application/vnd.jupyter.widget-view+json": {
       "model_id": "a4997073bf8642ed993e76cc1ae0c023",
       "version_major": 2,
       "version_minor": 0
      },
      "text/plain": [
       "Evaluating fitness:   0%|          | 0/10 [00:00<?, ?it/s]"
      ]
     },
     "metadata": {},
     "output_type": "display_data"
    },
    {
     "data": {
      "application/vnd.jupyter.widget-view+json": {
       "model_id": "d4abf7c6f1124d728bc0938313ec90fc",
       "version_major": 2,
       "version_minor": 0
      },
      "text/plain": [
       "Evaluating fitness:   0%|          | 0/10 [00:00<?, ?it/s]"
      ]
     },
     "metadata": {},
     "output_type": "display_data"
    },
    {
     "data": {
      "application/vnd.jupyter.widget-view+json": {
       "model_id": "d70723a74b0e4c04bd1514103f381376",
       "version_major": 2,
       "version_minor": 0
      },
      "text/plain": [
       "Evaluating fitness:   0%|          | 0/10 [00:00<?, ?it/s]"
      ]
     },
     "metadata": {},
     "output_type": "display_data"
    },
    {
     "data": {
      "application/vnd.jupyter.widget-view+json": {
       "model_id": "603fb3fb824045b99a0e355ed4e552d4",
       "version_major": 2,
       "version_minor": 0
      },
      "text/plain": [
       "Evaluating fitness:   0%|          | 0/10 [00:00<?, ?it/s]"
      ]
     },
     "metadata": {},
     "output_type": "display_data"
    },
    {
     "data": {
      "application/vnd.jupyter.widget-view+json": {
       "model_id": "024c54e3d96b4a42894a41d354ddd1cd",
       "version_major": 2,
       "version_minor": 0
      },
      "text/plain": [
       "Evaluating fitness:   0%|          | 0/10 [00:00<?, ?it/s]"
      ]
     },
     "metadata": {},
     "output_type": "display_data"
    },
    {
     "data": {
      "application/vnd.jupyter.widget-view+json": {
       "model_id": "ea8f1959faab4f868a8852b142e66737",
       "version_major": 2,
       "version_minor": 0
      },
      "text/plain": [
       "Evaluating fitness:   0%|          | 0/10 [00:00<?, ?it/s]"
      ]
     },
     "metadata": {},
     "output_type": "display_data"
    },
    {
     "data": {
      "application/vnd.jupyter.widget-view+json": {
       "model_id": "d950fa1a26124af69f6c0259cb14f734",
       "version_major": 2,
       "version_minor": 0
      },
      "text/plain": [
       "Evaluating fitness:   0%|          | 0/10 [00:00<?, ?it/s]"
      ]
     },
     "metadata": {},
     "output_type": "display_data"
    },
    {
     "data": {
      "application/vnd.jupyter.widget-view+json": {
       "model_id": "62679aa2134c4d8381384555c1e55020",
       "version_major": 2,
       "version_minor": 0
      },
      "text/plain": [
       "Evaluating fitness:   0%|          | 0/10 [00:00<?, ?it/s]"
      ]
     },
     "metadata": {},
     "output_type": "display_data"
    },
    {
     "data": {
      "application/vnd.jupyter.widget-view+json": {
       "model_id": "5ab0b30a71f14dcd857acf992f4b80e9",
       "version_major": 2,
       "version_minor": 0
      },
      "text/plain": [
       "Evaluating fitness:   0%|          | 0/10 [00:00<?, ?it/s]"
      ]
     },
     "metadata": {},
     "output_type": "display_data"
    },
    {
     "data": {
      "application/vnd.jupyter.widget-view+json": {
       "model_id": "a61c7b452fea451e9f8c2693be60bce6",
       "version_major": 2,
       "version_minor": 0
      },
      "text/plain": [
       "Evaluating fitness:   0%|          | 0/10 [00:00<?, ?it/s]"
      ]
     },
     "metadata": {},
     "output_type": "display_data"
    },
    {
     "data": {
      "application/vnd.jupyter.widget-view+json": {
       "model_id": "be1fa1b3c3884319be1752cdf2370d1d",
       "version_major": 2,
       "version_minor": 0
      },
      "text/plain": [
       "Evaluating fitness:   0%|          | 0/10 [00:00<?, ?it/s]"
      ]
     },
     "metadata": {},
     "output_type": "display_data"
    },
    {
     "data": {
      "application/vnd.jupyter.widget-view+json": {
       "model_id": "19037948d2074655816cdf695a0a12aa",
       "version_major": 2,
       "version_minor": 0
      },
      "text/plain": [
       "Evaluating fitness:   0%|          | 0/10 [00:00<?, ?it/s]"
      ]
     },
     "metadata": {},
     "output_type": "display_data"
    },
    {
     "data": {
      "application/vnd.jupyter.widget-view+json": {
       "model_id": "70be3d99f6424f7f81ba0089f5703d35",
       "version_major": 2,
       "version_minor": 0
      },
      "text/plain": [
       "Breeding: 0it [00:00, ?it/s]"
      ]
     },
     "metadata": {},
     "output_type": "display_data"
    },
    {
     "data": {
      "application/vnd.jupyter.widget-view+json": {
       "model_id": "bcdc08a71ed0421da81bf7d7a3e501c7",
       "version_major": 2,
       "version_minor": 0
      },
      "text/plain": [
       "Breeding: 0it [00:00, ?it/s]"
      ]
     },
     "metadata": {},
     "output_type": "display_data"
    },
    {
     "data": {
      "application/vnd.jupyter.widget-view+json": {
       "model_id": "4847514121e442e89c89e7cc4cb3b5e0",
       "version_major": 2,
       "version_minor": 0
      },
      "text/plain": [
       "Breeding: 0it [00:00, ?it/s]"
      ]
     },
     "metadata": {},
     "output_type": "display_data"
    },
    {
     "data": {
      "application/vnd.jupyter.widget-view+json": {
       "model_id": "fc6823d8d7e840958f0ea84a1b9e49e8",
       "version_major": 2,
       "version_minor": 0
      },
      "text/plain": [
       "Breeding: 0it [00:00, ?it/s]"
      ]
     },
     "metadata": {},
     "output_type": "display_data"
    },
    {
     "data": {
      "application/vnd.jupyter.widget-view+json": {
       "model_id": "ce2f5b78425a49ac9549d7000191b99b",
       "version_major": 2,
       "version_minor": 0
      },
      "text/plain": [
       "Breeding: 0it [00:00, ?it/s]"
      ]
     },
     "metadata": {},
     "output_type": "display_data"
    },
    {
     "data": {
      "application/vnd.jupyter.widget-view+json": {
       "model_id": "4920d2fd9bcb4197acf10a7fd69d7b0b",
       "version_major": 2,
       "version_minor": 0
      },
      "text/plain": [
       "Breeding: 0it [00:00, ?it/s]"
      ]
     },
     "metadata": {},
     "output_type": "display_data"
    },
    {
     "data": {
      "application/vnd.jupyter.widget-view+json": {
       "model_id": "eb8358e3663d4ab6a45a207c544cfaa2",
       "version_major": 2,
       "version_minor": 0
      },
      "text/plain": [
       "Breeding: 0it [00:00, ?it/s]"
      ]
     },
     "metadata": {},
     "output_type": "display_data"
    },
    {
     "data": {
      "application/vnd.jupyter.widget-view+json": {
       "model_id": "c498017ba0d44191a61f86350348bbf9",
       "version_major": 2,
       "version_minor": 0
      },
      "text/plain": [
       "Breeding: 0it [00:00, ?it/s]"
      ]
     },
     "metadata": {},
     "output_type": "display_data"
    },
    {
     "data": {
      "application/vnd.jupyter.widget-view+json": {
       "model_id": "ae511c10f1354879a7fe73e2586d48e8",
       "version_major": 2,
       "version_minor": 0
      },
      "text/plain": [
       "Breeding: 0it [00:00, ?it/s]"
      ]
     },
     "metadata": {},
     "output_type": "display_data"
    },
    {
     "data": {
      "application/vnd.jupyter.widget-view+json": {
       "model_id": "4cea32525dd2430c937b37538b0ac91b",
       "version_major": 2,
       "version_minor": 0
      },
      "text/plain": [
       "Breeding: 0it [00:00, ?it/s]"
      ]
     },
     "metadata": {},
     "output_type": "display_data"
    },
    {
     "data": {
      "application/vnd.jupyter.widget-view+json": {
       "model_id": "622dd7a2c4e848ca9a86d77d82125c40",
       "version_major": 2,
       "version_minor": 0
      },
      "text/plain": [
       "Breeding: 0it [00:00, ?it/s]"
      ]
     },
     "metadata": {},
     "output_type": "display_data"
    },
    {
     "data": {
      "application/vnd.jupyter.widget-view+json": {
       "model_id": "297ac8a14d8e4617b1c096f6cf5fe22f",
       "version_major": 2,
       "version_minor": 0
      },
      "text/plain": [
       "Breeding: 0it [00:00, ?it/s]"
      ]
     },
     "metadata": {},
     "output_type": "display_data"
    },
    {
     "data": {
      "application/vnd.jupyter.widget-view+json": {
       "model_id": "f1134010203a4a4891d3e16295be1b44",
       "version_major": 2,
       "version_minor": 0
      },
      "text/plain": [
       "Breeding: 0it [00:00, ?it/s]"
      ]
     },
     "metadata": {},
     "output_type": "display_data"
    },
    {
     "data": {
      "application/vnd.jupyter.widget-view+json": {
       "model_id": "9dac12cf5ad34401814a937e0cd5a68b",
       "version_major": 2,
       "version_minor": 0
      },
      "text/plain": [
       "Breeding: 0it [00:00, ?it/s]"
      ]
     },
     "metadata": {},
     "output_type": "display_data"
    },
    {
     "data": {
      "application/vnd.jupyter.widget-view+json": {
       "model_id": "bf1503fc38cf41f397fe1d1f08ba8224",
       "version_major": 2,
       "version_minor": 0
      },
      "text/plain": [
       "Breeding: 0it [00:00, ?it/s]"
      ]
     },
     "metadata": {},
     "output_type": "display_data"
    },
    {
     "data": {
      "application/vnd.jupyter.widget-view+json": {
       "model_id": "4c868125df4c4e40a3885eb100ff95fb",
       "version_major": 2,
       "version_minor": 0
      },
      "text/plain": [
       "Breeding: 0it [00:00, ?it/s]"
      ]
     },
     "metadata": {},
     "output_type": "display_data"
    },
    {
     "data": {
      "application/vnd.jupyter.widget-view+json": {
       "model_id": "f06bbd8967374be5ae8a07aad299eb4d",
       "version_major": 2,
       "version_minor": 0
      },
      "text/plain": [
       "Breeding: 0it [00:00, ?it/s]"
      ]
     },
     "metadata": {},
     "output_type": "display_data"
    },
    {
     "data": {
      "application/vnd.jupyter.widget-view+json": {
       "model_id": "7580f6ae1fac42bcbc9085c865c3d052",
       "version_major": 2,
       "version_minor": 0
      },
      "text/plain": [
       "Breeding: 0it [00:00, ?it/s]"
      ]
     },
     "metadata": {},
     "output_type": "display_data"
    },
    {
     "data": {
      "application/vnd.jupyter.widget-view+json": {
       "model_id": "4e5baae54be94a6fa13734c2e7212324",
       "version_major": 2,
       "version_minor": 0
      },
      "text/plain": [
       "Breeding: 0it [00:00, ?it/s]"
      ]
     },
     "metadata": {},
     "output_type": "display_data"
    },
    {
     "data": {
      "application/vnd.jupyter.widget-view+json": {
       "model_id": "5e8bfce200fb4671b30e7f83bb79f27f",
       "version_major": 2,
       "version_minor": 0
      },
      "text/plain": [
       "Breeding: 0it [00:00, ?it/s]"
      ]
     },
     "metadata": {},
     "output_type": "display_data"
    },
    {
     "data": {
      "application/vnd.jupyter.widget-view+json": {
       "model_id": "cd1dd534c3e346878badc82db950ccbb",
       "version_major": 2,
       "version_minor": 0
      },
      "text/plain": [
       "Breeding: 0it [00:00, ?it/s]"
      ]
     },
     "metadata": {},
     "output_type": "display_data"
    },
    {
     "data": {
      "application/vnd.jupyter.widget-view+json": {
       "model_id": "f8874a1ef7f0498e9ec61797da531cd4",
       "version_major": 2,
       "version_minor": 0
      },
      "text/plain": [
       "Breeding: 0it [00:00, ?it/s]"
      ]
     },
     "metadata": {},
     "output_type": "display_data"
    },
    {
     "data": {
      "application/vnd.jupyter.widget-view+json": {
       "model_id": "f7a6b42483b64b71bcbbd4509840ee37",
       "version_major": 2,
       "version_minor": 0
      },
      "text/plain": [
       "Breeding: 0it [00:00, ?it/s]"
      ]
     },
     "metadata": {},
     "output_type": "display_data"
    },
    {
     "data": {
      "application/vnd.jupyter.widget-view+json": {
       "model_id": "a44f90d81ab74ac79d0357f613543c9f",
       "version_major": 2,
       "version_minor": 0
      },
      "text/plain": [
       "Breeding: 0it [00:00, ?it/s]"
      ]
     },
     "metadata": {},
     "output_type": "display_data"
    },
    {
     "data": {
      "application/vnd.jupyter.widget-view+json": {
       "model_id": "7876064dd8574ffaae2d93a03b595615",
       "version_major": 2,
       "version_minor": 0
      },
      "text/plain": [
       "Breeding: 0it [00:00, ?it/s]"
      ]
     },
     "metadata": {},
     "output_type": "display_data"
    },
    {
     "data": {
      "application/vnd.jupyter.widget-view+json": {
       "model_id": "f36354fe676b492ab407f99b5bad5542",
       "version_major": 2,
       "version_minor": 0
      },
      "text/plain": [
       "Breeding: 0it [00:00, ?it/s]"
      ]
     },
     "metadata": {},
     "output_type": "display_data"
    },
    {
     "data": {
      "application/vnd.jupyter.widget-view+json": {
       "model_id": "a298c91069e842d996a6163eda1f44d2",
       "version_major": 2,
       "version_minor": 0
      },
      "text/plain": [
       "Breeding: 0it [00:00, ?it/s]"
      ]
     },
     "metadata": {},
     "output_type": "display_data"
    },
    {
     "data": {
      "application/vnd.jupyter.widget-view+json": {
       "model_id": "0e8242130cb84789879186ee6ee20b00",
       "version_major": 2,
       "version_minor": 0
      },
      "text/plain": [
       "Breeding: 0it [00:00, ?it/s]"
      ]
     },
     "metadata": {},
     "output_type": "display_data"
    },
    {
     "data": {
      "application/vnd.jupyter.widget-view+json": {
       "model_id": "08acfae9be9b410cb5e68159f68fd1cb",
       "version_major": 2,
       "version_minor": 0
      },
      "text/plain": [
       "Breeding: 0it [00:00, ?it/s]"
      ]
     },
     "metadata": {},
     "output_type": "display_data"
    },
    {
     "data": {
      "application/vnd.jupyter.widget-view+json": {
       "model_id": "d628e3c67d7247928f20c8d0994af488",
       "version_major": 2,
       "version_minor": 0
      },
      "text/plain": [
       "Breeding: 0it [00:00, ?it/s]"
      ]
     },
     "metadata": {},
     "output_type": "display_data"
    },
    {
     "data": {
      "application/vnd.jupyter.widget-view+json": {
       "model_id": "0df04e83795a4bb9868ce05dda0e3fc9",
       "version_major": 2,
       "version_minor": 0
      },
      "text/plain": [
       "Breeding: 0it [00:00, ?it/s]"
      ]
     },
     "metadata": {},
     "output_type": "display_data"
    },
    {
     "data": {
      "application/vnd.jupyter.widget-view+json": {
       "model_id": "3c5c434fcc8044f19778e3823b6e6b8e",
       "version_major": 2,
       "version_minor": 0
      },
      "text/plain": [
       "Breeding: 0it [00:00, ?it/s]"
      ]
     },
     "metadata": {},
     "output_type": "display_data"
    },
    {
     "data": {
      "application/vnd.jupyter.widget-view+json": {
       "model_id": "f9aede1748cc4c74942b729ad2a753e1",
       "version_major": 2,
       "version_minor": 0
      },
      "text/plain": [
       "Breeding: 0it [00:00, ?it/s]"
      ]
     },
     "metadata": {},
     "output_type": "display_data"
    },
    {
     "data": {
      "application/vnd.jupyter.widget-view+json": {
       "model_id": "d93b03b9f51b44dca576a8f604cd4314",
       "version_major": 2,
       "version_minor": 0
      },
      "text/plain": [
       "Breeding: 0it [00:00, ?it/s]"
      ]
     },
     "metadata": {},
     "output_type": "display_data"
    },
    {
     "data": {
      "application/vnd.jupyter.widget-view+json": {
       "model_id": "3c7c960ea76b47609b430c38e6c134ab",
       "version_major": 2,
       "version_minor": 0
      },
      "text/plain": [
       "Breeding: 0it [00:00, ?it/s]"
      ]
     },
     "metadata": {},
     "output_type": "display_data"
    },
    {
     "data": {
      "application/vnd.jupyter.widget-view+json": {
       "model_id": "837b7191b4144fbba884856665b4cea9",
       "version_major": 2,
       "version_minor": 0
      },
      "text/plain": [
       "Breeding: 0it [00:00, ?it/s]"
      ]
     },
     "metadata": {},
     "output_type": "display_data"
    },
    {
     "data": {
      "application/vnd.jupyter.widget-view+json": {
       "model_id": "b19f11dd862c4b9199a81934f5bf5334",
       "version_major": 2,
       "version_minor": 0
      },
      "text/plain": [
       "Breeding: 0it [00:00, ?it/s]"
      ]
     },
     "metadata": {},
     "output_type": "display_data"
    },
    {
     "data": {
      "application/vnd.jupyter.widget-view+json": {
       "model_id": "908f60e86b194256ab82df8621921076",
       "version_major": 2,
       "version_minor": 0
      },
      "text/plain": [
       "Breeding: 0it [00:00, ?it/s]"
      ]
     },
     "metadata": {},
     "output_type": "display_data"
    },
    {
     "data": {
      "application/vnd.jupyter.widget-view+json": {
       "model_id": "e83ed0b5c17a4a639f8dbf6eb9a68752",
       "version_major": 2,
       "version_minor": 0
      },
      "text/plain": [
       "Breeding: 0it [00:00, ?it/s]"
      ]
     },
     "metadata": {},
     "output_type": "display_data"
    },
    {
     "data": {
      "application/vnd.jupyter.widget-view+json": {
       "model_id": "c405f1cf1d654d48ae66deffbbd13aec",
       "version_major": 2,
       "version_minor": 0
      },
      "text/plain": [
       "Breeding: 0it [00:00, ?it/s]"
      ]
     },
     "metadata": {},
     "output_type": "display_data"
    },
    {
     "data": {
      "application/vnd.jupyter.widget-view+json": {
       "model_id": "355848aa66df4e01be3591cebd1d978a",
       "version_major": 2,
       "version_minor": 0
      },
      "text/plain": [
       "Breeding: 0it [00:00, ?it/s]"
      ]
     },
     "metadata": {},
     "output_type": "display_data"
    },
    {
     "data": {
      "application/vnd.jupyter.widget-view+json": {
       "model_id": "69bd61ab07774876ba04137fec6110fb",
       "version_major": 2,
       "version_minor": 0
      },
      "text/plain": [
       "Breeding: 0it [00:00, ?it/s]"
      ]
     },
     "metadata": {},
     "output_type": "display_data"
    },
    {
     "data": {
      "application/vnd.jupyter.widget-view+json": {
       "model_id": "61402a5e8c0245deb5ce01e537031303",
       "version_major": 2,
       "version_minor": 0
      },
      "text/plain": [
       "Breeding: 0it [00:00, ?it/s]"
      ]
     },
     "metadata": {},
     "output_type": "display_data"
    },
    {
     "data": {
      "application/vnd.jupyter.widget-view+json": {
       "model_id": "1e0860f224324e58a3be38a148da26e3",
       "version_major": 2,
       "version_minor": 0
      },
      "text/plain": [
       "Breeding: 0it [00:00, ?it/s]"
      ]
     },
     "metadata": {},
     "output_type": "display_data"
    },
    {
     "data": {
      "application/vnd.jupyter.widget-view+json": {
       "model_id": "4f5a2f039fa649909770254232c765ae",
       "version_major": 2,
       "version_minor": 0
      },
      "text/plain": [
       "Breeding: 0it [00:00, ?it/s]"
      ]
     },
     "metadata": {},
     "output_type": "display_data"
    },
    {
     "data": {
      "application/vnd.jupyter.widget-view+json": {
       "model_id": "ff4e80450d2b4411963ede5d74e8b56e",
       "version_major": 2,
       "version_minor": 0
      },
      "text/plain": [
       "Breeding: 0it [00:00, ?it/s]"
      ]
     },
     "metadata": {},
     "output_type": "display_data"
    },
    {
     "data": {
      "application/vnd.jupyter.widget-view+json": {
       "model_id": "d467df10e92d441bbcee2977ea6fa37a",
       "version_major": 2,
       "version_minor": 0
      },
      "text/plain": [
       "Breeding: 0it [00:00, ?it/s]"
      ]
     },
     "metadata": {},
     "output_type": "display_data"
    },
    {
     "data": {
      "application/vnd.jupyter.widget-view+json": {
       "model_id": "acb01ae105e6429fa639216a350f5bd3",
       "version_major": 2,
       "version_minor": 0
      },
      "text/plain": [
       "Breeding: 0it [00:00, ?it/s]"
      ]
     },
     "metadata": {},
     "output_type": "display_data"
    },
    {
     "data": {
      "application/vnd.jupyter.widget-view+json": {
       "model_id": "ba04c9b49d7744698b0a2ffc7abcfb7a",
       "version_major": 2,
       "version_minor": 0
      },
      "text/plain": [
       "Breeding: 0it [00:00, ?it/s]"
      ]
     },
     "metadata": {},
     "output_type": "display_data"
    },
    {
     "data": {
      "application/vnd.jupyter.widget-view+json": {
       "model_id": "3972e41dc80346ee9479f526cb01f655",
       "version_major": 2,
       "version_minor": 0
      },
      "text/plain": [
       "Breeding: 0it [00:00, ?it/s]"
      ]
     },
     "metadata": {},
     "output_type": "display_data"
    },
    {
     "data": {
      "application/vnd.jupyter.widget-view+json": {
       "model_id": "18d98b3b79584e44b46ed9ef92055ee6",
       "version_major": 2,
       "version_minor": 0
      },
      "text/plain": [
       "Breeding: 0it [00:00, ?it/s]"
      ]
     },
     "metadata": {},
     "output_type": "display_data"
    },
    {
     "data": {
      "application/vnd.jupyter.widget-view+json": {
       "model_id": "8b7bf0fac64b44a997b1d6f34a4c52aa",
       "version_major": 2,
       "version_minor": 0
      },
      "text/plain": [
       "Evaluating fitness:   0%|          | 0/10 [00:00<?, ?it/s]"
      ]
     },
     "metadata": {},
     "output_type": "display_data"
    },
    {
     "data": {
      "application/vnd.jupyter.widget-view+json": {
       "model_id": "e6d9b95c04df4e4b888099ddfe87f72e",
       "version_major": 2,
       "version_minor": 0
      },
      "text/plain": [
       "Evaluating fitness:   0%|          | 0/10 [00:00<?, ?it/s]"
      ]
     },
     "metadata": {},
     "output_type": "display_data"
    },
    {
     "data": {
      "application/vnd.jupyter.widget-view+json": {
       "model_id": "dd404653474d4dd38b4c01188ac363b9",
       "version_major": 2,
       "version_minor": 0
      },
      "text/plain": [
       "Evaluating fitness:   0%|          | 0/10 [00:00<?, ?it/s]"
      ]
     },
     "metadata": {},
     "output_type": "display_data"
    },
    {
     "data": {
      "application/vnd.jupyter.widget-view+json": {
       "model_id": "03f1cf5dfc034bfe995e926b14b49b15",
       "version_major": 2,
       "version_minor": 0
      },
      "text/plain": [
       "Evaluating fitness:   0%|          | 0/10 [00:00<?, ?it/s]"
      ]
     },
     "metadata": {},
     "output_type": "display_data"
    },
    {
     "data": {
      "application/vnd.jupyter.widget-view+json": {
       "model_id": "4993d657452e48f99f4dcf300f789a21",
       "version_major": 2,
       "version_minor": 0
      },
      "text/plain": [
       "Evaluating fitness:   0%|          | 0/10 [00:00<?, ?it/s]"
      ]
     },
     "metadata": {},
     "output_type": "display_data"
    },
    {
     "data": {
      "application/vnd.jupyter.widget-view+json": {
       "model_id": "5c34f79ac5b849afb53c202a662768e0",
       "version_major": 2,
       "version_minor": 0
      },
      "text/plain": [
       "Evaluating fitness:   0%|          | 0/10 [00:00<?, ?it/s]"
      ]
     },
     "metadata": {},
     "output_type": "display_data"
    },
    {
     "data": {
      "application/vnd.jupyter.widget-view+json": {
       "model_id": "d0bf82d8ce444bbe860b050cb62aa779",
       "version_major": 2,
       "version_minor": 0
      },
      "text/plain": [
       "Evaluating fitness:   0%|          | 0/10 [00:00<?, ?it/s]"
      ]
     },
     "metadata": {},
     "output_type": "display_data"
    },
    {
     "data": {
      "application/vnd.jupyter.widget-view+json": {
       "model_id": "ae0621627fe147e9bcb9c84fafca1112",
       "version_major": 2,
       "version_minor": 0
      },
      "text/plain": [
       "Evaluating fitness:   0%|          | 0/10 [00:00<?, ?it/s]"
      ]
     },
     "metadata": {},
     "output_type": "display_data"
    },
    {
     "data": {
      "application/vnd.jupyter.widget-view+json": {
       "model_id": "c37f919348e14f3ba63723489ef9601b",
       "version_major": 2,
       "version_minor": 0
      },
      "text/plain": [
       "Evaluating fitness:   0%|          | 0/10 [00:00<?, ?it/s]"
      ]
     },
     "metadata": {},
     "output_type": "display_data"
    },
    {
     "data": {
      "application/vnd.jupyter.widget-view+json": {
       "model_id": "df058ac8d5c9402e890baf09608df125",
       "version_major": 2,
       "version_minor": 0
      },
      "text/plain": [
       "Evaluating fitness:   0%|          | 0/10 [00:00<?, ?it/s]"
      ]
     },
     "metadata": {},
     "output_type": "display_data"
    },
    {
     "data": {
      "application/vnd.jupyter.widget-view+json": {
       "model_id": "92ee8aeb349b4eb6b0c93f86cfbbae98",
       "version_major": 2,
       "version_minor": 0
      },
      "text/plain": [
       "Evaluating fitness:   0%|          | 0/10 [00:00<?, ?it/s]"
      ]
     },
     "metadata": {},
     "output_type": "display_data"
    },
    {
     "data": {
      "application/vnd.jupyter.widget-view+json": {
       "model_id": "eb4a2313b7344688b8a65a7fee106fd9",
       "version_major": 2,
       "version_minor": 0
      },
      "text/plain": [
       "Evaluating fitness:   0%|          | 0/10 [00:00<?, ?it/s]"
      ]
     },
     "metadata": {},
     "output_type": "display_data"
    },
    {
     "data": {
      "application/vnd.jupyter.widget-view+json": {
       "model_id": "6b6e29df6b564381883f6810721c85fb",
       "version_major": 2,
       "version_minor": 0
      },
      "text/plain": [
       "Evaluating fitness:   0%|          | 0/10 [00:00<?, ?it/s]"
      ]
     },
     "metadata": {},
     "output_type": "display_data"
    },
    {
     "data": {
      "application/vnd.jupyter.widget-view+json": {
       "model_id": "2a8eb5972f9f4c2b99f0ca5d74592dbe",
       "version_major": 2,
       "version_minor": 0
      },
      "text/plain": [
       "Evaluating fitness:   0%|          | 0/10 [00:00<?, ?it/s]"
      ]
     },
     "metadata": {},
     "output_type": "display_data"
    },
    {
     "data": {
      "application/vnd.jupyter.widget-view+json": {
       "model_id": "ce4747e9f91f4470a1cca299f40370d1",
       "version_major": 2,
       "version_minor": 0
      },
      "text/plain": [
       "Evaluating fitness:   0%|          | 0/10 [00:00<?, ?it/s]"
      ]
     },
     "metadata": {},
     "output_type": "display_data"
    },
    {
     "data": {
      "application/vnd.jupyter.widget-view+json": {
       "model_id": "b770e1f4bc9f418091d9cfeea44ac4c5",
       "version_major": 2,
       "version_minor": 0
      },
      "text/plain": [
       "Evaluating fitness:   0%|          | 0/10 [00:00<?, ?it/s]"
      ]
     },
     "metadata": {},
     "output_type": "display_data"
    },
    {
     "data": {
      "application/vnd.jupyter.widget-view+json": {
       "model_id": "a37b1eee16bd4ea986d8526444fe3f62",
       "version_major": 2,
       "version_minor": 0
      },
      "text/plain": [
       "Evaluating fitness:   0%|          | 0/10 [00:00<?, ?it/s]"
      ]
     },
     "metadata": {},
     "output_type": "display_data"
    },
    {
     "data": {
      "application/vnd.jupyter.widget-view+json": {
       "model_id": "ff20c49d2aef4d86874687531499d20b",
       "version_major": 2,
       "version_minor": 0
      },
      "text/plain": [
       "Evaluating fitness:   0%|          | 0/10 [00:00<?, ?it/s]"
      ]
     },
     "metadata": {},
     "output_type": "display_data"
    },
    {
     "data": {
      "application/vnd.jupyter.widget-view+json": {
       "model_id": "b80563b5abaa47049e1379db11507193",
       "version_major": 2,
       "version_minor": 0
      },
      "text/plain": [
       "Evaluating fitness:   0%|          | 0/10 [00:00<?, ?it/s]"
      ]
     },
     "metadata": {},
     "output_type": "display_data"
    },
    {
     "data": {
      "application/vnd.jupyter.widget-view+json": {
       "model_id": "411ba1e0cf244b548afdf49f352217ce",
       "version_major": 2,
       "version_minor": 0
      },
      "text/plain": [
       "Evaluating fitness:   0%|          | 0/10 [00:00<?, ?it/s]"
      ]
     },
     "metadata": {},
     "output_type": "display_data"
    },
    {
     "data": {
      "application/vnd.jupyter.widget-view+json": {
       "model_id": "9ea3e50b7686411a93646a35bcaf2a7b",
       "version_major": 2,
       "version_minor": 0
      },
      "text/plain": [
       "Evaluating fitness:   0%|          | 0/10 [00:00<?, ?it/s]"
      ]
     },
     "metadata": {},
     "output_type": "display_data"
    },
    {
     "data": {
      "application/vnd.jupyter.widget-view+json": {
       "model_id": "547ec7c6413745f4a1ab80159a740f65",
       "version_major": 2,
       "version_minor": 0
      },
      "text/plain": [
       "Evaluating fitness:   0%|          | 0/10 [00:00<?, ?it/s]"
      ]
     },
     "metadata": {},
     "output_type": "display_data"
    },
    {
     "data": {
      "application/vnd.jupyter.widget-view+json": {
       "model_id": "697a26614d2d4db58b2fe203349c3e14",
       "version_major": 2,
       "version_minor": 0
      },
      "text/plain": [
       "Evaluating fitness:   0%|          | 0/10 [00:00<?, ?it/s]"
      ]
     },
     "metadata": {},
     "output_type": "display_data"
    },
    {
     "data": {
      "application/vnd.jupyter.widget-view+json": {
       "model_id": "3815275ba30244c09b6cd4f51e3f11fb",
       "version_major": 2,
       "version_minor": 0
      },
      "text/plain": [
       "Evaluating fitness:   0%|          | 0/10 [00:00<?, ?it/s]"
      ]
     },
     "metadata": {},
     "output_type": "display_data"
    },
    {
     "data": {
      "application/vnd.jupyter.widget-view+json": {
       "model_id": "25342077e1294d18894d77ea74454f62",
       "version_major": 2,
       "version_minor": 0
      },
      "text/plain": [
       "Evaluating fitness:   0%|          | 0/10 [00:00<?, ?it/s]"
      ]
     },
     "metadata": {},
     "output_type": "display_data"
    },
    {
     "data": {
      "application/vnd.jupyter.widget-view+json": {
       "model_id": "c25a6d962ef647debf9e20456dbc322c",
       "version_major": 2,
       "version_minor": 0
      },
      "text/plain": [
       "Evaluating fitness:   0%|          | 0/10 [00:00<?, ?it/s]"
      ]
     },
     "metadata": {},
     "output_type": "display_data"
    },
    {
     "data": {
      "application/vnd.jupyter.widget-view+json": {
       "model_id": "dd42e49e37b241508217e1329d89f399",
       "version_major": 2,
       "version_minor": 0
      },
      "text/plain": [
       "Evaluating fitness:   0%|          | 0/10 [00:00<?, ?it/s]"
      ]
     },
     "metadata": {},
     "output_type": "display_data"
    },
    {
     "data": {
      "application/vnd.jupyter.widget-view+json": {
       "model_id": "410ba69b1ba741ccb5c580f05b117dcd",
       "version_major": 2,
       "version_minor": 0
      },
      "text/plain": [
       "Evaluating fitness:   0%|          | 0/10 [00:00<?, ?it/s]"
      ]
     },
     "metadata": {},
     "output_type": "display_data"
    },
    {
     "data": {
      "application/vnd.jupyter.widget-view+json": {
       "model_id": "8227b66217864cf990d5deb9b31be467",
       "version_major": 2,
       "version_minor": 0
      },
      "text/plain": [
       "Evaluating fitness:   0%|          | 0/10 [00:00<?, ?it/s]"
      ]
     },
     "metadata": {},
     "output_type": "display_data"
    },
    {
     "data": {
      "application/vnd.jupyter.widget-view+json": {
       "model_id": "3da940e6c2f7494a9605ff7c731fa5ce",
       "version_major": 2,
       "version_minor": 0
      },
      "text/plain": [
       "Evaluating fitness:   0%|          | 0/10 [00:00<?, ?it/s]"
      ]
     },
     "metadata": {},
     "output_type": "display_data"
    },
    {
     "data": {
      "application/vnd.jupyter.widget-view+json": {
       "model_id": "a86d7529bff643b89fdd8c3c7d5a2422",
       "version_major": 2,
       "version_minor": 0
      },
      "text/plain": [
       "Evaluating fitness:   0%|          | 0/10 [00:00<?, ?it/s]"
      ]
     },
     "metadata": {},
     "output_type": "display_data"
    },
    {
     "data": {
      "application/vnd.jupyter.widget-view+json": {
       "model_id": "2ad1be20496e48c49bd425631b93040c",
       "version_major": 2,
       "version_minor": 0
      },
      "text/plain": [
       "Evaluating fitness:   0%|          | 0/10 [00:00<?, ?it/s]"
      ]
     },
     "metadata": {},
     "output_type": "display_data"
    },
    {
     "data": {
      "application/vnd.jupyter.widget-view+json": {
       "model_id": "a72e830ea78a46c1976536c71d6e7608",
       "version_major": 2,
       "version_minor": 0
      },
      "text/plain": [
       "Evaluating fitness:   0%|          | 0/10 [00:00<?, ?it/s]"
      ]
     },
     "metadata": {},
     "output_type": "display_data"
    },
    {
     "data": {
      "application/vnd.jupyter.widget-view+json": {
       "model_id": "f8adb96b1b6645e3961f8f2c64debcfe",
       "version_major": 2,
       "version_minor": 0
      },
      "text/plain": [
       "Evaluating fitness:   0%|          | 0/10 [00:00<?, ?it/s]"
      ]
     },
     "metadata": {},
     "output_type": "display_data"
    },
    {
     "data": {
      "application/vnd.jupyter.widget-view+json": {
       "model_id": "3fc453b5ae604c31887ccd307309190a",
       "version_major": 2,
       "version_minor": 0
      },
      "text/plain": [
       "Evaluating fitness:   0%|          | 0/10 [00:00<?, ?it/s]"
      ]
     },
     "metadata": {},
     "output_type": "display_data"
    },
    {
     "data": {
      "application/vnd.jupyter.widget-view+json": {
       "model_id": "ebbb5c39e0df45cf9100ca5b0d3b2e5d",
       "version_major": 2,
       "version_minor": 0
      },
      "text/plain": [
       "Evaluating fitness:   0%|          | 0/10 [00:00<?, ?it/s]"
      ]
     },
     "metadata": {},
     "output_type": "display_data"
    },
    {
     "data": {
      "application/vnd.jupyter.widget-view+json": {
       "model_id": "39cd77d0e5e548278dc0b9bf199460dd",
       "version_major": 2,
       "version_minor": 0
      },
      "text/plain": [
       "Evaluating fitness:   0%|          | 0/10 [00:00<?, ?it/s]"
      ]
     },
     "metadata": {},
     "output_type": "display_data"
    },
    {
     "data": {
      "application/vnd.jupyter.widget-view+json": {
       "model_id": "1a5bedad487c45aca2780afaa069ee9c",
       "version_major": 2,
       "version_minor": 0
      },
      "text/plain": [
       "Evaluating fitness:   0%|          | 0/10 [00:00<?, ?it/s]"
      ]
     },
     "metadata": {},
     "output_type": "display_data"
    },
    {
     "data": {
      "application/vnd.jupyter.widget-view+json": {
       "model_id": "b4c67727f3ad4257a8248f1337639eb2",
       "version_major": 2,
       "version_minor": 0
      },
      "text/plain": [
       "Evaluating fitness:   0%|          | 0/10 [00:00<?, ?it/s]"
      ]
     },
     "metadata": {},
     "output_type": "display_data"
    },
    {
     "data": {
      "application/vnd.jupyter.widget-view+json": {
       "model_id": "f9fed3cdec874174ab30a933cfb3d3a9",
       "version_major": 2,
       "version_minor": 0
      },
      "text/plain": [
       "Evaluating fitness:   0%|          | 0/10 [00:00<?, ?it/s]"
      ]
     },
     "metadata": {},
     "output_type": "display_data"
    },
    {
     "data": {
      "application/vnd.jupyter.widget-view+json": {
       "model_id": "88f5afd309524f00b61e0894d8978cb6",
       "version_major": 2,
       "version_minor": 0
      },
      "text/plain": [
       "Evaluating fitness:   0%|          | 0/10 [00:00<?, ?it/s]"
      ]
     },
     "metadata": {},
     "output_type": "display_data"
    },
    {
     "data": {
      "application/vnd.jupyter.widget-view+json": {
       "model_id": "50076ba41a4645bdbbda51617e15c695",
       "version_major": 2,
       "version_minor": 0
      },
      "text/plain": [
       "Evaluating fitness:   0%|          | 0/10 [00:00<?, ?it/s]"
      ]
     },
     "metadata": {},
     "output_type": "display_data"
    },
    {
     "data": {
      "application/vnd.jupyter.widget-view+json": {
       "model_id": "f41775c0dca348ee851037c26c1e34fd",
       "version_major": 2,
       "version_minor": 0
      },
      "text/plain": [
       "Evaluating fitness:   0%|          | 0/10 [00:00<?, ?it/s]"
      ]
     },
     "metadata": {},
     "output_type": "display_data"
    },
    {
     "data": {
      "application/vnd.jupyter.widget-view+json": {
       "model_id": "1444d07114ab411fbbf82b436ae7c3e2",
       "version_major": 2,
       "version_minor": 0
      },
      "text/plain": [
       "Evaluating fitness:   0%|          | 0/10 [00:00<?, ?it/s]"
      ]
     },
     "metadata": {},
     "output_type": "display_data"
    },
    {
     "data": {
      "application/vnd.jupyter.widget-view+json": {
       "model_id": "51f05ff5bd0d45b29806efd1000de695",
       "version_major": 2,
       "version_minor": 0
      },
      "text/plain": [
       "Evaluating fitness:   0%|          | 0/10 [00:00<?, ?it/s]"
      ]
     },
     "metadata": {},
     "output_type": "display_data"
    },
    {
     "data": {
      "application/vnd.jupyter.widget-view+json": {
       "model_id": "acbab405d094427eaf3106907f55ec37",
       "version_major": 2,
       "version_minor": 0
      },
      "text/plain": [
       "Evaluating fitness:   0%|          | 0/10 [00:00<?, ?it/s]"
      ]
     },
     "metadata": {},
     "output_type": "display_data"
    },
    {
     "data": {
      "application/vnd.jupyter.widget-view+json": {
       "model_id": "bbeb4eaea473481fa40fe37a615a08b4",
       "version_major": 2,
       "version_minor": 0
      },
      "text/plain": [
       "Evaluating fitness:   0%|          | 0/10 [00:00<?, ?it/s]"
      ]
     },
     "metadata": {},
     "output_type": "display_data"
    },
    {
     "data": {
      "application/vnd.jupyter.widget-view+json": {
       "model_id": "f1b13310afac41d7824e2340df55bfb7",
       "version_major": 2,
       "version_minor": 0
      },
      "text/plain": [
       "Evaluating fitness:   0%|          | 0/10 [00:00<?, ?it/s]"
      ]
     },
     "metadata": {},
     "output_type": "display_data"
    },
    {
     "data": {
      "application/vnd.jupyter.widget-view+json": {
       "model_id": "5572b078fe7249aab577cfdd22656fe7",
       "version_major": 2,
       "version_minor": 0
      },
      "text/plain": [
       "Evaluating fitness:   0%|          | 0/10 [00:00<?, ?it/s]"
      ]
     },
     "metadata": {},
     "output_type": "display_data"
    },
    {
     "data": {
      "application/vnd.jupyter.widget-view+json": {
       "model_id": "e3194871da9146edafb0140f9d428dde",
       "version_major": 2,
       "version_minor": 0
      },
      "text/plain": [
       "Evaluating fitness:   0%|          | 0/10 [00:00<?, ?it/s]"
      ]
     },
     "metadata": {},
     "output_type": "display_data"
    },
    {
     "data": {
      "application/vnd.jupyter.widget-view+json": {
       "model_id": "ad705a1370a4418e9ebf5107b5ac14bd",
       "version_major": 2,
       "version_minor": 0
      },
      "text/plain": [
       "Breeding: 0it [00:00, ?it/s]"
      ]
     },
     "metadata": {},
     "output_type": "display_data"
    },
    {
     "data": {
      "application/vnd.jupyter.widget-view+json": {
       "model_id": "47be7267f67543b6b53b86068def0c9a",
       "version_major": 2,
       "version_minor": 0
      },
      "text/plain": [
       "Breeding: 0it [00:00, ?it/s]"
      ]
     },
     "metadata": {},
     "output_type": "display_data"
    },
    {
     "data": {
      "application/vnd.jupyter.widget-view+json": {
       "model_id": "acf23d6c528846dab018395b6bbee841",
       "version_major": 2,
       "version_minor": 0
      },
      "text/plain": [
       "Breeding: 0it [00:00, ?it/s]"
      ]
     },
     "metadata": {},
     "output_type": "display_data"
    },
    {
     "data": {
      "application/vnd.jupyter.widget-view+json": {
       "model_id": "7e876b6e4f1b493da28f50171aed0662",
       "version_major": 2,
       "version_minor": 0
      },
      "text/plain": [
       "Breeding: 0it [00:00, ?it/s]"
      ]
     },
     "metadata": {},
     "output_type": "display_data"
    },
    {
     "data": {
      "application/vnd.jupyter.widget-view+json": {
       "model_id": "418c1b3e96d0417ebfb1daf44d887505",
       "version_major": 2,
       "version_minor": 0
      },
      "text/plain": [
       "Breeding: 0it [00:00, ?it/s]"
      ]
     },
     "metadata": {},
     "output_type": "display_data"
    },
    {
     "data": {
      "application/vnd.jupyter.widget-view+json": {
       "model_id": "600733ab39c04f93a3a14787834c6e0c",
       "version_major": 2,
       "version_minor": 0
      },
      "text/plain": [
       "Breeding: 0it [00:00, ?it/s]"
      ]
     },
     "metadata": {},
     "output_type": "display_data"
    },
    {
     "data": {
      "application/vnd.jupyter.widget-view+json": {
       "model_id": "da59b82e2a7647bbb8258a0772dff038",
       "version_major": 2,
       "version_minor": 0
      },
      "text/plain": [
       "Breeding: 0it [00:00, ?it/s]"
      ]
     },
     "metadata": {},
     "output_type": "display_data"
    },
    {
     "data": {
      "application/vnd.jupyter.widget-view+json": {
       "model_id": "bd9ae3b9062a4c51a071960b14cd69a9",
       "version_major": 2,
       "version_minor": 0
      },
      "text/plain": [
       "Breeding: 0it [00:00, ?it/s]"
      ]
     },
     "metadata": {},
     "output_type": "display_data"
    },
    {
     "data": {
      "application/vnd.jupyter.widget-view+json": {
       "model_id": "8696c8631f804653b503dae719caac19",
       "version_major": 2,
       "version_minor": 0
      },
      "text/plain": [
       "Breeding: 0it [00:00, ?it/s]"
      ]
     },
     "metadata": {},
     "output_type": "display_data"
    },
    {
     "data": {
      "application/vnd.jupyter.widget-view+json": {
       "model_id": "ad39e773b5be4056bc3cc5548616deea",
       "version_major": 2,
       "version_minor": 0
      },
      "text/plain": [
       "Breeding: 0it [00:00, ?it/s]"
      ]
     },
     "metadata": {},
     "output_type": "display_data"
    },
    {
     "data": {
      "application/vnd.jupyter.widget-view+json": {
       "model_id": "3e543707a3ea499bb020001fd8d5385f",
       "version_major": 2,
       "version_minor": 0
      },
      "text/plain": [
       "Breeding: 0it [00:00, ?it/s]"
      ]
     },
     "metadata": {},
     "output_type": "display_data"
    },
    {
     "data": {
      "application/vnd.jupyter.widget-view+json": {
       "model_id": "8064a20edd2f46c8b2ee20c210180cd5",
       "version_major": 2,
       "version_minor": 0
      },
      "text/plain": [
       "Breeding: 0it [00:00, ?it/s]"
      ]
     },
     "metadata": {},
     "output_type": "display_data"
    },
    {
     "data": {
      "application/vnd.jupyter.widget-view+json": {
       "model_id": "aec35fab033d494da66a56fbe57910b5",
       "version_major": 2,
       "version_minor": 0
      },
      "text/plain": [
       "Breeding: 0it [00:00, ?it/s]"
      ]
     },
     "metadata": {},
     "output_type": "display_data"
    },
    {
     "data": {
      "application/vnd.jupyter.widget-view+json": {
       "model_id": "390ecdf8ab674f82acb4ed25d75f4e27",
       "version_major": 2,
       "version_minor": 0
      },
      "text/plain": [
       "Breeding: 0it [00:00, ?it/s]"
      ]
     },
     "metadata": {},
     "output_type": "display_data"
    },
    {
     "data": {
      "application/vnd.jupyter.widget-view+json": {
       "model_id": "9831988990d141e48385322a907648f7",
       "version_major": 2,
       "version_minor": 0
      },
      "text/plain": [
       "Breeding: 0it [00:00, ?it/s]"
      ]
     },
     "metadata": {},
     "output_type": "display_data"
    },
    {
     "data": {
      "application/vnd.jupyter.widget-view+json": {
       "model_id": "65f6b9505d9e433c8c647408343e5b20",
       "version_major": 2,
       "version_minor": 0
      },
      "text/plain": [
       "Breeding: 0it [00:00, ?it/s]"
      ]
     },
     "metadata": {},
     "output_type": "display_data"
    },
    {
     "data": {
      "application/vnd.jupyter.widget-view+json": {
       "model_id": "fd623be2e9f5415fb36c59bd9e178ad8",
       "version_major": 2,
       "version_minor": 0
      },
      "text/plain": [
       "Breeding: 0it [00:00, ?it/s]"
      ]
     },
     "metadata": {},
     "output_type": "display_data"
    },
    {
     "data": {
      "application/vnd.jupyter.widget-view+json": {
       "model_id": "85d81c0b42e04ea8b30b56caaeb8f711",
       "version_major": 2,
       "version_minor": 0
      },
      "text/plain": [
       "Breeding: 0it [00:00, ?it/s]"
      ]
     },
     "metadata": {},
     "output_type": "display_data"
    },
    {
     "data": {
      "application/vnd.jupyter.widget-view+json": {
       "model_id": "243925685c924a5aa0de75fba7588727",
       "version_major": 2,
       "version_minor": 0
      },
      "text/plain": [
       "Breeding: 0it [00:00, ?it/s]"
      ]
     },
     "metadata": {},
     "output_type": "display_data"
    },
    {
     "data": {
      "application/vnd.jupyter.widget-view+json": {
       "model_id": "c86b1f29f7bf41b9b0b93d08c3b49c87",
       "version_major": 2,
       "version_minor": 0
      },
      "text/plain": [
       "Breeding: 0it [00:00, ?it/s]"
      ]
     },
     "metadata": {},
     "output_type": "display_data"
    },
    {
     "data": {
      "application/vnd.jupyter.widget-view+json": {
       "model_id": "2081dc7921ee44dabeb0b0af742e9f5a",
       "version_major": 2,
       "version_minor": 0
      },
      "text/plain": [
       "Breeding: 0it [00:00, ?it/s]"
      ]
     },
     "metadata": {},
     "output_type": "display_data"
    },
    {
     "data": {
      "application/vnd.jupyter.widget-view+json": {
       "model_id": "92c818eca2fb4d749af887681a62f8de",
       "version_major": 2,
       "version_minor": 0
      },
      "text/plain": [
       "Breeding: 0it [00:00, ?it/s]"
      ]
     },
     "metadata": {},
     "output_type": "display_data"
    },
    {
     "data": {
      "application/vnd.jupyter.widget-view+json": {
       "model_id": "e860005e717c4038ae6e3342c86d3b3d",
       "version_major": 2,
       "version_minor": 0
      },
      "text/plain": [
       "Breeding: 0it [00:00, ?it/s]"
      ]
     },
     "metadata": {},
     "output_type": "display_data"
    },
    {
     "data": {
      "application/vnd.jupyter.widget-view+json": {
       "model_id": "5dbc509a96234bd0a595f296369d3303",
       "version_major": 2,
       "version_minor": 0
      },
      "text/plain": [
       "Breeding: 0it [00:00, ?it/s]"
      ]
     },
     "metadata": {},
     "output_type": "display_data"
    },
    {
     "data": {
      "application/vnd.jupyter.widget-view+json": {
       "model_id": "3f42d03d9c9e46a3ad637e17f9f7b478",
       "version_major": 2,
       "version_minor": 0
      },
      "text/plain": [
       "Breeding: 0it [00:00, ?it/s]"
      ]
     },
     "metadata": {},
     "output_type": "display_data"
    },
    {
     "data": {
      "application/vnd.jupyter.widget-view+json": {
       "model_id": "75ac7c24479a4deb97abcf69cb310f91",
       "version_major": 2,
       "version_minor": 0
      },
      "text/plain": [
       "Breeding: 0it [00:00, ?it/s]"
      ]
     },
     "metadata": {},
     "output_type": "display_data"
    },
    {
     "data": {
      "application/vnd.jupyter.widget-view+json": {
       "model_id": "c0e17a4f825b41509866e0b2718c1d68",
       "version_major": 2,
       "version_minor": 0
      },
      "text/plain": [
       "Breeding: 0it [00:00, ?it/s]"
      ]
     },
     "metadata": {},
     "output_type": "display_data"
    },
    {
     "data": {
      "application/vnd.jupyter.widget-view+json": {
       "model_id": "251c0b120ecb4744be075c715267df76",
       "version_major": 2,
       "version_minor": 0
      },
      "text/plain": [
       "Breeding: 0it [00:00, ?it/s]"
      ]
     },
     "metadata": {},
     "output_type": "display_data"
    },
    {
     "data": {
      "application/vnd.jupyter.widget-view+json": {
       "model_id": "c8b4e221e7394859baab6974b07919bf",
       "version_major": 2,
       "version_minor": 0
      },
      "text/plain": [
       "Breeding: 0it [00:00, ?it/s]"
      ]
     },
     "metadata": {},
     "output_type": "display_data"
    },
    {
     "data": {
      "application/vnd.jupyter.widget-view+json": {
       "model_id": "5b214815f6ca4821afb0ba8978263a23",
       "version_major": 2,
       "version_minor": 0
      },
      "text/plain": [
       "Breeding: 0it [00:00, ?it/s]"
      ]
     },
     "metadata": {},
     "output_type": "display_data"
    },
    {
     "data": {
      "application/vnd.jupyter.widget-view+json": {
       "model_id": "86a9727fb67e463688722695513c703f",
       "version_major": 2,
       "version_minor": 0
      },
      "text/plain": [
       "Breeding: 0it [00:00, ?it/s]"
      ]
     },
     "metadata": {},
     "output_type": "display_data"
    },
    {
     "data": {
      "application/vnd.jupyter.widget-view+json": {
       "model_id": "9646a70348244f43a134c930d4a64b68",
       "version_major": 2,
       "version_minor": 0
      },
      "text/plain": [
       "Breeding: 0it [00:00, ?it/s]"
      ]
     },
     "metadata": {},
     "output_type": "display_data"
    },
    {
     "data": {
      "application/vnd.jupyter.widget-view+json": {
       "model_id": "2022284006c64b8288ad0c977e7a4ab6",
       "version_major": 2,
       "version_minor": 0
      },
      "text/plain": [
       "Breeding: 0it [00:00, ?it/s]"
      ]
     },
     "metadata": {},
     "output_type": "display_data"
    },
    {
     "data": {
      "application/vnd.jupyter.widget-view+json": {
       "model_id": "37b4dbc4876f458ba659f0cca0eccb0a",
       "version_major": 2,
       "version_minor": 0
      },
      "text/plain": [
       "Breeding: 0it [00:00, ?it/s]"
      ]
     },
     "metadata": {},
     "output_type": "display_data"
    },
    {
     "data": {
      "application/vnd.jupyter.widget-view+json": {
       "model_id": "d93fbdb06ee6478f8ed21fbccc74795e",
       "version_major": 2,
       "version_minor": 0
      },
      "text/plain": [
       "Breeding: 0it [00:00, ?it/s]"
      ]
     },
     "metadata": {},
     "output_type": "display_data"
    },
    {
     "data": {
      "application/vnd.jupyter.widget-view+json": {
       "model_id": "8ced1bd9cbef44eda43e438b91bacaf3",
       "version_major": 2,
       "version_minor": 0
      },
      "text/plain": [
       "Breeding: 0it [00:00, ?it/s]"
      ]
     },
     "metadata": {},
     "output_type": "display_data"
    },
    {
     "data": {
      "application/vnd.jupyter.widget-view+json": {
       "model_id": "1f2ed662b634427888f73625710ab358",
       "version_major": 2,
       "version_minor": 0
      },
      "text/plain": [
       "Breeding: 0it [00:00, ?it/s]"
      ]
     },
     "metadata": {},
     "output_type": "display_data"
    },
    {
     "data": {
      "application/vnd.jupyter.widget-view+json": {
       "model_id": "4ceff621cea14a1ca991477c4347a842",
       "version_major": 2,
       "version_minor": 0
      },
      "text/plain": [
       "Breeding: 0it [00:00, ?it/s]"
      ]
     },
     "metadata": {},
     "output_type": "display_data"
    },
    {
     "data": {
      "application/vnd.jupyter.widget-view+json": {
       "model_id": "17b12dd285cd4d0f81c41d1e8070f015",
       "version_major": 2,
       "version_minor": 0
      },
      "text/plain": [
       "Breeding: 0it [00:00, ?it/s]"
      ]
     },
     "metadata": {},
     "output_type": "display_data"
    },
    {
     "data": {
      "application/vnd.jupyter.widget-view+json": {
       "model_id": "c9acde4740aa46f4a0a87ad6aa24e550",
       "version_major": 2,
       "version_minor": 0
      },
      "text/plain": [
       "Breeding: 0it [00:00, ?it/s]"
      ]
     },
     "metadata": {},
     "output_type": "display_data"
    },
    {
     "data": {
      "application/vnd.jupyter.widget-view+json": {
       "model_id": "a5cec1398b6c45d0ab06bfdc52e1da0a",
       "version_major": 2,
       "version_minor": 0
      },
      "text/plain": [
       "Breeding: 0it [00:00, ?it/s]"
      ]
     },
     "metadata": {},
     "output_type": "display_data"
    },
    {
     "data": {
      "application/vnd.jupyter.widget-view+json": {
       "model_id": "e53cf902043542e986f2cd60f154cce4",
       "version_major": 2,
       "version_minor": 0
      },
      "text/plain": [
       "Breeding: 0it [00:00, ?it/s]"
      ]
     },
     "metadata": {},
     "output_type": "display_data"
    },
    {
     "data": {
      "application/vnd.jupyter.widget-view+json": {
       "model_id": "27655e07569940eb9d443cbaeba9f6d9",
       "version_major": 2,
       "version_minor": 0
      },
      "text/plain": [
       "Breeding: 0it [00:00, ?it/s]"
      ]
     },
     "metadata": {},
     "output_type": "display_data"
    },
    {
     "data": {
      "application/vnd.jupyter.widget-view+json": {
       "model_id": "5ca7f8739bcb417f9cc0ec222b4b84b4",
       "version_major": 2,
       "version_minor": 0
      },
      "text/plain": [
       "Breeding: 0it [00:00, ?it/s]"
      ]
     },
     "metadata": {},
     "output_type": "display_data"
    },
    {
     "data": {
      "application/vnd.jupyter.widget-view+json": {
       "model_id": "65549a35412e487f959fafebbe38f094",
       "version_major": 2,
       "version_minor": 0
      },
      "text/plain": [
       "Breeding: 0it [00:00, ?it/s]"
      ]
     },
     "metadata": {},
     "output_type": "display_data"
    },
    {
     "data": {
      "application/vnd.jupyter.widget-view+json": {
       "model_id": "1aab2f10a41f4cbdbb9fb8c978394a40",
       "version_major": 2,
       "version_minor": 0
      },
      "text/plain": [
       "Breeding: 0it [00:00, ?it/s]"
      ]
     },
     "metadata": {},
     "output_type": "display_data"
    },
    {
     "data": {
      "application/vnd.jupyter.widget-view+json": {
       "model_id": "d687f0071d9d4d5f93eef4d6531b3fa9",
       "version_major": 2,
       "version_minor": 0
      },
      "text/plain": [
       "Breeding: 0it [00:00, ?it/s]"
      ]
     },
     "metadata": {},
     "output_type": "display_data"
    },
    {
     "data": {
      "application/vnd.jupyter.widget-view+json": {
       "model_id": "ffbc9997b2c14443887955037f93a2fc",
       "version_major": 2,
       "version_minor": 0
      },
      "text/plain": [
       "Breeding: 0it [00:00, ?it/s]"
      ]
     },
     "metadata": {},
     "output_type": "display_data"
    },
    {
     "data": {
      "application/vnd.jupyter.widget-view+json": {
       "model_id": "be20fba481e34e19aae285763f66a7ce",
       "version_major": 2,
       "version_minor": 0
      },
      "text/plain": [
       "Breeding: 0it [00:00, ?it/s]"
      ]
     },
     "metadata": {},
     "output_type": "display_data"
    },
    {
     "data": {
      "application/vnd.jupyter.widget-view+json": {
       "model_id": "4d5ddc0b7386402f8577878f49d296fb",
       "version_major": 2,
       "version_minor": 0
      },
      "text/plain": [
       "Breeding: 0it [00:00, ?it/s]"
      ]
     },
     "metadata": {},
     "output_type": "display_data"
    },
    {
     "data": {
      "application/vnd.jupyter.widget-view+json": {
       "model_id": "cc175f36769246ac82a25c9297f5efc4",
       "version_major": 2,
       "version_minor": 0
      },
      "text/plain": [
       "Breeding: 0it [00:00, ?it/s]"
      ]
     },
     "metadata": {},
     "output_type": "display_data"
    },
    {
     "data": {
      "application/vnd.jupyter.widget-view+json": {
       "model_id": "f0ad8fdadf8347a6958500d08cf09a74",
       "version_major": 2,
       "version_minor": 0
      },
      "text/plain": [
       "Evaluating fitness:   0%|          | 0/10 [00:00<?, ?it/s]"
      ]
     },
     "metadata": {},
     "output_type": "display_data"
    },
    {
     "data": {
      "application/vnd.jupyter.widget-view+json": {
       "model_id": "9a2cc69aa3da4792a604bfd622215136",
       "version_major": 2,
       "version_minor": 0
      },
      "text/plain": [
       "Evaluating fitness:   0%|          | 0/10 [00:00<?, ?it/s]"
      ]
     },
     "metadata": {},
     "output_type": "display_data"
    },
    {
     "data": {
      "application/vnd.jupyter.widget-view+json": {
       "model_id": "c4b5bc7844c14b4698d1273be0416cc2",
       "version_major": 2,
       "version_minor": 0
      },
      "text/plain": [
       "Evaluating fitness:   0%|          | 0/10 [00:00<?, ?it/s]"
      ]
     },
     "metadata": {},
     "output_type": "display_data"
    },
    {
     "data": {
      "application/vnd.jupyter.widget-view+json": {
       "model_id": "4faef7e40f024db4aaa09c4ae3e7a0b1",
       "version_major": 2,
       "version_minor": 0
      },
      "text/plain": [
       "Evaluating fitness:   0%|          | 0/10 [00:00<?, ?it/s]"
      ]
     },
     "metadata": {},
     "output_type": "display_data"
    },
    {
     "data": {
      "application/vnd.jupyter.widget-view+json": {
       "model_id": "66e291f35b3a46a9b1c720ae4539ae34",
       "version_major": 2,
       "version_minor": 0
      },
      "text/plain": [
       "Evaluating fitness:   0%|          | 0/10 [00:00<?, ?it/s]"
      ]
     },
     "metadata": {},
     "output_type": "display_data"
    },
    {
     "data": {
      "application/vnd.jupyter.widget-view+json": {
       "model_id": "b560847fcff54eca80bcd59c4efa857f",
       "version_major": 2,
       "version_minor": 0
      },
      "text/plain": [
       "Evaluating fitness:   0%|          | 0/10 [00:00<?, ?it/s]"
      ]
     },
     "metadata": {},
     "output_type": "display_data"
    },
    {
     "data": {
      "application/vnd.jupyter.widget-view+json": {
       "model_id": "dd3bdfe28fd945d19c7758579c468c41",
       "version_major": 2,
       "version_minor": 0
      },
      "text/plain": [
       "Evaluating fitness:   0%|          | 0/10 [00:00<?, ?it/s]"
      ]
     },
     "metadata": {},
     "output_type": "display_data"
    },
    {
     "data": {
      "application/vnd.jupyter.widget-view+json": {
       "model_id": "e2a553c0003f446492f4a68f01e159fd",
       "version_major": 2,
       "version_minor": 0
      },
      "text/plain": [
       "Evaluating fitness:   0%|          | 0/10 [00:00<?, ?it/s]"
      ]
     },
     "metadata": {},
     "output_type": "display_data"
    },
    {
     "data": {
      "application/vnd.jupyter.widget-view+json": {
       "model_id": "9c0c29f072d8487cbe91bc9c92f7f971",
       "version_major": 2,
       "version_minor": 0
      },
      "text/plain": [
       "Evaluating fitness:   0%|          | 0/10 [00:00<?, ?it/s]"
      ]
     },
     "metadata": {},
     "output_type": "display_data"
    },
    {
     "data": {
      "application/vnd.jupyter.widget-view+json": {
       "model_id": "77ad1e078a3d4d72b08963b1a13625ab",
       "version_major": 2,
       "version_minor": 0
      },
      "text/plain": [
       "Evaluating fitness:   0%|          | 0/10 [00:00<?, ?it/s]"
      ]
     },
     "metadata": {},
     "output_type": "display_data"
    },
    {
     "data": {
      "application/vnd.jupyter.widget-view+json": {
       "model_id": "da7f96b8031b420b936ec9cac10485fb",
       "version_major": 2,
       "version_minor": 0
      },
      "text/plain": [
       "Evaluating fitness:   0%|          | 0/10 [00:00<?, ?it/s]"
      ]
     },
     "metadata": {},
     "output_type": "display_data"
    },
    {
     "data": {
      "application/vnd.jupyter.widget-view+json": {
       "model_id": "e92d0110a89d4db080b2ea12ed2e02a3",
       "version_major": 2,
       "version_minor": 0
      },
      "text/plain": [
       "Evaluating fitness:   0%|          | 0/10 [00:00<?, ?it/s]"
      ]
     },
     "metadata": {},
     "output_type": "display_data"
    },
    {
     "data": {
      "application/vnd.jupyter.widget-view+json": {
       "model_id": "288979eb6be545f9a2e3c3201f08be52",
       "version_major": 2,
       "version_minor": 0
      },
      "text/plain": [
       "Evaluating fitness:   0%|          | 0/10 [00:00<?, ?it/s]"
      ]
     },
     "metadata": {},
     "output_type": "display_data"
    },
    {
     "data": {
      "application/vnd.jupyter.widget-view+json": {
       "model_id": "5790c527f7604efea0f6466c7619b8b8",
       "version_major": 2,
       "version_minor": 0
      },
      "text/plain": [
       "Evaluating fitness:   0%|          | 0/10 [00:00<?, ?it/s]"
      ]
     },
     "metadata": {},
     "output_type": "display_data"
    },
    {
     "data": {
      "application/vnd.jupyter.widget-view+json": {
       "model_id": "3211cb78587d4597b0aa0095817f3f6b",
       "version_major": 2,
       "version_minor": 0
      },
      "text/plain": [
       "Evaluating fitness:   0%|          | 0/10 [00:00<?, ?it/s]"
      ]
     },
     "metadata": {},
     "output_type": "display_data"
    },
    {
     "data": {
      "application/vnd.jupyter.widget-view+json": {
       "model_id": "4cae2522794d4c8bae4410e1e7d24618",
       "version_major": 2,
       "version_minor": 0
      },
      "text/plain": [
       "Evaluating fitness:   0%|          | 0/10 [00:00<?, ?it/s]"
      ]
     },
     "metadata": {},
     "output_type": "display_data"
    },
    {
     "data": {
      "application/vnd.jupyter.widget-view+json": {
       "model_id": "2117cc116adc483b9da0dcd31b737402",
       "version_major": 2,
       "version_minor": 0
      },
      "text/plain": [
       "Evaluating fitness:   0%|          | 0/10 [00:01<?, ?it/s]"
      ]
     },
     "metadata": {},
     "output_type": "display_data"
    },
    {
     "data": {
      "application/vnd.jupyter.widget-view+json": {
       "model_id": "23c482e16e1a42ebb96ab2d3cf3fac32",
       "version_major": 2,
       "version_minor": 0
      },
      "text/plain": [
       "Evaluating fitness:   0%|          | 0/10 [00:00<?, ?it/s]"
      ]
     },
     "metadata": {},
     "output_type": "display_data"
    },
    {
     "data": {
      "application/vnd.jupyter.widget-view+json": {
       "model_id": "86a289805b774252ada7cc3da3cf84fe",
       "version_major": 2,
       "version_minor": 0
      },
      "text/plain": [
       "Evaluating fitness:   0%|          | 0/10 [00:00<?, ?it/s]"
      ]
     },
     "metadata": {},
     "output_type": "display_data"
    },
    {
     "data": {
      "application/vnd.jupyter.widget-view+json": {
       "model_id": "3bd21eb5247d47f897ed2fb550813646",
       "version_major": 2,
       "version_minor": 0
      },
      "text/plain": [
       "Evaluating fitness:   0%|          | 0/10 [00:00<?, ?it/s]"
      ]
     },
     "metadata": {},
     "output_type": "display_data"
    },
    {
     "data": {
      "application/vnd.jupyter.widget-view+json": {
       "model_id": "40223a9e0bd84cd89b602ed2af901086",
       "version_major": 2,
       "version_minor": 0
      },
      "text/plain": [
       "Evaluating fitness:   0%|          | 0/10 [00:00<?, ?it/s]"
      ]
     },
     "metadata": {},
     "output_type": "display_data"
    },
    {
     "data": {
      "application/vnd.jupyter.widget-view+json": {
       "model_id": "64a90a53162f4f33a0fc0d2e8a7fa0b2",
       "version_major": 2,
       "version_minor": 0
      },
      "text/plain": [
       "Evaluating fitness:   0%|          | 0/10 [00:00<?, ?it/s]"
      ]
     },
     "metadata": {},
     "output_type": "display_data"
    },
    {
     "data": {
      "application/vnd.jupyter.widget-view+json": {
       "model_id": "21405c00679a48caa4c30f1fb1994e55",
       "version_major": 2,
       "version_minor": 0
      },
      "text/plain": [
       "Evaluating fitness:   0%|          | 0/10 [00:00<?, ?it/s]"
      ]
     },
     "metadata": {},
     "output_type": "display_data"
    },
    {
     "data": {
      "application/vnd.jupyter.widget-view+json": {
       "model_id": "db640c35918c4f4aaa4b6f8000f1acf7",
       "version_major": 2,
       "version_minor": 0
      },
      "text/plain": [
       "Evaluating fitness:   0%|          | 0/10 [00:00<?, ?it/s]"
      ]
     },
     "metadata": {},
     "output_type": "display_data"
    },
    {
     "data": {
      "application/vnd.jupyter.widget-view+json": {
       "model_id": "4373a36c1aae490d96e50d52d73f4687",
       "version_major": 2,
       "version_minor": 0
      },
      "text/plain": [
       "Evaluating fitness:   0%|          | 0/10 [00:00<?, ?it/s]"
      ]
     },
     "metadata": {},
     "output_type": "display_data"
    },
    {
     "data": {
      "application/vnd.jupyter.widget-view+json": {
       "model_id": "b8ec11302932405396b0b8113cd31bfe",
       "version_major": 2,
       "version_minor": 0
      },
      "text/plain": [
       "Evaluating fitness:   0%|          | 0/10 [00:00<?, ?it/s]"
      ]
     },
     "metadata": {},
     "output_type": "display_data"
    },
    {
     "data": {
      "application/vnd.jupyter.widget-view+json": {
       "model_id": "b601988f8dd744bb9da7575f2ee73f29",
       "version_major": 2,
       "version_minor": 0
      },
      "text/plain": [
       "Evaluating fitness:   0%|          | 0/10 [00:00<?, ?it/s]"
      ]
     },
     "metadata": {},
     "output_type": "display_data"
    },
    {
     "data": {
      "application/vnd.jupyter.widget-view+json": {
       "model_id": "890643d39650491fb6790cd80424ff24",
       "version_major": 2,
       "version_minor": 0
      },
      "text/plain": [
       "Evaluating fitness:   0%|          | 0/10 [00:00<?, ?it/s]"
      ]
     },
     "metadata": {},
     "output_type": "display_data"
    },
    {
     "data": {
      "application/vnd.jupyter.widget-view+json": {
       "model_id": "a560c98ea795427db738ba4d72c7f703",
       "version_major": 2,
       "version_minor": 0
      },
      "text/plain": [
       "Evaluating fitness:   0%|          | 0/10 [00:00<?, ?it/s]"
      ]
     },
     "metadata": {},
     "output_type": "display_data"
    },
    {
     "data": {
      "application/vnd.jupyter.widget-view+json": {
       "model_id": "264a1798dd84498c8fdb657497b877b5",
       "version_major": 2,
       "version_minor": 0
      },
      "text/plain": [
       "Evaluating fitness:   0%|          | 0/10 [00:00<?, ?it/s]"
      ]
     },
     "metadata": {},
     "output_type": "display_data"
    },
    {
     "data": {
      "application/vnd.jupyter.widget-view+json": {
       "model_id": "a0d8538c256342898a335b62416ff929",
       "version_major": 2,
       "version_minor": 0
      },
      "text/plain": [
       "Evaluating fitness:   0%|          | 0/10 [00:00<?, ?it/s]"
      ]
     },
     "metadata": {},
     "output_type": "display_data"
    },
    {
     "data": {
      "application/vnd.jupyter.widget-view+json": {
       "model_id": "fc91a150445547f4bdaa1f451aaa4242",
       "version_major": 2,
       "version_minor": 0
      },
      "text/plain": [
       "Evaluating fitness:   0%|          | 0/10 [00:00<?, ?it/s]"
      ]
     },
     "metadata": {},
     "output_type": "display_data"
    },
    {
     "data": {
      "application/vnd.jupyter.widget-view+json": {
       "model_id": "81a7635bfff7463da6dd75b92fbed4d0",
       "version_major": 2,
       "version_minor": 0
      },
      "text/plain": [
       "Evaluating fitness:   0%|          | 0/10 [00:00<?, ?it/s]"
      ]
     },
     "metadata": {},
     "output_type": "display_data"
    },
    {
     "data": {
      "application/vnd.jupyter.widget-view+json": {
       "model_id": "c663524e5dc542488cf0f40c343e92a2",
       "version_major": 2,
       "version_minor": 0
      },
      "text/plain": [
       "Evaluating fitness:   0%|          | 0/10 [00:00<?, ?it/s]"
      ]
     },
     "metadata": {},
     "output_type": "display_data"
    },
    {
     "data": {
      "application/vnd.jupyter.widget-view+json": {
       "model_id": "76bac0e326ca486aa32040b397f12a07",
       "version_major": 2,
       "version_minor": 0
      },
      "text/plain": [
       "Evaluating fitness:   0%|          | 0/10 [00:00<?, ?it/s]"
      ]
     },
     "metadata": {},
     "output_type": "display_data"
    },
    {
     "data": {
      "application/vnd.jupyter.widget-view+json": {
       "model_id": "76dbfc43042841069c415c4522f6646b",
       "version_major": 2,
       "version_minor": 0
      },
      "text/plain": [
       "Evaluating fitness:   0%|          | 0/10 [00:00<?, ?it/s]"
      ]
     },
     "metadata": {},
     "output_type": "display_data"
    },
    {
     "data": {
      "application/vnd.jupyter.widget-view+json": {
       "model_id": "4bd2f76dc95f4671a44a3edf015b32e6",
       "version_major": 2,
       "version_minor": 0
      },
      "text/plain": [
       "Evaluating fitness:   0%|          | 0/10 [00:00<?, ?it/s]"
      ]
     },
     "metadata": {},
     "output_type": "display_data"
    },
    {
     "data": {
      "application/vnd.jupyter.widget-view+json": {
       "model_id": "93ee3e4e7c7342b492a79fad336e5464",
       "version_major": 2,
       "version_minor": 0
      },
      "text/plain": [
       "Evaluating fitness:   0%|          | 0/10 [00:00<?, ?it/s]"
      ]
     },
     "metadata": {},
     "output_type": "display_data"
    },
    {
     "data": {
      "application/vnd.jupyter.widget-view+json": {
       "model_id": "d0c58320b0ff42219e70ca9c29a0e5b9",
       "version_major": 2,
       "version_minor": 0
      },
      "text/plain": [
       "Evaluating fitness:   0%|          | 0/10 [00:00<?, ?it/s]"
      ]
     },
     "metadata": {},
     "output_type": "display_data"
    },
    {
     "data": {
      "application/vnd.jupyter.widget-view+json": {
       "model_id": "91b6c37602f9479bad4b66b2ab24ecf7",
       "version_major": 2,
       "version_minor": 0
      },
      "text/plain": [
       "Evaluating fitness:   0%|          | 0/10 [00:00<?, ?it/s]"
      ]
     },
     "metadata": {},
     "output_type": "display_data"
    },
    {
     "data": {
      "application/vnd.jupyter.widget-view+json": {
       "model_id": "e7590d0988df4c67871173ab3e39afb9",
       "version_major": 2,
       "version_minor": 0
      },
      "text/plain": [
       "Evaluating fitness:   0%|          | 0/10 [00:00<?, ?it/s]"
      ]
     },
     "metadata": {},
     "output_type": "display_data"
    },
    {
     "data": {
      "application/vnd.jupyter.widget-view+json": {
       "model_id": "3a5833e1f0094aa6ba71ed35e9f7e30d",
       "version_major": 2,
       "version_minor": 0
      },
      "text/plain": [
       "Evaluating fitness:   0%|          | 0/10 [00:00<?, ?it/s]"
      ]
     },
     "metadata": {},
     "output_type": "display_data"
    },
    {
     "data": {
      "application/vnd.jupyter.widget-view+json": {
       "model_id": "3484c91e1342477bba621fd8f57c754a",
       "version_major": 2,
       "version_minor": 0
      },
      "text/plain": [
       "Evaluating fitness:   0%|          | 0/10 [00:00<?, ?it/s]"
      ]
     },
     "metadata": {},
     "output_type": "display_data"
    },
    {
     "data": {
      "application/vnd.jupyter.widget-view+json": {
       "model_id": "2776b6425dca4db1a554f03991e0db36",
       "version_major": 2,
       "version_minor": 0
      },
      "text/plain": [
       "Evaluating fitness:   0%|          | 0/10 [00:00<?, ?it/s]"
      ]
     },
     "metadata": {},
     "output_type": "display_data"
    },
    {
     "data": {
      "application/vnd.jupyter.widget-view+json": {
       "model_id": "2a9721491bea44abb5e5b39c7048d18e",
       "version_major": 2,
       "version_minor": 0
      },
      "text/plain": [
       "Evaluating fitness:   0%|          | 0/10 [00:00<?, ?it/s]"
      ]
     },
     "metadata": {},
     "output_type": "display_data"
    },
    {
     "data": {
      "application/vnd.jupyter.widget-view+json": {
       "model_id": "7db19fcaae214a148d84ff20ef1bbc0c",
       "version_major": 2,
       "version_minor": 0
      },
      "text/plain": [
       "Evaluating fitness:   0%|          | 0/10 [00:00<?, ?it/s]"
      ]
     },
     "metadata": {},
     "output_type": "display_data"
    },
    {
     "data": {
      "application/vnd.jupyter.widget-view+json": {
       "model_id": "3a6431dc94dc4af7bf45ada46bc2622e",
       "version_major": 2,
       "version_minor": 0
      },
      "text/plain": [
       "Evaluating fitness:   0%|          | 0/10 [00:00<?, ?it/s]"
      ]
     },
     "metadata": {},
     "output_type": "display_data"
    },
    {
     "data": {
      "application/vnd.jupyter.widget-view+json": {
       "model_id": "ebab649188ae49b0ab91e66332027f4a",
       "version_major": 2,
       "version_minor": 0
      },
      "text/plain": [
       "Evaluating fitness:   0%|          | 0/10 [00:00<?, ?it/s]"
      ]
     },
     "metadata": {},
     "output_type": "display_data"
    },
    {
     "data": {
      "application/vnd.jupyter.widget-view+json": {
       "model_id": "45a0aa44eabb4734bb92928b8c68ab57",
       "version_major": 2,
       "version_minor": 0
      },
      "text/plain": [
       "Evaluating fitness:   0%|          | 0/10 [00:00<?, ?it/s]"
      ]
     },
     "metadata": {},
     "output_type": "display_data"
    },
    {
     "data": {
      "application/vnd.jupyter.widget-view+json": {
       "model_id": "696d9205a52e4bb79ff7e941e97b7ab7",
       "version_major": 2,
       "version_minor": 0
      },
      "text/plain": [
       "Evaluating fitness:   0%|          | 0/10 [00:00<?, ?it/s]"
      ]
     },
     "metadata": {},
     "output_type": "display_data"
    },
    {
     "data": {
      "application/vnd.jupyter.widget-view+json": {
       "model_id": "27da84c0a69846d7b5286def86f3011d",
       "version_major": 2,
       "version_minor": 0
      },
      "text/plain": [
       "Breeding: 0it [00:00, ?it/s]"
      ]
     },
     "metadata": {},
     "output_type": "display_data"
    },
    {
     "data": {
      "application/vnd.jupyter.widget-view+json": {
       "model_id": "e82b57ae011048999baa6f2309f0c17d",
       "version_major": 2,
       "version_minor": 0
      },
      "text/plain": [
       "Breeding: 0it [00:00, ?it/s]"
      ]
     },
     "metadata": {},
     "output_type": "display_data"
    },
    {
     "data": {
      "application/vnd.jupyter.widget-view+json": {
       "model_id": "c6bcaf77e90a4835a50d5e8c69fc8da3",
       "version_major": 2,
       "version_minor": 0
      },
      "text/plain": [
       "Breeding: 0it [00:00, ?it/s]"
      ]
     },
     "metadata": {},
     "output_type": "display_data"
    },
    {
     "data": {
      "application/vnd.jupyter.widget-view+json": {
       "model_id": "57846487c0c44a67b444cc4f25062a31",
       "version_major": 2,
       "version_minor": 0
      },
      "text/plain": [
       "Breeding: 0it [00:00, ?it/s]"
      ]
     },
     "metadata": {},
     "output_type": "display_data"
    },
    {
     "data": {
      "application/vnd.jupyter.widget-view+json": {
       "model_id": "06b9b999ef0d40d0b871b7aae612cd0a",
       "version_major": 2,
       "version_minor": 0
      },
      "text/plain": [
       "Breeding: 0it [00:00, ?it/s]"
      ]
     },
     "metadata": {},
     "output_type": "display_data"
    },
    {
     "data": {
      "application/vnd.jupyter.widget-view+json": {
       "model_id": "0a42120511a8406cb466ef9e37eb2cc4",
       "version_major": 2,
       "version_minor": 0
      },
      "text/plain": [
       "Breeding: 0it [00:00, ?it/s]"
      ]
     },
     "metadata": {},
     "output_type": "display_data"
    },
    {
     "data": {
      "application/vnd.jupyter.widget-view+json": {
       "model_id": "343efc8510624c1aaefd794318c8d57e",
       "version_major": 2,
       "version_minor": 0
      },
      "text/plain": [
       "Breeding: 0it [00:00, ?it/s]"
      ]
     },
     "metadata": {},
     "output_type": "display_data"
    },
    {
     "data": {
      "application/vnd.jupyter.widget-view+json": {
       "model_id": "b62968ad58aa497d806e8ede3de7111b",
       "version_major": 2,
       "version_minor": 0
      },
      "text/plain": [
       "Breeding: 0it [00:00, ?it/s]"
      ]
     },
     "metadata": {},
     "output_type": "display_data"
    },
    {
     "data": {
      "application/vnd.jupyter.widget-view+json": {
       "model_id": "51a9aa1943cc42b695260c2267bbdbfd",
       "version_major": 2,
       "version_minor": 0
      },
      "text/plain": [
       "Breeding: 0it [00:00, ?it/s]"
      ]
     },
     "metadata": {},
     "output_type": "display_data"
    },
    {
     "data": {
      "application/vnd.jupyter.widget-view+json": {
       "model_id": "cf820353ecd34f9a980e28e9e0256b73",
       "version_major": 2,
       "version_minor": 0
      },
      "text/plain": [
       "Breeding: 0it [00:00, ?it/s]"
      ]
     },
     "metadata": {},
     "output_type": "display_data"
    },
    {
     "data": {
      "application/vnd.jupyter.widget-view+json": {
       "model_id": "f2bebd8c342444cfbc5149c3ed4991e0",
       "version_major": 2,
       "version_minor": 0
      },
      "text/plain": [
       "Breeding: 0it [00:00, ?it/s]"
      ]
     },
     "metadata": {},
     "output_type": "display_data"
    },
    {
     "data": {
      "application/vnd.jupyter.widget-view+json": {
       "model_id": "8f02b906df4e4510b2e27f2dfc4ef4ba",
       "version_major": 2,
       "version_minor": 0
      },
      "text/plain": [
       "Breeding: 0it [00:00, ?it/s]"
      ]
     },
     "metadata": {},
     "output_type": "display_data"
    },
    {
     "data": {
      "application/vnd.jupyter.widget-view+json": {
       "model_id": "175ca190ea2a46b5ab1572a2c230a374",
       "version_major": 2,
       "version_minor": 0
      },
      "text/plain": [
       "Breeding: 0it [00:00, ?it/s]"
      ]
     },
     "metadata": {},
     "output_type": "display_data"
    },
    {
     "data": {
      "application/vnd.jupyter.widget-view+json": {
       "model_id": "b4f7bfa0ae874c5b91c6c586e97f5b1d",
       "version_major": 2,
       "version_minor": 0
      },
      "text/plain": [
       "Breeding: 0it [00:00, ?it/s]"
      ]
     },
     "metadata": {},
     "output_type": "display_data"
    },
    {
     "data": {
      "application/vnd.jupyter.widget-view+json": {
       "model_id": "0318d63bd8734a08a9c7f5eb8f1acfb0",
       "version_major": 2,
       "version_minor": 0
      },
      "text/plain": [
       "Breeding: 0it [00:00, ?it/s]"
      ]
     },
     "metadata": {},
     "output_type": "display_data"
    },
    {
     "data": {
      "application/vnd.jupyter.widget-view+json": {
       "model_id": "c9e036b728744acd8a9a046075d218c4",
       "version_major": 2,
       "version_minor": 0
      },
      "text/plain": [
       "Breeding: 0it [00:00, ?it/s]"
      ]
     },
     "metadata": {},
     "output_type": "display_data"
    },
    {
     "data": {
      "application/vnd.jupyter.widget-view+json": {
       "model_id": "7dd837ae57da489aa52a04f046803c1c",
       "version_major": 2,
       "version_minor": 0
      },
      "text/plain": [
       "Breeding: 0it [00:00, ?it/s]"
      ]
     },
     "metadata": {},
     "output_type": "display_data"
    },
    {
     "data": {
      "application/vnd.jupyter.widget-view+json": {
       "model_id": "52f5bb40fc094ad1b6f5d2678ee1a50e",
       "version_major": 2,
       "version_minor": 0
      },
      "text/plain": [
       "Breeding: 0it [00:00, ?it/s]"
      ]
     },
     "metadata": {},
     "output_type": "display_data"
    },
    {
     "data": {
      "application/vnd.jupyter.widget-view+json": {
       "model_id": "a6669703061448ceaaecf0b8a785da17",
       "version_major": 2,
       "version_minor": 0
      },
      "text/plain": [
       "Breeding: 0it [00:00, ?it/s]"
      ]
     },
     "metadata": {},
     "output_type": "display_data"
    },
    {
     "data": {
      "application/vnd.jupyter.widget-view+json": {
       "model_id": "7a70663e79304ff69ae52a42ae6aff3b",
       "version_major": 2,
       "version_minor": 0
      },
      "text/plain": [
       "Breeding: 0it [00:00, ?it/s]"
      ]
     },
     "metadata": {},
     "output_type": "display_data"
    },
    {
     "data": {
      "application/vnd.jupyter.widget-view+json": {
       "model_id": "a8c7ee22ab0c4cac953bd54368d0e084",
       "version_major": 2,
       "version_minor": 0
      },
      "text/plain": [
       "Breeding: 0it [00:00, ?it/s]"
      ]
     },
     "metadata": {},
     "output_type": "display_data"
    },
    {
     "data": {
      "application/vnd.jupyter.widget-view+json": {
       "model_id": "955a7481f94f41bfa32d02715f4950cb",
       "version_major": 2,
       "version_minor": 0
      },
      "text/plain": [
       "Breeding: 0it [00:00, ?it/s]"
      ]
     },
     "metadata": {},
     "output_type": "display_data"
    },
    {
     "data": {
      "application/vnd.jupyter.widget-view+json": {
       "model_id": "785de01d878346e2945eeda6870a0578",
       "version_major": 2,
       "version_minor": 0
      },
      "text/plain": [
       "Breeding: 0it [00:00, ?it/s]"
      ]
     },
     "metadata": {},
     "output_type": "display_data"
    },
    {
     "data": {
      "application/vnd.jupyter.widget-view+json": {
       "model_id": "756178a6fbfa4faea51d5b6ef0137aec",
       "version_major": 2,
       "version_minor": 0
      },
      "text/plain": [
       "Breeding: 0it [00:00, ?it/s]"
      ]
     },
     "metadata": {},
     "output_type": "display_data"
    },
    {
     "data": {
      "application/vnd.jupyter.widget-view+json": {
       "model_id": "486eea5c65484626bc6455ce50809666",
       "version_major": 2,
       "version_minor": 0
      },
      "text/plain": [
       "Breeding: 0it [00:00, ?it/s]"
      ]
     },
     "metadata": {},
     "output_type": "display_data"
    },
    {
     "data": {
      "application/vnd.jupyter.widget-view+json": {
       "model_id": "952ddc2456a14da8b5529548429192da",
       "version_major": 2,
       "version_minor": 0
      },
      "text/plain": [
       "Breeding: 0it [00:00, ?it/s]"
      ]
     },
     "metadata": {},
     "output_type": "display_data"
    },
    {
     "data": {
      "application/vnd.jupyter.widget-view+json": {
       "model_id": "e48e8420ac654b09be382fcab2af3016",
       "version_major": 2,
       "version_minor": 0
      },
      "text/plain": [
       "Breeding: 0it [00:00, ?it/s]"
      ]
     },
     "metadata": {},
     "output_type": "display_data"
    },
    {
     "data": {
      "application/vnd.jupyter.widget-view+json": {
       "model_id": "dddcdd21e6e44fab97efb8b316c8c129",
       "version_major": 2,
       "version_minor": 0
      },
      "text/plain": [
       "Breeding: 0it [00:00, ?it/s]"
      ]
     },
     "metadata": {},
     "output_type": "display_data"
    },
    {
     "data": {
      "application/vnd.jupyter.widget-view+json": {
       "model_id": "712664f558ce4e0d89cd372efb93c8d5",
       "version_major": 2,
       "version_minor": 0
      },
      "text/plain": [
       "Breeding: 0it [00:00, ?it/s]"
      ]
     },
     "metadata": {},
     "output_type": "display_data"
    },
    {
     "data": {
      "application/vnd.jupyter.widget-view+json": {
       "model_id": "1180d3f7e7ec40a98aa0cf5dd11be4ad",
       "version_major": 2,
       "version_minor": 0
      },
      "text/plain": [
       "Breeding: 0it [00:00, ?it/s]"
      ]
     },
     "metadata": {},
     "output_type": "display_data"
    },
    {
     "data": {
      "application/vnd.jupyter.widget-view+json": {
       "model_id": "fd818e129c6a4f61899f285c89217486",
       "version_major": 2,
       "version_minor": 0
      },
      "text/plain": [
       "Breeding: 0it [00:00, ?it/s]"
      ]
     },
     "metadata": {},
     "output_type": "display_data"
    },
    {
     "data": {
      "application/vnd.jupyter.widget-view+json": {
       "model_id": "62af6b2ecbde478bb2240cb30aad7c4b",
       "version_major": 2,
       "version_minor": 0
      },
      "text/plain": [
       "Breeding: 0it [00:00, ?it/s]"
      ]
     },
     "metadata": {},
     "output_type": "display_data"
    },
    {
     "data": {
      "application/vnd.jupyter.widget-view+json": {
       "model_id": "71c3b8de699d4bf893344cb041c21861",
       "version_major": 2,
       "version_minor": 0
      },
      "text/plain": [
       "Breeding: 0it [00:00, ?it/s]"
      ]
     },
     "metadata": {},
     "output_type": "display_data"
    },
    {
     "data": {
      "application/vnd.jupyter.widget-view+json": {
       "model_id": "bae58beef31d40ebb4d03b52647e9dcd",
       "version_major": 2,
       "version_minor": 0
      },
      "text/plain": [
       "Breeding: 0it [00:00, ?it/s]"
      ]
     },
     "metadata": {},
     "output_type": "display_data"
    },
    {
     "data": {
      "application/vnd.jupyter.widget-view+json": {
       "model_id": "889fe4625dab49ffaf612900119e46c4",
       "version_major": 2,
       "version_minor": 0
      },
      "text/plain": [
       "Breeding: 0it [00:00, ?it/s]"
      ]
     },
     "metadata": {},
     "output_type": "display_data"
    },
    {
     "data": {
      "application/vnd.jupyter.widget-view+json": {
       "model_id": "7a8b4bd0c617442cafd2f3ff7e610e74",
       "version_major": 2,
       "version_minor": 0
      },
      "text/plain": [
       "Breeding: 0it [00:00, ?it/s]"
      ]
     },
     "metadata": {},
     "output_type": "display_data"
    },
    {
     "data": {
      "application/vnd.jupyter.widget-view+json": {
       "model_id": "b0c81fc5586c4113b552d9d7d014abb4",
       "version_major": 2,
       "version_minor": 0
      },
      "text/plain": [
       "Breeding: 0it [00:00, ?it/s]"
      ]
     },
     "metadata": {},
     "output_type": "display_data"
    },
    {
     "data": {
      "application/vnd.jupyter.widget-view+json": {
       "model_id": "5e1935ae445c49ae9d40cba7c752956e",
       "version_major": 2,
       "version_minor": 0
      },
      "text/plain": [
       "Breeding: 0it [00:00, ?it/s]"
      ]
     },
     "metadata": {},
     "output_type": "display_data"
    },
    {
     "data": {
      "application/vnd.jupyter.widget-view+json": {
       "model_id": "0a993e984ef043358b876a9b915f57d3",
       "version_major": 2,
       "version_minor": 0
      },
      "text/plain": [
       "Breeding: 0it [00:00, ?it/s]"
      ]
     },
     "metadata": {},
     "output_type": "display_data"
    },
    {
     "data": {
      "application/vnd.jupyter.widget-view+json": {
       "model_id": "77c14d1cfdce4aad810c3ae78afdeec5",
       "version_major": 2,
       "version_minor": 0
      },
      "text/plain": [
       "Breeding: 0it [00:00, ?it/s]"
      ]
     },
     "metadata": {},
     "output_type": "display_data"
    },
    {
     "data": {
      "application/vnd.jupyter.widget-view+json": {
       "model_id": "ceadcb41bb054b39a0312ecc6b9e56c1",
       "version_major": 2,
       "version_minor": 0
      },
      "text/plain": [
       "Breeding: 0it [00:00, ?it/s]"
      ]
     },
     "metadata": {},
     "output_type": "display_data"
    },
    {
     "data": {
      "application/vnd.jupyter.widget-view+json": {
       "model_id": "efceb7e8a9864dde91a0c3cb88a44f5c",
       "version_major": 2,
       "version_minor": 0
      },
      "text/plain": [
       "Breeding: 0it [00:00, ?it/s]"
      ]
     },
     "metadata": {},
     "output_type": "display_data"
    },
    {
     "data": {
      "application/vnd.jupyter.widget-view+json": {
       "model_id": "b181c4554cd844d0ae8cf5833e6be73e",
       "version_major": 2,
       "version_minor": 0
      },
      "text/plain": [
       "Breeding: 0it [00:00, ?it/s]"
      ]
     },
     "metadata": {},
     "output_type": "display_data"
    },
    {
     "data": {
      "application/vnd.jupyter.widget-view+json": {
       "model_id": "bd74d615c23e4d0cacc654c66626cb14",
       "version_major": 2,
       "version_minor": 0
      },
      "text/plain": [
       "Breeding: 0it [00:00, ?it/s]"
      ]
     },
     "metadata": {},
     "output_type": "display_data"
    },
    {
     "data": {
      "application/vnd.jupyter.widget-view+json": {
       "model_id": "be1fdff41ca04ff8b6e9d9546f19e5be",
       "version_major": 2,
       "version_minor": 0
      },
      "text/plain": [
       "Breeding: 0it [00:00, ?it/s]"
      ]
     },
     "metadata": {},
     "output_type": "display_data"
    },
    {
     "data": {
      "application/vnd.jupyter.widget-view+json": {
       "model_id": "c26b77d5ee1c47f8948ea29ab73109b6",
       "version_major": 2,
       "version_minor": 0
      },
      "text/plain": [
       "Breeding: 0it [00:00, ?it/s]"
      ]
     },
     "metadata": {},
     "output_type": "display_data"
    },
    {
     "data": {
      "application/vnd.jupyter.widget-view+json": {
       "model_id": "ccdfeb3429c4479dbad9d5355269b5b9",
       "version_major": 2,
       "version_minor": 0
      },
      "text/plain": [
       "Breeding: 0it [00:00, ?it/s]"
      ]
     },
     "metadata": {},
     "output_type": "display_data"
    },
    {
     "data": {
      "application/vnd.jupyter.widget-view+json": {
       "model_id": "c5e8388d08174cd9a616566c50eba8c9",
       "version_major": 2,
       "version_minor": 0
      },
      "text/plain": [
       "Breeding: 0it [00:00, ?it/s]"
      ]
     },
     "metadata": {},
     "output_type": "display_data"
    },
    {
     "data": {
      "application/vnd.jupyter.widget-view+json": {
       "model_id": "e8855a0062c84cc5a369af414053dba2",
       "version_major": 2,
       "version_minor": 0
      },
      "text/plain": [
       "Breeding: 0it [00:00, ?it/s]"
      ]
     },
     "metadata": {},
     "output_type": "display_data"
    },
    {
     "data": {
      "application/vnd.jupyter.widget-view+json": {
       "model_id": "1bcfb22b29414e79a5a26aaca545053e",
       "version_major": 2,
       "version_minor": 0
      },
      "text/plain": [
       "Breeding: 0it [00:00, ?it/s]"
      ]
     },
     "metadata": {},
     "output_type": "display_data"
    },
    {
     "data": {
      "application/vnd.jupyter.widget-view+json": {
       "model_id": "5e5520155e3e43029093cbbd5b50bd53",
       "version_major": 2,
       "version_minor": 0
      },
      "text/plain": [
       "Breeding: 0it [00:00, ?it/s]"
      ]
     },
     "metadata": {},
     "output_type": "display_data"
    },
    {
     "data": {
      "application/vnd.jupyter.widget-view+json": {
       "model_id": "049c806b0de54331b8b3c6c8a53b366f",
       "version_major": 2,
       "version_minor": 0
      },
      "text/plain": [
       "Evaluating fitness:   0%|          | 0/10 [00:00<?, ?it/s]"
      ]
     },
     "metadata": {},
     "output_type": "display_data"
    },
    {
     "data": {
      "application/vnd.jupyter.widget-view+json": {
       "model_id": "aedec0b1026744529417b11fe3e6d515",
       "version_major": 2,
       "version_minor": 0
      },
      "text/plain": [
       "Evaluating fitness:   0%|          | 0/10 [00:00<?, ?it/s]"
      ]
     },
     "metadata": {},
     "output_type": "display_data"
    },
    {
     "data": {
      "application/vnd.jupyter.widget-view+json": {
       "model_id": "8c7885d515444c7d8a845c63b2245854",
       "version_major": 2,
       "version_minor": 0
      },
      "text/plain": [
       "Evaluating fitness:   0%|          | 0/10 [00:00<?, ?it/s]"
      ]
     },
     "metadata": {},
     "output_type": "display_data"
    },
    {
     "data": {
      "application/vnd.jupyter.widget-view+json": {
       "model_id": "3d387d9fc8634271b86536e25e5ae242",
       "version_major": 2,
       "version_minor": 0
      },
      "text/plain": [
       "Evaluating fitness:   0%|          | 0/10 [00:00<?, ?it/s]"
      ]
     },
     "metadata": {},
     "output_type": "display_data"
    },
    {
     "data": {
      "application/vnd.jupyter.widget-view+json": {
       "model_id": "ba9c51b16a12476b83067b66ad3d46a8",
       "version_major": 2,
       "version_minor": 0
      },
      "text/plain": [
       "Evaluating fitness:   0%|          | 0/10 [00:00<?, ?it/s]"
      ]
     },
     "metadata": {},
     "output_type": "display_data"
    },
    {
     "data": {
      "application/vnd.jupyter.widget-view+json": {
       "model_id": "969a595ac3354806b32a302aea8b8d2d",
       "version_major": 2,
       "version_minor": 0
      },
      "text/plain": [
       "Evaluating fitness:   0%|          | 0/10 [00:00<?, ?it/s]"
      ]
     },
     "metadata": {},
     "output_type": "display_data"
    },
    {
     "data": {
      "application/vnd.jupyter.widget-view+json": {
       "model_id": "914bc81632f74207a185c630d2b54990",
       "version_major": 2,
       "version_minor": 0
      },
      "text/plain": [
       "Evaluating fitness:   0%|          | 0/10 [00:00<?, ?it/s]"
      ]
     },
     "metadata": {},
     "output_type": "display_data"
    },
    {
     "data": {
      "application/vnd.jupyter.widget-view+json": {
       "model_id": "ac1cf8190c4c450eb7c1152409b43574",
       "version_major": 2,
       "version_minor": 0
      },
      "text/plain": [
       "Evaluating fitness:   0%|          | 0/10 [00:00<?, ?it/s]"
      ]
     },
     "metadata": {},
     "output_type": "display_data"
    },
    {
     "data": {
      "application/vnd.jupyter.widget-view+json": {
       "model_id": "0fd6aa2eecc54cf78735836be0b7da95",
       "version_major": 2,
       "version_minor": 0
      },
      "text/plain": [
       "Evaluating fitness:   0%|          | 0/10 [00:00<?, ?it/s]"
      ]
     },
     "metadata": {},
     "output_type": "display_data"
    },
    {
     "data": {
      "application/vnd.jupyter.widget-view+json": {
       "model_id": "2b610f77e6224aa6acc7968949629895",
       "version_major": 2,
       "version_minor": 0
      },
      "text/plain": [
       "Evaluating fitness:   0%|          | 0/10 [00:00<?, ?it/s]"
      ]
     },
     "metadata": {},
     "output_type": "display_data"
    },
    {
     "data": {
      "application/vnd.jupyter.widget-view+json": {
       "model_id": "5b841c0d701b48cbbcc978b88cde3c9a",
       "version_major": 2,
       "version_minor": 0
      },
      "text/plain": [
       "Evaluating fitness:   0%|          | 0/10 [00:00<?, ?it/s]"
      ]
     },
     "metadata": {},
     "output_type": "display_data"
    },
    {
     "data": {
      "application/vnd.jupyter.widget-view+json": {
       "model_id": "9ca7ee1a3c454ad1a28b7f82e8e7a4e0",
       "version_major": 2,
       "version_minor": 0
      },
      "text/plain": [
       "Evaluating fitness:   0%|          | 0/10 [00:00<?, ?it/s]"
      ]
     },
     "metadata": {},
     "output_type": "display_data"
    },
    {
     "data": {
      "application/vnd.jupyter.widget-view+json": {
       "model_id": "25bb6cfcf2404015acbee50a2600b38f",
       "version_major": 2,
       "version_minor": 0
      },
      "text/plain": [
       "Evaluating fitness:   0%|          | 0/10 [00:00<?, ?it/s]"
      ]
     },
     "metadata": {},
     "output_type": "display_data"
    },
    {
     "data": {
      "application/vnd.jupyter.widget-view+json": {
       "model_id": "a16c3737a73f40ccacbabd4c93970469",
       "version_major": 2,
       "version_minor": 0
      },
      "text/plain": [
       "Evaluating fitness:   0%|          | 0/10 [00:00<?, ?it/s]"
      ]
     },
     "metadata": {},
     "output_type": "display_data"
    },
    {
     "data": {
      "application/vnd.jupyter.widget-view+json": {
       "model_id": "62e04bdebb284deba9fa365eaf88cc24",
       "version_major": 2,
       "version_minor": 0
      },
      "text/plain": [
       "Evaluating fitness:   0%|          | 0/10 [00:00<?, ?it/s]"
      ]
     },
     "metadata": {},
     "output_type": "display_data"
    },
    {
     "data": {
      "application/vnd.jupyter.widget-view+json": {
       "model_id": "decbf1e4838b4990b88f31e2689d03d0",
       "version_major": 2,
       "version_minor": 0
      },
      "text/plain": [
       "Evaluating fitness:   0%|          | 0/10 [00:00<?, ?it/s]"
      ]
     },
     "metadata": {},
     "output_type": "display_data"
    },
    {
     "data": {
      "application/vnd.jupyter.widget-view+json": {
       "model_id": "6648a8b6f6cd489eb2004b2a74f708b5",
       "version_major": 2,
       "version_minor": 0
      },
      "text/plain": [
       "Evaluating fitness:   0%|          | 0/10 [00:00<?, ?it/s]"
      ]
     },
     "metadata": {},
     "output_type": "display_data"
    },
    {
     "data": {
      "application/vnd.jupyter.widget-view+json": {
       "model_id": "505b469cf9b24be09752ced0d54ffd62",
       "version_major": 2,
       "version_minor": 0
      },
      "text/plain": [
       "Evaluating fitness:   0%|          | 0/10 [00:00<?, ?it/s]"
      ]
     },
     "metadata": {},
     "output_type": "display_data"
    },
    {
     "data": {
      "application/vnd.jupyter.widget-view+json": {
       "model_id": "3f0b3d060d86448f826222ac76360ee1",
       "version_major": 2,
       "version_minor": 0
      },
      "text/plain": [
       "Evaluating fitness:   0%|          | 0/10 [00:00<?, ?it/s]"
      ]
     },
     "metadata": {},
     "output_type": "display_data"
    },
    {
     "data": {
      "application/vnd.jupyter.widget-view+json": {
       "model_id": "675f4cca0b184e919fd598081a916a31",
       "version_major": 2,
       "version_minor": 0
      },
      "text/plain": [
       "Evaluating fitness:   0%|          | 0/10 [00:00<?, ?it/s]"
      ]
     },
     "metadata": {},
     "output_type": "display_data"
    },
    {
     "data": {
      "application/vnd.jupyter.widget-view+json": {
       "model_id": "8ad88c2e946b4680b0e5379bcb23650c",
       "version_major": 2,
       "version_minor": 0
      },
      "text/plain": [
       "Evaluating fitness:   0%|          | 0/10 [00:00<?, ?it/s]"
      ]
     },
     "metadata": {},
     "output_type": "display_data"
    },
    {
     "data": {
      "application/vnd.jupyter.widget-view+json": {
       "model_id": "5e7f73f26b9947ca8c947597ac3013e3",
       "version_major": 2,
       "version_minor": 0
      },
      "text/plain": [
       "Evaluating fitness:   0%|          | 0/10 [00:00<?, ?it/s]"
      ]
     },
     "metadata": {},
     "output_type": "display_data"
    },
    {
     "data": {
      "application/vnd.jupyter.widget-view+json": {
       "model_id": "7043f8c518024ca7af558f097e3e181b",
       "version_major": 2,
       "version_minor": 0
      },
      "text/plain": [
       "Evaluating fitness:   0%|          | 0/10 [00:00<?, ?it/s]"
      ]
     },
     "metadata": {},
     "output_type": "display_data"
    },
    {
     "data": {
      "application/vnd.jupyter.widget-view+json": {
       "model_id": "71a6c31d2e1245ec852d8ef0646153a1",
       "version_major": 2,
       "version_minor": 0
      },
      "text/plain": [
       "Evaluating fitness:   0%|          | 0/10 [00:00<?, ?it/s]"
      ]
     },
     "metadata": {},
     "output_type": "display_data"
    },
    {
     "data": {
      "application/vnd.jupyter.widget-view+json": {
       "model_id": "35688dffe1e74ca895a51da35e57ae3b",
       "version_major": 2,
       "version_minor": 0
      },
      "text/plain": [
       "Evaluating fitness:   0%|          | 0/10 [00:00<?, ?it/s]"
      ]
     },
     "metadata": {},
     "output_type": "display_data"
    },
    {
     "data": {
      "application/vnd.jupyter.widget-view+json": {
       "model_id": "99d9afbb8ac74b51849e726e960f9b3a",
       "version_major": 2,
       "version_minor": 0
      },
      "text/plain": [
       "Evaluating fitness:   0%|          | 0/10 [00:00<?, ?it/s]"
      ]
     },
     "metadata": {},
     "output_type": "display_data"
    },
    {
     "data": {
      "application/vnd.jupyter.widget-view+json": {
       "model_id": "4b3cf90a3b1041d19769aa78f352539f",
       "version_major": 2,
       "version_minor": 0
      },
      "text/plain": [
       "Evaluating fitness:   0%|          | 0/10 [00:00<?, ?it/s]"
      ]
     },
     "metadata": {},
     "output_type": "display_data"
    },
    {
     "data": {
      "application/vnd.jupyter.widget-view+json": {
       "model_id": "26c487bb67014d61b54136f461947a1c",
       "version_major": 2,
       "version_minor": 0
      },
      "text/plain": [
       "Evaluating fitness:   0%|          | 0/10 [00:00<?, ?it/s]"
      ]
     },
     "metadata": {},
     "output_type": "display_data"
    },
    {
     "data": {
      "application/vnd.jupyter.widget-view+json": {
       "model_id": "5bb5c111dec346e89a0ed4ebdf569c3f",
       "version_major": 2,
       "version_minor": 0
      },
      "text/plain": [
       "Evaluating fitness:   0%|          | 0/10 [00:00<?, ?it/s]"
      ]
     },
     "metadata": {},
     "output_type": "display_data"
    },
    {
     "data": {
      "application/vnd.jupyter.widget-view+json": {
       "model_id": "07404a80106b406b9957e5622ac530a4",
       "version_major": 2,
       "version_minor": 0
      },
      "text/plain": [
       "Evaluating fitness:   0%|          | 0/10 [00:00<?, ?it/s]"
      ]
     },
     "metadata": {},
     "output_type": "display_data"
    },
    {
     "data": {
      "application/vnd.jupyter.widget-view+json": {
       "model_id": "1b9b1b815b164236852c5704decfc175",
       "version_major": 2,
       "version_minor": 0
      },
      "text/plain": [
       "Evaluating fitness:   0%|          | 0/10 [00:00<?, ?it/s]"
      ]
     },
     "metadata": {},
     "output_type": "display_data"
    },
    {
     "data": {
      "application/vnd.jupyter.widget-view+json": {
       "model_id": "1951519c3d5a494394f97e8a4c1541bb",
       "version_major": 2,
       "version_minor": 0
      },
      "text/plain": [
       "Evaluating fitness:   0%|          | 0/10 [00:00<?, ?it/s]"
      ]
     },
     "metadata": {},
     "output_type": "display_data"
    },
    {
     "data": {
      "application/vnd.jupyter.widget-view+json": {
       "model_id": "acfb8034e37b4312922736f34b2827c3",
       "version_major": 2,
       "version_minor": 0
      },
      "text/plain": [
       "Evaluating fitness:   0%|          | 0/10 [00:00<?, ?it/s]"
      ]
     },
     "metadata": {},
     "output_type": "display_data"
    },
    {
     "data": {
      "application/vnd.jupyter.widget-view+json": {
       "model_id": "2d058735fbae414e9266051057736c7d",
       "version_major": 2,
       "version_minor": 0
      },
      "text/plain": [
       "Evaluating fitness:   0%|          | 0/10 [00:00<?, ?it/s]"
      ]
     },
     "metadata": {},
     "output_type": "display_data"
    },
    {
     "data": {
      "application/vnd.jupyter.widget-view+json": {
       "model_id": "116a15a90c0a4163abeb8601af8ef5b1",
       "version_major": 2,
       "version_minor": 0
      },
      "text/plain": [
       "Evaluating fitness:   0%|          | 0/10 [00:00<?, ?it/s]"
      ]
     },
     "metadata": {},
     "output_type": "display_data"
    },
    {
     "data": {
      "application/vnd.jupyter.widget-view+json": {
       "model_id": "7141de62f51e4c0385841f317f4c92b7",
       "version_major": 2,
       "version_minor": 0
      },
      "text/plain": [
       "Evaluating fitness:   0%|          | 0/10 [00:00<?, ?it/s]"
      ]
     },
     "metadata": {},
     "output_type": "display_data"
    },
    {
     "data": {
      "application/vnd.jupyter.widget-view+json": {
       "model_id": "5b0c08f44f92409f8d5e09f241850685",
       "version_major": 2,
       "version_minor": 0
      },
      "text/plain": [
       "Evaluating fitness:   0%|          | 0/10 [00:00<?, ?it/s]"
      ]
     },
     "metadata": {},
     "output_type": "display_data"
    },
    {
     "data": {
      "application/vnd.jupyter.widget-view+json": {
       "model_id": "13d08c7a35694755a10600035078663c",
       "version_major": 2,
       "version_minor": 0
      },
      "text/plain": [
       "Evaluating fitness:   0%|          | 0/10 [00:00<?, ?it/s]"
      ]
     },
     "metadata": {},
     "output_type": "display_data"
    },
    {
     "data": {
      "application/vnd.jupyter.widget-view+json": {
       "model_id": "7326d2aa08fb4061a6ccc808b8b59216",
       "version_major": 2,
       "version_minor": 0
      },
      "text/plain": [
       "Evaluating fitness:   0%|          | 0/10 [00:00<?, ?it/s]"
      ]
     },
     "metadata": {},
     "output_type": "display_data"
    },
    {
     "data": {
      "application/vnd.jupyter.widget-view+json": {
       "model_id": "326765dcdf2b4bb792cfc891502fc27c",
       "version_major": 2,
       "version_minor": 0
      },
      "text/plain": [
       "Evaluating fitness:   0%|          | 0/10 [00:00<?, ?it/s]"
      ]
     },
     "metadata": {},
     "output_type": "display_data"
    },
    {
     "data": {
      "application/vnd.jupyter.widget-view+json": {
       "model_id": "ee3ea38028334ed5b32ffcfa751a52a7",
       "version_major": 2,
       "version_minor": 0
      },
      "text/plain": [
       "Evaluating fitness:   0%|          | 0/10 [00:00<?, ?it/s]"
      ]
     },
     "metadata": {},
     "output_type": "display_data"
    },
    {
     "data": {
      "application/vnd.jupyter.widget-view+json": {
       "model_id": "ea06f6bf384d41dcac8a02b3fbbbbe26",
       "version_major": 2,
       "version_minor": 0
      },
      "text/plain": [
       "Evaluating fitness:   0%|          | 0/10 [00:00<?, ?it/s]"
      ]
     },
     "metadata": {},
     "output_type": "display_data"
    },
    {
     "data": {
      "application/vnd.jupyter.widget-view+json": {
       "model_id": "bb0776cdad614ff1ab6dfc3c5bf93f83",
       "version_major": 2,
       "version_minor": 0
      },
      "text/plain": [
       "Evaluating fitness:   0%|          | 0/10 [00:00<?, ?it/s]"
      ]
     },
     "metadata": {},
     "output_type": "display_data"
    },
    {
     "data": {
      "application/vnd.jupyter.widget-view+json": {
       "model_id": "9fe52624e9474e678201658b20bf3f3a",
       "version_major": 2,
       "version_minor": 0
      },
      "text/plain": [
       "Evaluating fitness:   0%|          | 0/10 [00:00<?, ?it/s]"
      ]
     },
     "metadata": {},
     "output_type": "display_data"
    },
    {
     "data": {
      "application/vnd.jupyter.widget-view+json": {
       "model_id": "5d437703e9c843e9af474f3d2db7b55e",
       "version_major": 2,
       "version_minor": 0
      },
      "text/plain": [
       "Evaluating fitness:   0%|          | 0/10 [00:00<?, ?it/s]"
      ]
     },
     "metadata": {},
     "output_type": "display_data"
    },
    {
     "data": {
      "application/vnd.jupyter.widget-view+json": {
       "model_id": "0688cd99a32b4b43b62cd54c68dc56d1",
       "version_major": 2,
       "version_minor": 0
      },
      "text/plain": [
       "Evaluating fitness:   0%|          | 0/10 [00:00<?, ?it/s]"
      ]
     },
     "metadata": {},
     "output_type": "display_data"
    },
    {
     "data": {
      "application/vnd.jupyter.widget-view+json": {
       "model_id": "44cccd376f1f4767beae49c63aa615f5",
       "version_major": 2,
       "version_minor": 0
      },
      "text/plain": [
       "Evaluating fitness:   0%|          | 0/10 [00:00<?, ?it/s]"
      ]
     },
     "metadata": {},
     "output_type": "display_data"
    },
    {
     "data": {
      "application/vnd.jupyter.widget-view+json": {
       "model_id": "a4ffa6ff98cf4003a6f1e0f12a9232f2",
       "version_major": 2,
       "version_minor": 0
      },
      "text/plain": [
       "Evaluating fitness:   0%|          | 0/10 [00:00<?, ?it/s]"
      ]
     },
     "metadata": {},
     "output_type": "display_data"
    },
    {
     "data": {
      "application/vnd.jupyter.widget-view+json": {
       "model_id": "a4012eea3d624000b96f474fa7e2c67f",
       "version_major": 2,
       "version_minor": 0
      },
      "text/plain": [
       "Evaluating fitness:   0%|          | 0/10 [00:00<?, ?it/s]"
      ]
     },
     "metadata": {},
     "output_type": "display_data"
    },
    {
     "data": {
      "application/vnd.jupyter.widget-view+json": {
       "model_id": "5047bc4f258e4694b12190db6f39bef0",
       "version_major": 2,
       "version_minor": 0
      },
      "text/plain": [
       "Evaluating fitness:   0%|          | 0/10 [00:00<?, ?it/s]"
      ]
     },
     "metadata": {},
     "output_type": "display_data"
    },
    {
     "data": {
      "application/vnd.jupyter.widget-view+json": {
       "model_id": "87f72cd0534c4e8dbd24fb7e99676f08",
       "version_major": 2,
       "version_minor": 0
      },
      "text/plain": [
       "Breeding: 0it [00:00, ?it/s]"
      ]
     },
     "metadata": {},
     "output_type": "display_data"
    },
    {
     "data": {
      "application/vnd.jupyter.widget-view+json": {
       "model_id": "4f5a5e6a9fad4d769a3679604fc521c5",
       "version_major": 2,
       "version_minor": 0
      },
      "text/plain": [
       "Breeding: 0it [00:00, ?it/s]"
      ]
     },
     "metadata": {},
     "output_type": "display_data"
    },
    {
     "data": {
      "application/vnd.jupyter.widget-view+json": {
       "model_id": "a28ad3d17727426f9188903832bb4a44",
       "version_major": 2,
       "version_minor": 0
      },
      "text/plain": [
       "Breeding: 0it [00:00, ?it/s]"
      ]
     },
     "metadata": {},
     "output_type": "display_data"
    },
    {
     "data": {
      "application/vnd.jupyter.widget-view+json": {
       "model_id": "529e22f0183345eab4bdcd84ca830e76",
       "version_major": 2,
       "version_minor": 0
      },
      "text/plain": [
       "Breeding: 0it [00:00, ?it/s]"
      ]
     },
     "metadata": {},
     "output_type": "display_data"
    },
    {
     "data": {
      "application/vnd.jupyter.widget-view+json": {
       "model_id": "a24cb1b6d1ea41c68c74e2f93d185c2b",
       "version_major": 2,
       "version_minor": 0
      },
      "text/plain": [
       "Breeding: 0it [00:00, ?it/s]"
      ]
     },
     "metadata": {},
     "output_type": "display_data"
    },
    {
     "data": {
      "application/vnd.jupyter.widget-view+json": {
       "model_id": "a3db1ccd1690448fbad1ed3c12063c85",
       "version_major": 2,
       "version_minor": 0
      },
      "text/plain": [
       "Breeding: 0it [00:00, ?it/s]"
      ]
     },
     "metadata": {},
     "output_type": "display_data"
    },
    {
     "data": {
      "application/vnd.jupyter.widget-view+json": {
       "model_id": "737974e732af4f98a714c0092daeee86",
       "version_major": 2,
       "version_minor": 0
      },
      "text/plain": [
       "Breeding: 0it [00:00, ?it/s]"
      ]
     },
     "metadata": {},
     "output_type": "display_data"
    },
    {
     "data": {
      "application/vnd.jupyter.widget-view+json": {
       "model_id": "3c05acfd211e4f45afe71bef26073fe0",
       "version_major": 2,
       "version_minor": 0
      },
      "text/plain": [
       "Breeding: 0it [00:00, ?it/s]"
      ]
     },
     "metadata": {},
     "output_type": "display_data"
    },
    {
     "data": {
      "application/vnd.jupyter.widget-view+json": {
       "model_id": "6e9074a4f2e5495abacd7c1ff4b88d93",
       "version_major": 2,
       "version_minor": 0
      },
      "text/plain": [
       "Breeding: 0it [00:00, ?it/s]"
      ]
     },
     "metadata": {},
     "output_type": "display_data"
    },
    {
     "data": {
      "application/vnd.jupyter.widget-view+json": {
       "model_id": "aafccd4f368f4ec989e68967f60cb08b",
       "version_major": 2,
       "version_minor": 0
      },
      "text/plain": [
       "Breeding: 0it [00:00, ?it/s]"
      ]
     },
     "metadata": {},
     "output_type": "display_data"
    },
    {
     "data": {
      "application/vnd.jupyter.widget-view+json": {
       "model_id": "b0503ff7b88c49bbaf85c7b43636e8e1",
       "version_major": 2,
       "version_minor": 0
      },
      "text/plain": [
       "Breeding: 0it [00:00, ?it/s]"
      ]
     },
     "metadata": {},
     "output_type": "display_data"
    },
    {
     "data": {
      "application/vnd.jupyter.widget-view+json": {
       "model_id": "276330cbb0494445a67fd1ff33ea82c8",
       "version_major": 2,
       "version_minor": 0
      },
      "text/plain": [
       "Breeding: 0it [00:00, ?it/s]"
      ]
     },
     "metadata": {},
     "output_type": "display_data"
    },
    {
     "data": {
      "application/vnd.jupyter.widget-view+json": {
       "model_id": "456d01671bd4491dbc906f749d63c3b8",
       "version_major": 2,
       "version_minor": 0
      },
      "text/plain": [
       "Breeding: 0it [00:00, ?it/s]"
      ]
     },
     "metadata": {},
     "output_type": "display_data"
    },
    {
     "data": {
      "application/vnd.jupyter.widget-view+json": {
       "model_id": "5cef2856a42f4154ac390712ddd8872e",
       "version_major": 2,
       "version_minor": 0
      },
      "text/plain": [
       "Breeding: 0it [00:00, ?it/s]"
      ]
     },
     "metadata": {},
     "output_type": "display_data"
    },
    {
     "data": {
      "application/vnd.jupyter.widget-view+json": {
       "model_id": "b01b58f1e7e3469bbdb16c88e80b6d53",
       "version_major": 2,
       "version_minor": 0
      },
      "text/plain": [
       "Breeding: 0it [00:00, ?it/s]"
      ]
     },
     "metadata": {},
     "output_type": "display_data"
    },
    {
     "data": {
      "application/vnd.jupyter.widget-view+json": {
       "model_id": "f3e7f776006d4c189d2a880d2fd530e8",
       "version_major": 2,
       "version_minor": 0
      },
      "text/plain": [
       "Breeding: 0it [00:00, ?it/s]"
      ]
     },
     "metadata": {},
     "output_type": "display_data"
    },
    {
     "data": {
      "application/vnd.jupyter.widget-view+json": {
       "model_id": "001db82c7cac4b84a8a8d7bc3963df67",
       "version_major": 2,
       "version_minor": 0
      },
      "text/plain": [
       "Breeding: 0it [00:00, ?it/s]"
      ]
     },
     "metadata": {},
     "output_type": "display_data"
    },
    {
     "data": {
      "application/vnd.jupyter.widget-view+json": {
       "model_id": "2cec1eff90b14ab5a84fcf5d57ca73cd",
       "version_major": 2,
       "version_minor": 0
      },
      "text/plain": [
       "Breeding: 0it [00:00, ?it/s]"
      ]
     },
     "metadata": {},
     "output_type": "display_data"
    },
    {
     "data": {
      "application/vnd.jupyter.widget-view+json": {
       "model_id": "a8ab2a6e00274bde99cd549199b34643",
       "version_major": 2,
       "version_minor": 0
      },
      "text/plain": [
       "Breeding: 0it [00:00, ?it/s]"
      ]
     },
     "metadata": {},
     "output_type": "display_data"
    },
    {
     "data": {
      "application/vnd.jupyter.widget-view+json": {
       "model_id": "3a502e6a58d74fbf8ba70c15a7ffa634",
       "version_major": 2,
       "version_minor": 0
      },
      "text/plain": [
       "Breeding: 0it [00:00, ?it/s]"
      ]
     },
     "metadata": {},
     "output_type": "display_data"
    },
    {
     "data": {
      "application/vnd.jupyter.widget-view+json": {
       "model_id": "efde024234cc433e995143b0c4981586",
       "version_major": 2,
       "version_minor": 0
      },
      "text/plain": [
       "Breeding: 0it [00:00, ?it/s]"
      ]
     },
     "metadata": {},
     "output_type": "display_data"
    },
    {
     "data": {
      "application/vnd.jupyter.widget-view+json": {
       "model_id": "2d0e352f369949cd8de7dca296c3b09a",
       "version_major": 2,
       "version_minor": 0
      },
      "text/plain": [
       "Breeding: 0it [00:00, ?it/s]"
      ]
     },
     "metadata": {},
     "output_type": "display_data"
    },
    {
     "data": {
      "application/vnd.jupyter.widget-view+json": {
       "model_id": "a50e3e63350f42aa8b076bddabce9555",
       "version_major": 2,
       "version_minor": 0
      },
      "text/plain": [
       "Breeding: 0it [00:00, ?it/s]"
      ]
     },
     "metadata": {},
     "output_type": "display_data"
    },
    {
     "data": {
      "application/vnd.jupyter.widget-view+json": {
       "model_id": "89a8560c33424489b9407f74c79138ac",
       "version_major": 2,
       "version_minor": 0
      },
      "text/plain": [
       "Breeding: 0it [00:00, ?it/s]"
      ]
     },
     "metadata": {},
     "output_type": "display_data"
    },
    {
     "data": {
      "application/vnd.jupyter.widget-view+json": {
       "model_id": "4cac5ffd02e84ec0a0da238b9346a7ed",
       "version_major": 2,
       "version_minor": 0
      },
      "text/plain": [
       "Breeding: 0it [00:00, ?it/s]"
      ]
     },
     "metadata": {},
     "output_type": "display_data"
    },
    {
     "data": {
      "application/vnd.jupyter.widget-view+json": {
       "model_id": "8b5a333622a84bac9b3cc92a99face88",
       "version_major": 2,
       "version_minor": 0
      },
      "text/plain": [
       "Breeding: 0it [00:00, ?it/s]"
      ]
     },
     "metadata": {},
     "output_type": "display_data"
    },
    {
     "data": {
      "application/vnd.jupyter.widget-view+json": {
       "model_id": "136600985e6746bcb237516a684c683c",
       "version_major": 2,
       "version_minor": 0
      },
      "text/plain": [
       "Breeding: 0it [00:00, ?it/s]"
      ]
     },
     "metadata": {},
     "output_type": "display_data"
    },
    {
     "data": {
      "application/vnd.jupyter.widget-view+json": {
       "model_id": "7728e87103ba47118062fb39b75fe730",
       "version_major": 2,
       "version_minor": 0
      },
      "text/plain": [
       "Breeding: 0it [00:00, ?it/s]"
      ]
     },
     "metadata": {},
     "output_type": "display_data"
    },
    {
     "data": {
      "application/vnd.jupyter.widget-view+json": {
       "model_id": "fc6e091fdcf44289810cad1002eb0309",
       "version_major": 2,
       "version_minor": 0
      },
      "text/plain": [
       "Breeding: 0it [00:00, ?it/s]"
      ]
     },
     "metadata": {},
     "output_type": "display_data"
    },
    {
     "data": {
      "application/vnd.jupyter.widget-view+json": {
       "model_id": "b1dac99d771a4fd4a8e839280df8e8c1",
       "version_major": 2,
       "version_minor": 0
      },
      "text/plain": [
       "Breeding: 0it [00:00, ?it/s]"
      ]
     },
     "metadata": {},
     "output_type": "display_data"
    },
    {
     "data": {
      "application/vnd.jupyter.widget-view+json": {
       "model_id": "de3fa85560784ccabe2ed6e7141f6b46",
       "version_major": 2,
       "version_minor": 0
      },
      "text/plain": [
       "Breeding: 0it [00:00, ?it/s]"
      ]
     },
     "metadata": {},
     "output_type": "display_data"
    },
    {
     "data": {
      "application/vnd.jupyter.widget-view+json": {
       "model_id": "e417628f13464242957f0d97052b1c2c",
       "version_major": 2,
       "version_minor": 0
      },
      "text/plain": [
       "Breeding: 0it [00:00, ?it/s]"
      ]
     },
     "metadata": {},
     "output_type": "display_data"
    },
    {
     "data": {
      "application/vnd.jupyter.widget-view+json": {
       "model_id": "44d34daa73bc425cb7f0fbf166830aab",
       "version_major": 2,
       "version_minor": 0
      },
      "text/plain": [
       "Breeding: 0it [00:00, ?it/s]"
      ]
     },
     "metadata": {},
     "output_type": "display_data"
    },
    {
     "data": {
      "application/vnd.jupyter.widget-view+json": {
       "model_id": "cc6674a379be4a2b823a94650382cdb6",
       "version_major": 2,
       "version_minor": 0
      },
      "text/plain": [
       "Breeding: 0it [00:00, ?it/s]"
      ]
     },
     "metadata": {},
     "output_type": "display_data"
    },
    {
     "data": {
      "application/vnd.jupyter.widget-view+json": {
       "model_id": "10a5f75a3dbb441987b206a6e4f7ab6f",
       "version_major": 2,
       "version_minor": 0
      },
      "text/plain": [
       "Breeding: 0it [00:00, ?it/s]"
      ]
     },
     "metadata": {},
     "output_type": "display_data"
    },
    {
     "data": {
      "application/vnd.jupyter.widget-view+json": {
       "model_id": "39dc050ec2aa447abd321bf45c2f5d20",
       "version_major": 2,
       "version_minor": 0
      },
      "text/plain": [
       "Breeding: 0it [00:00, ?it/s]"
      ]
     },
     "metadata": {},
     "output_type": "display_data"
    },
    {
     "data": {
      "application/vnd.jupyter.widget-view+json": {
       "model_id": "afb7720094a34b0890972ec348e7da4f",
       "version_major": 2,
       "version_minor": 0
      },
      "text/plain": [
       "Breeding: 0it [00:00, ?it/s]"
      ]
     },
     "metadata": {},
     "output_type": "display_data"
    },
    {
     "data": {
      "application/vnd.jupyter.widget-view+json": {
       "model_id": "5345798832534b7d8660ed0b4183c645",
       "version_major": 2,
       "version_minor": 0
      },
      "text/plain": [
       "Breeding: 0it [00:00, ?it/s]"
      ]
     },
     "metadata": {},
     "output_type": "display_data"
    },
    {
     "data": {
      "application/vnd.jupyter.widget-view+json": {
       "model_id": "0cd0d219e533412c90d0e9732379b7e2",
       "version_major": 2,
       "version_minor": 0
      },
      "text/plain": [
       "Breeding: 0it [00:00, ?it/s]"
      ]
     },
     "metadata": {},
     "output_type": "display_data"
    },
    {
     "data": {
      "application/vnd.jupyter.widget-view+json": {
       "model_id": "5334c4c6c41a44ecaf3111c50795e137",
       "version_major": 2,
       "version_minor": 0
      },
      "text/plain": [
       "Breeding: 0it [00:00, ?it/s]"
      ]
     },
     "metadata": {},
     "output_type": "display_data"
    },
    {
     "data": {
      "application/vnd.jupyter.widget-view+json": {
       "model_id": "fc5a6c9a02904c319f6ea72b44cea8a1",
       "version_major": 2,
       "version_minor": 0
      },
      "text/plain": [
       "Breeding: 0it [00:00, ?it/s]"
      ]
     },
     "metadata": {},
     "output_type": "display_data"
    },
    {
     "data": {
      "application/vnd.jupyter.widget-view+json": {
       "model_id": "934bfabdb2f949b2a2d9cc174dc7f613",
       "version_major": 2,
       "version_minor": 0
      },
      "text/plain": [
       "Breeding: 0it [00:00, ?it/s]"
      ]
     },
     "metadata": {},
     "output_type": "display_data"
    },
    {
     "data": {
      "application/vnd.jupyter.widget-view+json": {
       "model_id": "c88b9a9eb5fc45ed9f918cce6b310bbe",
       "version_major": 2,
       "version_minor": 0
      },
      "text/plain": [
       "Breeding: 0it [00:00, ?it/s]"
      ]
     },
     "metadata": {},
     "output_type": "display_data"
    },
    {
     "data": {
      "application/vnd.jupyter.widget-view+json": {
       "model_id": "97a29d6c956941de888f49b5fc1d5cd9",
       "version_major": 2,
       "version_minor": 0
      },
      "text/plain": [
       "Breeding: 0it [00:00, ?it/s]"
      ]
     },
     "metadata": {},
     "output_type": "display_data"
    },
    {
     "data": {
      "application/vnd.jupyter.widget-view+json": {
       "model_id": "c29135e25db14e01a97ca06c65e52b8f",
       "version_major": 2,
       "version_minor": 0
      },
      "text/plain": [
       "Breeding: 0it [00:00, ?it/s]"
      ]
     },
     "metadata": {},
     "output_type": "display_data"
    },
    {
     "data": {
      "application/vnd.jupyter.widget-view+json": {
       "model_id": "ad04bdd6d6ff4a1a8fd96594ec8c8f79",
       "version_major": 2,
       "version_minor": 0
      },
      "text/plain": [
       "Breeding: 0it [00:00, ?it/s]"
      ]
     },
     "metadata": {},
     "output_type": "display_data"
    },
    {
     "data": {
      "application/vnd.jupyter.widget-view+json": {
       "model_id": "575333733df04e76ac0356be9f0780ab",
       "version_major": 2,
       "version_minor": 0
      },
      "text/plain": [
       "Breeding: 0it [00:00, ?it/s]"
      ]
     },
     "metadata": {},
     "output_type": "display_data"
    },
    {
     "data": {
      "application/vnd.jupyter.widget-view+json": {
       "model_id": "197ab41d066947f5a1bfbab504cd31cb",
       "version_major": 2,
       "version_minor": 0
      },
      "text/plain": [
       "Breeding: 0it [00:00, ?it/s]"
      ]
     },
     "metadata": {},
     "output_type": "display_data"
    },
    {
     "data": {
      "application/vnd.jupyter.widget-view+json": {
       "model_id": "b965a6c7f5a649bca2175d40a9370cb7",
       "version_major": 2,
       "version_minor": 0
      },
      "text/plain": [
       "Breeding: 0it [00:00, ?it/s]"
      ]
     },
     "metadata": {},
     "output_type": "display_data"
    },
    {
     "data": {
      "application/vnd.jupyter.widget-view+json": {
       "model_id": "8d451dbd87d3464681d2f3fc30d02679",
       "version_major": 2,
       "version_minor": 0
      },
      "text/plain": [
       "Breeding: 0it [00:00, ?it/s]"
      ]
     },
     "metadata": {},
     "output_type": "display_data"
    },
    {
     "data": {
      "application/vnd.jupyter.widget-view+json": {
       "model_id": "59efbcfe9de044628681b3c64b2a943e",
       "version_major": 2,
       "version_minor": 0
      },
      "text/plain": [
       "Breeding: 0it [00:00, ?it/s]"
      ]
     },
     "metadata": {},
     "output_type": "display_data"
    },
    {
     "data": {
      "application/vnd.jupyter.widget-view+json": {
       "model_id": "0fa80ff7c3c44b40a727c4fba0dd5d34",
       "version_major": 2,
       "version_minor": 0
      },
      "text/plain": [
       "Evaluating fitness:   0%|          | 0/10 [00:00<?, ?it/s]"
      ]
     },
     "metadata": {},
     "output_type": "display_data"
    },
    {
     "data": {
      "application/vnd.jupyter.widget-view+json": {
       "model_id": "3c6c201c63834add96ff978af12c0040",
       "version_major": 2,
       "version_minor": 0
      },
      "text/plain": [
       "Evaluating fitness:   0%|          | 0/10 [00:00<?, ?it/s]"
      ]
     },
     "metadata": {},
     "output_type": "display_data"
    },
    {
     "data": {
      "application/vnd.jupyter.widget-view+json": {
       "model_id": "483a2a1de4f14e82975b79b00493abbd",
       "version_major": 2,
       "version_minor": 0
      },
      "text/plain": [
       "Evaluating fitness:   0%|          | 0/10 [00:00<?, ?it/s]"
      ]
     },
     "metadata": {},
     "output_type": "display_data"
    },
    {
     "data": {
      "application/vnd.jupyter.widget-view+json": {
       "model_id": "339bd8c1df6a4186b7484ef79bb636d9",
       "version_major": 2,
       "version_minor": 0
      },
      "text/plain": [
       "Evaluating fitness:   0%|          | 0/10 [00:00<?, ?it/s]"
      ]
     },
     "metadata": {},
     "output_type": "display_data"
    },
    {
     "data": {
      "application/vnd.jupyter.widget-view+json": {
       "model_id": "a9ba686371f847dabbac7f7af811b662",
       "version_major": 2,
       "version_minor": 0
      },
      "text/plain": [
       "Evaluating fitness:   0%|          | 0/10 [00:00<?, ?it/s]"
      ]
     },
     "metadata": {},
     "output_type": "display_data"
    },
    {
     "data": {
      "application/vnd.jupyter.widget-view+json": {
       "model_id": "b4d24288fba54c91820b6ecc0d2fcf37",
       "version_major": 2,
       "version_minor": 0
      },
      "text/plain": [
       "Evaluating fitness:   0%|          | 0/10 [00:00<?, ?it/s]"
      ]
     },
     "metadata": {},
     "output_type": "display_data"
    },
    {
     "data": {
      "application/vnd.jupyter.widget-view+json": {
       "model_id": "d2e044b639bd43cdae8daab99cfe51e7",
       "version_major": 2,
       "version_minor": 0
      },
      "text/plain": [
       "Evaluating fitness:   0%|          | 0/10 [00:00<?, ?it/s]"
      ]
     },
     "metadata": {},
     "output_type": "display_data"
    },
    {
     "data": {
      "application/vnd.jupyter.widget-view+json": {
       "model_id": "e18dfb83e1b242af975d5cc524a3ec95",
       "version_major": 2,
       "version_minor": 0
      },
      "text/plain": [
       "Evaluating fitness:   0%|          | 0/10 [00:00<?, ?it/s]"
      ]
     },
     "metadata": {},
     "output_type": "display_data"
    },
    {
     "data": {
      "application/vnd.jupyter.widget-view+json": {
       "model_id": "75691c9c70f74d51b6c7354ac9475710",
       "version_major": 2,
       "version_minor": 0
      },
      "text/plain": [
       "Evaluating fitness:   0%|          | 0/10 [00:00<?, ?it/s]"
      ]
     },
     "metadata": {},
     "output_type": "display_data"
    },
    {
     "data": {
      "application/vnd.jupyter.widget-view+json": {
       "model_id": "b40828395245478ebca53534cb93fcc5",
       "version_major": 2,
       "version_minor": 0
      },
      "text/plain": [
       "Evaluating fitness:   0%|          | 0/10 [00:00<?, ?it/s]"
      ]
     },
     "metadata": {},
     "output_type": "display_data"
    },
    {
     "data": {
      "application/vnd.jupyter.widget-view+json": {
       "model_id": "7b883bab521d42a89ffa3531a00abc99",
       "version_major": 2,
       "version_minor": 0
      },
      "text/plain": [
       "Evaluating fitness:   0%|          | 0/10 [00:00<?, ?it/s]"
      ]
     },
     "metadata": {},
     "output_type": "display_data"
    },
    {
     "data": {
      "application/vnd.jupyter.widget-view+json": {
       "model_id": "2b8684cba27948bc801faa324855be51",
       "version_major": 2,
       "version_minor": 0
      },
      "text/plain": [
       "Evaluating fitness:   0%|          | 0/10 [00:00<?, ?it/s]"
      ]
     },
     "metadata": {},
     "output_type": "display_data"
    },
    {
     "data": {
      "application/vnd.jupyter.widget-view+json": {
       "model_id": "8d37924f37c64b3db6816cf02e724118",
       "version_major": 2,
       "version_minor": 0
      },
      "text/plain": [
       "Evaluating fitness:   0%|          | 0/10 [00:00<?, ?it/s]"
      ]
     },
     "metadata": {},
     "output_type": "display_data"
    },
    {
     "data": {
      "application/vnd.jupyter.widget-view+json": {
       "model_id": "735033070936478d9da02828e072061e",
       "version_major": 2,
       "version_minor": 0
      },
      "text/plain": [
       "Evaluating fitness:   0%|          | 0/10 [00:00<?, ?it/s]"
      ]
     },
     "metadata": {},
     "output_type": "display_data"
    },
    {
     "data": {
      "application/vnd.jupyter.widget-view+json": {
       "model_id": "481e34f9c2e94391bf2547c543af5f56",
       "version_major": 2,
       "version_minor": 0
      },
      "text/plain": [
       "Evaluating fitness:   0%|          | 0/10 [00:00<?, ?it/s]"
      ]
     },
     "metadata": {},
     "output_type": "display_data"
    },
    {
     "data": {
      "application/vnd.jupyter.widget-view+json": {
       "model_id": "d7a101eb8fb5420993fc97d8de428c0d",
       "version_major": 2,
       "version_minor": 0
      },
      "text/plain": [
       "Evaluating fitness:   0%|          | 0/10 [00:00<?, ?it/s]"
      ]
     },
     "metadata": {},
     "output_type": "display_data"
    },
    {
     "data": {
      "application/vnd.jupyter.widget-view+json": {
       "model_id": "52e56d6f3c284f0f977df79e24afc2b8",
       "version_major": 2,
       "version_minor": 0
      },
      "text/plain": [
       "Evaluating fitness:   0%|          | 0/10 [00:00<?, ?it/s]"
      ]
     },
     "metadata": {},
     "output_type": "display_data"
    },
    {
     "data": {
      "application/vnd.jupyter.widget-view+json": {
       "model_id": "b1bfee988dbc478e801bd074cfdbbcdd",
       "version_major": 2,
       "version_minor": 0
      },
      "text/plain": [
       "Evaluating fitness:   0%|          | 0/10 [00:00<?, ?it/s]"
      ]
     },
     "metadata": {},
     "output_type": "display_data"
    },
    {
     "data": {
      "application/vnd.jupyter.widget-view+json": {
       "model_id": "9fd98995504f41579caa3eb736e6f6a1",
       "version_major": 2,
       "version_minor": 0
      },
      "text/plain": [
       "Evaluating fitness:   0%|          | 0/10 [00:00<?, ?it/s]"
      ]
     },
     "metadata": {},
     "output_type": "display_data"
    },
    {
     "data": {
      "application/vnd.jupyter.widget-view+json": {
       "model_id": "0511aa7a460e4e62a7bebcf683b0d275",
       "version_major": 2,
       "version_minor": 0
      },
      "text/plain": [
       "Evaluating fitness:   0%|          | 0/10 [00:00<?, ?it/s]"
      ]
     },
     "metadata": {},
     "output_type": "display_data"
    },
    {
     "data": {
      "application/vnd.jupyter.widget-view+json": {
       "model_id": "1c81223457144fa484685e2ec6ff6feb",
       "version_major": 2,
       "version_minor": 0
      },
      "text/plain": [
       "Evaluating fitness:   0%|          | 0/10 [00:00<?, ?it/s]"
      ]
     },
     "metadata": {},
     "output_type": "display_data"
    },
    {
     "data": {
      "application/vnd.jupyter.widget-view+json": {
       "model_id": "46ef4a2c98024acc8da82a3c1efc12d8",
       "version_major": 2,
       "version_minor": 0
      },
      "text/plain": [
       "Evaluating fitness:   0%|          | 0/10 [00:00<?, ?it/s]"
      ]
     },
     "metadata": {},
     "output_type": "display_data"
    },
    {
     "data": {
      "application/vnd.jupyter.widget-view+json": {
       "model_id": "c17c6b1b89134aa0a226a3d86b99042a",
       "version_major": 2,
       "version_minor": 0
      },
      "text/plain": [
       "Evaluating fitness:   0%|          | 0/10 [00:00<?, ?it/s]"
      ]
     },
     "metadata": {},
     "output_type": "display_data"
    },
    {
     "data": {
      "application/vnd.jupyter.widget-view+json": {
       "model_id": "246b486cd53e4d8a9aff3cb14a055adb",
       "version_major": 2,
       "version_minor": 0
      },
      "text/plain": [
       "Evaluating fitness:   0%|          | 0/10 [00:00<?, ?it/s]"
      ]
     },
     "metadata": {},
     "output_type": "display_data"
    },
    {
     "data": {
      "application/vnd.jupyter.widget-view+json": {
       "model_id": "067ad013b897451e99660cfb89996e9c",
       "version_major": 2,
       "version_minor": 0
      },
      "text/plain": [
       "Evaluating fitness:   0%|          | 0/10 [00:00<?, ?it/s]"
      ]
     },
     "metadata": {},
     "output_type": "display_data"
    },
    {
     "data": {
      "application/vnd.jupyter.widget-view+json": {
       "model_id": "77cf486cad4d4fc894ffb90978b0a18b",
       "version_major": 2,
       "version_minor": 0
      },
      "text/plain": [
       "Evaluating fitness:   0%|          | 0/10 [00:00<?, ?it/s]"
      ]
     },
     "metadata": {},
     "output_type": "display_data"
    },
    {
     "data": {
      "application/vnd.jupyter.widget-view+json": {
       "model_id": "0814dd25f3ed4421ae85977335384165",
       "version_major": 2,
       "version_minor": 0
      },
      "text/plain": [
       "Evaluating fitness:   0%|          | 0/10 [00:00<?, ?it/s]"
      ]
     },
     "metadata": {},
     "output_type": "display_data"
    },
    {
     "data": {
      "application/vnd.jupyter.widget-view+json": {
       "model_id": "44ad09c90f8e4e3098fc03d376b5cb88",
       "version_major": 2,
       "version_minor": 0
      },
      "text/plain": [
       "Evaluating fitness:   0%|          | 0/10 [00:00<?, ?it/s]"
      ]
     },
     "metadata": {},
     "output_type": "display_data"
    },
    {
     "data": {
      "application/vnd.jupyter.widget-view+json": {
       "model_id": "9821f66abb744e4f9458db394e5c902a",
       "version_major": 2,
       "version_minor": 0
      },
      "text/plain": [
       "Evaluating fitness:   0%|          | 0/10 [00:00<?, ?it/s]"
      ]
     },
     "metadata": {},
     "output_type": "display_data"
    },
    {
     "data": {
      "application/vnd.jupyter.widget-view+json": {
       "model_id": "e0baabcd3b7f4e4a857fc44c0c8e10a9",
       "version_major": 2,
       "version_minor": 0
      },
      "text/plain": [
       "Evaluating fitness:   0%|          | 0/10 [00:00<?, ?it/s]"
      ]
     },
     "metadata": {},
     "output_type": "display_data"
    },
    {
     "data": {
      "application/vnd.jupyter.widget-view+json": {
       "model_id": "23ae83a03f7e425a9b9728b3433cb41a",
       "version_major": 2,
       "version_minor": 0
      },
      "text/plain": [
       "Evaluating fitness:   0%|          | 0/10 [00:00<?, ?it/s]"
      ]
     },
     "metadata": {},
     "output_type": "display_data"
    },
    {
     "data": {
      "application/vnd.jupyter.widget-view+json": {
       "model_id": "cd3a09ab1195445899c642e3cabdf455",
       "version_major": 2,
       "version_minor": 0
      },
      "text/plain": [
       "Evaluating fitness:   0%|          | 0/10 [00:00<?, ?it/s]"
      ]
     },
     "metadata": {},
     "output_type": "display_data"
    },
    {
     "data": {
      "application/vnd.jupyter.widget-view+json": {
       "model_id": "636f73f186274525824f88cd2c32a274",
       "version_major": 2,
       "version_minor": 0
      },
      "text/plain": [
       "Evaluating fitness:   0%|          | 0/10 [00:00<?, ?it/s]"
      ]
     },
     "metadata": {},
     "output_type": "display_data"
    },
    {
     "data": {
      "application/vnd.jupyter.widget-view+json": {
       "model_id": "c8a9520660ca43e08035117c4184b5e6",
       "version_major": 2,
       "version_minor": 0
      },
      "text/plain": [
       "Evaluating fitness:   0%|          | 0/10 [00:00<?, ?it/s]"
      ]
     },
     "metadata": {},
     "output_type": "display_data"
    },
    {
     "data": {
      "application/vnd.jupyter.widget-view+json": {
       "model_id": "64e689fc1e334d88a7bfa7f4a8fcaa4f",
       "version_major": 2,
       "version_minor": 0
      },
      "text/plain": [
       "Evaluating fitness:   0%|          | 0/10 [00:00<?, ?it/s]"
      ]
     },
     "metadata": {},
     "output_type": "display_data"
    },
    {
     "data": {
      "application/vnd.jupyter.widget-view+json": {
       "model_id": "5f0af94354ec47288822a961dc9709b5",
       "version_major": 2,
       "version_minor": 0
      },
      "text/plain": [
       "Evaluating fitness:   0%|          | 0/10 [00:00<?, ?it/s]"
      ]
     },
     "metadata": {},
     "output_type": "display_data"
    },
    {
     "data": {
      "application/vnd.jupyter.widget-view+json": {
       "model_id": "d9bbb22e14af49b78d18cfa5cf8f31b0",
       "version_major": 2,
       "version_minor": 0
      },
      "text/plain": [
       "Evaluating fitness:   0%|          | 0/10 [00:00<?, ?it/s]"
      ]
     },
     "metadata": {},
     "output_type": "display_data"
    },
    {
     "data": {
      "application/vnd.jupyter.widget-view+json": {
       "model_id": "9a69e53c010343dc9ccf096aae021038",
       "version_major": 2,
       "version_minor": 0
      },
      "text/plain": [
       "Evaluating fitness:   0%|          | 0/10 [00:00<?, ?it/s]"
      ]
     },
     "metadata": {},
     "output_type": "display_data"
    },
    {
     "data": {
      "application/vnd.jupyter.widget-view+json": {
       "model_id": "5d6372a369e946b989f7c09143950f6a",
       "version_major": 2,
       "version_minor": 0
      },
      "text/plain": [
       "Evaluating fitness:   0%|          | 0/10 [00:00<?, ?it/s]"
      ]
     },
     "metadata": {},
     "output_type": "display_data"
    },
    {
     "data": {
      "application/vnd.jupyter.widget-view+json": {
       "model_id": "5599c23a1f1246fd9626f25d279e23dc",
       "version_major": 2,
       "version_minor": 0
      },
      "text/plain": [
       "Evaluating fitness:   0%|          | 0/10 [00:00<?, ?it/s]"
      ]
     },
     "metadata": {},
     "output_type": "display_data"
    },
    {
     "data": {
      "application/vnd.jupyter.widget-view+json": {
       "model_id": "b24cde1fb49c43baa476bb5d2936ca91",
       "version_major": 2,
       "version_minor": 0
      },
      "text/plain": [
       "Evaluating fitness:   0%|          | 0/10 [00:00<?, ?it/s]"
      ]
     },
     "metadata": {},
     "output_type": "display_data"
    },
    {
     "data": {
      "application/vnd.jupyter.widget-view+json": {
       "model_id": "18de737643b644eba7996f8932289a9f",
       "version_major": 2,
       "version_minor": 0
      },
      "text/plain": [
       "Evaluating fitness:   0%|          | 0/10 [00:00<?, ?it/s]"
      ]
     },
     "metadata": {},
     "output_type": "display_data"
    },
    {
     "data": {
      "application/vnd.jupyter.widget-view+json": {
       "model_id": "9ec3bd33b19946e4b93220ceab9387fe",
       "version_major": 2,
       "version_minor": 0
      },
      "text/plain": [
       "Evaluating fitness:   0%|          | 0/10 [00:00<?, ?it/s]"
      ]
     },
     "metadata": {},
     "output_type": "display_data"
    },
    {
     "data": {
      "application/vnd.jupyter.widget-view+json": {
       "model_id": "74328687ef204cc6b6613e739bddab43",
       "version_major": 2,
       "version_minor": 0
      },
      "text/plain": [
       "Evaluating fitness:   0%|          | 0/10 [00:00<?, ?it/s]"
      ]
     },
     "metadata": {},
     "output_type": "display_data"
    },
    {
     "data": {
      "application/vnd.jupyter.widget-view+json": {
       "model_id": "cb4d72e2782f42c4a209bf08f843206d",
       "version_major": 2,
       "version_minor": 0
      },
      "text/plain": [
       "Evaluating fitness:   0%|          | 0/10 [00:00<?, ?it/s]"
      ]
     },
     "metadata": {},
     "output_type": "display_data"
    },
    {
     "data": {
      "application/vnd.jupyter.widget-view+json": {
       "model_id": "67a1bfece2344f9da36d01882ee3a1b8",
       "version_major": 2,
       "version_minor": 0
      },
      "text/plain": [
       "Evaluating fitness:   0%|          | 0/10 [00:00<?, ?it/s]"
      ]
     },
     "metadata": {},
     "output_type": "display_data"
    },
    {
     "data": {
      "application/vnd.jupyter.widget-view+json": {
       "model_id": "c5028de527114061812cda9f72e58f55",
       "version_major": 2,
       "version_minor": 0
      },
      "text/plain": [
       "Evaluating fitness:   0%|          | 0/10 [00:00<?, ?it/s]"
      ]
     },
     "metadata": {},
     "output_type": "display_data"
    },
    {
     "data": {
      "application/vnd.jupyter.widget-view+json": {
       "model_id": "cfd9d95b930f4d13b21a061dc727aa76",
       "version_major": 2,
       "version_minor": 0
      },
      "text/plain": [
       "Evaluating fitness:   0%|          | 0/10 [00:00<?, ?it/s]"
      ]
     },
     "metadata": {},
     "output_type": "display_data"
    },
    {
     "data": {
      "application/vnd.jupyter.widget-view+json": {
       "model_id": "7511c17a12e346e19052abab3b66d7b4",
       "version_major": 2,
       "version_minor": 0
      },
      "text/plain": [
       "Evaluating fitness:   0%|          | 0/10 [00:00<?, ?it/s]"
      ]
     },
     "metadata": {},
     "output_type": "display_data"
    },
    {
     "data": {
      "application/vnd.jupyter.widget-view+json": {
       "model_id": "e8d611e69b9f47ca93e14b8111b744c6",
       "version_major": 2,
       "version_minor": 0
      },
      "text/plain": [
       "Evaluating fitness:   0%|          | 0/10 [00:00<?, ?it/s]"
      ]
     },
     "metadata": {},
     "output_type": "display_data"
    },
    {
     "data": {
      "application/vnd.jupyter.widget-view+json": {
       "model_id": "4db96ab16996462da951212cbf71a965",
       "version_major": 2,
       "version_minor": 0
      },
      "text/plain": [
       "Breeding: 0it [00:00, ?it/s]"
      ]
     },
     "metadata": {},
     "output_type": "display_data"
    },
    {
     "data": {
      "application/vnd.jupyter.widget-view+json": {
       "model_id": "04be32031b0546dbbd201d3111f97bfe",
       "version_major": 2,
       "version_minor": 0
      },
      "text/plain": [
       "Breeding: 0it [00:00, ?it/s]"
      ]
     },
     "metadata": {},
     "output_type": "display_data"
    },
    {
     "data": {
      "application/vnd.jupyter.widget-view+json": {
       "model_id": "de410787e7e6497b8823c846ec4df964",
       "version_major": 2,
       "version_minor": 0
      },
      "text/plain": [
       "Breeding: 0it [00:00, ?it/s]"
      ]
     },
     "metadata": {},
     "output_type": "display_data"
    },
    {
     "data": {
      "application/vnd.jupyter.widget-view+json": {
       "model_id": "4c7c7d65d7444d67b666d91072d34bba",
       "version_major": 2,
       "version_minor": 0
      },
      "text/plain": [
       "Breeding: 0it [00:00, ?it/s]"
      ]
     },
     "metadata": {},
     "output_type": "display_data"
    },
    {
     "data": {
      "application/vnd.jupyter.widget-view+json": {
       "model_id": "1fdaceed51a34f1ba4665ef042bb587a",
       "version_major": 2,
       "version_minor": 0
      },
      "text/plain": [
       "Breeding: 0it [00:00, ?it/s]"
      ]
     },
     "metadata": {},
     "output_type": "display_data"
    },
    {
     "data": {
      "application/vnd.jupyter.widget-view+json": {
       "model_id": "f49d733155bf41df80da21ceb8459e1e",
       "version_major": 2,
       "version_minor": 0
      },
      "text/plain": [
       "Breeding: 0it [00:00, ?it/s]"
      ]
     },
     "metadata": {},
     "output_type": "display_data"
    },
    {
     "data": {
      "application/vnd.jupyter.widget-view+json": {
       "model_id": "5226ff54f1a84e1ea3256fd309060734",
       "version_major": 2,
       "version_minor": 0
      },
      "text/plain": [
       "Breeding: 0it [00:00, ?it/s]"
      ]
     },
     "metadata": {},
     "output_type": "display_data"
    },
    {
     "data": {
      "application/vnd.jupyter.widget-view+json": {
       "model_id": "c246e8b992b647af80995fd9184d6165",
       "version_major": 2,
       "version_minor": 0
      },
      "text/plain": [
       "Breeding: 0it [00:00, ?it/s]"
      ]
     },
     "metadata": {},
     "output_type": "display_data"
    },
    {
     "data": {
      "application/vnd.jupyter.widget-view+json": {
       "model_id": "4d642a1b45904059a2e48bd527cc7c98",
       "version_major": 2,
       "version_minor": 0
      },
      "text/plain": [
       "Breeding: 0it [00:00, ?it/s]"
      ]
     },
     "metadata": {},
     "output_type": "display_data"
    },
    {
     "data": {
      "application/vnd.jupyter.widget-view+json": {
       "model_id": "1214595e47f04d6e9adc02f4f6f0ce91",
       "version_major": 2,
       "version_minor": 0
      },
      "text/plain": [
       "Breeding: 0it [00:00, ?it/s]"
      ]
     },
     "metadata": {},
     "output_type": "display_data"
    },
    {
     "data": {
      "application/vnd.jupyter.widget-view+json": {
       "model_id": "5788c9544ab140859b416b76e9f6221d",
       "version_major": 2,
       "version_minor": 0
      },
      "text/plain": [
       "Breeding: 0it [00:00, ?it/s]"
      ]
     },
     "metadata": {},
     "output_type": "display_data"
    },
    {
     "data": {
      "application/vnd.jupyter.widget-view+json": {
       "model_id": "47de01f3eb0b41969f77ee94a08157ab",
       "version_major": 2,
       "version_minor": 0
      },
      "text/plain": [
       "Breeding: 0it [00:00, ?it/s]"
      ]
     },
     "metadata": {},
     "output_type": "display_data"
    },
    {
     "data": {
      "application/vnd.jupyter.widget-view+json": {
       "model_id": "860531608f47467ca7ae346a587e559e",
       "version_major": 2,
       "version_minor": 0
      },
      "text/plain": [
       "Breeding: 0it [00:00, ?it/s]"
      ]
     },
     "metadata": {},
     "output_type": "display_data"
    },
    {
     "data": {
      "application/vnd.jupyter.widget-view+json": {
       "model_id": "f50ea7fbf43649038b0ba6882e4c85f9",
       "version_major": 2,
       "version_minor": 0
      },
      "text/plain": [
       "Breeding: 0it [00:00, ?it/s]"
      ]
     },
     "metadata": {},
     "output_type": "display_data"
    },
    {
     "data": {
      "application/vnd.jupyter.widget-view+json": {
       "model_id": "552dbe8c0df74c4f87a32ee197f5707b",
       "version_major": 2,
       "version_minor": 0
      },
      "text/plain": [
       "Breeding: 0it [00:00, ?it/s]"
      ]
     },
     "metadata": {},
     "output_type": "display_data"
    },
    {
     "data": {
      "application/vnd.jupyter.widget-view+json": {
       "model_id": "9a439e99888144b0ae62b718146d16f5",
       "version_major": 2,
       "version_minor": 0
      },
      "text/plain": [
       "Breeding: 0it [00:00, ?it/s]"
      ]
     },
     "metadata": {},
     "output_type": "display_data"
    },
    {
     "data": {
      "application/vnd.jupyter.widget-view+json": {
       "model_id": "73cd340a929e4d03aaa9e913666a8696",
       "version_major": 2,
       "version_minor": 0
      },
      "text/plain": [
       "Breeding: 0it [00:00, ?it/s]"
      ]
     },
     "metadata": {},
     "output_type": "display_data"
    },
    {
     "data": {
      "application/vnd.jupyter.widget-view+json": {
       "model_id": "fc059c737af747dfa1a6eb18ff1ee6ef",
       "version_major": 2,
       "version_minor": 0
      },
      "text/plain": [
       "Breeding: 0it [00:00, ?it/s]"
      ]
     },
     "metadata": {},
     "output_type": "display_data"
    },
    {
     "data": {
      "application/vnd.jupyter.widget-view+json": {
       "model_id": "316a6575754b4f68ae39e20a82383a6c",
       "version_major": 2,
       "version_minor": 0
      },
      "text/plain": [
       "Breeding: 0it [00:00, ?it/s]"
      ]
     },
     "metadata": {},
     "output_type": "display_data"
    },
    {
     "data": {
      "application/vnd.jupyter.widget-view+json": {
       "model_id": "6a242d0f11664d809e02eccdb51b9f3f",
       "version_major": 2,
       "version_minor": 0
      },
      "text/plain": [
       "Breeding: 0it [00:00, ?it/s]"
      ]
     },
     "metadata": {},
     "output_type": "display_data"
    },
    {
     "data": {
      "application/vnd.jupyter.widget-view+json": {
       "model_id": "89da16b5216048998c50960838dd10c4",
       "version_major": 2,
       "version_minor": 0
      },
      "text/plain": [
       "Breeding: 0it [00:00, ?it/s]"
      ]
     },
     "metadata": {},
     "output_type": "display_data"
    },
    {
     "data": {
      "application/vnd.jupyter.widget-view+json": {
       "model_id": "a31826bf72ed4d6c8ae8b79bd7d4b027",
       "version_major": 2,
       "version_minor": 0
      },
      "text/plain": [
       "Breeding: 0it [00:00, ?it/s]"
      ]
     },
     "metadata": {},
     "output_type": "display_data"
    },
    {
     "data": {
      "application/vnd.jupyter.widget-view+json": {
       "model_id": "6b0e4cde2818400381866c2aacdfc7ff",
       "version_major": 2,
       "version_minor": 0
      },
      "text/plain": [
       "Breeding: 0it [00:00, ?it/s]"
      ]
     },
     "metadata": {},
     "output_type": "display_data"
    },
    {
     "data": {
      "application/vnd.jupyter.widget-view+json": {
       "model_id": "47be1edc03ae42e0b8bdfb0b65c7f143",
       "version_major": 2,
       "version_minor": 0
      },
      "text/plain": [
       "Breeding: 0it [00:00, ?it/s]"
      ]
     },
     "metadata": {},
     "output_type": "display_data"
    },
    {
     "data": {
      "application/vnd.jupyter.widget-view+json": {
       "model_id": "bfcab2a34d9d4cc186cedd6b3b22ee95",
       "version_major": 2,
       "version_minor": 0
      },
      "text/plain": [
       "Breeding: 0it [00:00, ?it/s]"
      ]
     },
     "metadata": {},
     "output_type": "display_data"
    },
    {
     "data": {
      "application/vnd.jupyter.widget-view+json": {
       "model_id": "03b6e183d0d7447a84f70ebe32c12b00",
       "version_major": 2,
       "version_minor": 0
      },
      "text/plain": [
       "Breeding: 0it [00:00, ?it/s]"
      ]
     },
     "metadata": {},
     "output_type": "display_data"
    },
    {
     "data": {
      "application/vnd.jupyter.widget-view+json": {
       "model_id": "d045857d01984fca846633df1142707b",
       "version_major": 2,
       "version_minor": 0
      },
      "text/plain": [
       "Breeding: 0it [00:00, ?it/s]"
      ]
     },
     "metadata": {},
     "output_type": "display_data"
    },
    {
     "data": {
      "application/vnd.jupyter.widget-view+json": {
       "model_id": "ca0304d987b3484d856f63ead18727a6",
       "version_major": 2,
       "version_minor": 0
      },
      "text/plain": [
       "Breeding: 0it [00:00, ?it/s]"
      ]
     },
     "metadata": {},
     "output_type": "display_data"
    },
    {
     "data": {
      "application/vnd.jupyter.widget-view+json": {
       "model_id": "ef1cde686239425c894b90084d4fe0ad",
       "version_major": 2,
       "version_minor": 0
      },
      "text/plain": [
       "Breeding: 0it [00:00, ?it/s]"
      ]
     },
     "metadata": {},
     "output_type": "display_data"
    },
    {
     "data": {
      "application/vnd.jupyter.widget-view+json": {
       "model_id": "2c922a3eeed642268b928955dbd75c34",
       "version_major": 2,
       "version_minor": 0
      },
      "text/plain": [
       "Breeding: 0it [00:00, ?it/s]"
      ]
     },
     "metadata": {},
     "output_type": "display_data"
    },
    {
     "data": {
      "application/vnd.jupyter.widget-view+json": {
       "model_id": "926bfc44901d4975ac0ec34e0ce8989e",
       "version_major": 2,
       "version_minor": 0
      },
      "text/plain": [
       "Breeding: 0it [00:00, ?it/s]"
      ]
     },
     "metadata": {},
     "output_type": "display_data"
    },
    {
     "data": {
      "application/vnd.jupyter.widget-view+json": {
       "model_id": "a3c961bc02e9402d99f49fb0521ea075",
       "version_major": 2,
       "version_minor": 0
      },
      "text/plain": [
       "Breeding: 0it [00:00, ?it/s]"
      ]
     },
     "metadata": {},
     "output_type": "display_data"
    },
    {
     "data": {
      "application/vnd.jupyter.widget-view+json": {
       "model_id": "407cee53127f41cb90839d97293164bb",
       "version_major": 2,
       "version_minor": 0
      },
      "text/plain": [
       "Breeding: 0it [00:00, ?it/s]"
      ]
     },
     "metadata": {},
     "output_type": "display_data"
    },
    {
     "data": {
      "application/vnd.jupyter.widget-view+json": {
       "model_id": "db07034cc5844f3a80c091d2b011f6bd",
       "version_major": 2,
       "version_minor": 0
      },
      "text/plain": [
       "Breeding: 0it [00:00, ?it/s]"
      ]
     },
     "metadata": {},
     "output_type": "display_data"
    },
    {
     "data": {
      "application/vnd.jupyter.widget-view+json": {
       "model_id": "31f8064c86984832a06b340cd9c716c7",
       "version_major": 2,
       "version_minor": 0
      },
      "text/plain": [
       "Breeding: 0it [00:00, ?it/s]"
      ]
     },
     "metadata": {},
     "output_type": "display_data"
    },
    {
     "data": {
      "application/vnd.jupyter.widget-view+json": {
       "model_id": "c5eb081da42b4be78b6684c6ee469bd4",
       "version_major": 2,
       "version_minor": 0
      },
      "text/plain": [
       "Breeding: 0it [00:00, ?it/s]"
      ]
     },
     "metadata": {},
     "output_type": "display_data"
    },
    {
     "data": {
      "application/vnd.jupyter.widget-view+json": {
       "model_id": "f84f9a845fe74d27a747e54938f9e42a",
       "version_major": 2,
       "version_minor": 0
      },
      "text/plain": [
       "Breeding: 0it [00:00, ?it/s]"
      ]
     },
     "metadata": {},
     "output_type": "display_data"
    },
    {
     "data": {
      "application/vnd.jupyter.widget-view+json": {
       "model_id": "41d8c098190e42a0aa753f55fb9e0ea7",
       "version_major": 2,
       "version_minor": 0
      },
      "text/plain": [
       "Breeding: 0it [00:00, ?it/s]"
      ]
     },
     "metadata": {},
     "output_type": "display_data"
    },
    {
     "data": {
      "application/vnd.jupyter.widget-view+json": {
       "model_id": "847b6ee0034647f796bbcefb7b4a3229",
       "version_major": 2,
       "version_minor": 0
      },
      "text/plain": [
       "Breeding: 0it [00:00, ?it/s]"
      ]
     },
     "metadata": {},
     "output_type": "display_data"
    },
    {
     "data": {
      "application/vnd.jupyter.widget-view+json": {
       "model_id": "a09c8f3d6b6149778523b045a0ff2255",
       "version_major": 2,
       "version_minor": 0
      },
      "text/plain": [
       "Breeding: 0it [00:00, ?it/s]"
      ]
     },
     "metadata": {},
     "output_type": "display_data"
    },
    {
     "data": {
      "application/vnd.jupyter.widget-view+json": {
       "model_id": "f3301cd4a80e44799d42b1d2c9cc0b17",
       "version_major": 2,
       "version_minor": 0
      },
      "text/plain": [
       "Breeding: 0it [00:00, ?it/s]"
      ]
     },
     "metadata": {},
     "output_type": "display_data"
    },
    {
     "data": {
      "application/vnd.jupyter.widget-view+json": {
       "model_id": "849d12d455414fb3a07738f33daebd8e",
       "version_major": 2,
       "version_minor": 0
      },
      "text/plain": [
       "Breeding: 0it [00:00, ?it/s]"
      ]
     },
     "metadata": {},
     "output_type": "display_data"
    },
    {
     "data": {
      "application/vnd.jupyter.widget-view+json": {
       "model_id": "582f88f3c00949ba96dc1183b267afa8",
       "version_major": 2,
       "version_minor": 0
      },
      "text/plain": [
       "Breeding: 0it [00:00, ?it/s]"
      ]
     },
     "metadata": {},
     "output_type": "display_data"
    },
    {
     "data": {
      "application/vnd.jupyter.widget-view+json": {
       "model_id": "2f1c481542584b18981d9ad31308c429",
       "version_major": 2,
       "version_minor": 0
      },
      "text/plain": [
       "Breeding: 0it [00:00, ?it/s]"
      ]
     },
     "metadata": {},
     "output_type": "display_data"
    },
    {
     "data": {
      "application/vnd.jupyter.widget-view+json": {
       "model_id": "30d4719b10924bb9ac63caba8365d74f",
       "version_major": 2,
       "version_minor": 0
      },
      "text/plain": [
       "Breeding: 0it [00:00, ?it/s]"
      ]
     },
     "metadata": {},
     "output_type": "display_data"
    },
    {
     "data": {
      "application/vnd.jupyter.widget-view+json": {
       "model_id": "8af695c0775947dfbb054bc9f9edfe58",
       "version_major": 2,
       "version_minor": 0
      },
      "text/plain": [
       "Breeding: 0it [00:00, ?it/s]"
      ]
     },
     "metadata": {},
     "output_type": "display_data"
    },
    {
     "data": {
      "application/vnd.jupyter.widget-view+json": {
       "model_id": "863c9550b1ea4c589bb2b02ef0974635",
       "version_major": 2,
       "version_minor": 0
      },
      "text/plain": [
       "Breeding: 0it [00:00, ?it/s]"
      ]
     },
     "metadata": {},
     "output_type": "display_data"
    },
    {
     "data": {
      "application/vnd.jupyter.widget-view+json": {
       "model_id": "2b9c206d4a28464ca2ab05bee8c9f7f9",
       "version_major": 2,
       "version_minor": 0
      },
      "text/plain": [
       "Breeding: 0it [00:00, ?it/s]"
      ]
     },
     "metadata": {},
     "output_type": "display_data"
    },
    {
     "data": {
      "application/vnd.jupyter.widget-view+json": {
       "model_id": "dc93886ab9b640ddb5a699b78ed6a59e",
       "version_major": 2,
       "version_minor": 0
      },
      "text/plain": [
       "Breeding: 0it [00:00, ?it/s]"
      ]
     },
     "metadata": {},
     "output_type": "display_data"
    },
    {
     "data": {
      "application/vnd.jupyter.widget-view+json": {
       "model_id": "facb02f9d5834c9cb8d67db9102d6c56",
       "version_major": 2,
       "version_minor": 0
      },
      "text/plain": [
       "Breeding: 0it [00:00, ?it/s]"
      ]
     },
     "metadata": {},
     "output_type": "display_data"
    },
    {
     "data": {
      "application/vnd.jupyter.widget-view+json": {
       "model_id": "f138b7ba461d4436ab11c671e1bcbacd",
       "version_major": 2,
       "version_minor": 0
      },
      "text/plain": [
       "Breeding: 0it [00:00, ?it/s]"
      ]
     },
     "metadata": {},
     "output_type": "display_data"
    },
    {
     "data": {
      "application/vnd.jupyter.widget-view+json": {
       "model_id": "fbf5b48f0bac400fbf9cff1681b8c92f",
       "version_major": 2,
       "version_minor": 0
      },
      "text/plain": [
       "Evaluating fitness:   0%|          | 0/10 [00:00<?, ?it/s]"
      ]
     },
     "metadata": {},
     "output_type": "display_data"
    },
    {
     "data": {
      "application/vnd.jupyter.widget-view+json": {
       "model_id": "14355aab3ca54a6682f0a3be012716cf",
       "version_major": 2,
       "version_minor": 0
      },
      "text/plain": [
       "Evaluating fitness:   0%|          | 0/10 [00:00<?, ?it/s]"
      ]
     },
     "metadata": {},
     "output_type": "display_data"
    },
    {
     "data": {
      "application/vnd.jupyter.widget-view+json": {
       "model_id": "6e34395483f046a2ab296591c5c15301",
       "version_major": 2,
       "version_minor": 0
      },
      "text/plain": [
       "Evaluating fitness:   0%|          | 0/10 [00:00<?, ?it/s]"
      ]
     },
     "metadata": {},
     "output_type": "display_data"
    },
    {
     "data": {
      "application/vnd.jupyter.widget-view+json": {
       "model_id": "8d7c70ae1dc846cdae00fc3337453988",
       "version_major": 2,
       "version_minor": 0
      },
      "text/plain": [
       "Evaluating fitness:   0%|          | 0/10 [00:00<?, ?it/s]"
      ]
     },
     "metadata": {},
     "output_type": "display_data"
    },
    {
     "data": {
      "application/vnd.jupyter.widget-view+json": {
       "model_id": "0318d9f57c024474a575e4bee2dda16d",
       "version_major": 2,
       "version_minor": 0
      },
      "text/plain": [
       "Evaluating fitness:   0%|          | 0/10 [00:00<?, ?it/s]"
      ]
     },
     "metadata": {},
     "output_type": "display_data"
    },
    {
     "data": {
      "application/vnd.jupyter.widget-view+json": {
       "model_id": "1dc4eb2ed13049bc8454d06696d98310",
       "version_major": 2,
       "version_minor": 0
      },
      "text/plain": [
       "Evaluating fitness:   0%|          | 0/10 [00:00<?, ?it/s]"
      ]
     },
     "metadata": {},
     "output_type": "display_data"
    },
    {
     "data": {
      "application/vnd.jupyter.widget-view+json": {
       "model_id": "d87813883bba47bf8b6c1965c29cdfbc",
       "version_major": 2,
       "version_minor": 0
      },
      "text/plain": [
       "Evaluating fitness:   0%|          | 0/10 [00:00<?, ?it/s]"
      ]
     },
     "metadata": {},
     "output_type": "display_data"
    },
    {
     "data": {
      "application/vnd.jupyter.widget-view+json": {
       "model_id": "34cbb380029c40339587db1a36c46c46",
       "version_major": 2,
       "version_minor": 0
      },
      "text/plain": [
       "Evaluating fitness:   0%|          | 0/10 [00:00<?, ?it/s]"
      ]
     },
     "metadata": {},
     "output_type": "display_data"
    },
    {
     "data": {
      "application/vnd.jupyter.widget-view+json": {
       "model_id": "38342956b75d4fea9985f8fdaef6fcbf",
       "version_major": 2,
       "version_minor": 0
      },
      "text/plain": [
       "Evaluating fitness:   0%|          | 0/10 [00:00<?, ?it/s]"
      ]
     },
     "metadata": {},
     "output_type": "display_data"
    },
    {
     "data": {
      "application/vnd.jupyter.widget-view+json": {
       "model_id": "8eba108db53043fc824a87135c2b66c9",
       "version_major": 2,
       "version_minor": 0
      },
      "text/plain": [
       "Evaluating fitness:   0%|          | 0/10 [00:00<?, ?it/s]"
      ]
     },
     "metadata": {},
     "output_type": "display_data"
    },
    {
     "data": {
      "application/vnd.jupyter.widget-view+json": {
       "model_id": "66d877e3c23a44118fa41613ffb5f698",
       "version_major": 2,
       "version_minor": 0
      },
      "text/plain": [
       "Evaluating fitness:   0%|          | 0/10 [00:00<?, ?it/s]"
      ]
     },
     "metadata": {},
     "output_type": "display_data"
    },
    {
     "data": {
      "application/vnd.jupyter.widget-view+json": {
       "model_id": "f850d68187d74f6a8ecff3c1d9cf0aca",
       "version_major": 2,
       "version_minor": 0
      },
      "text/plain": [
       "Evaluating fitness:   0%|          | 0/10 [00:00<?, ?it/s]"
      ]
     },
     "metadata": {},
     "output_type": "display_data"
    },
    {
     "data": {
      "application/vnd.jupyter.widget-view+json": {
       "model_id": "16674bde0ad4473f909cf4f290c609ad",
       "version_major": 2,
       "version_minor": 0
      },
      "text/plain": [
       "Evaluating fitness:   0%|          | 0/10 [00:00<?, ?it/s]"
      ]
     },
     "metadata": {},
     "output_type": "display_data"
    },
    {
     "data": {
      "application/vnd.jupyter.widget-view+json": {
       "model_id": "2dba0fe2b829457cbb71039054bb2d5b",
       "version_major": 2,
       "version_minor": 0
      },
      "text/plain": [
       "Evaluating fitness:   0%|          | 0/10 [00:00<?, ?it/s]"
      ]
     },
     "metadata": {},
     "output_type": "display_data"
    },
    {
     "data": {
      "application/vnd.jupyter.widget-view+json": {
       "model_id": "d297182be77c45ffb897da5c5a4f62cd",
       "version_major": 2,
       "version_minor": 0
      },
      "text/plain": [
       "Evaluating fitness:   0%|          | 0/10 [00:00<?, ?it/s]"
      ]
     },
     "metadata": {},
     "output_type": "display_data"
    },
    {
     "data": {
      "application/vnd.jupyter.widget-view+json": {
       "model_id": "56856001a7794162a709b402887d4332",
       "version_major": 2,
       "version_minor": 0
      },
      "text/plain": [
       "Evaluating fitness:   0%|          | 0/10 [00:00<?, ?it/s]"
      ]
     },
     "metadata": {},
     "output_type": "display_data"
    },
    {
     "data": {
      "application/vnd.jupyter.widget-view+json": {
       "model_id": "59c22f7fa9374941bbae8122bdfeca03",
       "version_major": 2,
       "version_minor": 0
      },
      "text/plain": [
       "Evaluating fitness:   0%|          | 0/10 [00:00<?, ?it/s]"
      ]
     },
     "metadata": {},
     "output_type": "display_data"
    },
    {
     "data": {
      "application/vnd.jupyter.widget-view+json": {
       "model_id": "5c32ee6b474744d6a7b0770d6c00b6f9",
       "version_major": 2,
       "version_minor": 0
      },
      "text/plain": [
       "Evaluating fitness:   0%|          | 0/10 [00:00<?, ?it/s]"
      ]
     },
     "metadata": {},
     "output_type": "display_data"
    },
    {
     "data": {
      "application/vnd.jupyter.widget-view+json": {
       "model_id": "0e5b3e553934483b91d6d3b25693717f",
       "version_major": 2,
       "version_minor": 0
      },
      "text/plain": [
       "Evaluating fitness:   0%|          | 0/10 [00:00<?, ?it/s]"
      ]
     },
     "metadata": {},
     "output_type": "display_data"
    },
    {
     "data": {
      "application/vnd.jupyter.widget-view+json": {
       "model_id": "828dcf9aec27430d86ca370f0fc8b0b1",
       "version_major": 2,
       "version_minor": 0
      },
      "text/plain": [
       "Evaluating fitness:   0%|          | 0/10 [00:00<?, ?it/s]"
      ]
     },
     "metadata": {},
     "output_type": "display_data"
    },
    {
     "data": {
      "application/vnd.jupyter.widget-view+json": {
       "model_id": "829d0c77a9034722af818c3537fc6c83",
       "version_major": 2,
       "version_minor": 0
      },
      "text/plain": [
       "Evaluating fitness:   0%|          | 0/10 [00:00<?, ?it/s]"
      ]
     },
     "metadata": {},
     "output_type": "display_data"
    },
    {
     "data": {
      "application/vnd.jupyter.widget-view+json": {
       "model_id": "23701f52e2a945c3bfadfa8a6faad542",
       "version_major": 2,
       "version_minor": 0
      },
      "text/plain": [
       "Evaluating fitness:   0%|          | 0/10 [00:00<?, ?it/s]"
      ]
     },
     "metadata": {},
     "output_type": "display_data"
    },
    {
     "data": {
      "application/vnd.jupyter.widget-view+json": {
       "model_id": "61c11a348397401193a702fb3cc4b96a",
       "version_major": 2,
       "version_minor": 0
      },
      "text/plain": [
       "Evaluating fitness:   0%|          | 0/10 [00:00<?, ?it/s]"
      ]
     },
     "metadata": {},
     "output_type": "display_data"
    },
    {
     "data": {
      "application/vnd.jupyter.widget-view+json": {
       "model_id": "d7890e9d45c141e1abc95b7e9e1d69df",
       "version_major": 2,
       "version_minor": 0
      },
      "text/plain": [
       "Evaluating fitness:   0%|          | 0/10 [00:00<?, ?it/s]"
      ]
     },
     "metadata": {},
     "output_type": "display_data"
    },
    {
     "data": {
      "application/vnd.jupyter.widget-view+json": {
       "model_id": "7f04a53100c648bb88f396a08080b6c9",
       "version_major": 2,
       "version_minor": 0
      },
      "text/plain": [
       "Evaluating fitness:   0%|          | 0/10 [00:00<?, ?it/s]"
      ]
     },
     "metadata": {},
     "output_type": "display_data"
    },
    {
     "data": {
      "application/vnd.jupyter.widget-view+json": {
       "model_id": "4d27e4efc00c47718974e7e6ac54c420",
       "version_major": 2,
       "version_minor": 0
      },
      "text/plain": [
       "Evaluating fitness:   0%|          | 0/10 [00:00<?, ?it/s]"
      ]
     },
     "metadata": {},
     "output_type": "display_data"
    },
    {
     "data": {
      "application/vnd.jupyter.widget-view+json": {
       "model_id": "6329fc2d08264a7ca1623d011b580fad",
       "version_major": 2,
       "version_minor": 0
      },
      "text/plain": [
       "Evaluating fitness:   0%|          | 0/10 [00:00<?, ?it/s]"
      ]
     },
     "metadata": {},
     "output_type": "display_data"
    },
    {
     "data": {
      "application/vnd.jupyter.widget-view+json": {
       "model_id": "f10afe05c6f0463a96d1c1775fb52ceb",
       "version_major": 2,
       "version_minor": 0
      },
      "text/plain": [
       "Evaluating fitness:   0%|          | 0/10 [00:00<?, ?it/s]"
      ]
     },
     "metadata": {},
     "output_type": "display_data"
    },
    {
     "data": {
      "application/vnd.jupyter.widget-view+json": {
       "model_id": "6e320a1e8aa54dd9af306031780789f8",
       "version_major": 2,
       "version_minor": 0
      },
      "text/plain": [
       "Evaluating fitness:   0%|          | 0/10 [00:00<?, ?it/s]"
      ]
     },
     "metadata": {},
     "output_type": "display_data"
    },
    {
     "data": {
      "application/vnd.jupyter.widget-view+json": {
       "model_id": "036a6623834347dc969a5c432ece902a",
       "version_major": 2,
       "version_minor": 0
      },
      "text/plain": [
       "Evaluating fitness:   0%|          | 0/10 [00:00<?, ?it/s]"
      ]
     },
     "metadata": {},
     "output_type": "display_data"
    },
    {
     "data": {
      "application/vnd.jupyter.widget-view+json": {
       "model_id": "05450999b7134a89b01ab3ee3b374f6e",
       "version_major": 2,
       "version_minor": 0
      },
      "text/plain": [
       "Evaluating fitness:   0%|          | 0/10 [00:00<?, ?it/s]"
      ]
     },
     "metadata": {},
     "output_type": "display_data"
    },
    {
     "data": {
      "application/vnd.jupyter.widget-view+json": {
       "model_id": "343dc551ba5344578166164e8d280b38",
       "version_major": 2,
       "version_minor": 0
      },
      "text/plain": [
       "Evaluating fitness:   0%|          | 0/10 [00:00<?, ?it/s]"
      ]
     },
     "metadata": {},
     "output_type": "display_data"
    },
    {
     "data": {
      "application/vnd.jupyter.widget-view+json": {
       "model_id": "346af91dc3f84ce29343a0aa17524960",
       "version_major": 2,
       "version_minor": 0
      },
      "text/plain": [
       "Evaluating fitness:   0%|          | 0/10 [00:00<?, ?it/s]"
      ]
     },
     "metadata": {},
     "output_type": "display_data"
    },
    {
     "data": {
      "application/vnd.jupyter.widget-view+json": {
       "model_id": "31b08f435bf7479a840d168c0095cf35",
       "version_major": 2,
       "version_minor": 0
      },
      "text/plain": [
       "Evaluating fitness:   0%|          | 0/10 [00:00<?, ?it/s]"
      ]
     },
     "metadata": {},
     "output_type": "display_data"
    },
    {
     "data": {
      "application/vnd.jupyter.widget-view+json": {
       "model_id": "bbf328d1221545009df5c65172526538",
       "version_major": 2,
       "version_minor": 0
      },
      "text/plain": [
       "Evaluating fitness:   0%|          | 0/10 [00:00<?, ?it/s]"
      ]
     },
     "metadata": {},
     "output_type": "display_data"
    },
    {
     "data": {
      "application/vnd.jupyter.widget-view+json": {
       "model_id": "589b2cb4fcf74858827a8607428b872b",
       "version_major": 2,
       "version_minor": 0
      },
      "text/plain": [
       "Evaluating fitness:   0%|          | 0/10 [00:00<?, ?it/s]"
      ]
     },
     "metadata": {},
     "output_type": "display_data"
    },
    {
     "data": {
      "application/vnd.jupyter.widget-view+json": {
       "model_id": "f0ed4f967e2243b4912c1152d4f833f1",
       "version_major": 2,
       "version_minor": 0
      },
      "text/plain": [
       "Evaluating fitness:   0%|          | 0/10 [00:00<?, ?it/s]"
      ]
     },
     "metadata": {},
     "output_type": "display_data"
    },
    {
     "data": {
      "application/vnd.jupyter.widget-view+json": {
       "model_id": "24f0f58fd51e40f489a1e65e605955e5",
       "version_major": 2,
       "version_minor": 0
      },
      "text/plain": [
       "Evaluating fitness:   0%|          | 0/10 [00:00<?, ?it/s]"
      ]
     },
     "metadata": {},
     "output_type": "display_data"
    },
    {
     "data": {
      "application/vnd.jupyter.widget-view+json": {
       "model_id": "3138d66ccdfb4d14b75db03645829c8b",
       "version_major": 2,
       "version_minor": 0
      },
      "text/plain": [
       "Evaluating fitness:   0%|          | 0/10 [00:00<?, ?it/s]"
      ]
     },
     "metadata": {},
     "output_type": "display_data"
    },
    {
     "data": {
      "application/vnd.jupyter.widget-view+json": {
       "model_id": "91cc9948c3ce44c3bd27206595c4947f",
       "version_major": 2,
       "version_minor": 0
      },
      "text/plain": [
       "Evaluating fitness:   0%|          | 0/10 [00:00<?, ?it/s]"
      ]
     },
     "metadata": {},
     "output_type": "display_data"
    },
    {
     "data": {
      "application/vnd.jupyter.widget-view+json": {
       "model_id": "53181cdea04143a0b59f509de3cbca8d",
       "version_major": 2,
       "version_minor": 0
      },
      "text/plain": [
       "Evaluating fitness:   0%|          | 0/10 [00:00<?, ?it/s]"
      ]
     },
     "metadata": {},
     "output_type": "display_data"
    },
    {
     "data": {
      "application/vnd.jupyter.widget-view+json": {
       "model_id": "ff5f1d89b4234c539997d73336d60a91",
       "version_major": 2,
       "version_minor": 0
      },
      "text/plain": [
       "Evaluating fitness:   0%|          | 0/10 [00:00<?, ?it/s]"
      ]
     },
     "metadata": {},
     "output_type": "display_data"
    },
    {
     "data": {
      "application/vnd.jupyter.widget-view+json": {
       "model_id": "ca57e95b322a481e9523d1a52b6921ec",
       "version_major": 2,
       "version_minor": 0
      },
      "text/plain": [
       "Evaluating fitness:   0%|          | 0/10 [00:00<?, ?it/s]"
      ]
     },
     "metadata": {},
     "output_type": "display_data"
    },
    {
     "data": {
      "application/vnd.jupyter.widget-view+json": {
       "model_id": "a9338565fc5e4e28b1fd07264e61c4d9",
       "version_major": 2,
       "version_minor": 0
      },
      "text/plain": [
       "Evaluating fitness:   0%|          | 0/10 [00:00<?, ?it/s]"
      ]
     },
     "metadata": {},
     "output_type": "display_data"
    },
    {
     "data": {
      "application/vnd.jupyter.widget-view+json": {
       "model_id": "dfe2b98424de46d19043d86fed9f9132",
       "version_major": 2,
       "version_minor": 0
      },
      "text/plain": [
       "Evaluating fitness:   0%|          | 0/10 [00:00<?, ?it/s]"
      ]
     },
     "metadata": {},
     "output_type": "display_data"
    },
    {
     "data": {
      "application/vnd.jupyter.widget-view+json": {
       "model_id": "1a34deb4ca9d4c36b826cfa24877697b",
       "version_major": 2,
       "version_minor": 0
      },
      "text/plain": [
       "Evaluating fitness:   0%|          | 0/10 [00:00<?, ?it/s]"
      ]
     },
     "metadata": {},
     "output_type": "display_data"
    },
    {
     "data": {
      "application/vnd.jupyter.widget-view+json": {
       "model_id": "d348dc18af1047acb77816b09450d332",
       "version_major": 2,
       "version_minor": 0
      },
      "text/plain": [
       "Evaluating fitness:   0%|          | 0/10 [00:00<?, ?it/s]"
      ]
     },
     "metadata": {},
     "output_type": "display_data"
    },
    {
     "data": {
      "application/vnd.jupyter.widget-view+json": {
       "model_id": "377b2fcfc7d14c90ac1ac673b1cbd7df",
       "version_major": 2,
       "version_minor": 0
      },
      "text/plain": [
       "Evaluating fitness:   0%|          | 0/10 [00:00<?, ?it/s]"
      ]
     },
     "metadata": {},
     "output_type": "display_data"
    },
    {
     "data": {
      "application/vnd.jupyter.widget-view+json": {
       "model_id": "28ce8ad325b945e28c71e2e18035428c",
       "version_major": 2,
       "version_minor": 0
      },
      "text/plain": [
       "Evaluating fitness:   0%|          | 0/10 [00:00<?, ?it/s]"
      ]
     },
     "metadata": {},
     "output_type": "display_data"
    },
    {
     "data": {
      "application/vnd.jupyter.widget-view+json": {
       "model_id": "2b7027ed20bc47e1939dd1ccdb3df508",
       "version_major": 2,
       "version_minor": 0
      },
      "text/plain": [
       "Evaluating fitness:   0%|          | 0/10 [00:00<?, ?it/s]"
      ]
     },
     "metadata": {},
     "output_type": "display_data"
    },
    {
     "data": {
      "application/vnd.jupyter.widget-view+json": {
       "model_id": "a0c8c06f42e24490b38ba5d457427508",
       "version_major": 2,
       "version_minor": 0
      },
      "text/plain": [
       "Breeding: 0it [00:00, ?it/s]"
      ]
     },
     "metadata": {},
     "output_type": "display_data"
    },
    {
     "data": {
      "application/vnd.jupyter.widget-view+json": {
       "model_id": "7e781ca69ba94486b9ffaefeedd19ec5",
       "version_major": 2,
       "version_minor": 0
      },
      "text/plain": [
       "Breeding: 0it [00:00, ?it/s]"
      ]
     },
     "metadata": {},
     "output_type": "display_data"
    },
    {
     "data": {
      "application/vnd.jupyter.widget-view+json": {
       "model_id": "9c893d82ece24ff89b1914569d425398",
       "version_major": 2,
       "version_minor": 0
      },
      "text/plain": [
       "Breeding: 0it [00:00, ?it/s]"
      ]
     },
     "metadata": {},
     "output_type": "display_data"
    },
    {
     "data": {
      "application/vnd.jupyter.widget-view+json": {
       "model_id": "f6a9275896544aaa9316b79c44b4b0d7",
       "version_major": 2,
       "version_minor": 0
      },
      "text/plain": [
       "Breeding: 0it [00:00, ?it/s]"
      ]
     },
     "metadata": {},
     "output_type": "display_data"
    },
    {
     "data": {
      "application/vnd.jupyter.widget-view+json": {
       "model_id": "9652138f67c241c1a85d02d6c8805962",
       "version_major": 2,
       "version_minor": 0
      },
      "text/plain": [
       "Breeding: 0it [00:00, ?it/s]"
      ]
     },
     "metadata": {},
     "output_type": "display_data"
    },
    {
     "data": {
      "application/vnd.jupyter.widget-view+json": {
       "model_id": "f894fc35c169426fbb38cc93a3c10d08",
       "version_major": 2,
       "version_minor": 0
      },
      "text/plain": [
       "Breeding: 0it [00:00, ?it/s]"
      ]
     },
     "metadata": {},
     "output_type": "display_data"
    },
    {
     "data": {
      "application/vnd.jupyter.widget-view+json": {
       "model_id": "a8767d81db6349738f54e326aa5e09a6",
       "version_major": 2,
       "version_minor": 0
      },
      "text/plain": [
       "Breeding: 0it [00:00, ?it/s]"
      ]
     },
     "metadata": {},
     "output_type": "display_data"
    },
    {
     "data": {
      "application/vnd.jupyter.widget-view+json": {
       "model_id": "f33e7d9874f34d1a8c250d03d02a84aa",
       "version_major": 2,
       "version_minor": 0
      },
      "text/plain": [
       "Breeding: 0it [00:00, ?it/s]"
      ]
     },
     "metadata": {},
     "output_type": "display_data"
    },
    {
     "data": {
      "application/vnd.jupyter.widget-view+json": {
       "model_id": "58a1febef3ed4c00ae3745d0e40bb909",
       "version_major": 2,
       "version_minor": 0
      },
      "text/plain": [
       "Breeding: 0it [00:00, ?it/s]"
      ]
     },
     "metadata": {},
     "output_type": "display_data"
    },
    {
     "data": {
      "application/vnd.jupyter.widget-view+json": {
       "model_id": "4f9f04578a5b41d8a370959d2d352076",
       "version_major": 2,
       "version_minor": 0
      },
      "text/plain": [
       "Breeding: 0it [00:00, ?it/s]"
      ]
     },
     "metadata": {},
     "output_type": "display_data"
    },
    {
     "data": {
      "application/vnd.jupyter.widget-view+json": {
       "model_id": "ab27b9680b144396bf08d973f6bdfeab",
       "version_major": 2,
       "version_minor": 0
      },
      "text/plain": [
       "Breeding: 0it [00:00, ?it/s]"
      ]
     },
     "metadata": {},
     "output_type": "display_data"
    },
    {
     "data": {
      "application/vnd.jupyter.widget-view+json": {
       "model_id": "7f42aee917d142dc8bf1e8520a10cd19",
       "version_major": 2,
       "version_minor": 0
      },
      "text/plain": [
       "Breeding: 0it [00:00, ?it/s]"
      ]
     },
     "metadata": {},
     "output_type": "display_data"
    },
    {
     "data": {
      "application/vnd.jupyter.widget-view+json": {
       "model_id": "e052d0361a7e4adbb61c20a057078fc3",
       "version_major": 2,
       "version_minor": 0
      },
      "text/plain": [
       "Breeding: 0it [00:00, ?it/s]"
      ]
     },
     "metadata": {},
     "output_type": "display_data"
    },
    {
     "data": {
      "application/vnd.jupyter.widget-view+json": {
       "model_id": "54ef53eb87f146e99a5d1b68bd2636fd",
       "version_major": 2,
       "version_minor": 0
      },
      "text/plain": [
       "Breeding: 0it [00:00, ?it/s]"
      ]
     },
     "metadata": {},
     "output_type": "display_data"
    },
    {
     "data": {
      "application/vnd.jupyter.widget-view+json": {
       "model_id": "e65317f3154046d2a08313974df74287",
       "version_major": 2,
       "version_minor": 0
      },
      "text/plain": [
       "Breeding: 0it [00:00, ?it/s]"
      ]
     },
     "metadata": {},
     "output_type": "display_data"
    },
    {
     "data": {
      "application/vnd.jupyter.widget-view+json": {
       "model_id": "a2cb775c8d3d4d1f993c0bf5e6d77c1a",
       "version_major": 2,
       "version_minor": 0
      },
      "text/plain": [
       "Breeding: 0it [00:00, ?it/s]"
      ]
     },
     "metadata": {},
     "output_type": "display_data"
    },
    {
     "data": {
      "application/vnd.jupyter.widget-view+json": {
       "model_id": "b2b2a80b2ad14add8c1048d59a6e6512",
       "version_major": 2,
       "version_minor": 0
      },
      "text/plain": [
       "Breeding: 0it [00:00, ?it/s]"
      ]
     },
     "metadata": {},
     "output_type": "display_data"
    },
    {
     "data": {
      "application/vnd.jupyter.widget-view+json": {
       "model_id": "372751468144421b950665f927e89810",
       "version_major": 2,
       "version_minor": 0
      },
      "text/plain": [
       "Breeding: 0it [00:00, ?it/s]"
      ]
     },
     "metadata": {},
     "output_type": "display_data"
    },
    {
     "data": {
      "application/vnd.jupyter.widget-view+json": {
       "model_id": "38c552f5dbef48f38c5c46a4edd15020",
       "version_major": 2,
       "version_minor": 0
      },
      "text/plain": [
       "Breeding: 0it [00:00, ?it/s]"
      ]
     },
     "metadata": {},
     "output_type": "display_data"
    },
    {
     "data": {
      "application/vnd.jupyter.widget-view+json": {
       "model_id": "e988fd2f395445b3a8803f097ab8fe21",
       "version_major": 2,
       "version_minor": 0
      },
      "text/plain": [
       "Breeding: 0it [00:00, ?it/s]"
      ]
     },
     "metadata": {},
     "output_type": "display_data"
    },
    {
     "data": {
      "application/vnd.jupyter.widget-view+json": {
       "model_id": "4572f2c1c50c46c18168c9fc00cb101d",
       "version_major": 2,
       "version_minor": 0
      },
      "text/plain": [
       "Breeding: 0it [00:00, ?it/s]"
      ]
     },
     "metadata": {},
     "output_type": "display_data"
    },
    {
     "data": {
      "application/vnd.jupyter.widget-view+json": {
       "model_id": "af553ea1535e4c74b58ce35e1e5a1f19",
       "version_major": 2,
       "version_minor": 0
      },
      "text/plain": [
       "Breeding: 0it [00:00, ?it/s]"
      ]
     },
     "metadata": {},
     "output_type": "display_data"
    },
    {
     "data": {
      "application/vnd.jupyter.widget-view+json": {
       "model_id": "3f65c8ec0e504332bf9a2644d7b08741",
       "version_major": 2,
       "version_minor": 0
      },
      "text/plain": [
       "Breeding: 0it [00:00, ?it/s]"
      ]
     },
     "metadata": {},
     "output_type": "display_data"
    },
    {
     "data": {
      "application/vnd.jupyter.widget-view+json": {
       "model_id": "17df293d201544508df81bc6ecd0a7f9",
       "version_major": 2,
       "version_minor": 0
      },
      "text/plain": [
       "Breeding: 0it [00:00, ?it/s]"
      ]
     },
     "metadata": {},
     "output_type": "display_data"
    },
    {
     "data": {
      "application/vnd.jupyter.widget-view+json": {
       "model_id": "4ed255f2a99f4fafa46b8ec099c30a7c",
       "version_major": 2,
       "version_minor": 0
      },
      "text/plain": [
       "Breeding: 0it [00:00, ?it/s]"
      ]
     },
     "metadata": {},
     "output_type": "display_data"
    },
    {
     "data": {
      "application/vnd.jupyter.widget-view+json": {
       "model_id": "829c044bcc4049819c223d64489caf15",
       "version_major": 2,
       "version_minor": 0
      },
      "text/plain": [
       "Breeding: 0it [00:00, ?it/s]"
      ]
     },
     "metadata": {},
     "output_type": "display_data"
    },
    {
     "data": {
      "application/vnd.jupyter.widget-view+json": {
       "model_id": "bef49100922b461eba200f2c327619c6",
       "version_major": 2,
       "version_minor": 0
      },
      "text/plain": [
       "Breeding: 0it [00:00, ?it/s]"
      ]
     },
     "metadata": {},
     "output_type": "display_data"
    },
    {
     "data": {
      "application/vnd.jupyter.widget-view+json": {
       "model_id": "299621a0977344cba1003e718bbbb703",
       "version_major": 2,
       "version_minor": 0
      },
      "text/plain": [
       "Breeding: 0it [00:00, ?it/s]"
      ]
     },
     "metadata": {},
     "output_type": "display_data"
    },
    {
     "data": {
      "application/vnd.jupyter.widget-view+json": {
       "model_id": "38ea62b95a09447cb149f663c0ab9bcb",
       "version_major": 2,
       "version_minor": 0
      },
      "text/plain": [
       "Breeding: 0it [00:00, ?it/s]"
      ]
     },
     "metadata": {},
     "output_type": "display_data"
    },
    {
     "data": {
      "application/vnd.jupyter.widget-view+json": {
       "model_id": "f65e31dd18fd441e9c594910994710a2",
       "version_major": 2,
       "version_minor": 0
      },
      "text/plain": [
       "Breeding: 0it [00:00, ?it/s]"
      ]
     },
     "metadata": {},
     "output_type": "display_data"
    },
    {
     "data": {
      "application/vnd.jupyter.widget-view+json": {
       "model_id": "01a461687039449ba2fbfe5be5f8636e",
       "version_major": 2,
       "version_minor": 0
      },
      "text/plain": [
       "Breeding: 0it [00:00, ?it/s]"
      ]
     },
     "metadata": {},
     "output_type": "display_data"
    },
    {
     "data": {
      "application/vnd.jupyter.widget-view+json": {
       "model_id": "057608bafe2d41f19369298600a83c64",
       "version_major": 2,
       "version_minor": 0
      },
      "text/plain": [
       "Breeding: 0it [00:00, ?it/s]"
      ]
     },
     "metadata": {},
     "output_type": "display_data"
    },
    {
     "data": {
      "application/vnd.jupyter.widget-view+json": {
       "model_id": "153e39eeaca146eba62f23bb181c590e",
       "version_major": 2,
       "version_minor": 0
      },
      "text/plain": [
       "Breeding: 0it [00:00, ?it/s]"
      ]
     },
     "metadata": {},
     "output_type": "display_data"
    },
    {
     "data": {
      "application/vnd.jupyter.widget-view+json": {
       "model_id": "e0dea388a027484a8189fc3a282398fc",
       "version_major": 2,
       "version_minor": 0
      },
      "text/plain": [
       "Breeding: 0it [00:00, ?it/s]"
      ]
     },
     "metadata": {},
     "output_type": "display_data"
    },
    {
     "data": {
      "application/vnd.jupyter.widget-view+json": {
       "model_id": "85cb50f253444970bb8672002e883664",
       "version_major": 2,
       "version_minor": 0
      },
      "text/plain": [
       "Breeding: 0it [00:00, ?it/s]"
      ]
     },
     "metadata": {},
     "output_type": "display_data"
    },
    {
     "data": {
      "application/vnd.jupyter.widget-view+json": {
       "model_id": "8b112846a8614a6a8f9eb29a9eb9b43c",
       "version_major": 2,
       "version_minor": 0
      },
      "text/plain": [
       "Breeding: 0it [00:00, ?it/s]"
      ]
     },
     "metadata": {},
     "output_type": "display_data"
    },
    {
     "data": {
      "application/vnd.jupyter.widget-view+json": {
       "model_id": "ba6b69d0ea6941b1b96f32f3127e3c77",
       "version_major": 2,
       "version_minor": 0
      },
      "text/plain": [
       "Breeding: 0it [00:00, ?it/s]"
      ]
     },
     "metadata": {},
     "output_type": "display_data"
    },
    {
     "data": {
      "application/vnd.jupyter.widget-view+json": {
       "model_id": "687f44490c7f4ad8beef72f9dce75fff",
       "version_major": 2,
       "version_minor": 0
      },
      "text/plain": [
       "Breeding: 0it [00:00, ?it/s]"
      ]
     },
     "metadata": {},
     "output_type": "display_data"
    },
    {
     "data": {
      "application/vnd.jupyter.widget-view+json": {
       "model_id": "efdae1e6afb84053b68a6467d238dff7",
       "version_major": 2,
       "version_minor": 0
      },
      "text/plain": [
       "Breeding: 0it [00:00, ?it/s]"
      ]
     },
     "metadata": {},
     "output_type": "display_data"
    },
    {
     "data": {
      "application/vnd.jupyter.widget-view+json": {
       "model_id": "5624e538df694685a6bad6feaf08f9b9",
       "version_major": 2,
       "version_minor": 0
      },
      "text/plain": [
       "Breeding: 0it [00:00, ?it/s]"
      ]
     },
     "metadata": {},
     "output_type": "display_data"
    },
    {
     "data": {
      "application/vnd.jupyter.widget-view+json": {
       "model_id": "a4f5b47eb485428f85932aca587389fa",
       "version_major": 2,
       "version_minor": 0
      },
      "text/plain": [
       "Breeding: 0it [00:00, ?it/s]"
      ]
     },
     "metadata": {},
     "output_type": "display_data"
    },
    {
     "data": {
      "application/vnd.jupyter.widget-view+json": {
       "model_id": "61d83dbbd99c4a81b0a44e5223ced488",
       "version_major": 2,
       "version_minor": 0
      },
      "text/plain": [
       "Breeding: 0it [00:00, ?it/s]"
      ]
     },
     "metadata": {},
     "output_type": "display_data"
    },
    {
     "data": {
      "application/vnd.jupyter.widget-view+json": {
       "model_id": "e7758ba9ed614019bdbbb4784fcaa97b",
       "version_major": 2,
       "version_minor": 0
      },
      "text/plain": [
       "Breeding: 0it [00:00, ?it/s]"
      ]
     },
     "metadata": {},
     "output_type": "display_data"
    },
    {
     "data": {
      "application/vnd.jupyter.widget-view+json": {
       "model_id": "fef826ce7ce2439e830612e829f629ee",
       "version_major": 2,
       "version_minor": 0
      },
      "text/plain": [
       "Breeding: 0it [00:00, ?it/s]"
      ]
     },
     "metadata": {},
     "output_type": "display_data"
    },
    {
     "data": {
      "application/vnd.jupyter.widget-view+json": {
       "model_id": "3a73d303e3f04d74a9d7cb3821f1360c",
       "version_major": 2,
       "version_minor": 0
      },
      "text/plain": [
       "Breeding: 0it [00:00, ?it/s]"
      ]
     },
     "metadata": {},
     "output_type": "display_data"
    },
    {
     "data": {
      "application/vnd.jupyter.widget-view+json": {
       "model_id": "bace632090804684aef8c684d7eb87c0",
       "version_major": 2,
       "version_minor": 0
      },
      "text/plain": [
       "Breeding: 0it [00:00, ?it/s]"
      ]
     },
     "metadata": {},
     "output_type": "display_data"
    },
    {
     "data": {
      "application/vnd.jupyter.widget-view+json": {
       "model_id": "6cf79afb743f47f8831007d8e32a2519",
       "version_major": 2,
       "version_minor": 0
      },
      "text/plain": [
       "Breeding: 0it [00:00, ?it/s]"
      ]
     },
     "metadata": {},
     "output_type": "display_data"
    },
    {
     "data": {
      "application/vnd.jupyter.widget-view+json": {
       "model_id": "f7bc28e240d24ed4a1e66072851a21cf",
       "version_major": 2,
       "version_minor": 0
      },
      "text/plain": [
       "Breeding: 0it [00:00, ?it/s]"
      ]
     },
     "metadata": {},
     "output_type": "display_data"
    },
    {
     "data": {
      "application/vnd.jupyter.widget-view+json": {
       "model_id": "ea37d085ea9349c2b96c06afe31370cf",
       "version_major": 2,
       "version_minor": 0
      },
      "text/plain": [
       "Breeding: 0it [00:00, ?it/s]"
      ]
     },
     "metadata": {},
     "output_type": "display_data"
    },
    {
     "data": {
      "application/vnd.jupyter.widget-view+json": {
       "model_id": "037e57bc5aab41b2ba6cfa88ab24f69a",
       "version_major": 2,
       "version_minor": 0
      },
      "text/plain": [
       "Breeding: 0it [00:00, ?it/s]"
      ]
     },
     "metadata": {},
     "output_type": "display_data"
    },
    {
     "data": {
      "application/vnd.jupyter.widget-view+json": {
       "model_id": "e1c640332b914ed796b5a5864bd915ef",
       "version_major": 2,
       "version_minor": 0
      },
      "text/plain": [
       "Breeding: 0it [00:00, ?it/s]"
      ]
     },
     "metadata": {},
     "output_type": "display_data"
    },
    {
     "data": {
      "application/vnd.jupyter.widget-view+json": {
       "model_id": "42c15e3485834343980e16df00c846af",
       "version_major": 2,
       "version_minor": 0
      },
      "text/plain": [
       "Evaluating fitness:   0%|          | 0/10 [00:00<?, ?it/s]"
      ]
     },
     "metadata": {},
     "output_type": "display_data"
    },
    {
     "data": {
      "application/vnd.jupyter.widget-view+json": {
       "model_id": "18261671076f4ed2b04198bf3ff28da1",
       "version_major": 2,
       "version_minor": 0
      },
      "text/plain": [
       "Evaluating fitness:   0%|          | 0/10 [00:00<?, ?it/s]"
      ]
     },
     "metadata": {},
     "output_type": "display_data"
    },
    {
     "data": {
      "application/vnd.jupyter.widget-view+json": {
       "model_id": "d17b700ece2249d79378f51ee24151c9",
       "version_major": 2,
       "version_minor": 0
      },
      "text/plain": [
       "Evaluating fitness:   0%|          | 0/10 [00:00<?, ?it/s]"
      ]
     },
     "metadata": {},
     "output_type": "display_data"
    },
    {
     "data": {
      "application/vnd.jupyter.widget-view+json": {
       "model_id": "fee37bcd13ce454a91f3e533a5a446be",
       "version_major": 2,
       "version_minor": 0
      },
      "text/plain": [
       "Evaluating fitness:   0%|          | 0/10 [00:00<?, ?it/s]"
      ]
     },
     "metadata": {},
     "output_type": "display_data"
    },
    {
     "data": {
      "application/vnd.jupyter.widget-view+json": {
       "model_id": "2078b7fee6e74df0aa240ec23cae22d7",
       "version_major": 2,
       "version_minor": 0
      },
      "text/plain": [
       "Evaluating fitness:   0%|          | 0/10 [00:00<?, ?it/s]"
      ]
     },
     "metadata": {},
     "output_type": "display_data"
    },
    {
     "data": {
      "application/vnd.jupyter.widget-view+json": {
       "model_id": "69665a2b87214f00a35fd5c2612606f3",
       "version_major": 2,
       "version_minor": 0
      },
      "text/plain": [
       "Evaluating fitness:   0%|          | 0/10 [00:00<?, ?it/s]"
      ]
     },
     "metadata": {},
     "output_type": "display_data"
    },
    {
     "data": {
      "application/vnd.jupyter.widget-view+json": {
       "model_id": "f1abfb0f87194134be9bce00be43c6d7",
       "version_major": 2,
       "version_minor": 0
      },
      "text/plain": [
       "Evaluating fitness:   0%|          | 0/10 [00:00<?, ?it/s]"
      ]
     },
     "metadata": {},
     "output_type": "display_data"
    },
    {
     "data": {
      "application/vnd.jupyter.widget-view+json": {
       "model_id": "cd01376cd4ba42288eff5eafe0f0b080",
       "version_major": 2,
       "version_minor": 0
      },
      "text/plain": [
       "Evaluating fitness:   0%|          | 0/10 [00:00<?, ?it/s]"
      ]
     },
     "metadata": {},
     "output_type": "display_data"
    },
    {
     "data": {
      "application/vnd.jupyter.widget-view+json": {
       "model_id": "7962677e7a584858a283dfda2f8dffc8",
       "version_major": 2,
       "version_minor": 0
      },
      "text/plain": [
       "Evaluating fitness:   0%|          | 0/10 [00:00<?, ?it/s]"
      ]
     },
     "metadata": {},
     "output_type": "display_data"
    },
    {
     "data": {
      "application/vnd.jupyter.widget-view+json": {
       "model_id": "74c2b2483923483fa3a86c55aa02c60d",
       "version_major": 2,
       "version_minor": 0
      },
      "text/plain": [
       "Evaluating fitness:   0%|          | 0/10 [00:00<?, ?it/s]"
      ]
     },
     "metadata": {},
     "output_type": "display_data"
    },
    {
     "data": {
      "application/vnd.jupyter.widget-view+json": {
       "model_id": "3c1db6111855455d834315b22dae9646",
       "version_major": 2,
       "version_minor": 0
      },
      "text/plain": [
       "Evaluating fitness:   0%|          | 0/10 [00:00<?, ?it/s]"
      ]
     },
     "metadata": {},
     "output_type": "display_data"
    },
    {
     "data": {
      "application/vnd.jupyter.widget-view+json": {
       "model_id": "0f848d91fc234fee848c9949ab318844",
       "version_major": 2,
       "version_minor": 0
      },
      "text/plain": [
       "Evaluating fitness:   0%|          | 0/10 [00:00<?, ?it/s]"
      ]
     },
     "metadata": {},
     "output_type": "display_data"
    },
    {
     "data": {
      "application/vnd.jupyter.widget-view+json": {
       "model_id": "b4834b938f9642e0b3a7887e60a04ad5",
       "version_major": 2,
       "version_minor": 0
      },
      "text/plain": [
       "Evaluating fitness:   0%|          | 0/10 [00:00<?, ?it/s]"
      ]
     },
     "metadata": {},
     "output_type": "display_data"
    },
    {
     "data": {
      "application/vnd.jupyter.widget-view+json": {
       "model_id": "48b33457a04f46dc89ff4870685c7caa",
       "version_major": 2,
       "version_minor": 0
      },
      "text/plain": [
       "Evaluating fitness:   0%|          | 0/10 [00:00<?, ?it/s]"
      ]
     },
     "metadata": {},
     "output_type": "display_data"
    },
    {
     "data": {
      "application/vnd.jupyter.widget-view+json": {
       "model_id": "c670d8307fb14ca9aa7bd27d1fef42e8",
       "version_major": 2,
       "version_minor": 0
      },
      "text/plain": [
       "Evaluating fitness:   0%|          | 0/10 [00:00<?, ?it/s]"
      ]
     },
     "metadata": {},
     "output_type": "display_data"
    },
    {
     "data": {
      "application/vnd.jupyter.widget-view+json": {
       "model_id": "3e203c949f7544c980d5926a0748bfeb",
       "version_major": 2,
       "version_minor": 0
      },
      "text/plain": [
       "Evaluating fitness:   0%|          | 0/10 [00:00<?, ?it/s]"
      ]
     },
     "metadata": {},
     "output_type": "display_data"
    },
    {
     "data": {
      "application/vnd.jupyter.widget-view+json": {
       "model_id": "2e42c386cb1d4c859f6806198442b75f",
       "version_major": 2,
       "version_minor": 0
      },
      "text/plain": [
       "Evaluating fitness:   0%|          | 0/10 [00:00<?, ?it/s]"
      ]
     },
     "metadata": {},
     "output_type": "display_data"
    },
    {
     "data": {
      "application/vnd.jupyter.widget-view+json": {
       "model_id": "65eb7efc654043c8b1f9f0820cf6f38d",
       "version_major": 2,
       "version_minor": 0
      },
      "text/plain": [
       "Evaluating fitness:   0%|          | 0/10 [00:00<?, ?it/s]"
      ]
     },
     "metadata": {},
     "output_type": "display_data"
    },
    {
     "data": {
      "application/vnd.jupyter.widget-view+json": {
       "model_id": "2e7c9063486b4fd3b820b9ac4e4ec0f3",
       "version_major": 2,
       "version_minor": 0
      },
      "text/plain": [
       "Evaluating fitness:   0%|          | 0/10 [00:00<?, ?it/s]"
      ]
     },
     "metadata": {},
     "output_type": "display_data"
    },
    {
     "data": {
      "application/vnd.jupyter.widget-view+json": {
       "model_id": "a1d9c4568db14b0181d5a72d0aeeb4ff",
       "version_major": 2,
       "version_minor": 0
      },
      "text/plain": [
       "Evaluating fitness:   0%|          | 0/10 [00:00<?, ?it/s]"
      ]
     },
     "metadata": {},
     "output_type": "display_data"
    },
    {
     "data": {
      "application/vnd.jupyter.widget-view+json": {
       "model_id": "196d798847eb4f22ae4669aff0723271",
       "version_major": 2,
       "version_minor": 0
      },
      "text/plain": [
       "Evaluating fitness:   0%|          | 0/10 [00:00<?, ?it/s]"
      ]
     },
     "metadata": {},
     "output_type": "display_data"
    },
    {
     "data": {
      "application/vnd.jupyter.widget-view+json": {
       "model_id": "093e2eedd64e43fe9ac6bd11ce60e6f5",
       "version_major": 2,
       "version_minor": 0
      },
      "text/plain": [
       "Evaluating fitness:   0%|          | 0/10 [00:00<?, ?it/s]"
      ]
     },
     "metadata": {},
     "output_type": "display_data"
    },
    {
     "data": {
      "application/vnd.jupyter.widget-view+json": {
       "model_id": "b12ab7c05cb345aebe68b002eb8dd4ef",
       "version_major": 2,
       "version_minor": 0
      },
      "text/plain": [
       "Evaluating fitness:   0%|          | 0/10 [00:00<?, ?it/s]"
      ]
     },
     "metadata": {},
     "output_type": "display_data"
    },
    {
     "data": {
      "application/vnd.jupyter.widget-view+json": {
       "model_id": "421a1bd1f52b4511bc079fc1c473a7fa",
       "version_major": 2,
       "version_minor": 0
      },
      "text/plain": [
       "Evaluating fitness:   0%|          | 0/10 [00:00<?, ?it/s]"
      ]
     },
     "metadata": {},
     "output_type": "display_data"
    },
    {
     "data": {
      "application/vnd.jupyter.widget-view+json": {
       "model_id": "e900a402c15341568d9ae9fae49e21d8",
       "version_major": 2,
       "version_minor": 0
      },
      "text/plain": [
       "Evaluating fitness:   0%|          | 0/10 [00:00<?, ?it/s]"
      ]
     },
     "metadata": {},
     "output_type": "display_data"
    },
    {
     "data": {
      "application/vnd.jupyter.widget-view+json": {
       "model_id": "ccb48c89413a47f78af31968ad7f79ab",
       "version_major": 2,
       "version_minor": 0
      },
      "text/plain": [
       "Evaluating fitness:   0%|          | 0/10 [00:00<?, ?it/s]"
      ]
     },
     "metadata": {},
     "output_type": "display_data"
    },
    {
     "data": {
      "application/vnd.jupyter.widget-view+json": {
       "model_id": "f2f87f3399b4441baab585c69b332df9",
       "version_major": 2,
       "version_minor": 0
      },
      "text/plain": [
       "Evaluating fitness:   0%|          | 0/10 [00:00<?, ?it/s]"
      ]
     },
     "metadata": {},
     "output_type": "display_data"
    },
    {
     "data": {
      "application/vnd.jupyter.widget-view+json": {
       "model_id": "5f9eb18de06f4c4ba694046ecafb137a",
       "version_major": 2,
       "version_minor": 0
      },
      "text/plain": [
       "Evaluating fitness:   0%|          | 0/10 [00:00<?, ?it/s]"
      ]
     },
     "metadata": {},
     "output_type": "display_data"
    },
    {
     "data": {
      "application/vnd.jupyter.widget-view+json": {
       "model_id": "d5b06b971fe044c4afdea64909894425",
       "version_major": 2,
       "version_minor": 0
      },
      "text/plain": [
       "Evaluating fitness:   0%|          | 0/10 [00:00<?, ?it/s]"
      ]
     },
     "metadata": {},
     "output_type": "display_data"
    },
    {
     "data": {
      "application/vnd.jupyter.widget-view+json": {
       "model_id": "e8e4781405f44b888d8c3eecadb63232",
       "version_major": 2,
       "version_minor": 0
      },
      "text/plain": [
       "Evaluating fitness:   0%|          | 0/10 [00:00<?, ?it/s]"
      ]
     },
     "metadata": {},
     "output_type": "display_data"
    },
    {
     "data": {
      "application/vnd.jupyter.widget-view+json": {
       "model_id": "f0b174e8298b4653abfbe34851660086",
       "version_major": 2,
       "version_minor": 0
      },
      "text/plain": [
       "Evaluating fitness:   0%|          | 0/10 [00:00<?, ?it/s]"
      ]
     },
     "metadata": {},
     "output_type": "display_data"
    },
    {
     "data": {
      "application/vnd.jupyter.widget-view+json": {
       "model_id": "1a72f702911d4121acd828c4d1144ff9",
       "version_major": 2,
       "version_minor": 0
      },
      "text/plain": [
       "Evaluating fitness:   0%|          | 0/10 [00:00<?, ?it/s]"
      ]
     },
     "metadata": {},
     "output_type": "display_data"
    },
    {
     "data": {
      "application/vnd.jupyter.widget-view+json": {
       "model_id": "a3cf19abab3c4beca6c46b9725343399",
       "version_major": 2,
       "version_minor": 0
      },
      "text/plain": [
       "Evaluating fitness:   0%|          | 0/10 [00:00<?, ?it/s]"
      ]
     },
     "metadata": {},
     "output_type": "display_data"
    },
    {
     "data": {
      "application/vnd.jupyter.widget-view+json": {
       "model_id": "bbf3420dfc5d4af6930f569ee2381214",
       "version_major": 2,
       "version_minor": 0
      },
      "text/plain": [
       "Evaluating fitness:   0%|          | 0/10 [00:00<?, ?it/s]"
      ]
     },
     "metadata": {},
     "output_type": "display_data"
    },
    {
     "data": {
      "application/vnd.jupyter.widget-view+json": {
       "model_id": "51de534404c94ee381d873371573343d",
       "version_major": 2,
       "version_minor": 0
      },
      "text/plain": [
       "Evaluating fitness:   0%|          | 0/10 [00:00<?, ?it/s]"
      ]
     },
     "metadata": {},
     "output_type": "display_data"
    },
    {
     "data": {
      "application/vnd.jupyter.widget-view+json": {
       "model_id": "8755660e0b0149c8ba59a820c5510a03",
       "version_major": 2,
       "version_minor": 0
      },
      "text/plain": [
       "Evaluating fitness:   0%|          | 0/10 [00:00<?, ?it/s]"
      ]
     },
     "metadata": {},
     "output_type": "display_data"
    },
    {
     "data": {
      "application/vnd.jupyter.widget-view+json": {
       "model_id": "ec3313ff336945c5bb716b5273529768",
       "version_major": 2,
       "version_minor": 0
      },
      "text/plain": [
       "Evaluating fitness:   0%|          | 0/10 [00:00<?, ?it/s]"
      ]
     },
     "metadata": {},
     "output_type": "display_data"
    },
    {
     "data": {
      "application/vnd.jupyter.widget-view+json": {
       "model_id": "1cad6ac605e143558133ac1cb826b20a",
       "version_major": 2,
       "version_minor": 0
      },
      "text/plain": [
       "Evaluating fitness:   0%|          | 0/10 [00:00<?, ?it/s]"
      ]
     },
     "metadata": {},
     "output_type": "display_data"
    },
    {
     "data": {
      "application/vnd.jupyter.widget-view+json": {
       "model_id": "48f990e7d8424258a4388c96d2d860d2",
       "version_major": 2,
       "version_minor": 0
      },
      "text/plain": [
       "Evaluating fitness:   0%|          | 0/10 [00:00<?, ?it/s]"
      ]
     },
     "metadata": {},
     "output_type": "display_data"
    },
    {
     "data": {
      "application/vnd.jupyter.widget-view+json": {
       "model_id": "28700aec561d49de9d473b53d9085794",
       "version_major": 2,
       "version_minor": 0
      },
      "text/plain": [
       "Evaluating fitness:   0%|          | 0/10 [00:00<?, ?it/s]"
      ]
     },
     "metadata": {},
     "output_type": "display_data"
    },
    {
     "data": {
      "application/vnd.jupyter.widget-view+json": {
       "model_id": "370cfe340c3c467ca36539be63c3e6d8",
       "version_major": 2,
       "version_minor": 0
      },
      "text/plain": [
       "Evaluating fitness:   0%|          | 0/10 [00:00<?, ?it/s]"
      ]
     },
     "metadata": {},
     "output_type": "display_data"
    },
    {
     "data": {
      "application/vnd.jupyter.widget-view+json": {
       "model_id": "7cf93edfe37c47a68d3f37879566bc1e",
       "version_major": 2,
       "version_minor": 0
      },
      "text/plain": [
       "Evaluating fitness:   0%|          | 0/10 [00:00<?, ?it/s]"
      ]
     },
     "metadata": {},
     "output_type": "display_data"
    },
    {
     "data": {
      "application/vnd.jupyter.widget-view+json": {
       "model_id": "7e8921d9a5804e97b44d69923678664e",
       "version_major": 2,
       "version_minor": 0
      },
      "text/plain": [
       "Evaluating fitness:   0%|          | 0/10 [00:00<?, ?it/s]"
      ]
     },
     "metadata": {},
     "output_type": "display_data"
    },
    {
     "data": {
      "application/vnd.jupyter.widget-view+json": {
       "model_id": "6a538b43d34b4781abc470871cdc0564",
       "version_major": 2,
       "version_minor": 0
      },
      "text/plain": [
       "Evaluating fitness:   0%|          | 0/10 [00:00<?, ?it/s]"
      ]
     },
     "metadata": {},
     "output_type": "display_data"
    },
    {
     "data": {
      "application/vnd.jupyter.widget-view+json": {
       "model_id": "dbf25dbd0a5446efbc02c37505d41978",
       "version_major": 2,
       "version_minor": 0
      },
      "text/plain": [
       "Evaluating fitness:   0%|          | 0/10 [00:00<?, ?it/s]"
      ]
     },
     "metadata": {},
     "output_type": "display_data"
    },
    {
     "data": {
      "application/vnd.jupyter.widget-view+json": {
       "model_id": "c046931f17c84e56b540b0f7f64a5006",
       "version_major": 2,
       "version_minor": 0
      },
      "text/plain": [
       "Evaluating fitness:   0%|          | 0/10 [00:00<?, ?it/s]"
      ]
     },
     "metadata": {},
     "output_type": "display_data"
    },
    {
     "data": {
      "application/vnd.jupyter.widget-view+json": {
       "model_id": "b3c3c97beb42441fbe70464af40950bd",
       "version_major": 2,
       "version_minor": 0
      },
      "text/plain": [
       "Evaluating fitness:   0%|          | 0/10 [00:00<?, ?it/s]"
      ]
     },
     "metadata": {},
     "output_type": "display_data"
    },
    {
     "data": {
      "application/vnd.jupyter.widget-view+json": {
       "model_id": "a264890d5fa04d3582c051fc62b23456",
       "version_major": 2,
       "version_minor": 0
      },
      "text/plain": [
       "Evaluating fitness:   0%|          | 0/10 [00:00<?, ?it/s]"
      ]
     },
     "metadata": {},
     "output_type": "display_data"
    },
    {
     "data": {
      "application/vnd.jupyter.widget-view+json": {
       "model_id": "76f87c4412c64be0a6e4127ac4708c60",
       "version_major": 2,
       "version_minor": 0
      },
      "text/plain": [
       "Evaluating fitness:   0%|          | 0/10 [00:00<?, ?it/s]"
      ]
     },
     "metadata": {},
     "output_type": "display_data"
    },
    {
     "data": {
      "application/vnd.jupyter.widget-view+json": {
       "model_id": "4ed2af3affec4b70b7bb837258f8a345",
       "version_major": 2,
       "version_minor": 0
      },
      "text/plain": [
       "Evaluating fitness:   0%|          | 0/10 [00:00<?, ?it/s]"
      ]
     },
     "metadata": {},
     "output_type": "display_data"
    },
    {
     "data": {
      "application/vnd.jupyter.widget-view+json": {
       "model_id": "3ddf89b7c68242a3ad158dc84e82b249",
       "version_major": 2,
       "version_minor": 0
      },
      "text/plain": [
       "Breeding: 0it [00:00, ?it/s]"
      ]
     },
     "metadata": {},
     "output_type": "display_data"
    },
    {
     "data": {
      "application/vnd.jupyter.widget-view+json": {
       "model_id": "27cec7112b584186bd5da3d794f0a75d",
       "version_major": 2,
       "version_minor": 0
      },
      "text/plain": [
       "Breeding: 0it [00:00, ?it/s]"
      ]
     },
     "metadata": {},
     "output_type": "display_data"
    },
    {
     "data": {
      "application/vnd.jupyter.widget-view+json": {
       "model_id": "0331abb81dff437eb4507ee06292171a",
       "version_major": 2,
       "version_minor": 0
      },
      "text/plain": [
       "Breeding: 0it [00:00, ?it/s]"
      ]
     },
     "metadata": {},
     "output_type": "display_data"
    },
    {
     "data": {
      "application/vnd.jupyter.widget-view+json": {
       "model_id": "30c762602f7948d5a5aadcccf028f390",
       "version_major": 2,
       "version_minor": 0
      },
      "text/plain": [
       "Breeding: 0it [00:00, ?it/s]"
      ]
     },
     "metadata": {},
     "output_type": "display_data"
    },
    {
     "data": {
      "application/vnd.jupyter.widget-view+json": {
       "model_id": "b5cef6c0d0d84591b7a9fadc50641132",
       "version_major": 2,
       "version_minor": 0
      },
      "text/plain": [
       "Breeding: 0it [00:00, ?it/s]"
      ]
     },
     "metadata": {},
     "output_type": "display_data"
    },
    {
     "data": {
      "application/vnd.jupyter.widget-view+json": {
       "model_id": "3332950c2bee4764905c490b4458bbe3",
       "version_major": 2,
       "version_minor": 0
      },
      "text/plain": [
       "Breeding: 0it [00:00, ?it/s]"
      ]
     },
     "metadata": {},
     "output_type": "display_data"
    },
    {
     "data": {
      "application/vnd.jupyter.widget-view+json": {
       "model_id": "330bfa08a35747d4acd8b1bc2424dd2a",
       "version_major": 2,
       "version_minor": 0
      },
      "text/plain": [
       "Breeding: 0it [00:00, ?it/s]"
      ]
     },
     "metadata": {},
     "output_type": "display_data"
    },
    {
     "data": {
      "application/vnd.jupyter.widget-view+json": {
       "model_id": "eae7659e07d84debb7a0251a737beb7f",
       "version_major": 2,
       "version_minor": 0
      },
      "text/plain": [
       "Breeding: 0it [00:00, ?it/s]"
      ]
     },
     "metadata": {},
     "output_type": "display_data"
    },
    {
     "data": {
      "application/vnd.jupyter.widget-view+json": {
       "model_id": "24677a5969e84b7cbcf11f77d4d6dc49",
       "version_major": 2,
       "version_minor": 0
      },
      "text/plain": [
       "Breeding: 0it [00:00, ?it/s]"
      ]
     },
     "metadata": {},
     "output_type": "display_data"
    },
    {
     "data": {
      "application/vnd.jupyter.widget-view+json": {
       "model_id": "91312f4e7a354e9e8ecef5cb1750319e",
       "version_major": 2,
       "version_minor": 0
      },
      "text/plain": [
       "Breeding: 0it [00:00, ?it/s]"
      ]
     },
     "metadata": {},
     "output_type": "display_data"
    },
    {
     "data": {
      "application/vnd.jupyter.widget-view+json": {
       "model_id": "ed3766f4e2f04a51a9208d1ca23b32d6",
       "version_major": 2,
       "version_minor": 0
      },
      "text/plain": [
       "Breeding: 0it [00:00, ?it/s]"
      ]
     },
     "metadata": {},
     "output_type": "display_data"
    },
    {
     "data": {
      "application/vnd.jupyter.widget-view+json": {
       "model_id": "aeb847ec9fa346bca795aa6c62fc1cd2",
       "version_major": 2,
       "version_minor": 0
      },
      "text/plain": [
       "Breeding: 0it [00:00, ?it/s]"
      ]
     },
     "metadata": {},
     "output_type": "display_data"
    },
    {
     "data": {
      "application/vnd.jupyter.widget-view+json": {
       "model_id": "baff482166db4c1681db6e7b863a90be",
       "version_major": 2,
       "version_minor": 0
      },
      "text/plain": [
       "Breeding: 0it [00:00, ?it/s]"
      ]
     },
     "metadata": {},
     "output_type": "display_data"
    },
    {
     "data": {
      "application/vnd.jupyter.widget-view+json": {
       "model_id": "5516032b119c4389ba386ae8f34941e3",
       "version_major": 2,
       "version_minor": 0
      },
      "text/plain": [
       "Breeding: 0it [00:00, ?it/s]"
      ]
     },
     "metadata": {},
     "output_type": "display_data"
    },
    {
     "data": {
      "application/vnd.jupyter.widget-view+json": {
       "model_id": "2a857eb69c214b0782947be120b72f73",
       "version_major": 2,
       "version_minor": 0
      },
      "text/plain": [
       "Breeding: 0it [00:00, ?it/s]"
      ]
     },
     "metadata": {},
     "output_type": "display_data"
    },
    {
     "data": {
      "application/vnd.jupyter.widget-view+json": {
       "model_id": "7e9fcf33944b4d639fa20e10a7d8b42d",
       "version_major": 2,
       "version_minor": 0
      },
      "text/plain": [
       "Breeding: 0it [00:00, ?it/s]"
      ]
     },
     "metadata": {},
     "output_type": "display_data"
    },
    {
     "data": {
      "application/vnd.jupyter.widget-view+json": {
       "model_id": "f6de25e92b73458b87aba542ff9555d8",
       "version_major": 2,
       "version_minor": 0
      },
      "text/plain": [
       "Breeding: 0it [00:00, ?it/s]"
      ]
     },
     "metadata": {},
     "output_type": "display_data"
    },
    {
     "data": {
      "application/vnd.jupyter.widget-view+json": {
       "model_id": "318e44a2c2704e19ab4ecc551ea87eff",
       "version_major": 2,
       "version_minor": 0
      },
      "text/plain": [
       "Breeding: 0it [00:00, ?it/s]"
      ]
     },
     "metadata": {},
     "output_type": "display_data"
    },
    {
     "data": {
      "application/vnd.jupyter.widget-view+json": {
       "model_id": "4c294f75e2894d96a0de59e4d9d2e16c",
       "version_major": 2,
       "version_minor": 0
      },
      "text/plain": [
       "Breeding: 0it [00:00, ?it/s]"
      ]
     },
     "metadata": {},
     "output_type": "display_data"
    },
    {
     "data": {
      "application/vnd.jupyter.widget-view+json": {
       "model_id": "78e6154061ae47fa9db07ea33c34869f",
       "version_major": 2,
       "version_minor": 0
      },
      "text/plain": [
       "Breeding: 0it [00:00, ?it/s]"
      ]
     },
     "metadata": {},
     "output_type": "display_data"
    },
    {
     "data": {
      "application/vnd.jupyter.widget-view+json": {
       "model_id": "bbab456e5b1f4ec9bbc4cb18e355f8f3",
       "version_major": 2,
       "version_minor": 0
      },
      "text/plain": [
       "Breeding: 0it [00:00, ?it/s]"
      ]
     },
     "metadata": {},
     "output_type": "display_data"
    },
    {
     "data": {
      "application/vnd.jupyter.widget-view+json": {
       "model_id": "5773cfcee1214e848295695d3b1d433b",
       "version_major": 2,
       "version_minor": 0
      },
      "text/plain": [
       "Breeding: 0it [00:00, ?it/s]"
      ]
     },
     "metadata": {},
     "output_type": "display_data"
    },
    {
     "data": {
      "application/vnd.jupyter.widget-view+json": {
       "model_id": "2e6031f851094fc6b88a27349b8c6494",
       "version_major": 2,
       "version_minor": 0
      },
      "text/plain": [
       "Breeding: 0it [00:00, ?it/s]"
      ]
     },
     "metadata": {},
     "output_type": "display_data"
    },
    {
     "data": {
      "application/vnd.jupyter.widget-view+json": {
       "model_id": "ea6bf4285b4e414c953a2ed8330a2a3e",
       "version_major": 2,
       "version_minor": 0
      },
      "text/plain": [
       "Breeding: 0it [00:00, ?it/s]"
      ]
     },
     "metadata": {},
     "output_type": "display_data"
    },
    {
     "data": {
      "application/vnd.jupyter.widget-view+json": {
       "model_id": "831b30e9aaf7469db494e09e3b014b6d",
       "version_major": 2,
       "version_minor": 0
      },
      "text/plain": [
       "Breeding: 0it [00:00, ?it/s]"
      ]
     },
     "metadata": {},
     "output_type": "display_data"
    },
    {
     "data": {
      "application/vnd.jupyter.widget-view+json": {
       "model_id": "6ca2d3543ff7471a844288ef655a605f",
       "version_major": 2,
       "version_minor": 0
      },
      "text/plain": [
       "Breeding: 0it [00:00, ?it/s]"
      ]
     },
     "metadata": {},
     "output_type": "display_data"
    },
    {
     "data": {
      "application/vnd.jupyter.widget-view+json": {
       "model_id": "bca09077607a43f8849d80a76de65917",
       "version_major": 2,
       "version_minor": 0
      },
      "text/plain": [
       "Breeding: 0it [00:00, ?it/s]"
      ]
     },
     "metadata": {},
     "output_type": "display_data"
    },
    {
     "data": {
      "application/vnd.jupyter.widget-view+json": {
       "model_id": "b427ef463ec747319917caed07addbe2",
       "version_major": 2,
       "version_minor": 0
      },
      "text/plain": [
       "Breeding: 0it [00:00, ?it/s]"
      ]
     },
     "metadata": {},
     "output_type": "display_data"
    },
    {
     "data": {
      "application/vnd.jupyter.widget-view+json": {
       "model_id": "0b36c49dea4c4190a3d2e781d7ad5de8",
       "version_major": 2,
       "version_minor": 0
      },
      "text/plain": [
       "Breeding: 0it [00:00, ?it/s]"
      ]
     },
     "metadata": {},
     "output_type": "display_data"
    },
    {
     "data": {
      "application/vnd.jupyter.widget-view+json": {
       "model_id": "3e96291dfbd949a9b3b9ce6e975f47ac",
       "version_major": 2,
       "version_minor": 0
      },
      "text/plain": [
       "Breeding: 0it [00:00, ?it/s]"
      ]
     },
     "metadata": {},
     "output_type": "display_data"
    },
    {
     "data": {
      "application/vnd.jupyter.widget-view+json": {
       "model_id": "5c72ab7f9c6744c0b51b04940c922ddc",
       "version_major": 2,
       "version_minor": 0
      },
      "text/plain": [
       "Breeding: 0it [00:00, ?it/s]"
      ]
     },
     "metadata": {},
     "output_type": "display_data"
    },
    {
     "data": {
      "application/vnd.jupyter.widget-view+json": {
       "model_id": "d81d1657812d40f18708aebb945cf7ed",
       "version_major": 2,
       "version_minor": 0
      },
      "text/plain": [
       "Breeding: 0it [00:00, ?it/s]"
      ]
     },
     "metadata": {},
     "output_type": "display_data"
    },
    {
     "data": {
      "application/vnd.jupyter.widget-view+json": {
       "model_id": "827037ae7c064983bccb73018e9014fd",
       "version_major": 2,
       "version_minor": 0
      },
      "text/plain": [
       "Breeding: 0it [00:00, ?it/s]"
      ]
     },
     "metadata": {},
     "output_type": "display_data"
    },
    {
     "data": {
      "application/vnd.jupyter.widget-view+json": {
       "model_id": "ed4e0df060a14e9e92d975e6aee9529d",
       "version_major": 2,
       "version_minor": 0
      },
      "text/plain": [
       "Breeding: 0it [00:00, ?it/s]"
      ]
     },
     "metadata": {},
     "output_type": "display_data"
    },
    {
     "data": {
      "application/vnd.jupyter.widget-view+json": {
       "model_id": "ebb6cd98f70f467c9a799c9789e167e3",
       "version_major": 2,
       "version_minor": 0
      },
      "text/plain": [
       "Breeding: 0it [00:00, ?it/s]"
      ]
     },
     "metadata": {},
     "output_type": "display_data"
    },
    {
     "data": {
      "application/vnd.jupyter.widget-view+json": {
       "model_id": "0cf918a3aac2490297e73e96d8c2e287",
       "version_major": 2,
       "version_minor": 0
      },
      "text/plain": [
       "Breeding: 0it [00:00, ?it/s]"
      ]
     },
     "metadata": {},
     "output_type": "display_data"
    },
    {
     "data": {
      "application/vnd.jupyter.widget-view+json": {
       "model_id": "9ef6311494e8463daab4205025a662fb",
       "version_major": 2,
       "version_minor": 0
      },
      "text/plain": [
       "Breeding: 0it [00:00, ?it/s]"
      ]
     },
     "metadata": {},
     "output_type": "display_data"
    },
    {
     "data": {
      "application/vnd.jupyter.widget-view+json": {
       "model_id": "4882c63e843a43a99fcf4f0dc534612c",
       "version_major": 2,
       "version_minor": 0
      },
      "text/plain": [
       "Breeding: 0it [00:00, ?it/s]"
      ]
     },
     "metadata": {},
     "output_type": "display_data"
    },
    {
     "data": {
      "application/vnd.jupyter.widget-view+json": {
       "model_id": "ab30798c0e884b53b4983387bbd1855b",
       "version_major": 2,
       "version_minor": 0
      },
      "text/plain": [
       "Breeding: 0it [00:00, ?it/s]"
      ]
     },
     "metadata": {},
     "output_type": "display_data"
    },
    {
     "data": {
      "application/vnd.jupyter.widget-view+json": {
       "model_id": "cc5925ece2074ca6b9962a03b71209a1",
       "version_major": 2,
       "version_minor": 0
      },
      "text/plain": [
       "Breeding: 0it [00:00, ?it/s]"
      ]
     },
     "metadata": {},
     "output_type": "display_data"
    },
    {
     "data": {
      "application/vnd.jupyter.widget-view+json": {
       "model_id": "879a5676bdbd4483a9df57a7197fd84b",
       "version_major": 2,
       "version_minor": 0
      },
      "text/plain": [
       "Breeding: 0it [00:00, ?it/s]"
      ]
     },
     "metadata": {},
     "output_type": "display_data"
    },
    {
     "data": {
      "application/vnd.jupyter.widget-view+json": {
       "model_id": "5c4d9141de3a4088988429a0a7606069",
       "version_major": 2,
       "version_minor": 0
      },
      "text/plain": [
       "Breeding: 0it [00:00, ?it/s]"
      ]
     },
     "metadata": {},
     "output_type": "display_data"
    },
    {
     "data": {
      "application/vnd.jupyter.widget-view+json": {
       "model_id": "cb59e2b65f8946b4abedc3fcc997321c",
       "version_major": 2,
       "version_minor": 0
      },
      "text/plain": [
       "Breeding: 0it [00:00, ?it/s]"
      ]
     },
     "metadata": {},
     "output_type": "display_data"
    },
    {
     "data": {
      "application/vnd.jupyter.widget-view+json": {
       "model_id": "6aa59d08af3c4155a10a215be2eb04ba",
       "version_major": 2,
       "version_minor": 0
      },
      "text/plain": [
       "Breeding: 0it [00:00, ?it/s]"
      ]
     },
     "metadata": {},
     "output_type": "display_data"
    },
    {
     "data": {
      "application/vnd.jupyter.widget-view+json": {
       "model_id": "670170ac511c44b795491a55d7b0532d",
       "version_major": 2,
       "version_minor": 0
      },
      "text/plain": [
       "Breeding: 0it [00:00, ?it/s]"
      ]
     },
     "metadata": {},
     "output_type": "display_data"
    },
    {
     "data": {
      "application/vnd.jupyter.widget-view+json": {
       "model_id": "86cb4899cce344baa1f8cc88fbe398a5",
       "version_major": 2,
       "version_minor": 0
      },
      "text/plain": [
       "Breeding: 0it [00:00, ?it/s]"
      ]
     },
     "metadata": {},
     "output_type": "display_data"
    },
    {
     "data": {
      "application/vnd.jupyter.widget-view+json": {
       "model_id": "d912f4c8f8fb4788b2ae82e88a5b652d",
       "version_major": 2,
       "version_minor": 0
      },
      "text/plain": [
       "Breeding: 0it [00:00, ?it/s]"
      ]
     },
     "metadata": {},
     "output_type": "display_data"
    },
    {
     "data": {
      "application/vnd.jupyter.widget-view+json": {
       "model_id": "60331ec33faf48c788fb3ee615c5d652",
       "version_major": 2,
       "version_minor": 0
      },
      "text/plain": [
       "Breeding: 0it [00:00, ?it/s]"
      ]
     },
     "metadata": {},
     "output_type": "display_data"
    },
    {
     "data": {
      "application/vnd.jupyter.widget-view+json": {
       "model_id": "426f796fe1aa4de1b50b8419b07b5ae6",
       "version_major": 2,
       "version_minor": 0
      },
      "text/plain": [
       "Breeding: 0it [00:00, ?it/s]"
      ]
     },
     "metadata": {},
     "output_type": "display_data"
    },
    {
     "data": {
      "application/vnd.jupyter.widget-view+json": {
       "model_id": "ec8ab1e9d47f471e9dd56a613b5069c1",
       "version_major": 2,
       "version_minor": 0
      },
      "text/plain": [
       "Breeding: 0it [00:00, ?it/s]"
      ]
     },
     "metadata": {},
     "output_type": "display_data"
    },
    {
     "data": {
      "application/vnd.jupyter.widget-view+json": {
       "model_id": "398a7937808c4b11afc698831e78f1b0",
       "version_major": 2,
       "version_minor": 0
      },
      "text/plain": [
       "Breeding: 0it [00:00, ?it/s]"
      ]
     },
     "metadata": {},
     "output_type": "display_data"
    },
    {
     "data": {
      "application/vnd.jupyter.widget-view+json": {
       "model_id": "37f95b20e485483080c64ce212f2411e",
       "version_major": 2,
       "version_minor": 0
      },
      "text/plain": [
       "Evaluating fitness:   0%|          | 0/10 [00:00<?, ?it/s]"
      ]
     },
     "metadata": {},
     "output_type": "display_data"
    },
    {
     "data": {
      "application/vnd.jupyter.widget-view+json": {
       "model_id": "dd3adedc0ed842afb5d76dc29239d7f7",
       "version_major": 2,
       "version_minor": 0
      },
      "text/plain": [
       "Evaluating fitness:   0%|          | 0/10 [00:00<?, ?it/s]"
      ]
     },
     "metadata": {},
     "output_type": "display_data"
    },
    {
     "data": {
      "application/vnd.jupyter.widget-view+json": {
       "model_id": "abd7c948c6de48f997eabbf82617f2b4",
       "version_major": 2,
       "version_minor": 0
      },
      "text/plain": [
       "Evaluating fitness:   0%|          | 0/10 [00:00<?, ?it/s]"
      ]
     },
     "metadata": {},
     "output_type": "display_data"
    },
    {
     "data": {
      "application/vnd.jupyter.widget-view+json": {
       "model_id": "d5fc7127929447188ddd9a11dec4c608",
       "version_major": 2,
       "version_minor": 0
      },
      "text/plain": [
       "Evaluating fitness:   0%|          | 0/10 [00:00<?, ?it/s]"
      ]
     },
     "metadata": {},
     "output_type": "display_data"
    },
    {
     "data": {
      "application/vnd.jupyter.widget-view+json": {
       "model_id": "979a7caf1dd543b3a663a48ac5b2e8b8",
       "version_major": 2,
       "version_minor": 0
      },
      "text/plain": [
       "Evaluating fitness:   0%|          | 0/10 [00:00<?, ?it/s]"
      ]
     },
     "metadata": {},
     "output_type": "display_data"
    },
    {
     "data": {
      "application/vnd.jupyter.widget-view+json": {
       "model_id": "ad8ffc037804468aa0d108b57f091e97",
       "version_major": 2,
       "version_minor": 0
      },
      "text/plain": [
       "Evaluating fitness:   0%|          | 0/10 [00:00<?, ?it/s]"
      ]
     },
     "metadata": {},
     "output_type": "display_data"
    },
    {
     "data": {
      "application/vnd.jupyter.widget-view+json": {
       "model_id": "550ab50ea82a41ffab5a916efe6fa666",
       "version_major": 2,
       "version_minor": 0
      },
      "text/plain": [
       "Evaluating fitness:   0%|          | 0/10 [00:00<?, ?it/s]"
      ]
     },
     "metadata": {},
     "output_type": "display_data"
    },
    {
     "data": {
      "application/vnd.jupyter.widget-view+json": {
       "model_id": "223cee73266d486c96901bc964be079b",
       "version_major": 2,
       "version_minor": 0
      },
      "text/plain": [
       "Evaluating fitness:   0%|          | 0/10 [00:00<?, ?it/s]"
      ]
     },
     "metadata": {},
     "output_type": "display_data"
    },
    {
     "data": {
      "application/vnd.jupyter.widget-view+json": {
       "model_id": "99bf1e095103437386460764095ed794",
       "version_major": 2,
       "version_minor": 0
      },
      "text/plain": [
       "Evaluating fitness:   0%|          | 0/10 [00:00<?, ?it/s]"
      ]
     },
     "metadata": {},
     "output_type": "display_data"
    },
    {
     "data": {
      "application/vnd.jupyter.widget-view+json": {
       "model_id": "dbaa0d078e4f4f65bd88ebbae93a5779",
       "version_major": 2,
       "version_minor": 0
      },
      "text/plain": [
       "Evaluating fitness:   0%|          | 0/10 [00:00<?, ?it/s]"
      ]
     },
     "metadata": {},
     "output_type": "display_data"
    },
    {
     "data": {
      "application/vnd.jupyter.widget-view+json": {
       "model_id": "7335152acfa245fbadaa9abe44920e0b",
       "version_major": 2,
       "version_minor": 0
      },
      "text/plain": [
       "Evaluating fitness:   0%|          | 0/10 [00:00<?, ?it/s]"
      ]
     },
     "metadata": {},
     "output_type": "display_data"
    },
    {
     "data": {
      "application/vnd.jupyter.widget-view+json": {
       "model_id": "88067a91f00c495c93d68eb234e4b0d1",
       "version_major": 2,
       "version_minor": 0
      },
      "text/plain": [
       "Evaluating fitness:   0%|          | 0/10 [00:00<?, ?it/s]"
      ]
     },
     "metadata": {},
     "output_type": "display_data"
    },
    {
     "data": {
      "application/vnd.jupyter.widget-view+json": {
       "model_id": "e20345438d4849468b543dd57aedfdbd",
       "version_major": 2,
       "version_minor": 0
      },
      "text/plain": [
       "Evaluating fitness:   0%|          | 0/10 [00:00<?, ?it/s]"
      ]
     },
     "metadata": {},
     "output_type": "display_data"
    },
    {
     "data": {
      "application/vnd.jupyter.widget-view+json": {
       "model_id": "e552ec1d51db42c1852a49555abb7fa0",
       "version_major": 2,
       "version_minor": 0
      },
      "text/plain": [
       "Evaluating fitness:   0%|          | 0/10 [00:00<?, ?it/s]"
      ]
     },
     "metadata": {},
     "output_type": "display_data"
    },
    {
     "data": {
      "application/vnd.jupyter.widget-view+json": {
       "model_id": "302d0bd24ed94151a5ccce1bcb80b7dc",
       "version_major": 2,
       "version_minor": 0
      },
      "text/plain": [
       "Evaluating fitness:   0%|          | 0/10 [00:00<?, ?it/s]"
      ]
     },
     "metadata": {},
     "output_type": "display_data"
    },
    {
     "data": {
      "application/vnd.jupyter.widget-view+json": {
       "model_id": "f4902301466640e4840c3ea8847548f4",
       "version_major": 2,
       "version_minor": 0
      },
      "text/plain": [
       "Evaluating fitness:   0%|          | 0/10 [00:00<?, ?it/s]"
      ]
     },
     "metadata": {},
     "output_type": "display_data"
    },
    {
     "data": {
      "application/vnd.jupyter.widget-view+json": {
       "model_id": "215fe13fad5b44bf982a3c22d12c87bc",
       "version_major": 2,
       "version_minor": 0
      },
      "text/plain": [
       "Evaluating fitness:   0%|          | 0/10 [00:00<?, ?it/s]"
      ]
     },
     "metadata": {},
     "output_type": "display_data"
    },
    {
     "data": {
      "application/vnd.jupyter.widget-view+json": {
       "model_id": "a5906d916d664948b61bd054968a18e6",
       "version_major": 2,
       "version_minor": 0
      },
      "text/plain": [
       "Evaluating fitness:   0%|          | 0/10 [00:00<?, ?it/s]"
      ]
     },
     "metadata": {},
     "output_type": "display_data"
    },
    {
     "data": {
      "application/vnd.jupyter.widget-view+json": {
       "model_id": "ee1924a5e1234b7e85e7cf6f0f41a126",
       "version_major": 2,
       "version_minor": 0
      },
      "text/plain": [
       "Evaluating fitness:   0%|          | 0/10 [00:00<?, ?it/s]"
      ]
     },
     "metadata": {},
     "output_type": "display_data"
    },
    {
     "data": {
      "application/vnd.jupyter.widget-view+json": {
       "model_id": "dbf45414574c4d85aada82a927fd8284",
       "version_major": 2,
       "version_minor": 0
      },
      "text/plain": [
       "Evaluating fitness:   0%|          | 0/10 [00:00<?, ?it/s]"
      ]
     },
     "metadata": {},
     "output_type": "display_data"
    },
    {
     "data": {
      "application/vnd.jupyter.widget-view+json": {
       "model_id": "b095fc10176044168e6796bc6440fad6",
       "version_major": 2,
       "version_minor": 0
      },
      "text/plain": [
       "Evaluating fitness:   0%|          | 0/10 [00:00<?, ?it/s]"
      ]
     },
     "metadata": {},
     "output_type": "display_data"
    },
    {
     "data": {
      "application/vnd.jupyter.widget-view+json": {
       "model_id": "0ae787c0850346b7989d09b5a490242c",
       "version_major": 2,
       "version_minor": 0
      },
      "text/plain": [
       "Evaluating fitness:   0%|          | 0/10 [00:00<?, ?it/s]"
      ]
     },
     "metadata": {},
     "output_type": "display_data"
    },
    {
     "data": {
      "application/vnd.jupyter.widget-view+json": {
       "model_id": "e814b8ab081e42d6afdd8e140e72b8e6",
       "version_major": 2,
       "version_minor": 0
      },
      "text/plain": [
       "Evaluating fitness:   0%|          | 0/10 [00:00<?, ?it/s]"
      ]
     },
     "metadata": {},
     "output_type": "display_data"
    },
    {
     "data": {
      "application/vnd.jupyter.widget-view+json": {
       "model_id": "e367b6907c524db6ae61006773e374b9",
       "version_major": 2,
       "version_minor": 0
      },
      "text/plain": [
       "Evaluating fitness:   0%|          | 0/10 [00:00<?, ?it/s]"
      ]
     },
     "metadata": {},
     "output_type": "display_data"
    },
    {
     "data": {
      "application/vnd.jupyter.widget-view+json": {
       "model_id": "79a3b2516366473aae125d35c0ed839b",
       "version_major": 2,
       "version_minor": 0
      },
      "text/plain": [
       "Evaluating fitness:   0%|          | 0/10 [00:00<?, ?it/s]"
      ]
     },
     "metadata": {},
     "output_type": "display_data"
    },
    {
     "data": {
      "application/vnd.jupyter.widget-view+json": {
       "model_id": "f4ae68bac1704df3b174b0c5bb405d48",
       "version_major": 2,
       "version_minor": 0
      },
      "text/plain": [
       "Evaluating fitness:   0%|          | 0/10 [00:00<?, ?it/s]"
      ]
     },
     "metadata": {},
     "output_type": "display_data"
    },
    {
     "data": {
      "application/vnd.jupyter.widget-view+json": {
       "model_id": "ce6111fd7f5342418fd77b20f59bf1d7",
       "version_major": 2,
       "version_minor": 0
      },
      "text/plain": [
       "Evaluating fitness:   0%|          | 0/10 [00:00<?, ?it/s]"
      ]
     },
     "metadata": {},
     "output_type": "display_data"
    },
    {
     "data": {
      "application/vnd.jupyter.widget-view+json": {
       "model_id": "79c84845472d4100a04169bbb25cde35",
       "version_major": 2,
       "version_minor": 0
      },
      "text/plain": [
       "Evaluating fitness:   0%|          | 0/10 [00:00<?, ?it/s]"
      ]
     },
     "metadata": {},
     "output_type": "display_data"
    },
    {
     "data": {
      "application/vnd.jupyter.widget-view+json": {
       "model_id": "054aaca1f51e477f837e404cb855be77",
       "version_major": 2,
       "version_minor": 0
      },
      "text/plain": [
       "Evaluating fitness:   0%|          | 0/10 [00:00<?, ?it/s]"
      ]
     },
     "metadata": {},
     "output_type": "display_data"
    },
    {
     "data": {
      "application/vnd.jupyter.widget-view+json": {
       "model_id": "89c46da9afcb4860bf9a25c3508e8c84",
       "version_major": 2,
       "version_minor": 0
      },
      "text/plain": [
       "Evaluating fitness:   0%|          | 0/10 [00:00<?, ?it/s]"
      ]
     },
     "metadata": {},
     "output_type": "display_data"
    },
    {
     "data": {
      "application/vnd.jupyter.widget-view+json": {
       "model_id": "f31349194a7a47f2b72d13e755059ef3",
       "version_major": 2,
       "version_minor": 0
      },
      "text/plain": [
       "Evaluating fitness:   0%|          | 0/10 [00:00<?, ?it/s]"
      ]
     },
     "metadata": {},
     "output_type": "display_data"
    },
    {
     "data": {
      "application/vnd.jupyter.widget-view+json": {
       "model_id": "a354884ff25d4f6ca82a51f8c3b9fa7b",
       "version_major": 2,
       "version_minor": 0
      },
      "text/plain": [
       "Evaluating fitness:   0%|          | 0/10 [00:00<?, ?it/s]"
      ]
     },
     "metadata": {},
     "output_type": "display_data"
    },
    {
     "data": {
      "application/vnd.jupyter.widget-view+json": {
       "model_id": "a6e2b59fbe8e40a8a8be2c93f81dc72a",
       "version_major": 2,
       "version_minor": 0
      },
      "text/plain": [
       "Evaluating fitness:   0%|          | 0/10 [00:00<?, ?it/s]"
      ]
     },
     "metadata": {},
     "output_type": "display_data"
    },
    {
     "data": {
      "application/vnd.jupyter.widget-view+json": {
       "model_id": "98797156352e4d1fb4246ce2afe1144e",
       "version_major": 2,
       "version_minor": 0
      },
      "text/plain": [
       "Evaluating fitness:   0%|          | 0/10 [00:00<?, ?it/s]"
      ]
     },
     "metadata": {},
     "output_type": "display_data"
    },
    {
     "data": {
      "application/vnd.jupyter.widget-view+json": {
       "model_id": "58a0896d89fd4e93b62f265138dd7b0e",
       "version_major": 2,
       "version_minor": 0
      },
      "text/plain": [
       "Evaluating fitness:   0%|          | 0/10 [00:00<?, ?it/s]"
      ]
     },
     "metadata": {},
     "output_type": "display_data"
    },
    {
     "data": {
      "application/vnd.jupyter.widget-view+json": {
       "model_id": "24af79dc8980437eb6992f22da95c765",
       "version_major": 2,
       "version_minor": 0
      },
      "text/plain": [
       "Evaluating fitness:   0%|          | 0/10 [00:00<?, ?it/s]"
      ]
     },
     "metadata": {},
     "output_type": "display_data"
    },
    {
     "data": {
      "application/vnd.jupyter.widget-view+json": {
       "model_id": "28465eef96e54d2698b7097a6fec8e1f",
       "version_major": 2,
       "version_minor": 0
      },
      "text/plain": [
       "Evaluating fitness:   0%|          | 0/10 [00:00<?, ?it/s]"
      ]
     },
     "metadata": {},
     "output_type": "display_data"
    },
    {
     "data": {
      "application/vnd.jupyter.widget-view+json": {
       "model_id": "a51ed9ca3cee45d6b281c4108b461397",
       "version_major": 2,
       "version_minor": 0
      },
      "text/plain": [
       "Evaluating fitness:   0%|          | 0/10 [00:00<?, ?it/s]"
      ]
     },
     "metadata": {},
     "output_type": "display_data"
    },
    {
     "data": {
      "application/vnd.jupyter.widget-view+json": {
       "model_id": "104c04c962404d07be518ffe4a05ee56",
       "version_major": 2,
       "version_minor": 0
      },
      "text/plain": [
       "Evaluating fitness:   0%|          | 0/10 [00:00<?, ?it/s]"
      ]
     },
     "metadata": {},
     "output_type": "display_data"
    },
    {
     "data": {
      "application/vnd.jupyter.widget-view+json": {
       "model_id": "107ce0be4c0240d2808a663784571cc4",
       "version_major": 2,
       "version_minor": 0
      },
      "text/plain": [
       "Evaluating fitness:   0%|          | 0/10 [00:00<?, ?it/s]"
      ]
     },
     "metadata": {},
     "output_type": "display_data"
    },
    {
     "data": {
      "application/vnd.jupyter.widget-view+json": {
       "model_id": "c1ed186a9dc5468aac97d94b7ead770b",
       "version_major": 2,
       "version_minor": 0
      },
      "text/plain": [
       "Evaluating fitness:   0%|          | 0/10 [00:00<?, ?it/s]"
      ]
     },
     "metadata": {},
     "output_type": "display_data"
    },
    {
     "data": {
      "application/vnd.jupyter.widget-view+json": {
       "model_id": "5c4b77a12b0946e0befefdcec5a45ec0",
       "version_major": 2,
       "version_minor": 0
      },
      "text/plain": [
       "Evaluating fitness:   0%|          | 0/10 [00:00<?, ?it/s]"
      ]
     },
     "metadata": {},
     "output_type": "display_data"
    },
    {
     "data": {
      "application/vnd.jupyter.widget-view+json": {
       "model_id": "006673a472c741c7847cbefa0ecb1d4e",
       "version_major": 2,
       "version_minor": 0
      },
      "text/plain": [
       "Evaluating fitness:   0%|          | 0/10 [00:00<?, ?it/s]"
      ]
     },
     "metadata": {},
     "output_type": "display_data"
    },
    {
     "data": {
      "application/vnd.jupyter.widget-view+json": {
       "model_id": "d20da50d2a244b35b125565e5afb96b3",
       "version_major": 2,
       "version_minor": 0
      },
      "text/plain": [
       "Evaluating fitness:   0%|          | 0/10 [00:00<?, ?it/s]"
      ]
     },
     "metadata": {},
     "output_type": "display_data"
    },
    {
     "data": {
      "application/vnd.jupyter.widget-view+json": {
       "model_id": "058d4d8035b047b6887cd68406091f9b",
       "version_major": 2,
       "version_minor": 0
      },
      "text/plain": [
       "Evaluating fitness:   0%|          | 0/10 [00:00<?, ?it/s]"
      ]
     },
     "metadata": {},
     "output_type": "display_data"
    },
    {
     "data": {
      "application/vnd.jupyter.widget-view+json": {
       "model_id": "5446c1dd8acd45709188f5b900823ed5",
       "version_major": 2,
       "version_minor": 0
      },
      "text/plain": [
       "Evaluating fitness:   0%|          | 0/10 [00:00<?, ?it/s]"
      ]
     },
     "metadata": {},
     "output_type": "display_data"
    },
    {
     "data": {
      "application/vnd.jupyter.widget-view+json": {
       "model_id": "54ff5eac320c4163bfbaaf09982399cf",
       "version_major": 2,
       "version_minor": 0
      },
      "text/plain": [
       "Evaluating fitness:   0%|          | 0/10 [00:00<?, ?it/s]"
      ]
     },
     "metadata": {},
     "output_type": "display_data"
    },
    {
     "data": {
      "application/vnd.jupyter.widget-view+json": {
       "model_id": "1d03ccbf1de546c9b06acd57e23a2ead",
       "version_major": 2,
       "version_minor": 0
      },
      "text/plain": [
       "Evaluating fitness:   0%|          | 0/10 [00:00<?, ?it/s]"
      ]
     },
     "metadata": {},
     "output_type": "display_data"
    },
    {
     "data": {
      "application/vnd.jupyter.widget-view+json": {
       "model_id": "b2d756ff91b844cbab3cfd8f399da61c",
       "version_major": 2,
       "version_minor": 0
      },
      "text/plain": [
       "Evaluating fitness:   0%|          | 0/10 [00:00<?, ?it/s]"
      ]
     },
     "metadata": {},
     "output_type": "display_data"
    },
    {
     "data": {
      "application/vnd.jupyter.widget-view+json": {
       "model_id": "814fbb38c62e402ea59fe0f3c12f46ba",
       "version_major": 2,
       "version_minor": 0
      },
      "text/plain": [
       "Evaluating fitness:   0%|          | 0/10 [00:00<?, ?it/s]"
      ]
     },
     "metadata": {},
     "output_type": "display_data"
    },
    {
     "data": {
      "application/vnd.jupyter.widget-view+json": {
       "model_id": "27b7699ebb904541afbdef61cd51b612",
       "version_major": 2,
       "version_minor": 0
      },
      "text/plain": [
       "Breeding: 0it [00:00, ?it/s]"
      ]
     },
     "metadata": {},
     "output_type": "display_data"
    },
    {
     "data": {
      "application/vnd.jupyter.widget-view+json": {
       "model_id": "de6fd35f81414d2d8a4e99b0aab6e015",
       "version_major": 2,
       "version_minor": 0
      },
      "text/plain": [
       "Breeding: 0it [00:00, ?it/s]"
      ]
     },
     "metadata": {},
     "output_type": "display_data"
    },
    {
     "data": {
      "application/vnd.jupyter.widget-view+json": {
       "model_id": "82152631dba94375ade888ba3ac8e89e",
       "version_major": 2,
       "version_minor": 0
      },
      "text/plain": [
       "Breeding: 0it [00:00, ?it/s]"
      ]
     },
     "metadata": {},
     "output_type": "display_data"
    },
    {
     "data": {
      "application/vnd.jupyter.widget-view+json": {
       "model_id": "ba17fbc2ed7c4fd595c0999bc7e6855a",
       "version_major": 2,
       "version_minor": 0
      },
      "text/plain": [
       "Breeding: 0it [00:00, ?it/s]"
      ]
     },
     "metadata": {},
     "output_type": "display_data"
    },
    {
     "data": {
      "application/vnd.jupyter.widget-view+json": {
       "model_id": "e1a1b100f3cb45878de8de39a7338576",
       "version_major": 2,
       "version_minor": 0
      },
      "text/plain": [
       "Breeding: 0it [00:00, ?it/s]"
      ]
     },
     "metadata": {},
     "output_type": "display_data"
    },
    {
     "data": {
      "application/vnd.jupyter.widget-view+json": {
       "model_id": "f3b76b62e23642d4bb264b95d389a0aa",
       "version_major": 2,
       "version_minor": 0
      },
      "text/plain": [
       "Breeding: 0it [00:00, ?it/s]"
      ]
     },
     "metadata": {},
     "output_type": "display_data"
    },
    {
     "data": {
      "application/vnd.jupyter.widget-view+json": {
       "model_id": "9c550477c0c5453fbe103c86b20a5a07",
       "version_major": 2,
       "version_minor": 0
      },
      "text/plain": [
       "Breeding: 0it [00:00, ?it/s]"
      ]
     },
     "metadata": {},
     "output_type": "display_data"
    },
    {
     "data": {
      "application/vnd.jupyter.widget-view+json": {
       "model_id": "bfb87fc6f93f497781efc97bc996cc30",
       "version_major": 2,
       "version_minor": 0
      },
      "text/plain": [
       "Breeding: 0it [00:00, ?it/s]"
      ]
     },
     "metadata": {},
     "output_type": "display_data"
    },
    {
     "data": {
      "application/vnd.jupyter.widget-view+json": {
       "model_id": "7045fcd178e44e7f89ca3366448884d5",
       "version_major": 2,
       "version_minor": 0
      },
      "text/plain": [
       "Breeding: 0it [00:00, ?it/s]"
      ]
     },
     "metadata": {},
     "output_type": "display_data"
    },
    {
     "data": {
      "application/vnd.jupyter.widget-view+json": {
       "model_id": "0f4dba504b1948dba37cdb4d34fe5b66",
       "version_major": 2,
       "version_minor": 0
      },
      "text/plain": [
       "Breeding: 0it [00:00, ?it/s]"
      ]
     },
     "metadata": {},
     "output_type": "display_data"
    },
    {
     "data": {
      "application/vnd.jupyter.widget-view+json": {
       "model_id": "effac74d293947e0a48baa78aff76766",
       "version_major": 2,
       "version_minor": 0
      },
      "text/plain": [
       "Breeding: 0it [00:00, ?it/s]"
      ]
     },
     "metadata": {},
     "output_type": "display_data"
    },
    {
     "data": {
      "application/vnd.jupyter.widget-view+json": {
       "model_id": "2352c0c958034c7b9d5347251e8dd35b",
       "version_major": 2,
       "version_minor": 0
      },
      "text/plain": [
       "Breeding: 0it [00:00, ?it/s]"
      ]
     },
     "metadata": {},
     "output_type": "display_data"
    },
    {
     "data": {
      "application/vnd.jupyter.widget-view+json": {
       "model_id": "e6b3722aacc5472894cfda7abc30a6bc",
       "version_major": 2,
       "version_minor": 0
      },
      "text/plain": [
       "Breeding: 0it [00:00, ?it/s]"
      ]
     },
     "metadata": {},
     "output_type": "display_data"
    },
    {
     "data": {
      "application/vnd.jupyter.widget-view+json": {
       "model_id": "3f89b827dda14da8b99f204bdc765d2f",
       "version_major": 2,
       "version_minor": 0
      },
      "text/plain": [
       "Breeding: 0it [00:00, ?it/s]"
      ]
     },
     "metadata": {},
     "output_type": "display_data"
    },
    {
     "data": {
      "application/vnd.jupyter.widget-view+json": {
       "model_id": "e9635328fa4e4459b9a8fa88e5dde7a5",
       "version_major": 2,
       "version_minor": 0
      },
      "text/plain": [
       "Breeding: 0it [00:00, ?it/s]"
      ]
     },
     "metadata": {},
     "output_type": "display_data"
    },
    {
     "data": {
      "application/vnd.jupyter.widget-view+json": {
       "model_id": "93ce0a9c2178487287bc346fc9effdb5",
       "version_major": 2,
       "version_minor": 0
      },
      "text/plain": [
       "Breeding: 0it [00:00, ?it/s]"
      ]
     },
     "metadata": {},
     "output_type": "display_data"
    },
    {
     "data": {
      "application/vnd.jupyter.widget-view+json": {
       "model_id": "4853ef383c8946999deb016366cfe273",
       "version_major": 2,
       "version_minor": 0
      },
      "text/plain": [
       "Breeding: 0it [00:00, ?it/s]"
      ]
     },
     "metadata": {},
     "output_type": "display_data"
    },
    {
     "data": {
      "application/vnd.jupyter.widget-view+json": {
       "model_id": "ec71984263ea4a6bab5624b7f028c43b",
       "version_major": 2,
       "version_minor": 0
      },
      "text/plain": [
       "Breeding: 0it [00:00, ?it/s]"
      ]
     },
     "metadata": {},
     "output_type": "display_data"
    },
    {
     "data": {
      "application/vnd.jupyter.widget-view+json": {
       "model_id": "ee578dc26619401ab2e8676013edcb47",
       "version_major": 2,
       "version_minor": 0
      },
      "text/plain": [
       "Breeding: 0it [00:00, ?it/s]"
      ]
     },
     "metadata": {},
     "output_type": "display_data"
    },
    {
     "data": {
      "application/vnd.jupyter.widget-view+json": {
       "model_id": "a2e14b2621d44395b85797c47e7495ee",
       "version_major": 2,
       "version_minor": 0
      },
      "text/plain": [
       "Breeding: 0it [00:00, ?it/s]"
      ]
     },
     "metadata": {},
     "output_type": "display_data"
    },
    {
     "data": {
      "application/vnd.jupyter.widget-view+json": {
       "model_id": "44d6d38ed411490791740f52262eff27",
       "version_major": 2,
       "version_minor": 0
      },
      "text/plain": [
       "Breeding: 0it [00:00, ?it/s]"
      ]
     },
     "metadata": {},
     "output_type": "display_data"
    },
    {
     "data": {
      "application/vnd.jupyter.widget-view+json": {
       "model_id": "ff34baca6af04240a613c2f383ee84a4",
       "version_major": 2,
       "version_minor": 0
      },
      "text/plain": [
       "Breeding: 0it [00:00, ?it/s]"
      ]
     },
     "metadata": {},
     "output_type": "display_data"
    },
    {
     "data": {
      "application/vnd.jupyter.widget-view+json": {
       "model_id": "099c657769124f769cbbfea3d022549f",
       "version_major": 2,
       "version_minor": 0
      },
      "text/plain": [
       "Breeding: 0it [00:00, ?it/s]"
      ]
     },
     "metadata": {},
     "output_type": "display_data"
    },
    {
     "data": {
      "application/vnd.jupyter.widget-view+json": {
       "model_id": "40af3d8a61eb421c9fb0a6177eda4545",
       "version_major": 2,
       "version_minor": 0
      },
      "text/plain": [
       "Breeding: 0it [00:00, ?it/s]"
      ]
     },
     "metadata": {},
     "output_type": "display_data"
    },
    {
     "data": {
      "application/vnd.jupyter.widget-view+json": {
       "model_id": "71a94ba1e6aa40188e16064285d8613e",
       "version_major": 2,
       "version_minor": 0
      },
      "text/plain": [
       "Breeding: 0it [00:00, ?it/s]"
      ]
     },
     "metadata": {},
     "output_type": "display_data"
    },
    {
     "data": {
      "application/vnd.jupyter.widget-view+json": {
       "model_id": "b4eced5df42b47fd937184bedf0f2bd8",
       "version_major": 2,
       "version_minor": 0
      },
      "text/plain": [
       "Breeding: 0it [00:00, ?it/s]"
      ]
     },
     "metadata": {},
     "output_type": "display_data"
    },
    {
     "data": {
      "application/vnd.jupyter.widget-view+json": {
       "model_id": "466946a142cb47c488cc17955aa2b346",
       "version_major": 2,
       "version_minor": 0
      },
      "text/plain": [
       "Breeding: 0it [00:00, ?it/s]"
      ]
     },
     "metadata": {},
     "output_type": "display_data"
    },
    {
     "data": {
      "application/vnd.jupyter.widget-view+json": {
       "model_id": "2d551980dbf747619b576b5f49093456",
       "version_major": 2,
       "version_minor": 0
      },
      "text/plain": [
       "Breeding: 0it [00:00, ?it/s]"
      ]
     },
     "metadata": {},
     "output_type": "display_data"
    },
    {
     "data": {
      "application/vnd.jupyter.widget-view+json": {
       "model_id": "e09c36fe6e5449d48daee4fcdd60a295",
       "version_major": 2,
       "version_minor": 0
      },
      "text/plain": [
       "Breeding: 0it [00:00, ?it/s]"
      ]
     },
     "metadata": {},
     "output_type": "display_data"
    },
    {
     "data": {
      "application/vnd.jupyter.widget-view+json": {
       "model_id": "a0324c06924647a39069f2f7d6c8e970",
       "version_major": 2,
       "version_minor": 0
      },
      "text/plain": [
       "Breeding: 0it [00:00, ?it/s]"
      ]
     },
     "metadata": {},
     "output_type": "display_data"
    },
    {
     "data": {
      "application/vnd.jupyter.widget-view+json": {
       "model_id": "20026ef949764e239251390d27858aae",
       "version_major": 2,
       "version_minor": 0
      },
      "text/plain": [
       "Breeding: 0it [00:00, ?it/s]"
      ]
     },
     "metadata": {},
     "output_type": "display_data"
    },
    {
     "data": {
      "application/vnd.jupyter.widget-view+json": {
       "model_id": "b4f8e094c38c429181286310c335db9e",
       "version_major": 2,
       "version_minor": 0
      },
      "text/plain": [
       "Breeding: 0it [00:00, ?it/s]"
      ]
     },
     "metadata": {},
     "output_type": "display_data"
    },
    {
     "data": {
      "application/vnd.jupyter.widget-view+json": {
       "model_id": "9508ee23752e490dbd87119c5299be78",
       "version_major": 2,
       "version_minor": 0
      },
      "text/plain": [
       "Breeding: 0it [00:00, ?it/s]"
      ]
     },
     "metadata": {},
     "output_type": "display_data"
    },
    {
     "data": {
      "application/vnd.jupyter.widget-view+json": {
       "model_id": "979ca23c2c314107989dc7faca6bd8b9",
       "version_major": 2,
       "version_minor": 0
      },
      "text/plain": [
       "Breeding: 0it [00:00, ?it/s]"
      ]
     },
     "metadata": {},
     "output_type": "display_data"
    },
    {
     "data": {
      "application/vnd.jupyter.widget-view+json": {
       "model_id": "67bfe9c53b3349bfade2987dca2933f5",
       "version_major": 2,
       "version_minor": 0
      },
      "text/plain": [
       "Breeding: 0it [00:00, ?it/s]"
      ]
     },
     "metadata": {},
     "output_type": "display_data"
    },
    {
     "data": {
      "application/vnd.jupyter.widget-view+json": {
       "model_id": "e7b8101a59d24c568e2117afe5b610ab",
       "version_major": 2,
       "version_minor": 0
      },
      "text/plain": [
       "Breeding: 0it [00:00, ?it/s]"
      ]
     },
     "metadata": {},
     "output_type": "display_data"
    },
    {
     "data": {
      "application/vnd.jupyter.widget-view+json": {
       "model_id": "1e8b968492ba450a9b95b61a723e0214",
       "version_major": 2,
       "version_minor": 0
      },
      "text/plain": [
       "Breeding: 0it [00:00, ?it/s]"
      ]
     },
     "metadata": {},
     "output_type": "display_data"
    },
    {
     "data": {
      "application/vnd.jupyter.widget-view+json": {
       "model_id": "2dadc3eed2f744b8a4791a111b0b10f3",
       "version_major": 2,
       "version_minor": 0
      },
      "text/plain": [
       "Breeding: 0it [00:00, ?it/s]"
      ]
     },
     "metadata": {},
     "output_type": "display_data"
    },
    {
     "data": {
      "application/vnd.jupyter.widget-view+json": {
       "model_id": "fdeee303b314424db12889471c05375a",
       "version_major": 2,
       "version_minor": 0
      },
      "text/plain": [
       "Breeding: 0it [00:00, ?it/s]"
      ]
     },
     "metadata": {},
     "output_type": "display_data"
    },
    {
     "data": {
      "application/vnd.jupyter.widget-view+json": {
       "model_id": "bdecbd4df7e94b18a8e0b600430f48a2",
       "version_major": 2,
       "version_minor": 0
      },
      "text/plain": [
       "Breeding: 0it [00:00, ?it/s]"
      ]
     },
     "metadata": {},
     "output_type": "display_data"
    },
    {
     "data": {
      "application/vnd.jupyter.widget-view+json": {
       "model_id": "a750a3d04b7a480081eaee97ee429c1d",
       "version_major": 2,
       "version_minor": 0
      },
      "text/plain": [
       "Breeding: 0it [00:00, ?it/s]"
      ]
     },
     "metadata": {},
     "output_type": "display_data"
    },
    {
     "data": {
      "application/vnd.jupyter.widget-view+json": {
       "model_id": "9941b23f464c4326a456847f5fb9ac6d",
       "version_major": 2,
       "version_minor": 0
      },
      "text/plain": [
       "Breeding: 0it [00:00, ?it/s]"
      ]
     },
     "metadata": {},
     "output_type": "display_data"
    },
    {
     "data": {
      "application/vnd.jupyter.widget-view+json": {
       "model_id": "cfd60367bbdd43debdf0866054f22e2b",
       "version_major": 2,
       "version_minor": 0
      },
      "text/plain": [
       "Breeding: 0it [00:00, ?it/s]"
      ]
     },
     "metadata": {},
     "output_type": "display_data"
    },
    {
     "data": {
      "application/vnd.jupyter.widget-view+json": {
       "model_id": "f5c419f63794416d8c4e852982aa3cbf",
       "version_major": 2,
       "version_minor": 0
      },
      "text/plain": [
       "Breeding: 0it [00:00, ?it/s]"
      ]
     },
     "metadata": {},
     "output_type": "display_data"
    },
    {
     "data": {
      "application/vnd.jupyter.widget-view+json": {
       "model_id": "a2dea8fffbed462ab90599dc9aaae580",
       "version_major": 2,
       "version_minor": 0
      },
      "text/plain": [
       "Breeding: 0it [00:00, ?it/s]"
      ]
     },
     "metadata": {},
     "output_type": "display_data"
    },
    {
     "data": {
      "application/vnd.jupyter.widget-view+json": {
       "model_id": "f524f09808824cb7bfba26eaa545b5ee",
       "version_major": 2,
       "version_minor": 0
      },
      "text/plain": [
       "Breeding: 0it [00:00, ?it/s]"
      ]
     },
     "metadata": {},
     "output_type": "display_data"
    },
    {
     "data": {
      "application/vnd.jupyter.widget-view+json": {
       "model_id": "9d7e580098db46d2920e5c39e3f9ceef",
       "version_major": 2,
       "version_minor": 0
      },
      "text/plain": [
       "Breeding: 0it [00:00, ?it/s]"
      ]
     },
     "metadata": {},
     "output_type": "display_data"
    },
    {
     "data": {
      "application/vnd.jupyter.widget-view+json": {
       "model_id": "d604a915e190488bb00a4e2f9824fa3b",
       "version_major": 2,
       "version_minor": 0
      },
      "text/plain": [
       "Breeding: 0it [00:00, ?it/s]"
      ]
     },
     "metadata": {},
     "output_type": "display_data"
    },
    {
     "data": {
      "application/vnd.jupyter.widget-view+json": {
       "model_id": "15533e51f248458c88cbc862ef3fd247",
       "version_major": 2,
       "version_minor": 0
      },
      "text/plain": [
       "Breeding: 0it [00:00, ?it/s]"
      ]
     },
     "metadata": {},
     "output_type": "display_data"
    },
    {
     "data": {
      "application/vnd.jupyter.widget-view+json": {
       "model_id": "5a0ae2b28eb348f28c793054ebe8458e",
       "version_major": 2,
       "version_minor": 0
      },
      "text/plain": [
       "Breeding: 0it [00:00, ?it/s]"
      ]
     },
     "metadata": {},
     "output_type": "display_data"
    },
    {
     "data": {
      "application/vnd.jupyter.widget-view+json": {
       "model_id": "e65e75236b4c41cba4673487da398dc5",
       "version_major": 2,
       "version_minor": 0
      },
      "text/plain": [
       "Breeding: 0it [00:00, ?it/s]"
      ]
     },
     "metadata": {},
     "output_type": "display_data"
    },
    {
     "data": {
      "application/vnd.jupyter.widget-view+json": {
       "model_id": "77ce18828c604f6ab60d68dca79ec598",
       "version_major": 2,
       "version_minor": 0
      },
      "text/plain": [
       "Evaluating fitness:   0%|          | 0/10 [00:00<?, ?it/s]"
      ]
     },
     "metadata": {},
     "output_type": "display_data"
    },
    {
     "data": {
      "application/vnd.jupyter.widget-view+json": {
       "model_id": "814856e23e5c434ca0603f2c8f8813de",
       "version_major": 2,
       "version_minor": 0
      },
      "text/plain": [
       "Evaluating fitness:   0%|          | 0/10 [00:00<?, ?it/s]"
      ]
     },
     "metadata": {},
     "output_type": "display_data"
    },
    {
     "data": {
      "application/vnd.jupyter.widget-view+json": {
       "model_id": "e423feff5fd140cf8be27b158ecf1ac0",
       "version_major": 2,
       "version_minor": 0
      },
      "text/plain": [
       "Evaluating fitness:   0%|          | 0/10 [00:00<?, ?it/s]"
      ]
     },
     "metadata": {},
     "output_type": "display_data"
    },
    {
     "data": {
      "application/vnd.jupyter.widget-view+json": {
       "model_id": "37e507d6642e4a26a906658721000240",
       "version_major": 2,
       "version_minor": 0
      },
      "text/plain": [
       "Evaluating fitness:   0%|          | 0/10 [00:00<?, ?it/s]"
      ]
     },
     "metadata": {},
     "output_type": "display_data"
    },
    {
     "data": {
      "application/vnd.jupyter.widget-view+json": {
       "model_id": "c3153d9d51d74709b595df07baac104d",
       "version_major": 2,
       "version_minor": 0
      },
      "text/plain": [
       "Evaluating fitness:   0%|          | 0/10 [00:00<?, ?it/s]"
      ]
     },
     "metadata": {},
     "output_type": "display_data"
    },
    {
     "data": {
      "application/vnd.jupyter.widget-view+json": {
       "model_id": "88ffc4c2627347cfb0611dd5c93b2453",
       "version_major": 2,
       "version_minor": 0
      },
      "text/plain": [
       "Evaluating fitness:   0%|          | 0/10 [00:00<?, ?it/s]"
      ]
     },
     "metadata": {},
     "output_type": "display_data"
    },
    {
     "data": {
      "application/vnd.jupyter.widget-view+json": {
       "model_id": "49e1972ec5d5490d8eb8942f176f4eee",
       "version_major": 2,
       "version_minor": 0
      },
      "text/plain": [
       "Evaluating fitness:   0%|          | 0/10 [00:00<?, ?it/s]"
      ]
     },
     "metadata": {},
     "output_type": "display_data"
    },
    {
     "data": {
      "application/vnd.jupyter.widget-view+json": {
       "model_id": "fd5cea7641a342b08679a02ead55fc44",
       "version_major": 2,
       "version_minor": 0
      },
      "text/plain": [
       "Evaluating fitness:   0%|          | 0/10 [00:00<?, ?it/s]"
      ]
     },
     "metadata": {},
     "output_type": "display_data"
    },
    {
     "data": {
      "application/vnd.jupyter.widget-view+json": {
       "model_id": "fa467e992ac142959ac9edc2a8a35b6f",
       "version_major": 2,
       "version_minor": 0
      },
      "text/plain": [
       "Evaluating fitness:   0%|          | 0/10 [00:00<?, ?it/s]"
      ]
     },
     "metadata": {},
     "output_type": "display_data"
    },
    {
     "data": {
      "application/vnd.jupyter.widget-view+json": {
       "model_id": "3c6142d92d8f47e78a29b3769f02c9c0",
       "version_major": 2,
       "version_minor": 0
      },
      "text/plain": [
       "Evaluating fitness:   0%|          | 0/10 [00:00<?, ?it/s]"
      ]
     },
     "metadata": {},
     "output_type": "display_data"
    },
    {
     "data": {
      "application/vnd.jupyter.widget-view+json": {
       "model_id": "8be5882fe8b24ba3ac0f766037082d6b",
       "version_major": 2,
       "version_minor": 0
      },
      "text/plain": [
       "Evaluating fitness:   0%|          | 0/10 [00:00<?, ?it/s]"
      ]
     },
     "metadata": {},
     "output_type": "display_data"
    },
    {
     "data": {
      "application/vnd.jupyter.widget-view+json": {
       "model_id": "88f07ed8eb1f4cba9b8ae1f636348888",
       "version_major": 2,
       "version_minor": 0
      },
      "text/plain": [
       "Evaluating fitness:   0%|          | 0/10 [00:00<?, ?it/s]"
      ]
     },
     "metadata": {},
     "output_type": "display_data"
    },
    {
     "data": {
      "application/vnd.jupyter.widget-view+json": {
       "model_id": "cc58831486e54732b64b483c53569db8",
       "version_major": 2,
       "version_minor": 0
      },
      "text/plain": [
       "Evaluating fitness:   0%|          | 0/10 [00:00<?, ?it/s]"
      ]
     },
     "metadata": {},
     "output_type": "display_data"
    },
    {
     "data": {
      "application/vnd.jupyter.widget-view+json": {
       "model_id": "9b8dbd40363b479c9a098567de38ffea",
       "version_major": 2,
       "version_minor": 0
      },
      "text/plain": [
       "Evaluating fitness:   0%|          | 0/10 [00:00<?, ?it/s]"
      ]
     },
     "metadata": {},
     "output_type": "display_data"
    },
    {
     "data": {
      "application/vnd.jupyter.widget-view+json": {
       "model_id": "754da89290c84f4980af71809ee8cb1d",
       "version_major": 2,
       "version_minor": 0
      },
      "text/plain": [
       "Evaluating fitness:   0%|          | 0/10 [00:00<?, ?it/s]"
      ]
     },
     "metadata": {},
     "output_type": "display_data"
    },
    {
     "data": {
      "application/vnd.jupyter.widget-view+json": {
       "model_id": "735dc9eb54254601a3292416bece419e",
       "version_major": 2,
       "version_minor": 0
      },
      "text/plain": [
       "Evaluating fitness:   0%|          | 0/10 [00:00<?, ?it/s]"
      ]
     },
     "metadata": {},
     "output_type": "display_data"
    },
    {
     "data": {
      "application/vnd.jupyter.widget-view+json": {
       "model_id": "c9b56c1b8547428abacd85a267925c08",
       "version_major": 2,
       "version_minor": 0
      },
      "text/plain": [
       "Evaluating fitness:   0%|          | 0/10 [00:00<?, ?it/s]"
      ]
     },
     "metadata": {},
     "output_type": "display_data"
    },
    {
     "data": {
      "application/vnd.jupyter.widget-view+json": {
       "model_id": "4ccb04d2638b424ba3a53868f5260a2f",
       "version_major": 2,
       "version_minor": 0
      },
      "text/plain": [
       "Evaluating fitness:   0%|          | 0/10 [00:00<?, ?it/s]"
      ]
     },
     "metadata": {},
     "output_type": "display_data"
    },
    {
     "data": {
      "application/vnd.jupyter.widget-view+json": {
       "model_id": "a642a129d2cd495294a13c247d05a15c",
       "version_major": 2,
       "version_minor": 0
      },
      "text/plain": [
       "Evaluating fitness:   0%|          | 0/10 [00:00<?, ?it/s]"
      ]
     },
     "metadata": {},
     "output_type": "display_data"
    },
    {
     "data": {
      "application/vnd.jupyter.widget-view+json": {
       "model_id": "a084d7084d814655bfee9e4f2cf13504",
       "version_major": 2,
       "version_minor": 0
      },
      "text/plain": [
       "Evaluating fitness:   0%|          | 0/10 [00:00<?, ?it/s]"
      ]
     },
     "metadata": {},
     "output_type": "display_data"
    },
    {
     "data": {
      "application/vnd.jupyter.widget-view+json": {
       "model_id": "291e9035087f4e26a6e59054d7c07d9f",
       "version_major": 2,
       "version_minor": 0
      },
      "text/plain": [
       "Evaluating fitness:   0%|          | 0/10 [00:00<?, ?it/s]"
      ]
     },
     "metadata": {},
     "output_type": "display_data"
    },
    {
     "data": {
      "application/vnd.jupyter.widget-view+json": {
       "model_id": "e6d5bdd25cd64d829c3619a2ec3b66dc",
       "version_major": 2,
       "version_minor": 0
      },
      "text/plain": [
       "Evaluating fitness:   0%|          | 0/10 [00:00<?, ?it/s]"
      ]
     },
     "metadata": {},
     "output_type": "display_data"
    },
    {
     "data": {
      "application/vnd.jupyter.widget-view+json": {
       "model_id": "8b1426b2050e456f84ddcfce7ca723f1",
       "version_major": 2,
       "version_minor": 0
      },
      "text/plain": [
       "Evaluating fitness:   0%|          | 0/10 [00:00<?, ?it/s]"
      ]
     },
     "metadata": {},
     "output_type": "display_data"
    },
    {
     "data": {
      "application/vnd.jupyter.widget-view+json": {
       "model_id": "427a7726b85b4366a5bf5e6cc0ee5da4",
       "version_major": 2,
       "version_minor": 0
      },
      "text/plain": [
       "Evaluating fitness:   0%|          | 0/10 [00:00<?, ?it/s]"
      ]
     },
     "metadata": {},
     "output_type": "display_data"
    },
    {
     "data": {
      "application/vnd.jupyter.widget-view+json": {
       "model_id": "2bbd6efcf0864dcabd2d85ad474db2cc",
       "version_major": 2,
       "version_minor": 0
      },
      "text/plain": [
       "Evaluating fitness:   0%|          | 0/10 [00:00<?, ?it/s]"
      ]
     },
     "metadata": {},
     "output_type": "display_data"
    },
    {
     "data": {
      "application/vnd.jupyter.widget-view+json": {
       "model_id": "16644164184f43dbb6622fa0331ff38e",
       "version_major": 2,
       "version_minor": 0
      },
      "text/plain": [
       "Evaluating fitness:   0%|          | 0/10 [00:00<?, ?it/s]"
      ]
     },
     "metadata": {},
     "output_type": "display_data"
    },
    {
     "data": {
      "application/vnd.jupyter.widget-view+json": {
       "model_id": "3bb206e96fff48dbbb70836e4205839d",
       "version_major": 2,
       "version_minor": 0
      },
      "text/plain": [
       "Evaluating fitness:   0%|          | 0/10 [00:00<?, ?it/s]"
      ]
     },
     "metadata": {},
     "output_type": "display_data"
    },
    {
     "data": {
      "application/vnd.jupyter.widget-view+json": {
       "model_id": "bc7f5b346afe43f5ac681333573d6462",
       "version_major": 2,
       "version_minor": 0
      },
      "text/plain": [
       "Evaluating fitness:   0%|          | 0/10 [00:00<?, ?it/s]"
      ]
     },
     "metadata": {},
     "output_type": "display_data"
    },
    {
     "data": {
      "application/vnd.jupyter.widget-view+json": {
       "model_id": "a981ac6e7cad4231bd8d11bdee80e9cd",
       "version_major": 2,
       "version_minor": 0
      },
      "text/plain": [
       "Evaluating fitness:   0%|          | 0/10 [00:00<?, ?it/s]"
      ]
     },
     "metadata": {},
     "output_type": "display_data"
    },
    {
     "data": {
      "application/vnd.jupyter.widget-view+json": {
       "model_id": "3d7f1e712fc54996a7cc0b479eac2ce3",
       "version_major": 2,
       "version_minor": 0
      },
      "text/plain": [
       "Evaluating fitness:   0%|          | 0/10 [00:00<?, ?it/s]"
      ]
     },
     "metadata": {},
     "output_type": "display_data"
    },
    {
     "data": {
      "application/vnd.jupyter.widget-view+json": {
       "model_id": "e717447c442c4fedb29de45e1ca5cd51",
       "version_major": 2,
       "version_minor": 0
      },
      "text/plain": [
       "Evaluating fitness:   0%|          | 0/10 [00:00<?, ?it/s]"
      ]
     },
     "metadata": {},
     "output_type": "display_data"
    },
    {
     "data": {
      "application/vnd.jupyter.widget-view+json": {
       "model_id": "66a3a59530e54a18bda7a3c9aef4e795",
       "version_major": 2,
       "version_minor": 0
      },
      "text/plain": [
       "Evaluating fitness:   0%|          | 0/10 [00:00<?, ?it/s]"
      ]
     },
     "metadata": {},
     "output_type": "display_data"
    },
    {
     "data": {
      "application/vnd.jupyter.widget-view+json": {
       "model_id": "f30bf0930f384e71a60f87b90d3db4ed",
       "version_major": 2,
       "version_minor": 0
      },
      "text/plain": [
       "Evaluating fitness:   0%|          | 0/10 [00:00<?, ?it/s]"
      ]
     },
     "metadata": {},
     "output_type": "display_data"
    },
    {
     "data": {
      "application/vnd.jupyter.widget-view+json": {
       "model_id": "b74cb26068c143f79a4cf99e1d4da5e8",
       "version_major": 2,
       "version_minor": 0
      },
      "text/plain": [
       "Evaluating fitness:   0%|          | 0/10 [00:00<?, ?it/s]"
      ]
     },
     "metadata": {},
     "output_type": "display_data"
    },
    {
     "data": {
      "application/vnd.jupyter.widget-view+json": {
       "model_id": "8f77b01fdb994e64b43e6bf35f354c88",
       "version_major": 2,
       "version_minor": 0
      },
      "text/plain": [
       "Evaluating fitness:   0%|          | 0/10 [00:00<?, ?it/s]"
      ]
     },
     "metadata": {},
     "output_type": "display_data"
    },
    {
     "data": {
      "application/vnd.jupyter.widget-view+json": {
       "model_id": "bf8dd02600a145f696a2b3e459926921",
       "version_major": 2,
       "version_minor": 0
      },
      "text/plain": [
       "Evaluating fitness:   0%|          | 0/10 [00:00<?, ?it/s]"
      ]
     },
     "metadata": {},
     "output_type": "display_data"
    },
    {
     "data": {
      "application/vnd.jupyter.widget-view+json": {
       "model_id": "fb082844121644199c6e887fa4f2df78",
       "version_major": 2,
       "version_minor": 0
      },
      "text/plain": [
       "Evaluating fitness:   0%|          | 0/10 [00:00<?, ?it/s]"
      ]
     },
     "metadata": {},
     "output_type": "display_data"
    },
    {
     "data": {
      "application/vnd.jupyter.widget-view+json": {
       "model_id": "27f6dae46a2948109ee81e404cf113c6",
       "version_major": 2,
       "version_minor": 0
      },
      "text/plain": [
       "Evaluating fitness:   0%|          | 0/10 [00:00<?, ?it/s]"
      ]
     },
     "metadata": {},
     "output_type": "display_data"
    },
    {
     "data": {
      "application/vnd.jupyter.widget-view+json": {
       "model_id": "fc36104e17cd482181071078c1c8eb81",
       "version_major": 2,
       "version_minor": 0
      },
      "text/plain": [
       "Evaluating fitness:   0%|          | 0/10 [00:00<?, ?it/s]"
      ]
     },
     "metadata": {},
     "output_type": "display_data"
    },
    {
     "data": {
      "application/vnd.jupyter.widget-view+json": {
       "model_id": "0d4b22b0bce64ec8bf1fea719739eb3a",
       "version_major": 2,
       "version_minor": 0
      },
      "text/plain": [
       "Evaluating fitness:   0%|          | 0/10 [00:00<?, ?it/s]"
      ]
     },
     "metadata": {},
     "output_type": "display_data"
    },
    {
     "data": {
      "application/vnd.jupyter.widget-view+json": {
       "model_id": "f29af90875f54de591cde5ac534e445f",
       "version_major": 2,
       "version_minor": 0
      },
      "text/plain": [
       "Evaluating fitness:   0%|          | 0/10 [00:00<?, ?it/s]"
      ]
     },
     "metadata": {},
     "output_type": "display_data"
    },
    {
     "data": {
      "application/vnd.jupyter.widget-view+json": {
       "model_id": "8fad8e5a2eee45ff83175c2e955e3272",
       "version_major": 2,
       "version_minor": 0
      },
      "text/plain": [
       "Evaluating fitness:   0%|          | 0/10 [00:00<?, ?it/s]"
      ]
     },
     "metadata": {},
     "output_type": "display_data"
    },
    {
     "data": {
      "application/vnd.jupyter.widget-view+json": {
       "model_id": "b41f6eee113641e7a85f3e06722c0ca3",
       "version_major": 2,
       "version_minor": 0
      },
      "text/plain": [
       "Evaluating fitness:   0%|          | 0/10 [00:00<?, ?it/s]"
      ]
     },
     "metadata": {},
     "output_type": "display_data"
    },
    {
     "data": {
      "application/vnd.jupyter.widget-view+json": {
       "model_id": "0748d66b4930447abfd13e9c8abd94c4",
       "version_major": 2,
       "version_minor": 0
      },
      "text/plain": [
       "Evaluating fitness:   0%|          | 0/10 [00:00<?, ?it/s]"
      ]
     },
     "metadata": {},
     "output_type": "display_data"
    },
    {
     "data": {
      "application/vnd.jupyter.widget-view+json": {
       "model_id": "f386f05974a143559aa98d3e2e991d39",
       "version_major": 2,
       "version_minor": 0
      },
      "text/plain": [
       "Evaluating fitness:   0%|          | 0/10 [00:00<?, ?it/s]"
      ]
     },
     "metadata": {},
     "output_type": "display_data"
    },
    {
     "data": {
      "application/vnd.jupyter.widget-view+json": {
       "model_id": "1d0543ce3ec148219cc51fce71a21f8b",
       "version_major": 2,
       "version_minor": 0
      },
      "text/plain": [
       "Evaluating fitness:   0%|          | 0/10 [00:00<?, ?it/s]"
      ]
     },
     "metadata": {},
     "output_type": "display_data"
    },
    {
     "data": {
      "application/vnd.jupyter.widget-view+json": {
       "model_id": "23373a455d8f4e4c81dd02c8f869c0f9",
       "version_major": 2,
       "version_minor": 0
      },
      "text/plain": [
       "Evaluating fitness:   0%|          | 0/10 [00:00<?, ?it/s]"
      ]
     },
     "metadata": {},
     "output_type": "display_data"
    },
    {
     "data": {
      "application/vnd.jupyter.widget-view+json": {
       "model_id": "f1df2f98e4f24f468bec84515861b295",
       "version_major": 2,
       "version_minor": 0
      },
      "text/plain": [
       "Evaluating fitness:   0%|          | 0/10 [00:00<?, ?it/s]"
      ]
     },
     "metadata": {},
     "output_type": "display_data"
    },
    {
     "data": {
      "application/vnd.jupyter.widget-view+json": {
       "model_id": "daca58345bac48e8939a9e884485370f",
       "version_major": 2,
       "version_minor": 0
      },
      "text/plain": [
       "Evaluating fitness:   0%|          | 0/10 [00:00<?, ?it/s]"
      ]
     },
     "metadata": {},
     "output_type": "display_data"
    },
    {
     "data": {
      "application/vnd.jupyter.widget-view+json": {
       "model_id": "65a8eac610824b078cd22bf4f186e19d",
       "version_major": 2,
       "version_minor": 0
      },
      "text/plain": [
       "Evaluating fitness:   0%|          | 0/10 [00:00<?, ?it/s]"
      ]
     },
     "metadata": {},
     "output_type": "display_data"
    },
    {
     "data": {
      "application/vnd.jupyter.widget-view+json": {
       "model_id": "ea13c95adc11423e91eb2a77dd575619",
       "version_major": 2,
       "version_minor": 0
      },
      "text/plain": [
       "Breeding: 0it [00:00, ?it/s]"
      ]
     },
     "metadata": {},
     "output_type": "display_data"
    },
    {
     "data": {
      "application/vnd.jupyter.widget-view+json": {
       "model_id": "85aaa71babde46898b549a378bb45137",
       "version_major": 2,
       "version_minor": 0
      },
      "text/plain": [
       "Breeding: 0it [00:00, ?it/s]"
      ]
     },
     "metadata": {},
     "output_type": "display_data"
    },
    {
     "data": {
      "application/vnd.jupyter.widget-view+json": {
       "model_id": "19646b36717345068291311cc2ba59ea",
       "version_major": 2,
       "version_minor": 0
      },
      "text/plain": [
       "Breeding: 0it [00:00, ?it/s]"
      ]
     },
     "metadata": {},
     "output_type": "display_data"
    },
    {
     "data": {
      "application/vnd.jupyter.widget-view+json": {
       "model_id": "e013c83cd4424080adfa49acf9113111",
       "version_major": 2,
       "version_minor": 0
      },
      "text/plain": [
       "Breeding: 0it [00:00, ?it/s]"
      ]
     },
     "metadata": {},
     "output_type": "display_data"
    },
    {
     "data": {
      "application/vnd.jupyter.widget-view+json": {
       "model_id": "64851d4b88f84c50bdf5ac33cd078c41",
       "version_major": 2,
       "version_minor": 0
      },
      "text/plain": [
       "Breeding: 0it [00:00, ?it/s]"
      ]
     },
     "metadata": {},
     "output_type": "display_data"
    },
    {
     "data": {
      "application/vnd.jupyter.widget-view+json": {
       "model_id": "77aadb7e0c154344a7f1a0ff305068bf",
       "version_major": 2,
       "version_minor": 0
      },
      "text/plain": [
       "Breeding: 0it [00:00, ?it/s]"
      ]
     },
     "metadata": {},
     "output_type": "display_data"
    },
    {
     "data": {
      "application/vnd.jupyter.widget-view+json": {
       "model_id": "c9595a0d06a14fae9e8961d2ef627558",
       "version_major": 2,
       "version_minor": 0
      },
      "text/plain": [
       "Breeding: 0it [00:00, ?it/s]"
      ]
     },
     "metadata": {},
     "output_type": "display_data"
    },
    {
     "data": {
      "application/vnd.jupyter.widget-view+json": {
       "model_id": "c71cfa5a5fd7420b8a9ec21910bd7a17",
       "version_major": 2,
       "version_minor": 0
      },
      "text/plain": [
       "Breeding: 0it [00:00, ?it/s]"
      ]
     },
     "metadata": {},
     "output_type": "display_data"
    },
    {
     "data": {
      "application/vnd.jupyter.widget-view+json": {
       "model_id": "3ec4769a051d4420986c8d7063c7e604",
       "version_major": 2,
       "version_minor": 0
      },
      "text/plain": [
       "Breeding: 0it [00:00, ?it/s]"
      ]
     },
     "metadata": {},
     "output_type": "display_data"
    },
    {
     "data": {
      "application/vnd.jupyter.widget-view+json": {
       "model_id": "3df61a09ecfa4d2faf0e510960c00ba1",
       "version_major": 2,
       "version_minor": 0
      },
      "text/plain": [
       "Breeding: 0it [00:00, ?it/s]"
      ]
     },
     "metadata": {},
     "output_type": "display_data"
    },
    {
     "data": {
      "application/vnd.jupyter.widget-view+json": {
       "model_id": "2f1a0b2e43074b58bbfe10dbe4e6a1a9",
       "version_major": 2,
       "version_minor": 0
      },
      "text/plain": [
       "Breeding: 0it [00:00, ?it/s]"
      ]
     },
     "metadata": {},
     "output_type": "display_data"
    },
    {
     "data": {
      "application/vnd.jupyter.widget-view+json": {
       "model_id": "a68ecc26e39b4c06ac96daee9c90dd6d",
       "version_major": 2,
       "version_minor": 0
      },
      "text/plain": [
       "Breeding: 0it [00:00, ?it/s]"
      ]
     },
     "metadata": {},
     "output_type": "display_data"
    },
    {
     "data": {
      "application/vnd.jupyter.widget-view+json": {
       "model_id": "8eab8c34c0274473bc9861df942439f9",
       "version_major": 2,
       "version_minor": 0
      },
      "text/plain": [
       "Breeding: 0it [00:00, ?it/s]"
      ]
     },
     "metadata": {},
     "output_type": "display_data"
    },
    {
     "data": {
      "application/vnd.jupyter.widget-view+json": {
       "model_id": "b655664b6bb0469baa3a557463ea9d13",
       "version_major": 2,
       "version_minor": 0
      },
      "text/plain": [
       "Breeding: 0it [00:00, ?it/s]"
      ]
     },
     "metadata": {},
     "output_type": "display_data"
    },
    {
     "data": {
      "application/vnd.jupyter.widget-view+json": {
       "model_id": "a5b20e73b8e4415d853a6e0ca3a2e5bf",
       "version_major": 2,
       "version_minor": 0
      },
      "text/plain": [
       "Breeding: 0it [00:00, ?it/s]"
      ]
     },
     "metadata": {},
     "output_type": "display_data"
    },
    {
     "data": {
      "application/vnd.jupyter.widget-view+json": {
       "model_id": "fd9e4d8867de48adb509665c0e4588b3",
       "version_major": 2,
       "version_minor": 0
      },
      "text/plain": [
       "Breeding: 0it [00:00, ?it/s]"
      ]
     },
     "metadata": {},
     "output_type": "display_data"
    },
    {
     "data": {
      "application/vnd.jupyter.widget-view+json": {
       "model_id": "f82e62edf3b445988e91ab3f085fa0bd",
       "version_major": 2,
       "version_minor": 0
      },
      "text/plain": [
       "Breeding: 0it [00:00, ?it/s]"
      ]
     },
     "metadata": {},
     "output_type": "display_data"
    },
    {
     "data": {
      "application/vnd.jupyter.widget-view+json": {
       "model_id": "8caa6e0720574324ba7960dcd198fe36",
       "version_major": 2,
       "version_minor": 0
      },
      "text/plain": [
       "Breeding: 0it [00:00, ?it/s]"
      ]
     },
     "metadata": {},
     "output_type": "display_data"
    },
    {
     "data": {
      "application/vnd.jupyter.widget-view+json": {
       "model_id": "6bd72799433d403dba91223e51141616",
       "version_major": 2,
       "version_minor": 0
      },
      "text/plain": [
       "Breeding: 0it [00:00, ?it/s]"
      ]
     },
     "metadata": {},
     "output_type": "display_data"
    },
    {
     "data": {
      "application/vnd.jupyter.widget-view+json": {
       "model_id": "eeb1d9d737af43eca0caaa86c314b8d3",
       "version_major": 2,
       "version_minor": 0
      },
      "text/plain": [
       "Breeding: 0it [00:00, ?it/s]"
      ]
     },
     "metadata": {},
     "output_type": "display_data"
    },
    {
     "data": {
      "application/vnd.jupyter.widget-view+json": {
       "model_id": "1af020959cb34a17aa57559d09ec0966",
       "version_major": 2,
       "version_minor": 0
      },
      "text/plain": [
       "Breeding: 0it [00:00, ?it/s]"
      ]
     },
     "metadata": {},
     "output_type": "display_data"
    },
    {
     "data": {
      "application/vnd.jupyter.widget-view+json": {
       "model_id": "eb21a19e59bd470ba911addede945f27",
       "version_major": 2,
       "version_minor": 0
      },
      "text/plain": [
       "Breeding: 0it [00:00, ?it/s]"
      ]
     },
     "metadata": {},
     "output_type": "display_data"
    },
    {
     "data": {
      "application/vnd.jupyter.widget-view+json": {
       "model_id": "2c43243d95884d949cb037439b134a3b",
       "version_major": 2,
       "version_minor": 0
      },
      "text/plain": [
       "Breeding: 0it [00:00, ?it/s]"
      ]
     },
     "metadata": {},
     "output_type": "display_data"
    },
    {
     "data": {
      "application/vnd.jupyter.widget-view+json": {
       "model_id": "2a6dd21d8bea4364b1214c930c330be7",
       "version_major": 2,
       "version_minor": 0
      },
      "text/plain": [
       "Breeding: 0it [00:00, ?it/s]"
      ]
     },
     "metadata": {},
     "output_type": "display_data"
    },
    {
     "data": {
      "application/vnd.jupyter.widget-view+json": {
       "model_id": "a77cda2c46c4441f8ed601b9465501a0",
       "version_major": 2,
       "version_minor": 0
      },
      "text/plain": [
       "Breeding: 0it [00:00, ?it/s]"
      ]
     },
     "metadata": {},
     "output_type": "display_data"
    },
    {
     "data": {
      "application/vnd.jupyter.widget-view+json": {
       "model_id": "56fa69d56d8749daa6d6602228b34823",
       "version_major": 2,
       "version_minor": 0
      },
      "text/plain": [
       "Breeding: 0it [00:00, ?it/s]"
      ]
     },
     "metadata": {},
     "output_type": "display_data"
    },
    {
     "data": {
      "application/vnd.jupyter.widget-view+json": {
       "model_id": "35a1a4e6eeed471195ab652df5c1e75f",
       "version_major": 2,
       "version_minor": 0
      },
      "text/plain": [
       "Breeding: 0it [00:00, ?it/s]"
      ]
     },
     "metadata": {},
     "output_type": "display_data"
    },
    {
     "data": {
      "application/vnd.jupyter.widget-view+json": {
       "model_id": "ba7cff8a6972403399fe7aaa2edbd8f1",
       "version_major": 2,
       "version_minor": 0
      },
      "text/plain": [
       "Breeding: 0it [00:00, ?it/s]"
      ]
     },
     "metadata": {},
     "output_type": "display_data"
    },
    {
     "data": {
      "application/vnd.jupyter.widget-view+json": {
       "model_id": "093e88dd814c4db09849cec964d6f661",
       "version_major": 2,
       "version_minor": 0
      },
      "text/plain": [
       "Breeding: 0it [00:00, ?it/s]"
      ]
     },
     "metadata": {},
     "output_type": "display_data"
    },
    {
     "data": {
      "application/vnd.jupyter.widget-view+json": {
       "model_id": "e562d57e391c4c4fa0018c71dd5a6cbc",
       "version_major": 2,
       "version_minor": 0
      },
      "text/plain": [
       "Breeding: 0it [00:00, ?it/s]"
      ]
     },
     "metadata": {},
     "output_type": "display_data"
    },
    {
     "data": {
      "application/vnd.jupyter.widget-view+json": {
       "model_id": "81184ab2b6024cb0b87c80af8fa2113e",
       "version_major": 2,
       "version_minor": 0
      },
      "text/plain": [
       "Breeding: 0it [00:00, ?it/s]"
      ]
     },
     "metadata": {},
     "output_type": "display_data"
    },
    {
     "data": {
      "application/vnd.jupyter.widget-view+json": {
       "model_id": "5ce8ce75accb4bcbbadd146402848425",
       "version_major": 2,
       "version_minor": 0
      },
      "text/plain": [
       "Breeding: 0it [00:00, ?it/s]"
      ]
     },
     "metadata": {},
     "output_type": "display_data"
    },
    {
     "data": {
      "application/vnd.jupyter.widget-view+json": {
       "model_id": "826ac24c90d645738bcd767a83e298f1",
       "version_major": 2,
       "version_minor": 0
      },
      "text/plain": [
       "Breeding: 0it [00:00, ?it/s]"
      ]
     },
     "metadata": {},
     "output_type": "display_data"
    },
    {
     "data": {
      "application/vnd.jupyter.widget-view+json": {
       "model_id": "55f92d2398594866895154ef50f2397e",
       "version_major": 2,
       "version_minor": 0
      },
      "text/plain": [
       "Breeding: 0it [00:00, ?it/s]"
      ]
     },
     "metadata": {},
     "output_type": "display_data"
    },
    {
     "data": {
      "application/vnd.jupyter.widget-view+json": {
       "model_id": "b57ac33224e84da88d3c02908c8cf09c",
       "version_major": 2,
       "version_minor": 0
      },
      "text/plain": [
       "Breeding: 0it [00:00, ?it/s]"
      ]
     },
     "metadata": {},
     "output_type": "display_data"
    },
    {
     "data": {
      "application/vnd.jupyter.widget-view+json": {
       "model_id": "70d238838fb14e9390dc4010a63be6d1",
       "version_major": 2,
       "version_minor": 0
      },
      "text/plain": [
       "Breeding: 0it [00:00, ?it/s]"
      ]
     },
     "metadata": {},
     "output_type": "display_data"
    },
    {
     "data": {
      "application/vnd.jupyter.widget-view+json": {
       "model_id": "ff74563f1a4842d7a2ff65201149dbe6",
       "version_major": 2,
       "version_minor": 0
      },
      "text/plain": [
       "Breeding: 0it [00:00, ?it/s]"
      ]
     },
     "metadata": {},
     "output_type": "display_data"
    },
    {
     "data": {
      "application/vnd.jupyter.widget-view+json": {
       "model_id": "fdb7c03b84c44943b98c33c9203785cd",
       "version_major": 2,
       "version_minor": 0
      },
      "text/plain": [
       "Breeding: 0it [00:00, ?it/s]"
      ]
     },
     "metadata": {},
     "output_type": "display_data"
    },
    {
     "data": {
      "application/vnd.jupyter.widget-view+json": {
       "model_id": "ff3fda6a827a463185ec43db9c326375",
       "version_major": 2,
       "version_minor": 0
      },
      "text/plain": [
       "Breeding: 0it [00:00, ?it/s]"
      ]
     },
     "metadata": {},
     "output_type": "display_data"
    },
    {
     "data": {
      "application/vnd.jupyter.widget-view+json": {
       "model_id": "c5709b4a63ce4d7db36e22c67fcf0f94",
       "version_major": 2,
       "version_minor": 0
      },
      "text/plain": [
       "Breeding: 0it [00:00, ?it/s]"
      ]
     },
     "metadata": {},
     "output_type": "display_data"
    },
    {
     "data": {
      "application/vnd.jupyter.widget-view+json": {
       "model_id": "5d38582810b74f53b7c9a2267a1b1920",
       "version_major": 2,
       "version_minor": 0
      },
      "text/plain": [
       "Breeding: 0it [00:00, ?it/s]"
      ]
     },
     "metadata": {},
     "output_type": "display_data"
    },
    {
     "data": {
      "application/vnd.jupyter.widget-view+json": {
       "model_id": "db9802b61b1a4e5da74883fe774f86da",
       "version_major": 2,
       "version_minor": 0
      },
      "text/plain": [
       "Breeding: 0it [00:00, ?it/s]"
      ]
     },
     "metadata": {},
     "output_type": "display_data"
    },
    {
     "data": {
      "application/vnd.jupyter.widget-view+json": {
       "model_id": "8a48c9dfae91435fb1af7a2b79a4c89f",
       "version_major": 2,
       "version_minor": 0
      },
      "text/plain": [
       "Breeding: 0it [00:00, ?it/s]"
      ]
     },
     "metadata": {},
     "output_type": "display_data"
    },
    {
     "data": {
      "application/vnd.jupyter.widget-view+json": {
       "model_id": "f93b8ed0cadf40e988969a4400cdd03f",
       "version_major": 2,
       "version_minor": 0
      },
      "text/plain": [
       "Breeding: 0it [00:00, ?it/s]"
      ]
     },
     "metadata": {},
     "output_type": "display_data"
    },
    {
     "data": {
      "application/vnd.jupyter.widget-view+json": {
       "model_id": "4f0d22b81e384ae4b0709443040f853c",
       "version_major": 2,
       "version_minor": 0
      },
      "text/plain": [
       "Breeding: 0it [00:00, ?it/s]"
      ]
     },
     "metadata": {},
     "output_type": "display_data"
    },
    {
     "data": {
      "application/vnd.jupyter.widget-view+json": {
       "model_id": "1eb16168bf3949c5a39c257d8c26f03f",
       "version_major": 2,
       "version_minor": 0
      },
      "text/plain": [
       "Breeding: 0it [00:00, ?it/s]"
      ]
     },
     "metadata": {},
     "output_type": "display_data"
    },
    {
     "data": {
      "application/vnd.jupyter.widget-view+json": {
       "model_id": "4a5211a9c3c14d01a3970be887e1194d",
       "version_major": 2,
       "version_minor": 0
      },
      "text/plain": [
       "Breeding: 0it [00:00, ?it/s]"
      ]
     },
     "metadata": {},
     "output_type": "display_data"
    },
    {
     "data": {
      "application/vnd.jupyter.widget-view+json": {
       "model_id": "72867924dd8943ebac96e5d06353a9b1",
       "version_major": 2,
       "version_minor": 0
      },
      "text/plain": [
       "Breeding: 0it [00:00, ?it/s]"
      ]
     },
     "metadata": {},
     "output_type": "display_data"
    },
    {
     "data": {
      "application/vnd.jupyter.widget-view+json": {
       "model_id": "5a3f6a3e96eb46c58b734e559c75fdab",
       "version_major": 2,
       "version_minor": 0
      },
      "text/plain": [
       "Breeding: 0it [00:00, ?it/s]"
      ]
     },
     "metadata": {},
     "output_type": "display_data"
    },
    {
     "data": {
      "application/vnd.jupyter.widget-view+json": {
       "model_id": "dd62511a82bb49d1abe27dca49eecf6b",
       "version_major": 2,
       "version_minor": 0
      },
      "text/plain": [
       "Breeding: 0it [00:00, ?it/s]"
      ]
     },
     "metadata": {},
     "output_type": "display_data"
    },
    {
     "data": {
      "application/vnd.jupyter.widget-view+json": {
       "model_id": "0c39a77eaa834c5a9e214f41fb491854",
       "version_major": 2,
       "version_minor": 0
      },
      "text/plain": [
       "Breeding: 0it [00:00, ?it/s]"
      ]
     },
     "metadata": {},
     "output_type": "display_data"
    },
    {
     "data": {
      "application/vnd.jupyter.widget-view+json": {
       "model_id": "84894f77e0054aa2b1d0bae3f5797d66",
       "version_major": 2,
       "version_minor": 0
      },
      "text/plain": [
       "Evaluating fitness:   0%|          | 0/10 [00:00<?, ?it/s]"
      ]
     },
     "metadata": {},
     "output_type": "display_data"
    },
    {
     "data": {
      "application/vnd.jupyter.widget-view+json": {
       "model_id": "44edbbd08c4e44ceb7b8efe7230e4258",
       "version_major": 2,
       "version_minor": 0
      },
      "text/plain": [
       "Evaluating fitness:   0%|          | 0/10 [00:00<?, ?it/s]"
      ]
     },
     "metadata": {},
     "output_type": "display_data"
    },
    {
     "data": {
      "application/vnd.jupyter.widget-view+json": {
       "model_id": "c8d2cd3eaaf04976a30e677058d206ea",
       "version_major": 2,
       "version_minor": 0
      },
      "text/plain": [
       "Evaluating fitness:   0%|          | 0/10 [00:00<?, ?it/s]"
      ]
     },
     "metadata": {},
     "output_type": "display_data"
    },
    {
     "data": {
      "application/vnd.jupyter.widget-view+json": {
       "model_id": "ca4596478e6242fba57fc63255fc5280",
       "version_major": 2,
       "version_minor": 0
      },
      "text/plain": [
       "Evaluating fitness:   0%|          | 0/10 [00:00<?, ?it/s]"
      ]
     },
     "metadata": {},
     "output_type": "display_data"
    },
    {
     "data": {
      "application/vnd.jupyter.widget-view+json": {
       "model_id": "928a8e846d354c28989a0d512d30fbda",
       "version_major": 2,
       "version_minor": 0
      },
      "text/plain": [
       "Evaluating fitness:   0%|          | 0/10 [00:00<?, ?it/s]"
      ]
     },
     "metadata": {},
     "output_type": "display_data"
    },
    {
     "data": {
      "application/vnd.jupyter.widget-view+json": {
       "model_id": "697ee76051db43ac8e80d5812edbdcc8",
       "version_major": 2,
       "version_minor": 0
      },
      "text/plain": [
       "Evaluating fitness:   0%|          | 0/10 [00:00<?, ?it/s]"
      ]
     },
     "metadata": {},
     "output_type": "display_data"
    },
    {
     "data": {
      "application/vnd.jupyter.widget-view+json": {
       "model_id": "5e7ffe1837654d0eb774f51312b94c5e",
       "version_major": 2,
       "version_minor": 0
      },
      "text/plain": [
       "Evaluating fitness:   0%|          | 0/10 [00:00<?, ?it/s]"
      ]
     },
     "metadata": {},
     "output_type": "display_data"
    },
    {
     "data": {
      "application/vnd.jupyter.widget-view+json": {
       "model_id": "ce5127c55ee14db5b15f8deb0b3431c3",
       "version_major": 2,
       "version_minor": 0
      },
      "text/plain": [
       "Evaluating fitness:   0%|          | 0/10 [00:00<?, ?it/s]"
      ]
     },
     "metadata": {},
     "output_type": "display_data"
    },
    {
     "data": {
      "application/vnd.jupyter.widget-view+json": {
       "model_id": "9624807686b04b1aa0fe2470947a8b96",
       "version_major": 2,
       "version_minor": 0
      },
      "text/plain": [
       "Evaluating fitness:   0%|          | 0/10 [00:00<?, ?it/s]"
      ]
     },
     "metadata": {},
     "output_type": "display_data"
    },
    {
     "data": {
      "application/vnd.jupyter.widget-view+json": {
       "model_id": "b717954c5f644e9cb32fa19b02054db0",
       "version_major": 2,
       "version_minor": 0
      },
      "text/plain": [
       "Evaluating fitness:   0%|          | 0/10 [00:00<?, ?it/s]"
      ]
     },
     "metadata": {},
     "output_type": "display_data"
    },
    {
     "data": {
      "application/vnd.jupyter.widget-view+json": {
       "model_id": "bb0ffa64f2d94d76bbd68ba620106444",
       "version_major": 2,
       "version_minor": 0
      },
      "text/plain": [
       "Evaluating fitness:   0%|          | 0/10 [00:00<?, ?it/s]"
      ]
     },
     "metadata": {},
     "output_type": "display_data"
    },
    {
     "data": {
      "application/vnd.jupyter.widget-view+json": {
       "model_id": "c76fae68a9c241d291609be682979c0a",
       "version_major": 2,
       "version_minor": 0
      },
      "text/plain": [
       "Evaluating fitness:   0%|          | 0/10 [00:00<?, ?it/s]"
      ]
     },
     "metadata": {},
     "output_type": "display_data"
    },
    {
     "data": {
      "application/vnd.jupyter.widget-view+json": {
       "model_id": "dd210d512b5a4ed7b0b0121f57798ac4",
       "version_major": 2,
       "version_minor": 0
      },
      "text/plain": [
       "Evaluating fitness:   0%|          | 0/10 [00:00<?, ?it/s]"
      ]
     },
     "metadata": {},
     "output_type": "display_data"
    },
    {
     "data": {
      "application/vnd.jupyter.widget-view+json": {
       "model_id": "e007c0ab9ef84baca699fc365c7dc58e",
       "version_major": 2,
       "version_minor": 0
      },
      "text/plain": [
       "Evaluating fitness:   0%|          | 0/10 [00:00<?, ?it/s]"
      ]
     },
     "metadata": {},
     "output_type": "display_data"
    },
    {
     "data": {
      "application/vnd.jupyter.widget-view+json": {
       "model_id": "8cd81fe11b1d4f579843279c444ca653",
       "version_major": 2,
       "version_minor": 0
      },
      "text/plain": [
       "Evaluating fitness:   0%|          | 0/10 [00:00<?, ?it/s]"
      ]
     },
     "metadata": {},
     "output_type": "display_data"
    },
    {
     "data": {
      "application/vnd.jupyter.widget-view+json": {
       "model_id": "81ba02d71cf6489b98d5e553d0b0de4d",
       "version_major": 2,
       "version_minor": 0
      },
      "text/plain": [
       "Evaluating fitness:   0%|          | 0/10 [00:00<?, ?it/s]"
      ]
     },
     "metadata": {},
     "output_type": "display_data"
    },
    {
     "data": {
      "application/vnd.jupyter.widget-view+json": {
       "model_id": "ea5259eef2654d0cbf80665de38eb863",
       "version_major": 2,
       "version_minor": 0
      },
      "text/plain": [
       "Evaluating fitness:   0%|          | 0/10 [00:00<?, ?it/s]"
      ]
     },
     "metadata": {},
     "output_type": "display_data"
    },
    {
     "data": {
      "application/vnd.jupyter.widget-view+json": {
       "model_id": "a0e1ca76e27f462ea6e80d01403df4f4",
       "version_major": 2,
       "version_minor": 0
      },
      "text/plain": [
       "Evaluating fitness:   0%|          | 0/10 [00:00<?, ?it/s]"
      ]
     },
     "metadata": {},
     "output_type": "display_data"
    },
    {
     "data": {
      "application/vnd.jupyter.widget-view+json": {
       "model_id": "07ce928c6f044e3081a0a90e3461b665",
       "version_major": 2,
       "version_minor": 0
      },
      "text/plain": [
       "Evaluating fitness:   0%|          | 0/10 [00:00<?, ?it/s]"
      ]
     },
     "metadata": {},
     "output_type": "display_data"
    },
    {
     "data": {
      "application/vnd.jupyter.widget-view+json": {
       "model_id": "f68817fb0bed43188028da5b7b062ea3",
       "version_major": 2,
       "version_minor": 0
      },
      "text/plain": [
       "Evaluating fitness:   0%|          | 0/10 [00:00<?, ?it/s]"
      ]
     },
     "metadata": {},
     "output_type": "display_data"
    },
    {
     "data": {
      "application/vnd.jupyter.widget-view+json": {
       "model_id": "e4e08a66a1644d2486210993ee24e215",
       "version_major": 2,
       "version_minor": 0
      },
      "text/plain": [
       "Evaluating fitness:   0%|          | 0/10 [00:00<?, ?it/s]"
      ]
     },
     "metadata": {},
     "output_type": "display_data"
    },
    {
     "data": {
      "application/vnd.jupyter.widget-view+json": {
       "model_id": "2168720d4d6243d595903d857eab0e9e",
       "version_major": 2,
       "version_minor": 0
      },
      "text/plain": [
       "Evaluating fitness:   0%|          | 0/10 [00:00<?, ?it/s]"
      ]
     },
     "metadata": {},
     "output_type": "display_data"
    },
    {
     "data": {
      "application/vnd.jupyter.widget-view+json": {
       "model_id": "5fc3fd68a87047868ac804f98cc34b64",
       "version_major": 2,
       "version_minor": 0
      },
      "text/plain": [
       "Evaluating fitness:   0%|          | 0/10 [00:00<?, ?it/s]"
      ]
     },
     "metadata": {},
     "output_type": "display_data"
    },
    {
     "data": {
      "application/vnd.jupyter.widget-view+json": {
       "model_id": "8afa6a7008674444977cf4d5b9b39920",
       "version_major": 2,
       "version_minor": 0
      },
      "text/plain": [
       "Evaluating fitness:   0%|          | 0/10 [00:00<?, ?it/s]"
      ]
     },
     "metadata": {},
     "output_type": "display_data"
    },
    {
     "data": {
      "application/vnd.jupyter.widget-view+json": {
       "model_id": "6c878ab22785435a9dfac63c6d7cec14",
       "version_major": 2,
       "version_minor": 0
      },
      "text/plain": [
       "Evaluating fitness:   0%|          | 0/10 [00:00<?, ?it/s]"
      ]
     },
     "metadata": {},
     "output_type": "display_data"
    },
    {
     "data": {
      "application/vnd.jupyter.widget-view+json": {
       "model_id": "5b3bd3d365294147a45a077e7559f98e",
       "version_major": 2,
       "version_minor": 0
      },
      "text/plain": [
       "Evaluating fitness:   0%|          | 0/10 [00:00<?, ?it/s]"
      ]
     },
     "metadata": {},
     "output_type": "display_data"
    },
    {
     "data": {
      "application/vnd.jupyter.widget-view+json": {
       "model_id": "6ba6b33e31b54ed2b4222c880945fd7d",
       "version_major": 2,
       "version_minor": 0
      },
      "text/plain": [
       "Evaluating fitness:   0%|          | 0/10 [00:00<?, ?it/s]"
      ]
     },
     "metadata": {},
     "output_type": "display_data"
    },
    {
     "data": {
      "application/vnd.jupyter.widget-view+json": {
       "model_id": "aceff7445ad44fbc9b2c6b3c5b06c2fc",
       "version_major": 2,
       "version_minor": 0
      },
      "text/plain": [
       "Evaluating fitness:   0%|          | 0/10 [00:00<?, ?it/s]"
      ]
     },
     "metadata": {},
     "output_type": "display_data"
    },
    {
     "data": {
      "application/vnd.jupyter.widget-view+json": {
       "model_id": "4e6e604f7be74ecebbf360f0c14fe1cc",
       "version_major": 2,
       "version_minor": 0
      },
      "text/plain": [
       "Evaluating fitness:   0%|          | 0/10 [00:00<?, ?it/s]"
      ]
     },
     "metadata": {},
     "output_type": "display_data"
    },
    {
     "data": {
      "application/vnd.jupyter.widget-view+json": {
       "model_id": "e8f08e640ae74f6885d6726f874ade7d",
       "version_major": 2,
       "version_minor": 0
      },
      "text/plain": [
       "Evaluating fitness:   0%|          | 0/10 [00:00<?, ?it/s]"
      ]
     },
     "metadata": {},
     "output_type": "display_data"
    },
    {
     "data": {
      "application/vnd.jupyter.widget-view+json": {
       "model_id": "4016fd3993a6498ca81dcb8105a67b2c",
       "version_major": 2,
       "version_minor": 0
      },
      "text/plain": [
       "Evaluating fitness:   0%|          | 0/10 [00:00<?, ?it/s]"
      ]
     },
     "metadata": {},
     "output_type": "display_data"
    },
    {
     "data": {
      "application/vnd.jupyter.widget-view+json": {
       "model_id": "e6eb2d21a7f84a489d6b8c1e139ae983",
       "version_major": 2,
       "version_minor": 0
      },
      "text/plain": [
       "Evaluating fitness:   0%|          | 0/10 [00:00<?, ?it/s]"
      ]
     },
     "metadata": {},
     "output_type": "display_data"
    },
    {
     "data": {
      "application/vnd.jupyter.widget-view+json": {
       "model_id": "25e55c080e1b447ca86c858d6a8fe8a9",
       "version_major": 2,
       "version_minor": 0
      },
      "text/plain": [
       "Evaluating fitness:   0%|          | 0/10 [00:00<?, ?it/s]"
      ]
     },
     "metadata": {},
     "output_type": "display_data"
    },
    {
     "data": {
      "application/vnd.jupyter.widget-view+json": {
       "model_id": "eba4981332c645d494552fa91d17a21c",
       "version_major": 2,
       "version_minor": 0
      },
      "text/plain": [
       "Evaluating fitness:   0%|          | 0/10 [00:00<?, ?it/s]"
      ]
     },
     "metadata": {},
     "output_type": "display_data"
    },
    {
     "data": {
      "application/vnd.jupyter.widget-view+json": {
       "model_id": "304cccb7897946909dce915dc04be4b3",
       "version_major": 2,
       "version_minor": 0
      },
      "text/plain": [
       "Evaluating fitness:   0%|          | 0/10 [00:00<?, ?it/s]"
      ]
     },
     "metadata": {},
     "output_type": "display_data"
    },
    {
     "data": {
      "application/vnd.jupyter.widget-view+json": {
       "model_id": "8fa5705d87ee4496b83d9299058bf421",
       "version_major": 2,
       "version_minor": 0
      },
      "text/plain": [
       "Evaluating fitness:   0%|          | 0/10 [00:00<?, ?it/s]"
      ]
     },
     "metadata": {},
     "output_type": "display_data"
    },
    {
     "data": {
      "application/vnd.jupyter.widget-view+json": {
       "model_id": "2e01d5618b3b46fd80baf37befaa46db",
       "version_major": 2,
       "version_minor": 0
      },
      "text/plain": [
       "Evaluating fitness:   0%|          | 0/10 [00:00<?, ?it/s]"
      ]
     },
     "metadata": {},
     "output_type": "display_data"
    },
    {
     "data": {
      "application/vnd.jupyter.widget-view+json": {
       "model_id": "d8463702cd8e4846b05e4e42c8bb9326",
       "version_major": 2,
       "version_minor": 0
      },
      "text/plain": [
       "Evaluating fitness:   0%|          | 0/10 [00:00<?, ?it/s]"
      ]
     },
     "metadata": {},
     "output_type": "display_data"
    },
    {
     "data": {
      "application/vnd.jupyter.widget-view+json": {
       "model_id": "13db8688d632413990cc68aacb1adfb1",
       "version_major": 2,
       "version_minor": 0
      },
      "text/plain": [
       "Evaluating fitness:   0%|          | 0/10 [00:00<?, ?it/s]"
      ]
     },
     "metadata": {},
     "output_type": "display_data"
    },
    {
     "data": {
      "application/vnd.jupyter.widget-view+json": {
       "model_id": "508509a9d3824fa38c1284aca73f64fd",
       "version_major": 2,
       "version_minor": 0
      },
      "text/plain": [
       "Evaluating fitness:   0%|          | 0/10 [00:00<?, ?it/s]"
      ]
     },
     "metadata": {},
     "output_type": "display_data"
    },
    {
     "data": {
      "application/vnd.jupyter.widget-view+json": {
       "model_id": "c5c5d44daa9444309d6dae026c8c1b37",
       "version_major": 2,
       "version_minor": 0
      },
      "text/plain": [
       "Evaluating fitness:   0%|          | 0/10 [00:00<?, ?it/s]"
      ]
     },
     "metadata": {},
     "output_type": "display_data"
    },
    {
     "data": {
      "application/vnd.jupyter.widget-view+json": {
       "model_id": "2781bd4218e3442cbf5877d3b7b1ce89",
       "version_major": 2,
       "version_minor": 0
      },
      "text/plain": [
       "Evaluating fitness:   0%|          | 0/10 [00:00<?, ?it/s]"
      ]
     },
     "metadata": {},
     "output_type": "display_data"
    },
    {
     "data": {
      "application/vnd.jupyter.widget-view+json": {
       "model_id": "38ccb145bfe54ec1a4a6f6773e44748f",
       "version_major": 2,
       "version_minor": 0
      },
      "text/plain": [
       "Evaluating fitness:   0%|          | 0/10 [00:00<?, ?it/s]"
      ]
     },
     "metadata": {},
     "output_type": "display_data"
    },
    {
     "data": {
      "application/vnd.jupyter.widget-view+json": {
       "model_id": "7bd10ac17c7c411daf9a10d07043ab0c",
       "version_major": 2,
       "version_minor": 0
      },
      "text/plain": [
       "Evaluating fitness:   0%|          | 0/10 [00:00<?, ?it/s]"
      ]
     },
     "metadata": {},
     "output_type": "display_data"
    },
    {
     "data": {
      "application/vnd.jupyter.widget-view+json": {
       "model_id": "83642c32c52e4722953ad98220b288b4",
       "version_major": 2,
       "version_minor": 0
      },
      "text/plain": [
       "Evaluating fitness:   0%|          | 0/10 [00:00<?, ?it/s]"
      ]
     },
     "metadata": {},
     "output_type": "display_data"
    },
    {
     "data": {
      "application/vnd.jupyter.widget-view+json": {
       "model_id": "646bbe2548ef49ec854a403e4692b20d",
       "version_major": 2,
       "version_minor": 0
      },
      "text/plain": [
       "Evaluating fitness:   0%|          | 0/10 [00:00<?, ?it/s]"
      ]
     },
     "metadata": {},
     "output_type": "display_data"
    },
    {
     "data": {
      "application/vnd.jupyter.widget-view+json": {
       "model_id": "ff2c2dfe10ee422b8eaab96ef4644311",
       "version_major": 2,
       "version_minor": 0
      },
      "text/plain": [
       "Evaluating fitness:   0%|          | 0/10 [00:00<?, ?it/s]"
      ]
     },
     "metadata": {},
     "output_type": "display_data"
    },
    {
     "data": {
      "application/vnd.jupyter.widget-view+json": {
       "model_id": "fa19fb502ea04b219c0d0979afb4d330",
       "version_major": 2,
       "version_minor": 0
      },
      "text/plain": [
       "Evaluating fitness:   0%|          | 0/10 [00:00<?, ?it/s]"
      ]
     },
     "metadata": {},
     "output_type": "display_data"
    },
    {
     "data": {
      "application/vnd.jupyter.widget-view+json": {
       "model_id": "8c30737dccc1438d9a6c4a9a868605e6",
       "version_major": 2,
       "version_minor": 0
      },
      "text/plain": [
       "Evaluating fitness:   0%|          | 0/10 [00:00<?, ?it/s]"
      ]
     },
     "metadata": {},
     "output_type": "display_data"
    },
    {
     "data": {
      "application/vnd.jupyter.widget-view+json": {
       "model_id": "d480cb84d4b0427aa4c0d1e9d03b8602",
       "version_major": 2,
       "version_minor": 0
      },
      "text/plain": [
       "Evaluating fitness:   0%|          | 0/10 [00:00<?, ?it/s]"
      ]
     },
     "metadata": {},
     "output_type": "display_data"
    },
    {
     "data": {
      "application/vnd.jupyter.widget-view+json": {
       "model_id": "d20f747841c44290bd887ebb0533e4f0",
       "version_major": 2,
       "version_minor": 0
      },
      "text/plain": [
       "Breeding: 0it [00:00, ?it/s]"
      ]
     },
     "metadata": {},
     "output_type": "display_data"
    },
    {
     "data": {
      "application/vnd.jupyter.widget-view+json": {
       "model_id": "01066dc7e55f42369c09349f83fa38ef",
       "version_major": 2,
       "version_minor": 0
      },
      "text/plain": [
       "Breeding: 0it [00:00, ?it/s]"
      ]
     },
     "metadata": {},
     "output_type": "display_data"
    },
    {
     "data": {
      "application/vnd.jupyter.widget-view+json": {
       "model_id": "0d878ba77c9547e286934d74db84f5d4",
       "version_major": 2,
       "version_minor": 0
      },
      "text/plain": [
       "Breeding: 0it [00:00, ?it/s]"
      ]
     },
     "metadata": {},
     "output_type": "display_data"
    },
    {
     "data": {
      "application/vnd.jupyter.widget-view+json": {
       "model_id": "e1a97731bcd444ca979875c480e60c14",
       "version_major": 2,
       "version_minor": 0
      },
      "text/plain": [
       "Breeding: 0it [00:00, ?it/s]"
      ]
     },
     "metadata": {},
     "output_type": "display_data"
    },
    {
     "data": {
      "application/vnd.jupyter.widget-view+json": {
       "model_id": "bf7e38b3a9d842539424778391068700",
       "version_major": 2,
       "version_minor": 0
      },
      "text/plain": [
       "Breeding: 0it [00:00, ?it/s]"
      ]
     },
     "metadata": {},
     "output_type": "display_data"
    },
    {
     "data": {
      "application/vnd.jupyter.widget-view+json": {
       "model_id": "5b60ea0c6f5146f5b0bef3613867549c",
       "version_major": 2,
       "version_minor": 0
      },
      "text/plain": [
       "Breeding: 0it [00:00, ?it/s]"
      ]
     },
     "metadata": {},
     "output_type": "display_data"
    },
    {
     "data": {
      "application/vnd.jupyter.widget-view+json": {
       "model_id": "d51f6dacf6c44d5b9eef96b469dd3860",
       "version_major": 2,
       "version_minor": 0
      },
      "text/plain": [
       "Breeding: 0it [00:00, ?it/s]"
      ]
     },
     "metadata": {},
     "output_type": "display_data"
    },
    {
     "data": {
      "application/vnd.jupyter.widget-view+json": {
       "model_id": "a555b18320394ff9b160876b3f8338aa",
       "version_major": 2,
       "version_minor": 0
      },
      "text/plain": [
       "Breeding: 0it [00:00, ?it/s]"
      ]
     },
     "metadata": {},
     "output_type": "display_data"
    },
    {
     "data": {
      "application/vnd.jupyter.widget-view+json": {
       "model_id": "c083a3e56ac043d1ba818a4ccf24feee",
       "version_major": 2,
       "version_minor": 0
      },
      "text/plain": [
       "Breeding: 0it [00:00, ?it/s]"
      ]
     },
     "metadata": {},
     "output_type": "display_data"
    },
    {
     "data": {
      "application/vnd.jupyter.widget-view+json": {
       "model_id": "400bf6f37bb440a3a999da2066892542",
       "version_major": 2,
       "version_minor": 0
      },
      "text/plain": [
       "Breeding: 0it [00:00, ?it/s]"
      ]
     },
     "metadata": {},
     "output_type": "display_data"
    },
    {
     "data": {
      "application/vnd.jupyter.widget-view+json": {
       "model_id": "e6058e993c3d425c85f6245b63378134",
       "version_major": 2,
       "version_minor": 0
      },
      "text/plain": [
       "Breeding: 0it [00:00, ?it/s]"
      ]
     },
     "metadata": {},
     "output_type": "display_data"
    },
    {
     "data": {
      "application/vnd.jupyter.widget-view+json": {
       "model_id": "70caceaabbff495b90a88bfcb30fe584",
       "version_major": 2,
       "version_minor": 0
      },
      "text/plain": [
       "Breeding: 0it [00:00, ?it/s]"
      ]
     },
     "metadata": {},
     "output_type": "display_data"
    },
    {
     "data": {
      "application/vnd.jupyter.widget-view+json": {
       "model_id": "457d140197de49998363aa44eed6af68",
       "version_major": 2,
       "version_minor": 0
      },
      "text/plain": [
       "Breeding: 0it [00:00, ?it/s]"
      ]
     },
     "metadata": {},
     "output_type": "display_data"
    },
    {
     "data": {
      "application/vnd.jupyter.widget-view+json": {
       "model_id": "e452b2f99a534f92a06ab1254f850d5f",
       "version_major": 2,
       "version_minor": 0
      },
      "text/plain": [
       "Breeding: 0it [00:00, ?it/s]"
      ]
     },
     "metadata": {},
     "output_type": "display_data"
    },
    {
     "data": {
      "application/vnd.jupyter.widget-view+json": {
       "model_id": "e3defce0f8744cffba99bcb1fc73a606",
       "version_major": 2,
       "version_minor": 0
      },
      "text/plain": [
       "Breeding: 0it [00:00, ?it/s]"
      ]
     },
     "metadata": {},
     "output_type": "display_data"
    },
    {
     "data": {
      "application/vnd.jupyter.widget-view+json": {
       "model_id": "474de3ae1a5b4ec2956878a6f3f468fc",
       "version_major": 2,
       "version_minor": 0
      },
      "text/plain": [
       "Breeding: 0it [00:00, ?it/s]"
      ]
     },
     "metadata": {},
     "output_type": "display_data"
    },
    {
     "data": {
      "application/vnd.jupyter.widget-view+json": {
       "model_id": "1f8a5bdff4664ec1a518602dbd604ffe",
       "version_major": 2,
       "version_minor": 0
      },
      "text/plain": [
       "Breeding: 0it [00:00, ?it/s]"
      ]
     },
     "metadata": {},
     "output_type": "display_data"
    },
    {
     "data": {
      "application/vnd.jupyter.widget-view+json": {
       "model_id": "fce01f4746d6489d8691ec03e751c16a",
       "version_major": 2,
       "version_minor": 0
      },
      "text/plain": [
       "Breeding: 0it [00:00, ?it/s]"
      ]
     },
     "metadata": {},
     "output_type": "display_data"
    },
    {
     "data": {
      "application/vnd.jupyter.widget-view+json": {
       "model_id": "db4c982576134dbbb029567d782139c2",
       "version_major": 2,
       "version_minor": 0
      },
      "text/plain": [
       "Breeding: 0it [00:00, ?it/s]"
      ]
     },
     "metadata": {},
     "output_type": "display_data"
    },
    {
     "data": {
      "application/vnd.jupyter.widget-view+json": {
       "model_id": "1dff50c393b845ed8b7a28eb080b403d",
       "version_major": 2,
       "version_minor": 0
      },
      "text/plain": [
       "Breeding: 0it [00:00, ?it/s]"
      ]
     },
     "metadata": {},
     "output_type": "display_data"
    },
    {
     "data": {
      "application/vnd.jupyter.widget-view+json": {
       "model_id": "4e3c8083e8174184965bccf58c9e1cc6",
       "version_major": 2,
       "version_minor": 0
      },
      "text/plain": [
       "Breeding: 0it [00:00, ?it/s]"
      ]
     },
     "metadata": {},
     "output_type": "display_data"
    },
    {
     "data": {
      "application/vnd.jupyter.widget-view+json": {
       "model_id": "5660bbc64db3440fb15ef79008c82d9f",
       "version_major": 2,
       "version_minor": 0
      },
      "text/plain": [
       "Breeding: 0it [00:00, ?it/s]"
      ]
     },
     "metadata": {},
     "output_type": "display_data"
    },
    {
     "data": {
      "application/vnd.jupyter.widget-view+json": {
       "model_id": "5a04cb30e0a04d32933e7c7a0998ad17",
       "version_major": 2,
       "version_minor": 0
      },
      "text/plain": [
       "Breeding: 0it [00:00, ?it/s]"
      ]
     },
     "metadata": {},
     "output_type": "display_data"
    },
    {
     "data": {
      "application/vnd.jupyter.widget-view+json": {
       "model_id": "5c92675645fd4dafa5decb22171321e4",
       "version_major": 2,
       "version_minor": 0
      },
      "text/plain": [
       "Breeding: 0it [00:00, ?it/s]"
      ]
     },
     "metadata": {},
     "output_type": "display_data"
    },
    {
     "data": {
      "application/vnd.jupyter.widget-view+json": {
       "model_id": "67b3347dd89b43c2b699e9edb9713da0",
       "version_major": 2,
       "version_minor": 0
      },
      "text/plain": [
       "Breeding: 0it [00:00, ?it/s]"
      ]
     },
     "metadata": {},
     "output_type": "display_data"
    },
    {
     "data": {
      "application/vnd.jupyter.widget-view+json": {
       "model_id": "ff36d0c8ca8f4ec988ec129660b978ea",
       "version_major": 2,
       "version_minor": 0
      },
      "text/plain": [
       "Breeding: 0it [00:00, ?it/s]"
      ]
     },
     "metadata": {},
     "output_type": "display_data"
    },
    {
     "data": {
      "application/vnd.jupyter.widget-view+json": {
       "model_id": "5af5a91d271a4f0caa9656b2219e025d",
       "version_major": 2,
       "version_minor": 0
      },
      "text/plain": [
       "Breeding: 0it [00:00, ?it/s]"
      ]
     },
     "metadata": {},
     "output_type": "display_data"
    },
    {
     "data": {
      "application/vnd.jupyter.widget-view+json": {
       "model_id": "51b9f689203b444cad9fd69fcfe5cfe2",
       "version_major": 2,
       "version_minor": 0
      },
      "text/plain": [
       "Breeding: 0it [00:00, ?it/s]"
      ]
     },
     "metadata": {},
     "output_type": "display_data"
    },
    {
     "data": {
      "application/vnd.jupyter.widget-view+json": {
       "model_id": "e4bc7c4fc0854b55b03d1e15d16d9a68",
       "version_major": 2,
       "version_minor": 0
      },
      "text/plain": [
       "Breeding: 0it [00:00, ?it/s]"
      ]
     },
     "metadata": {},
     "output_type": "display_data"
    },
    {
     "data": {
      "application/vnd.jupyter.widget-view+json": {
       "model_id": "0486a809a2c04498888afad7da92de96",
       "version_major": 2,
       "version_minor": 0
      },
      "text/plain": [
       "Breeding: 0it [00:00, ?it/s]"
      ]
     },
     "metadata": {},
     "output_type": "display_data"
    },
    {
     "data": {
      "application/vnd.jupyter.widget-view+json": {
       "model_id": "aa37f08a13eb40379e80f9f79e678e38",
       "version_major": 2,
       "version_minor": 0
      },
      "text/plain": [
       "Breeding: 0it [00:00, ?it/s]"
      ]
     },
     "metadata": {},
     "output_type": "display_data"
    },
    {
     "data": {
      "application/vnd.jupyter.widget-view+json": {
       "model_id": "b2b223dc6a4c4c7b9db7068d1e3cb67f",
       "version_major": 2,
       "version_minor": 0
      },
      "text/plain": [
       "Breeding: 0it [00:00, ?it/s]"
      ]
     },
     "metadata": {},
     "output_type": "display_data"
    },
    {
     "data": {
      "application/vnd.jupyter.widget-view+json": {
       "model_id": "61bd8a9ee10a4b429d1239ba80158466",
       "version_major": 2,
       "version_minor": 0
      },
      "text/plain": [
       "Breeding: 0it [00:00, ?it/s]"
      ]
     },
     "metadata": {},
     "output_type": "display_data"
    },
    {
     "data": {
      "application/vnd.jupyter.widget-view+json": {
       "model_id": "6a5badeff757453499e8000228e6e201",
       "version_major": 2,
       "version_minor": 0
      },
      "text/plain": [
       "Breeding: 0it [00:00, ?it/s]"
      ]
     },
     "metadata": {},
     "output_type": "display_data"
    },
    {
     "data": {
      "application/vnd.jupyter.widget-view+json": {
       "model_id": "6588a3c3d49c428eb0b462e2c7418ea1",
       "version_major": 2,
       "version_minor": 0
      },
      "text/plain": [
       "Breeding: 0it [00:00, ?it/s]"
      ]
     },
     "metadata": {},
     "output_type": "display_data"
    },
    {
     "data": {
      "application/vnd.jupyter.widget-view+json": {
       "model_id": "b325f39d10184a6387a74d31915529ac",
       "version_major": 2,
       "version_minor": 0
      },
      "text/plain": [
       "Breeding: 0it [00:00, ?it/s]"
      ]
     },
     "metadata": {},
     "output_type": "display_data"
    },
    {
     "data": {
      "application/vnd.jupyter.widget-view+json": {
       "model_id": "d9186367709c4bf0b0026f5905532b04",
       "version_major": 2,
       "version_minor": 0
      },
      "text/plain": [
       "Breeding: 0it [00:00, ?it/s]"
      ]
     },
     "metadata": {},
     "output_type": "display_data"
    },
    {
     "data": {
      "application/vnd.jupyter.widget-view+json": {
       "model_id": "166054cc193f4b00b93bd4e21a182189",
       "version_major": 2,
       "version_minor": 0
      },
      "text/plain": [
       "Breeding: 0it [00:00, ?it/s]"
      ]
     },
     "metadata": {},
     "output_type": "display_data"
    },
    {
     "data": {
      "application/vnd.jupyter.widget-view+json": {
       "model_id": "03d05bb39b754152837d6e68e7b50502",
       "version_major": 2,
       "version_minor": 0
      },
      "text/plain": [
       "Breeding: 0it [00:00, ?it/s]"
      ]
     },
     "metadata": {},
     "output_type": "display_data"
    },
    {
     "data": {
      "application/vnd.jupyter.widget-view+json": {
       "model_id": "add02bcc6e644cd09ca4fc6f559cb17c",
       "version_major": 2,
       "version_minor": 0
      },
      "text/plain": [
       "Breeding: 0it [00:00, ?it/s]"
      ]
     },
     "metadata": {},
     "output_type": "display_data"
    },
    {
     "data": {
      "application/vnd.jupyter.widget-view+json": {
       "model_id": "9fc065ece2c743db800984cfe3753565",
       "version_major": 2,
       "version_minor": 0
      },
      "text/plain": [
       "Breeding: 0it [00:00, ?it/s]"
      ]
     },
     "metadata": {},
     "output_type": "display_data"
    },
    {
     "data": {
      "application/vnd.jupyter.widget-view+json": {
       "model_id": "77a291d7df58476fa8c07ba4fb7dc35b",
       "version_major": 2,
       "version_minor": 0
      },
      "text/plain": [
       "Breeding: 0it [00:00, ?it/s]"
      ]
     },
     "metadata": {},
     "output_type": "display_data"
    },
    {
     "data": {
      "application/vnd.jupyter.widget-view+json": {
       "model_id": "17d092583d23470cbd9099013a9d6fec",
       "version_major": 2,
       "version_minor": 0
      },
      "text/plain": [
       "Breeding: 0it [00:00, ?it/s]"
      ]
     },
     "metadata": {},
     "output_type": "display_data"
    },
    {
     "data": {
      "application/vnd.jupyter.widget-view+json": {
       "model_id": "d0f5e5f4fe2a4885bc04d74508026c0a",
       "version_major": 2,
       "version_minor": 0
      },
      "text/plain": [
       "Breeding: 0it [00:00, ?it/s]"
      ]
     },
     "metadata": {},
     "output_type": "display_data"
    },
    {
     "data": {
      "application/vnd.jupyter.widget-view+json": {
       "model_id": "cb52dcde04074c5c945f2c624811a230",
       "version_major": 2,
       "version_minor": 0
      },
      "text/plain": [
       "Breeding: 0it [00:00, ?it/s]"
      ]
     },
     "metadata": {},
     "output_type": "display_data"
    },
    {
     "data": {
      "application/vnd.jupyter.widget-view+json": {
       "model_id": "0493257f25fb4713a9f9f9ea47f6ab14",
       "version_major": 2,
       "version_minor": 0
      },
      "text/plain": [
       "Breeding: 0it [00:00, ?it/s]"
      ]
     },
     "metadata": {},
     "output_type": "display_data"
    },
    {
     "data": {
      "application/vnd.jupyter.widget-view+json": {
       "model_id": "96cf8118a190467ead1fad94413e0b7b",
       "version_major": 2,
       "version_minor": 0
      },
      "text/plain": [
       "Breeding: 0it [00:00, ?it/s]"
      ]
     },
     "metadata": {},
     "output_type": "display_data"
    },
    {
     "data": {
      "application/vnd.jupyter.widget-view+json": {
       "model_id": "7c7a7d8b92e64a5a9520fb9be06a3d51",
       "version_major": 2,
       "version_minor": 0
      },
      "text/plain": [
       "Breeding: 0it [00:00, ?it/s]"
      ]
     },
     "metadata": {},
     "output_type": "display_data"
    },
    {
     "data": {
      "application/vnd.jupyter.widget-view+json": {
       "model_id": "725363676e21412088ff95fcd7b6e7e8",
       "version_major": 2,
       "version_minor": 0
      },
      "text/plain": [
       "Breeding: 0it [00:00, ?it/s]"
      ]
     },
     "metadata": {},
     "output_type": "display_data"
    },
    {
     "data": {
      "application/vnd.jupyter.widget-view+json": {
       "model_id": "f803e78c4df94007afe1f33a45351762",
       "version_major": 2,
       "version_minor": 0
      },
      "text/plain": [
       "Breeding: 0it [00:00, ?it/s]"
      ]
     },
     "metadata": {},
     "output_type": "display_data"
    },
    {
     "data": {
      "application/vnd.jupyter.widget-view+json": {
       "model_id": "5d306735a4174c5d94e79cb708006dcc",
       "version_major": 2,
       "version_minor": 0
      },
      "text/plain": [
       "Breeding: 0it [00:00, ?it/s]"
      ]
     },
     "metadata": {},
     "output_type": "display_data"
    },
    {
     "data": {
      "application/vnd.jupyter.widget-view+json": {
       "model_id": "cd1ff9c8ef1348648ba6bd9389493244",
       "version_major": 2,
       "version_minor": 0
      },
      "text/plain": [
       "Evaluating fitness:   0%|          | 0/10 [00:00<?, ?it/s]"
      ]
     },
     "metadata": {},
     "output_type": "display_data"
    },
    {
     "data": {
      "application/vnd.jupyter.widget-view+json": {
       "model_id": "3224f9d2f90c4a44bfff8f7cdaaf660b",
       "version_major": 2,
       "version_minor": 0
      },
      "text/plain": [
       "Evaluating fitness:   0%|          | 0/10 [00:00<?, ?it/s]"
      ]
     },
     "metadata": {},
     "output_type": "display_data"
    },
    {
     "data": {
      "application/vnd.jupyter.widget-view+json": {
       "model_id": "8a54d7ea94eb45b09503b81525e629f8",
       "version_major": 2,
       "version_minor": 0
      },
      "text/plain": [
       "Evaluating fitness:   0%|          | 0/10 [00:00<?, ?it/s]"
      ]
     },
     "metadata": {},
     "output_type": "display_data"
    },
    {
     "data": {
      "application/vnd.jupyter.widget-view+json": {
       "model_id": "29cb36949dc146e0806d98276c0acc0e",
       "version_major": 2,
       "version_minor": 0
      },
      "text/plain": [
       "Evaluating fitness:   0%|          | 0/10 [00:00<?, ?it/s]"
      ]
     },
     "metadata": {},
     "output_type": "display_data"
    },
    {
     "data": {
      "application/vnd.jupyter.widget-view+json": {
       "model_id": "692004b3a7664363a0167834d1bdcdf3",
       "version_major": 2,
       "version_minor": 0
      },
      "text/plain": [
       "Evaluating fitness:   0%|          | 0/10 [00:00<?, ?it/s]"
      ]
     },
     "metadata": {},
     "output_type": "display_data"
    },
    {
     "data": {
      "application/vnd.jupyter.widget-view+json": {
       "model_id": "f7d0f360ce0d4deeb4919f720a7aa73c",
       "version_major": 2,
       "version_minor": 0
      },
      "text/plain": [
       "Evaluating fitness:   0%|          | 0/10 [00:00<?, ?it/s]"
      ]
     },
     "metadata": {},
     "output_type": "display_data"
    },
    {
     "data": {
      "application/vnd.jupyter.widget-view+json": {
       "model_id": "4fabed550a144b83b384fbd1c1fe3e0d",
       "version_major": 2,
       "version_minor": 0
      },
      "text/plain": [
       "Evaluating fitness:   0%|          | 0/10 [00:00<?, ?it/s]"
      ]
     },
     "metadata": {},
     "output_type": "display_data"
    },
    {
     "data": {
      "application/vnd.jupyter.widget-view+json": {
       "model_id": "c30d73d4c8c540c88f333fc949b7c339",
       "version_major": 2,
       "version_minor": 0
      },
      "text/plain": [
       "Evaluating fitness:   0%|          | 0/10 [00:00<?, ?it/s]"
      ]
     },
     "metadata": {},
     "output_type": "display_data"
    },
    {
     "data": {
      "application/vnd.jupyter.widget-view+json": {
       "model_id": "a5023f0c099e48e0ad306045c7ee2d68",
       "version_major": 2,
       "version_minor": 0
      },
      "text/plain": [
       "Evaluating fitness:   0%|          | 0/10 [00:00<?, ?it/s]"
      ]
     },
     "metadata": {},
     "output_type": "display_data"
    },
    {
     "data": {
      "application/vnd.jupyter.widget-view+json": {
       "model_id": "31971eee8b75415aa2e263f964e4c828",
       "version_major": 2,
       "version_minor": 0
      },
      "text/plain": [
       "Evaluating fitness:   0%|          | 0/10 [00:00<?, ?it/s]"
      ]
     },
     "metadata": {},
     "output_type": "display_data"
    },
    {
     "data": {
      "application/vnd.jupyter.widget-view+json": {
       "model_id": "a3f693d495544a399f43aee1e42c671b",
       "version_major": 2,
       "version_minor": 0
      },
      "text/plain": [
       "Evaluating fitness:   0%|          | 0/10 [00:00<?, ?it/s]"
      ]
     },
     "metadata": {},
     "output_type": "display_data"
    },
    {
     "data": {
      "application/vnd.jupyter.widget-view+json": {
       "model_id": "dfe219ce7cdd471080e3d18041a94c87",
       "version_major": 2,
       "version_minor": 0
      },
      "text/plain": [
       "Evaluating fitness:   0%|          | 0/10 [00:00<?, ?it/s]"
      ]
     },
     "metadata": {},
     "output_type": "display_data"
    },
    {
     "data": {
      "application/vnd.jupyter.widget-view+json": {
       "model_id": "65c6935275de47e5a0b31b80e2670e65",
       "version_major": 2,
       "version_minor": 0
      },
      "text/plain": [
       "Evaluating fitness:   0%|          | 0/10 [00:00<?, ?it/s]"
      ]
     },
     "metadata": {},
     "output_type": "display_data"
    },
    {
     "data": {
      "application/vnd.jupyter.widget-view+json": {
       "model_id": "92889491f21f43fb81aa6f83c5dce1ff",
       "version_major": 2,
       "version_minor": 0
      },
      "text/plain": [
       "Evaluating fitness:   0%|          | 0/10 [00:00<?, ?it/s]"
      ]
     },
     "metadata": {},
     "output_type": "display_data"
    },
    {
     "data": {
      "application/vnd.jupyter.widget-view+json": {
       "model_id": "eef3dc3190fe4598b28c07f0cea26aab",
       "version_major": 2,
       "version_minor": 0
      },
      "text/plain": [
       "Evaluating fitness:   0%|          | 0/10 [00:00<?, ?it/s]"
      ]
     },
     "metadata": {},
     "output_type": "display_data"
    },
    {
     "data": {
      "application/vnd.jupyter.widget-view+json": {
       "model_id": "fcdb183a82d64a73849e402962d1139a",
       "version_major": 2,
       "version_minor": 0
      },
      "text/plain": [
       "Evaluating fitness:   0%|          | 0/10 [00:00<?, ?it/s]"
      ]
     },
     "metadata": {},
     "output_type": "display_data"
    },
    {
     "data": {
      "application/vnd.jupyter.widget-view+json": {
       "model_id": "acfadcd45c154dd9b6b54e6fb7d45e6b",
       "version_major": 2,
       "version_minor": 0
      },
      "text/plain": [
       "Evaluating fitness:   0%|          | 0/10 [00:00<?, ?it/s]"
      ]
     },
     "metadata": {},
     "output_type": "display_data"
    },
    {
     "data": {
      "application/vnd.jupyter.widget-view+json": {
       "model_id": "f4021a9de26342f887328f225ce19381",
       "version_major": 2,
       "version_minor": 0
      },
      "text/plain": [
       "Evaluating fitness:   0%|          | 0/10 [00:00<?, ?it/s]"
      ]
     },
     "metadata": {},
     "output_type": "display_data"
    },
    {
     "data": {
      "application/vnd.jupyter.widget-view+json": {
       "model_id": "88968243fd7b43a082d9edaa2b3f813e",
       "version_major": 2,
       "version_minor": 0
      },
      "text/plain": [
       "Evaluating fitness:   0%|          | 0/10 [00:00<?, ?it/s]"
      ]
     },
     "metadata": {},
     "output_type": "display_data"
    },
    {
     "data": {
      "application/vnd.jupyter.widget-view+json": {
       "model_id": "21084657afd3419f92c06d9fa3af7004",
       "version_major": 2,
       "version_minor": 0
      },
      "text/plain": [
       "Evaluating fitness:   0%|          | 0/10 [00:00<?, ?it/s]"
      ]
     },
     "metadata": {},
     "output_type": "display_data"
    },
    {
     "data": {
      "application/vnd.jupyter.widget-view+json": {
       "model_id": "ce7bdb10dc994dd0825773fce85d47d3",
       "version_major": 2,
       "version_minor": 0
      },
      "text/plain": [
       "Evaluating fitness:   0%|          | 0/10 [00:00<?, ?it/s]"
      ]
     },
     "metadata": {},
     "output_type": "display_data"
    },
    {
     "data": {
      "application/vnd.jupyter.widget-view+json": {
       "model_id": "6f262c96fd41413182fccf91a19f62f6",
       "version_major": 2,
       "version_minor": 0
      },
      "text/plain": [
       "Evaluating fitness:   0%|          | 0/10 [00:00<?, ?it/s]"
      ]
     },
     "metadata": {},
     "output_type": "display_data"
    },
    {
     "data": {
      "application/vnd.jupyter.widget-view+json": {
       "model_id": "fdf9eb193f394401853d44e4a175dcd5",
       "version_major": 2,
       "version_minor": 0
      },
      "text/plain": [
       "Evaluating fitness:   0%|          | 0/10 [00:00<?, ?it/s]"
      ]
     },
     "metadata": {},
     "output_type": "display_data"
    },
    {
     "data": {
      "application/vnd.jupyter.widget-view+json": {
       "model_id": "a34ee4847dab4d60bcf2ccb694a4b403",
       "version_major": 2,
       "version_minor": 0
      },
      "text/plain": [
       "Evaluating fitness:   0%|          | 0/10 [00:00<?, ?it/s]"
      ]
     },
     "metadata": {},
     "output_type": "display_data"
    },
    {
     "data": {
      "application/vnd.jupyter.widget-view+json": {
       "model_id": "14d43d025ce14e998d114be28de6205c",
       "version_major": 2,
       "version_minor": 0
      },
      "text/plain": [
       "Evaluating fitness:   0%|          | 0/10 [00:00<?, ?it/s]"
      ]
     },
     "metadata": {},
     "output_type": "display_data"
    },
    {
     "data": {
      "application/vnd.jupyter.widget-view+json": {
       "model_id": "d9d3c302be6b478ab4237da502ffdc68",
       "version_major": 2,
       "version_minor": 0
      },
      "text/plain": [
       "Evaluating fitness:   0%|          | 0/10 [00:00<?, ?it/s]"
      ]
     },
     "metadata": {},
     "output_type": "display_data"
    },
    {
     "data": {
      "application/vnd.jupyter.widget-view+json": {
       "model_id": "04abe8628a9e4fc99454e2e923321e3c",
       "version_major": 2,
       "version_minor": 0
      },
      "text/plain": [
       "Evaluating fitness:   0%|          | 0/10 [00:00<?, ?it/s]"
      ]
     },
     "metadata": {},
     "output_type": "display_data"
    },
    {
     "data": {
      "application/vnd.jupyter.widget-view+json": {
       "model_id": "3d37a800bcdb470e9cbbbdbe83b65380",
       "version_major": 2,
       "version_minor": 0
      },
      "text/plain": [
       "Evaluating fitness:   0%|          | 0/10 [00:00<?, ?it/s]"
      ]
     },
     "metadata": {},
     "output_type": "display_data"
    },
    {
     "data": {
      "application/vnd.jupyter.widget-view+json": {
       "model_id": "36a0bd00458b485ab28efa9357318e72",
       "version_major": 2,
       "version_minor": 0
      },
      "text/plain": [
       "Evaluating fitness:   0%|          | 0/10 [00:00<?, ?it/s]"
      ]
     },
     "metadata": {},
     "output_type": "display_data"
    },
    {
     "data": {
      "application/vnd.jupyter.widget-view+json": {
       "model_id": "de74474fb0a9489a8f1531199dca8d16",
       "version_major": 2,
       "version_minor": 0
      },
      "text/plain": [
       "Evaluating fitness:   0%|          | 0/10 [00:00<?, ?it/s]"
      ]
     },
     "metadata": {},
     "output_type": "display_data"
    },
    {
     "data": {
      "application/vnd.jupyter.widget-view+json": {
       "model_id": "7c615431f9a1431786351229e9c0380f",
       "version_major": 2,
       "version_minor": 0
      },
      "text/plain": [
       "Evaluating fitness:   0%|          | 0/10 [00:00<?, ?it/s]"
      ]
     },
     "metadata": {},
     "output_type": "display_data"
    },
    {
     "data": {
      "application/vnd.jupyter.widget-view+json": {
       "model_id": "31301f63714444829b163dd86969b64f",
       "version_major": 2,
       "version_minor": 0
      },
      "text/plain": [
       "Evaluating fitness:   0%|          | 0/10 [00:00<?, ?it/s]"
      ]
     },
     "metadata": {},
     "output_type": "display_data"
    },
    {
     "data": {
      "application/vnd.jupyter.widget-view+json": {
       "model_id": "933e5ab611204defb2bf9efa66c46143",
       "version_major": 2,
       "version_minor": 0
      },
      "text/plain": [
       "Evaluating fitness:   0%|          | 0/10 [00:00<?, ?it/s]"
      ]
     },
     "metadata": {},
     "output_type": "display_data"
    },
    {
     "data": {
      "application/vnd.jupyter.widget-view+json": {
       "model_id": "423097693b644fccb0d91a86f38007c4",
       "version_major": 2,
       "version_minor": 0
      },
      "text/plain": [
       "Evaluating fitness:   0%|          | 0/10 [00:00<?, ?it/s]"
      ]
     },
     "metadata": {},
     "output_type": "display_data"
    },
    {
     "data": {
      "application/vnd.jupyter.widget-view+json": {
       "model_id": "339807e71f4f48e69f8572aa4afb25fe",
       "version_major": 2,
       "version_minor": 0
      },
      "text/plain": [
       "Evaluating fitness:   0%|          | 0/10 [00:00<?, ?it/s]"
      ]
     },
     "metadata": {},
     "output_type": "display_data"
    },
    {
     "data": {
      "application/vnd.jupyter.widget-view+json": {
       "model_id": "cd15df65a3b8499aa3508e52648d890c",
       "version_major": 2,
       "version_minor": 0
      },
      "text/plain": [
       "Evaluating fitness:   0%|          | 0/10 [00:00<?, ?it/s]"
      ]
     },
     "metadata": {},
     "output_type": "display_data"
    },
    {
     "data": {
      "application/vnd.jupyter.widget-view+json": {
       "model_id": "538d9d193f8d46a999165d95eb0fd1a1",
       "version_major": 2,
       "version_minor": 0
      },
      "text/plain": [
       "Evaluating fitness:   0%|          | 0/10 [00:00<?, ?it/s]"
      ]
     },
     "metadata": {},
     "output_type": "display_data"
    },
    {
     "data": {
      "application/vnd.jupyter.widget-view+json": {
       "model_id": "3d8b917a0d87448995147bf4f5aa19e8",
       "version_major": 2,
       "version_minor": 0
      },
      "text/plain": [
       "Evaluating fitness:   0%|          | 0/10 [00:00<?, ?it/s]"
      ]
     },
     "metadata": {},
     "output_type": "display_data"
    },
    {
     "data": {
      "application/vnd.jupyter.widget-view+json": {
       "model_id": "85c5cbe392e8483a9a6baad7119f37d4",
       "version_major": 2,
       "version_minor": 0
      },
      "text/plain": [
       "Evaluating fitness:   0%|          | 0/10 [00:00<?, ?it/s]"
      ]
     },
     "metadata": {},
     "output_type": "display_data"
    },
    {
     "data": {
      "application/vnd.jupyter.widget-view+json": {
       "model_id": "2944547a5eee49ce9d8daed6552ba57f",
       "version_major": 2,
       "version_minor": 0
      },
      "text/plain": [
       "Evaluating fitness:   0%|          | 0/10 [00:00<?, ?it/s]"
      ]
     },
     "metadata": {},
     "output_type": "display_data"
    },
    {
     "data": {
      "application/vnd.jupyter.widget-view+json": {
       "model_id": "061f0fa0bd6347189bbf1490302f8a29",
       "version_major": 2,
       "version_minor": 0
      },
      "text/plain": [
       "Evaluating fitness:   0%|          | 0/10 [00:00<?, ?it/s]"
      ]
     },
     "metadata": {},
     "output_type": "display_data"
    },
    {
     "data": {
      "application/vnd.jupyter.widget-view+json": {
       "model_id": "48fa111531f54f2aa89a1d27d3799c32",
       "version_major": 2,
       "version_minor": 0
      },
      "text/plain": [
       "Evaluating fitness:   0%|          | 0/10 [00:00<?, ?it/s]"
      ]
     },
     "metadata": {},
     "output_type": "display_data"
    },
    {
     "data": {
      "application/vnd.jupyter.widget-view+json": {
       "model_id": "0460696e65d542c192d89206754a2f65",
       "version_major": 2,
       "version_minor": 0
      },
      "text/plain": [
       "Evaluating fitness:   0%|          | 0/10 [00:00<?, ?it/s]"
      ]
     },
     "metadata": {},
     "output_type": "display_data"
    },
    {
     "data": {
      "application/vnd.jupyter.widget-view+json": {
       "model_id": "a2831213c4844d838cce671a1a92bb3b",
       "version_major": 2,
       "version_minor": 0
      },
      "text/plain": [
       "Evaluating fitness:   0%|          | 0/10 [00:00<?, ?it/s]"
      ]
     },
     "metadata": {},
     "output_type": "display_data"
    },
    {
     "data": {
      "application/vnd.jupyter.widget-view+json": {
       "model_id": "e7e91f852b3e4cbb8c7f4f904e5874b0",
       "version_major": 2,
       "version_minor": 0
      },
      "text/plain": [
       "Evaluating fitness:   0%|          | 0/10 [00:00<?, ?it/s]"
      ]
     },
     "metadata": {},
     "output_type": "display_data"
    },
    {
     "data": {
      "application/vnd.jupyter.widget-view+json": {
       "model_id": "f2f30af0ec994269ac8aa83803700a42",
       "version_major": 2,
       "version_minor": 0
      },
      "text/plain": [
       "Evaluating fitness:   0%|          | 0/10 [00:00<?, ?it/s]"
      ]
     },
     "metadata": {},
     "output_type": "display_data"
    },
    {
     "data": {
      "application/vnd.jupyter.widget-view+json": {
       "model_id": "c050a9dfafa3463082bc2e323c7bfae2",
       "version_major": 2,
       "version_minor": 0
      },
      "text/plain": [
       "Evaluating fitness:   0%|          | 0/10 [00:00<?, ?it/s]"
      ]
     },
     "metadata": {},
     "output_type": "display_data"
    },
    {
     "data": {
      "application/vnd.jupyter.widget-view+json": {
       "model_id": "20a0fd9c05a442ce960d24ab553263d9",
       "version_major": 2,
       "version_minor": 0
      },
      "text/plain": [
       "Evaluating fitness:   0%|          | 0/10 [00:00<?, ?it/s]"
      ]
     },
     "metadata": {},
     "output_type": "display_data"
    },
    {
     "data": {
      "application/vnd.jupyter.widget-view+json": {
       "model_id": "b54374d6df4d48728385b045968d9c88",
       "version_major": 2,
       "version_minor": 0
      },
      "text/plain": [
       "Evaluating fitness:   0%|          | 0/10 [00:00<?, ?it/s]"
      ]
     },
     "metadata": {},
     "output_type": "display_data"
    },
    {
     "data": {
      "application/vnd.jupyter.widget-view+json": {
       "model_id": "2a274f295d8d4faaab058500d9c461f7",
       "version_major": 2,
       "version_minor": 0
      },
      "text/plain": [
       "Evaluating fitness:   0%|          | 0/10 [00:00<?, ?it/s]"
      ]
     },
     "metadata": {},
     "output_type": "display_data"
    },
    {
     "data": {
      "application/vnd.jupyter.widget-view+json": {
       "model_id": "d790f83bacab4f7fa73af259a49f907b",
       "version_major": 2,
       "version_minor": 0
      },
      "text/plain": [
       "Breeding: 0it [00:00, ?it/s]"
      ]
     },
     "metadata": {},
     "output_type": "display_data"
    },
    {
     "data": {
      "application/vnd.jupyter.widget-view+json": {
       "model_id": "0fc3cd5e1d63435bb889a8afcefea486",
       "version_major": 2,
       "version_minor": 0
      },
      "text/plain": [
       "Breeding: 0it [00:00, ?it/s]"
      ]
     },
     "metadata": {},
     "output_type": "display_data"
    },
    {
     "data": {
      "application/vnd.jupyter.widget-view+json": {
       "model_id": "38ac4e118f1d4c67952748ada8c1f27f",
       "version_major": 2,
       "version_minor": 0
      },
      "text/plain": [
       "Breeding: 0it [00:00, ?it/s]"
      ]
     },
     "metadata": {},
     "output_type": "display_data"
    },
    {
     "data": {
      "application/vnd.jupyter.widget-view+json": {
       "model_id": "7408227070f44da8b62dbaf97329846c",
       "version_major": 2,
       "version_minor": 0
      },
      "text/plain": [
       "Breeding: 0it [00:00, ?it/s]"
      ]
     },
     "metadata": {},
     "output_type": "display_data"
    },
    {
     "data": {
      "application/vnd.jupyter.widget-view+json": {
       "model_id": "59f43e377df6412b8b44946e6d6d507f",
       "version_major": 2,
       "version_minor": 0
      },
      "text/plain": [
       "Breeding: 0it [00:00, ?it/s]"
      ]
     },
     "metadata": {},
     "output_type": "display_data"
    },
    {
     "data": {
      "application/vnd.jupyter.widget-view+json": {
       "model_id": "988eda5e752c492d90fb936c2dd82c0b",
       "version_major": 2,
       "version_minor": 0
      },
      "text/plain": [
       "Breeding: 0it [00:00, ?it/s]"
      ]
     },
     "metadata": {},
     "output_type": "display_data"
    },
    {
     "data": {
      "application/vnd.jupyter.widget-view+json": {
       "model_id": "72d26e846ad34fac8209386bd834ab4b",
       "version_major": 2,
       "version_minor": 0
      },
      "text/plain": [
       "Breeding: 0it [00:00, ?it/s]"
      ]
     },
     "metadata": {},
     "output_type": "display_data"
    },
    {
     "data": {
      "application/vnd.jupyter.widget-view+json": {
       "model_id": "3287e78f78bd40f7939f5611b4497038",
       "version_major": 2,
       "version_minor": 0
      },
      "text/plain": [
       "Breeding: 0it [00:00, ?it/s]"
      ]
     },
     "metadata": {},
     "output_type": "display_data"
    },
    {
     "data": {
      "application/vnd.jupyter.widget-view+json": {
       "model_id": "f1b2d026ba5c4d18b49684b98c24e6d6",
       "version_major": 2,
       "version_minor": 0
      },
      "text/plain": [
       "Breeding: 0it [00:00, ?it/s]"
      ]
     },
     "metadata": {},
     "output_type": "display_data"
    },
    {
     "data": {
      "application/vnd.jupyter.widget-view+json": {
       "model_id": "5044bb0882594db2abf6bc840044235d",
       "version_major": 2,
       "version_minor": 0
      },
      "text/plain": [
       "Breeding: 0it [00:00, ?it/s]"
      ]
     },
     "metadata": {},
     "output_type": "display_data"
    },
    {
     "data": {
      "application/vnd.jupyter.widget-view+json": {
       "model_id": "19e6a978b4284bb1a035af789fc10542",
       "version_major": 2,
       "version_minor": 0
      },
      "text/plain": [
       "Breeding: 0it [00:00, ?it/s]"
      ]
     },
     "metadata": {},
     "output_type": "display_data"
    },
    {
     "data": {
      "application/vnd.jupyter.widget-view+json": {
       "model_id": "49f9a176e3e04870ac458975f1640967",
       "version_major": 2,
       "version_minor": 0
      },
      "text/plain": [
       "Breeding: 0it [00:00, ?it/s]"
      ]
     },
     "metadata": {},
     "output_type": "display_data"
    },
    {
     "data": {
      "application/vnd.jupyter.widget-view+json": {
       "model_id": "8d2ae49ba32e45d89a6343d05e5d4727",
       "version_major": 2,
       "version_minor": 0
      },
      "text/plain": [
       "Breeding: 0it [00:00, ?it/s]"
      ]
     },
     "metadata": {},
     "output_type": "display_data"
    },
    {
     "data": {
      "application/vnd.jupyter.widget-view+json": {
       "model_id": "b25b809d2228427d9ef3dec268d5ac79",
       "version_major": 2,
       "version_minor": 0
      },
      "text/plain": [
       "Breeding: 0it [00:00, ?it/s]"
      ]
     },
     "metadata": {},
     "output_type": "display_data"
    },
    {
     "data": {
      "application/vnd.jupyter.widget-view+json": {
       "model_id": "2f1535b7e250417e9ff81ab7b747afbe",
       "version_major": 2,
       "version_minor": 0
      },
      "text/plain": [
       "Breeding: 0it [00:00, ?it/s]"
      ]
     },
     "metadata": {},
     "output_type": "display_data"
    },
    {
     "data": {
      "application/vnd.jupyter.widget-view+json": {
       "model_id": "6e2561e347404042926be808e2f2b66a",
       "version_major": 2,
       "version_minor": 0
      },
      "text/plain": [
       "Breeding: 0it [00:00, ?it/s]"
      ]
     },
     "metadata": {},
     "output_type": "display_data"
    },
    {
     "data": {
      "application/vnd.jupyter.widget-view+json": {
       "model_id": "90b027322c174b99be125bae1a3d9a3d",
       "version_major": 2,
       "version_minor": 0
      },
      "text/plain": [
       "Breeding: 0it [00:00, ?it/s]"
      ]
     },
     "metadata": {},
     "output_type": "display_data"
    },
    {
     "data": {
      "application/vnd.jupyter.widget-view+json": {
       "model_id": "da436bbf5ec3422ba8cd59e61e0f1902",
       "version_major": 2,
       "version_minor": 0
      },
      "text/plain": [
       "Breeding: 0it [00:00, ?it/s]"
      ]
     },
     "metadata": {},
     "output_type": "display_data"
    },
    {
     "data": {
      "application/vnd.jupyter.widget-view+json": {
       "model_id": "4f6504b3fa934043a5db7115e08a71a7",
       "version_major": 2,
       "version_minor": 0
      },
      "text/plain": [
       "Breeding: 0it [00:00, ?it/s]"
      ]
     },
     "metadata": {},
     "output_type": "display_data"
    },
    {
     "data": {
      "application/vnd.jupyter.widget-view+json": {
       "model_id": "e6c6c64b1f7442558f0fb0bd6895dc33",
       "version_major": 2,
       "version_minor": 0
      },
      "text/plain": [
       "Breeding: 0it [00:00, ?it/s]"
      ]
     },
     "metadata": {},
     "output_type": "display_data"
    },
    {
     "data": {
      "application/vnd.jupyter.widget-view+json": {
       "model_id": "90b1d25a953a4db6a3c10106bbef0cc2",
       "version_major": 2,
       "version_minor": 0
      },
      "text/plain": [
       "Breeding: 0it [00:00, ?it/s]"
      ]
     },
     "metadata": {},
     "output_type": "display_data"
    },
    {
     "data": {
      "application/vnd.jupyter.widget-view+json": {
       "model_id": "59b0adc1207f43168fdba2460bf69ef2",
       "version_major": 2,
       "version_minor": 0
      },
      "text/plain": [
       "Breeding: 0it [00:00, ?it/s]"
      ]
     },
     "metadata": {},
     "output_type": "display_data"
    },
    {
     "data": {
      "application/vnd.jupyter.widget-view+json": {
       "model_id": "2b46a630686e47d0afe94dc31323d827",
       "version_major": 2,
       "version_minor": 0
      },
      "text/plain": [
       "Breeding: 0it [00:00, ?it/s]"
      ]
     },
     "metadata": {},
     "output_type": "display_data"
    },
    {
     "data": {
      "application/vnd.jupyter.widget-view+json": {
       "model_id": "40f2891acc374838a623ca9ed9b44365",
       "version_major": 2,
       "version_minor": 0
      },
      "text/plain": [
       "Breeding: 0it [00:00, ?it/s]"
      ]
     },
     "metadata": {},
     "output_type": "display_data"
    },
    {
     "data": {
      "application/vnd.jupyter.widget-view+json": {
       "model_id": "af3d722b95f04bb5ae6f1ea4e91750b9",
       "version_major": 2,
       "version_minor": 0
      },
      "text/plain": [
       "Breeding: 0it [00:00, ?it/s]"
      ]
     },
     "metadata": {},
     "output_type": "display_data"
    },
    {
     "data": {
      "application/vnd.jupyter.widget-view+json": {
       "model_id": "8036c23a3f1f413ea5469ef0e4ae1acf",
       "version_major": 2,
       "version_minor": 0
      },
      "text/plain": [
       "Breeding: 0it [00:00, ?it/s]"
      ]
     },
     "metadata": {},
     "output_type": "display_data"
    },
    {
     "data": {
      "application/vnd.jupyter.widget-view+json": {
       "model_id": "53166f4557964ad0bde5068bbd90f0ae",
       "version_major": 2,
       "version_minor": 0
      },
      "text/plain": [
       "Breeding: 0it [00:00, ?it/s]"
      ]
     },
     "metadata": {},
     "output_type": "display_data"
    },
    {
     "data": {
      "application/vnd.jupyter.widget-view+json": {
       "model_id": "91c1934cd3c841cbb9329f7be58a259f",
       "version_major": 2,
       "version_minor": 0
      },
      "text/plain": [
       "Breeding: 0it [00:00, ?it/s]"
      ]
     },
     "metadata": {},
     "output_type": "display_data"
    },
    {
     "data": {
      "application/vnd.jupyter.widget-view+json": {
       "model_id": "888df76af940444f96cccd3d42c60c20",
       "version_major": 2,
       "version_minor": 0
      },
      "text/plain": [
       "Breeding: 0it [00:00, ?it/s]"
      ]
     },
     "metadata": {},
     "output_type": "display_data"
    },
    {
     "data": {
      "application/vnd.jupyter.widget-view+json": {
       "model_id": "c2530615d81e45aaaba2a9355b04ba78",
       "version_major": 2,
       "version_minor": 0
      },
      "text/plain": [
       "Breeding: 0it [00:00, ?it/s]"
      ]
     },
     "metadata": {},
     "output_type": "display_data"
    },
    {
     "data": {
      "application/vnd.jupyter.widget-view+json": {
       "model_id": "55e5219e4fcc4acaa2ae6af668b883e9",
       "version_major": 2,
       "version_minor": 0
      },
      "text/plain": [
       "Breeding: 0it [00:00, ?it/s]"
      ]
     },
     "metadata": {},
     "output_type": "display_data"
    },
    {
     "data": {
      "application/vnd.jupyter.widget-view+json": {
       "model_id": "6e9fe0c2377c40678ed070a3b8fdb240",
       "version_major": 2,
       "version_minor": 0
      },
      "text/plain": [
       "Breeding: 0it [00:00, ?it/s]"
      ]
     },
     "metadata": {},
     "output_type": "display_data"
    },
    {
     "data": {
      "application/vnd.jupyter.widget-view+json": {
       "model_id": "48374ed1b2de4ebaa50a5d52ceefd839",
       "version_major": 2,
       "version_minor": 0
      },
      "text/plain": [
       "Breeding: 0it [00:00, ?it/s]"
      ]
     },
     "metadata": {},
     "output_type": "display_data"
    },
    {
     "data": {
      "application/vnd.jupyter.widget-view+json": {
       "model_id": "82d3aa2d9576497bbe036174f4eb634b",
       "version_major": 2,
       "version_minor": 0
      },
      "text/plain": [
       "Breeding: 0it [00:00, ?it/s]"
      ]
     },
     "metadata": {},
     "output_type": "display_data"
    },
    {
     "data": {
      "application/vnd.jupyter.widget-view+json": {
       "model_id": "99814a3cb7704928b2cd0505ae68b3c9",
       "version_major": 2,
       "version_minor": 0
      },
      "text/plain": [
       "Breeding: 0it [00:00, ?it/s]"
      ]
     },
     "metadata": {},
     "output_type": "display_data"
    },
    {
     "data": {
      "application/vnd.jupyter.widget-view+json": {
       "model_id": "c159774ab63f4e01b572f41d26fd9544",
       "version_major": 2,
       "version_minor": 0
      },
      "text/plain": [
       "Breeding: 0it [00:00, ?it/s]"
      ]
     },
     "metadata": {},
     "output_type": "display_data"
    },
    {
     "data": {
      "application/vnd.jupyter.widget-view+json": {
       "model_id": "5893305785674d3e8bd80967c75cc5d1",
       "version_major": 2,
       "version_minor": 0
      },
      "text/plain": [
       "Breeding: 0it [00:00, ?it/s]"
      ]
     },
     "metadata": {},
     "output_type": "display_data"
    },
    {
     "data": {
      "application/vnd.jupyter.widget-view+json": {
       "model_id": "540d92f1c73b44acaf928e69b877c374",
       "version_major": 2,
       "version_minor": 0
      },
      "text/plain": [
       "Breeding: 0it [00:00, ?it/s]"
      ]
     },
     "metadata": {},
     "output_type": "display_data"
    },
    {
     "data": {
      "application/vnd.jupyter.widget-view+json": {
       "model_id": "fd69470ca2c74edd824840143bbc4b84",
       "version_major": 2,
       "version_minor": 0
      },
      "text/plain": [
       "Breeding: 0it [00:00, ?it/s]"
      ]
     },
     "metadata": {},
     "output_type": "display_data"
    },
    {
     "data": {
      "application/vnd.jupyter.widget-view+json": {
       "model_id": "95a41203ed844b57b9277dd640e43094",
       "version_major": 2,
       "version_minor": 0
      },
      "text/plain": [
       "Breeding: 0it [00:00, ?it/s]"
      ]
     },
     "metadata": {},
     "output_type": "display_data"
    },
    {
     "data": {
      "application/vnd.jupyter.widget-view+json": {
       "model_id": "0989b1307d4b45029ef172dfcd4c3b58",
       "version_major": 2,
       "version_minor": 0
      },
      "text/plain": [
       "Breeding: 0it [00:00, ?it/s]"
      ]
     },
     "metadata": {},
     "output_type": "display_data"
    },
    {
     "data": {
      "application/vnd.jupyter.widget-view+json": {
       "model_id": "3e5338e243204d0fbe6b2f450f5350a8",
       "version_major": 2,
       "version_minor": 0
      },
      "text/plain": [
       "Breeding: 0it [00:00, ?it/s]"
      ]
     },
     "metadata": {},
     "output_type": "display_data"
    },
    {
     "data": {
      "application/vnd.jupyter.widget-view+json": {
       "model_id": "e3bb24a7047d437ba27e8547de13dfea",
       "version_major": 2,
       "version_minor": 0
      },
      "text/plain": [
       "Breeding: 0it [00:00, ?it/s]"
      ]
     },
     "metadata": {},
     "output_type": "display_data"
    },
    {
     "data": {
      "application/vnd.jupyter.widget-view+json": {
       "model_id": "1eac5fdc9b1d44a3a25b3d0343815c78",
       "version_major": 2,
       "version_minor": 0
      },
      "text/plain": [
       "Breeding: 0it [00:00, ?it/s]"
      ]
     },
     "metadata": {},
     "output_type": "display_data"
    },
    {
     "data": {
      "application/vnd.jupyter.widget-view+json": {
       "model_id": "56db0178d02a4f5b930b0c3a2e220f63",
       "version_major": 2,
       "version_minor": 0
      },
      "text/plain": [
       "Breeding: 0it [00:00, ?it/s]"
      ]
     },
     "metadata": {},
     "output_type": "display_data"
    },
    {
     "data": {
      "application/vnd.jupyter.widget-view+json": {
       "model_id": "d9a2baad286241abab278009fdc1ad1a",
       "version_major": 2,
       "version_minor": 0
      },
      "text/plain": [
       "Breeding: 0it [00:00, ?it/s]"
      ]
     },
     "metadata": {},
     "output_type": "display_data"
    },
    {
     "data": {
      "application/vnd.jupyter.widget-view+json": {
       "model_id": "41fc2e077f0b4f0bab2247905c868cd6",
       "version_major": 2,
       "version_minor": 0
      },
      "text/plain": [
       "Breeding: 0it [00:00, ?it/s]"
      ]
     },
     "metadata": {},
     "output_type": "display_data"
    },
    {
     "data": {
      "application/vnd.jupyter.widget-view+json": {
       "model_id": "74a5c846d12c490aa5f8674917401d50",
       "version_major": 2,
       "version_minor": 0
      },
      "text/plain": [
       "Breeding: 0it [00:00, ?it/s]"
      ]
     },
     "metadata": {},
     "output_type": "display_data"
    },
    {
     "data": {
      "application/vnd.jupyter.widget-view+json": {
       "model_id": "4e7a032ec7a746508765b913e78fdd63",
       "version_major": 2,
       "version_minor": 0
      },
      "text/plain": [
       "Breeding: 0it [00:00, ?it/s]"
      ]
     },
     "metadata": {},
     "output_type": "display_data"
    },
    {
     "data": {
      "application/vnd.jupyter.widget-view+json": {
       "model_id": "d667776136ba4d6e848c4babe29b9e05",
       "version_major": 2,
       "version_minor": 0
      },
      "text/plain": [
       "Breeding: 0it [00:00, ?it/s]"
      ]
     },
     "metadata": {},
     "output_type": "display_data"
    },
    {
     "data": {
      "application/vnd.jupyter.widget-view+json": {
       "model_id": "3bb93d1d78114a50a56b7dae32efc19e",
       "version_major": 2,
       "version_minor": 0
      },
      "text/plain": [
       "Breeding: 0it [00:00, ?it/s]"
      ]
     },
     "metadata": {},
     "output_type": "display_data"
    },
    {
     "data": {
      "application/vnd.jupyter.widget-view+json": {
       "model_id": "cbed99565340447894599d8736a98046",
       "version_major": 2,
       "version_minor": 0
      },
      "text/plain": [
       "Evaluating fitness:   0%|          | 0/10 [00:00<?, ?it/s]"
      ]
     },
     "metadata": {},
     "output_type": "display_data"
    },
    {
     "data": {
      "application/vnd.jupyter.widget-view+json": {
       "model_id": "3407e8eff550445cbba9756882f58afa",
       "version_major": 2,
       "version_minor": 0
      },
      "text/plain": [
       "Evaluating fitness:   0%|          | 0/10 [00:00<?, ?it/s]"
      ]
     },
     "metadata": {},
     "output_type": "display_data"
    },
    {
     "data": {
      "application/vnd.jupyter.widget-view+json": {
       "model_id": "21e561dddf474e5da47c45845b83b217",
       "version_major": 2,
       "version_minor": 0
      },
      "text/plain": [
       "Evaluating fitness:   0%|          | 0/10 [00:00<?, ?it/s]"
      ]
     },
     "metadata": {},
     "output_type": "display_data"
    },
    {
     "data": {
      "application/vnd.jupyter.widget-view+json": {
       "model_id": "f275ee0a04bd4dbea9861367ff4778bb",
       "version_major": 2,
       "version_minor": 0
      },
      "text/plain": [
       "Evaluating fitness:   0%|          | 0/10 [00:00<?, ?it/s]"
      ]
     },
     "metadata": {},
     "output_type": "display_data"
    },
    {
     "data": {
      "application/vnd.jupyter.widget-view+json": {
       "model_id": "2f2dd252eb474a5ba0f120bd28952269",
       "version_major": 2,
       "version_minor": 0
      },
      "text/plain": [
       "Evaluating fitness:   0%|          | 0/10 [00:00<?, ?it/s]"
      ]
     },
     "metadata": {},
     "output_type": "display_data"
    },
    {
     "data": {
      "application/vnd.jupyter.widget-view+json": {
       "model_id": "4b1250f2fcd24fcc934e2062ac57a8ac",
       "version_major": 2,
       "version_minor": 0
      },
      "text/plain": [
       "Evaluating fitness:   0%|          | 0/10 [00:00<?, ?it/s]"
      ]
     },
     "metadata": {},
     "output_type": "display_data"
    },
    {
     "data": {
      "application/vnd.jupyter.widget-view+json": {
       "model_id": "2435249e06d2488baab7ba3b065e628d",
       "version_major": 2,
       "version_minor": 0
      },
      "text/plain": [
       "Evaluating fitness:   0%|          | 0/10 [00:00<?, ?it/s]"
      ]
     },
     "metadata": {},
     "output_type": "display_data"
    },
    {
     "data": {
      "application/vnd.jupyter.widget-view+json": {
       "model_id": "1eb3f462346a4856827999d587a82711",
       "version_major": 2,
       "version_minor": 0
      },
      "text/plain": [
       "Evaluating fitness:   0%|          | 0/10 [00:00<?, ?it/s]"
      ]
     },
     "metadata": {},
     "output_type": "display_data"
    },
    {
     "data": {
      "application/vnd.jupyter.widget-view+json": {
       "model_id": "085a15414a8d45c1acd61be6c38496b3",
       "version_major": 2,
       "version_minor": 0
      },
      "text/plain": [
       "Evaluating fitness:   0%|          | 0/10 [00:00<?, ?it/s]"
      ]
     },
     "metadata": {},
     "output_type": "display_data"
    },
    {
     "data": {
      "application/vnd.jupyter.widget-view+json": {
       "model_id": "313396485ad746bfb2b1b79625502253",
       "version_major": 2,
       "version_minor": 0
      },
      "text/plain": [
       "Evaluating fitness:   0%|          | 0/10 [00:00<?, ?it/s]"
      ]
     },
     "metadata": {},
     "output_type": "display_data"
    },
    {
     "data": {
      "application/vnd.jupyter.widget-view+json": {
       "model_id": "78e6562915c94935bced1a0238156f17",
       "version_major": 2,
       "version_minor": 0
      },
      "text/plain": [
       "Evaluating fitness:   0%|          | 0/10 [00:00<?, ?it/s]"
      ]
     },
     "metadata": {},
     "output_type": "display_data"
    },
    {
     "data": {
      "application/vnd.jupyter.widget-view+json": {
       "model_id": "a88362d02b804187bbc493450fe5a7d0",
       "version_major": 2,
       "version_minor": 0
      },
      "text/plain": [
       "Evaluating fitness:   0%|          | 0/10 [00:00<?, ?it/s]"
      ]
     },
     "metadata": {},
     "output_type": "display_data"
    },
    {
     "data": {
      "application/vnd.jupyter.widget-view+json": {
       "model_id": "47e613d687c7417eb4c377e5fde6250e",
       "version_major": 2,
       "version_minor": 0
      },
      "text/plain": [
       "Evaluating fitness:   0%|          | 0/10 [00:00<?, ?it/s]"
      ]
     },
     "metadata": {},
     "output_type": "display_data"
    },
    {
     "data": {
      "application/vnd.jupyter.widget-view+json": {
       "model_id": "6201668920794f5f93e5ec348d33f6d2",
       "version_major": 2,
       "version_minor": 0
      },
      "text/plain": [
       "Evaluating fitness:   0%|          | 0/10 [00:00<?, ?it/s]"
      ]
     },
     "metadata": {},
     "output_type": "display_data"
    },
    {
     "data": {
      "application/vnd.jupyter.widget-view+json": {
       "model_id": "3910ecb0e8234a46aed3062af0598e67",
       "version_major": 2,
       "version_minor": 0
      },
      "text/plain": [
       "Evaluating fitness:   0%|          | 0/10 [00:00<?, ?it/s]"
      ]
     },
     "metadata": {},
     "output_type": "display_data"
    },
    {
     "data": {
      "application/vnd.jupyter.widget-view+json": {
       "model_id": "ea07615e2fcd4887a5fc6c52d2ff3ec4",
       "version_major": 2,
       "version_minor": 0
      },
      "text/plain": [
       "Evaluating fitness:   0%|          | 0/10 [00:00<?, ?it/s]"
      ]
     },
     "metadata": {},
     "output_type": "display_data"
    },
    {
     "data": {
      "application/vnd.jupyter.widget-view+json": {
       "model_id": "aa7dee98bf9a4e059b34536bced299fc",
       "version_major": 2,
       "version_minor": 0
      },
      "text/plain": [
       "Evaluating fitness:   0%|          | 0/10 [00:00<?, ?it/s]"
      ]
     },
     "metadata": {},
     "output_type": "display_data"
    },
    {
     "data": {
      "application/vnd.jupyter.widget-view+json": {
       "model_id": "50d02dd420e54f7eb3e916560989de32",
       "version_major": 2,
       "version_minor": 0
      },
      "text/plain": [
       "Evaluating fitness:   0%|          | 0/10 [00:00<?, ?it/s]"
      ]
     },
     "metadata": {},
     "output_type": "display_data"
    },
    {
     "data": {
      "application/vnd.jupyter.widget-view+json": {
       "model_id": "a18e8853424340ce8c1e927387d60904",
       "version_major": 2,
       "version_minor": 0
      },
      "text/plain": [
       "Evaluating fitness:   0%|          | 0/10 [00:00<?, ?it/s]"
      ]
     },
     "metadata": {},
     "output_type": "display_data"
    },
    {
     "data": {
      "application/vnd.jupyter.widget-view+json": {
       "model_id": "055fc9c31946476ab1f6c99e6185929f",
       "version_major": 2,
       "version_minor": 0
      },
      "text/plain": [
       "Evaluating fitness:   0%|          | 0/10 [00:00<?, ?it/s]"
      ]
     },
     "metadata": {},
     "output_type": "display_data"
    },
    {
     "data": {
      "application/vnd.jupyter.widget-view+json": {
       "model_id": "1add8d19c663474c86f6230e373962ae",
       "version_major": 2,
       "version_minor": 0
      },
      "text/plain": [
       "Evaluating fitness:   0%|          | 0/10 [00:00<?, ?it/s]"
      ]
     },
     "metadata": {},
     "output_type": "display_data"
    },
    {
     "data": {
      "application/vnd.jupyter.widget-view+json": {
       "model_id": "ef6b4e7eb679463d9fe5e30064f0fad1",
       "version_major": 2,
       "version_minor": 0
      },
      "text/plain": [
       "Evaluating fitness:   0%|          | 0/10 [00:00<?, ?it/s]"
      ]
     },
     "metadata": {},
     "output_type": "display_data"
    },
    {
     "data": {
      "application/vnd.jupyter.widget-view+json": {
       "model_id": "c0d019e2b48341fe95176ceb6a7624c6",
       "version_major": 2,
       "version_minor": 0
      },
      "text/plain": [
       "Evaluating fitness:   0%|          | 0/10 [00:00<?, ?it/s]"
      ]
     },
     "metadata": {},
     "output_type": "display_data"
    },
    {
     "data": {
      "application/vnd.jupyter.widget-view+json": {
       "model_id": "4fb21ae3e8d047e58500e8781dca9492",
       "version_major": 2,
       "version_minor": 0
      },
      "text/plain": [
       "Evaluating fitness:   0%|          | 0/10 [00:00<?, ?it/s]"
      ]
     },
     "metadata": {},
     "output_type": "display_data"
    },
    {
     "data": {
      "application/vnd.jupyter.widget-view+json": {
       "model_id": "22fa4cea783a4b3bbc477615fa5d6c62",
       "version_major": 2,
       "version_minor": 0
      },
      "text/plain": [
       "Evaluating fitness:   0%|          | 0/10 [00:00<?, ?it/s]"
      ]
     },
     "metadata": {},
     "output_type": "display_data"
    },
    {
     "data": {
      "application/vnd.jupyter.widget-view+json": {
       "model_id": "a393ebdb7eb14636ae983e0744a29621",
       "version_major": 2,
       "version_minor": 0
      },
      "text/plain": [
       "Evaluating fitness:   0%|          | 0/10 [00:00<?, ?it/s]"
      ]
     },
     "metadata": {},
     "output_type": "display_data"
    },
    {
     "data": {
      "application/vnd.jupyter.widget-view+json": {
       "model_id": "f8681d99740e405aa252aec8d611a13f",
       "version_major": 2,
       "version_minor": 0
      },
      "text/plain": [
       "Evaluating fitness:   0%|          | 0/10 [00:00<?, ?it/s]"
      ]
     },
     "metadata": {},
     "output_type": "display_data"
    },
    {
     "data": {
      "application/vnd.jupyter.widget-view+json": {
       "model_id": "d2581c5321614697b3af4be1b32031b0",
       "version_major": 2,
       "version_minor": 0
      },
      "text/plain": [
       "Evaluating fitness:   0%|          | 0/10 [00:00<?, ?it/s]"
      ]
     },
     "metadata": {},
     "output_type": "display_data"
    },
    {
     "data": {
      "application/vnd.jupyter.widget-view+json": {
       "model_id": "255611bdcd6646dea661baea345139eb",
       "version_major": 2,
       "version_minor": 0
      },
      "text/plain": [
       "Evaluating fitness:   0%|          | 0/10 [00:00<?, ?it/s]"
      ]
     },
     "metadata": {},
     "output_type": "display_data"
    },
    {
     "data": {
      "application/vnd.jupyter.widget-view+json": {
       "model_id": "b031f50da79041a5b46caf7eb16d366d",
       "version_major": 2,
       "version_minor": 0
      },
      "text/plain": [
       "Evaluating fitness:   0%|          | 0/10 [00:00<?, ?it/s]"
      ]
     },
     "metadata": {},
     "output_type": "display_data"
    },
    {
     "data": {
      "application/vnd.jupyter.widget-view+json": {
       "model_id": "2c9adb0f4c5242d9a2e5fee37cf11b44",
       "version_major": 2,
       "version_minor": 0
      },
      "text/plain": [
       "Evaluating fitness:   0%|          | 0/10 [00:00<?, ?it/s]"
      ]
     },
     "metadata": {},
     "output_type": "display_data"
    },
    {
     "data": {
      "application/vnd.jupyter.widget-view+json": {
       "model_id": "e6f6435492b341e69140ce4ab4b859ef",
       "version_major": 2,
       "version_minor": 0
      },
      "text/plain": [
       "Evaluating fitness:   0%|          | 0/10 [00:00<?, ?it/s]"
      ]
     },
     "metadata": {},
     "output_type": "display_data"
    },
    {
     "data": {
      "application/vnd.jupyter.widget-view+json": {
       "model_id": "8c1a2e5d518e47948fa47dc5f8b85401",
       "version_major": 2,
       "version_minor": 0
      },
      "text/plain": [
       "Evaluating fitness:   0%|          | 0/10 [00:00<?, ?it/s]"
      ]
     },
     "metadata": {},
     "output_type": "display_data"
    },
    {
     "data": {
      "application/vnd.jupyter.widget-view+json": {
       "model_id": "d6749cac03404b38b0ec16b6007f3942",
       "version_major": 2,
       "version_minor": 0
      },
      "text/plain": [
       "Evaluating fitness:   0%|          | 0/10 [00:00<?, ?it/s]"
      ]
     },
     "metadata": {},
     "output_type": "display_data"
    },
    {
     "data": {
      "application/vnd.jupyter.widget-view+json": {
       "model_id": "ccb67746d80a4dda91d5abdb8d9b8c70",
       "version_major": 2,
       "version_minor": 0
      },
      "text/plain": [
       "Evaluating fitness:   0%|          | 0/10 [00:00<?, ?it/s]"
      ]
     },
     "metadata": {},
     "output_type": "display_data"
    },
    {
     "data": {
      "application/vnd.jupyter.widget-view+json": {
       "model_id": "d31e9998040a4d98a130ee0835e19f63",
       "version_major": 2,
       "version_minor": 0
      },
      "text/plain": [
       "Evaluating fitness:   0%|          | 0/10 [00:00<?, ?it/s]"
      ]
     },
     "metadata": {},
     "output_type": "display_data"
    },
    {
     "data": {
      "application/vnd.jupyter.widget-view+json": {
       "model_id": "b7d48b12a4024a3086b94d4ec03e3286",
       "version_major": 2,
       "version_minor": 0
      },
      "text/plain": [
       "Evaluating fitness:   0%|          | 0/10 [00:00<?, ?it/s]"
      ]
     },
     "metadata": {},
     "output_type": "display_data"
    },
    {
     "data": {
      "application/vnd.jupyter.widget-view+json": {
       "model_id": "87c208a67b5246439733a644abbdd117",
       "version_major": 2,
       "version_minor": 0
      },
      "text/plain": [
       "Evaluating fitness:   0%|          | 0/10 [00:00<?, ?it/s]"
      ]
     },
     "metadata": {},
     "output_type": "display_data"
    },
    {
     "data": {
      "application/vnd.jupyter.widget-view+json": {
       "model_id": "0f8e4bf8c7be4e03adc7e4ff412f2725",
       "version_major": 2,
       "version_minor": 0
      },
      "text/plain": [
       "Evaluating fitness:   0%|          | 0/10 [00:00<?, ?it/s]"
      ]
     },
     "metadata": {},
     "output_type": "display_data"
    },
    {
     "data": {
      "application/vnd.jupyter.widget-view+json": {
       "model_id": "9451c003b0624b728515f950ac6282fd",
       "version_major": 2,
       "version_minor": 0
      },
      "text/plain": [
       "Evaluating fitness:   0%|          | 0/10 [00:00<?, ?it/s]"
      ]
     },
     "metadata": {},
     "output_type": "display_data"
    },
    {
     "data": {
      "application/vnd.jupyter.widget-view+json": {
       "model_id": "b64620a331b4462ab01b7405d12b99f0",
       "version_major": 2,
       "version_minor": 0
      },
      "text/plain": [
       "Evaluating fitness:   0%|          | 0/10 [00:00<?, ?it/s]"
      ]
     },
     "metadata": {},
     "output_type": "display_data"
    },
    {
     "data": {
      "application/vnd.jupyter.widget-view+json": {
       "model_id": "3d2afcdc9c2b489b9700a41bcd0aa4d5",
       "version_major": 2,
       "version_minor": 0
      },
      "text/plain": [
       "Evaluating fitness:   0%|          | 0/10 [00:00<?, ?it/s]"
      ]
     },
     "metadata": {},
     "output_type": "display_data"
    },
    {
     "data": {
      "application/vnd.jupyter.widget-view+json": {
       "model_id": "98df13ee8a964388bd7293e20adb5514",
       "version_major": 2,
       "version_minor": 0
      },
      "text/plain": [
       "Evaluating fitness:   0%|          | 0/10 [00:00<?, ?it/s]"
      ]
     },
     "metadata": {},
     "output_type": "display_data"
    },
    {
     "data": {
      "application/vnd.jupyter.widget-view+json": {
       "model_id": "a9bba902160048c6917bd5b928e969fd",
       "version_major": 2,
       "version_minor": 0
      },
      "text/plain": [
       "Evaluating fitness:   0%|          | 0/10 [00:00<?, ?it/s]"
      ]
     },
     "metadata": {},
     "output_type": "display_data"
    },
    {
     "data": {
      "application/vnd.jupyter.widget-view+json": {
       "model_id": "2b6fbeeda90f469892c993d4790f2977",
       "version_major": 2,
       "version_minor": 0
      },
      "text/plain": [
       "Evaluating fitness:   0%|          | 0/10 [00:00<?, ?it/s]"
      ]
     },
     "metadata": {},
     "output_type": "display_data"
    },
    {
     "data": {
      "application/vnd.jupyter.widget-view+json": {
       "model_id": "ac169271da204c4781056bef93311815",
       "version_major": 2,
       "version_minor": 0
      },
      "text/plain": [
       "Evaluating fitness:   0%|          | 0/10 [00:00<?, ?it/s]"
      ]
     },
     "metadata": {},
     "output_type": "display_data"
    },
    {
     "data": {
      "application/vnd.jupyter.widget-view+json": {
       "model_id": "c3a4c053ae7e4353a0bad0f1461cef6d",
       "version_major": 2,
       "version_minor": 0
      },
      "text/plain": [
       "Evaluating fitness:   0%|          | 0/10 [00:00<?, ?it/s]"
      ]
     },
     "metadata": {},
     "output_type": "display_data"
    },
    {
     "data": {
      "application/vnd.jupyter.widget-view+json": {
       "model_id": "74cd7dcc4eb747669ce06249eb26b133",
       "version_major": 2,
       "version_minor": 0
      },
      "text/plain": [
       "Evaluating fitness:   0%|          | 0/10 [00:00<?, ?it/s]"
      ]
     },
     "metadata": {},
     "output_type": "display_data"
    },
    {
     "data": {
      "application/vnd.jupyter.widget-view+json": {
       "model_id": "c3ca61bac14c4984af1eed340611c890",
       "version_major": 2,
       "version_minor": 0
      },
      "text/plain": [
       "Evaluating fitness:   0%|          | 0/10 [00:00<?, ?it/s]"
      ]
     },
     "metadata": {},
     "output_type": "display_data"
    },
    {
     "data": {
      "application/vnd.jupyter.widget-view+json": {
       "model_id": "73e45368d0824a7596c1f42aa3d40d09",
       "version_major": 2,
       "version_minor": 0
      },
      "text/plain": [
       "Evaluating fitness:   0%|          | 0/10 [00:00<?, ?it/s]"
      ]
     },
     "metadata": {},
     "output_type": "display_data"
    },
    {
     "data": {
      "application/vnd.jupyter.widget-view+json": {
       "model_id": "ff01395d94864c9fb8ae831f9a3e7ccf",
       "version_major": 2,
       "version_minor": 0
      },
      "text/plain": [
       "Breeding: 0it [00:00, ?it/s]"
      ]
     },
     "metadata": {},
     "output_type": "display_data"
    },
    {
     "data": {
      "application/vnd.jupyter.widget-view+json": {
       "model_id": "644c65c7c00c40ccae0f223212f81169",
       "version_major": 2,
       "version_minor": 0
      },
      "text/plain": [
       "Breeding: 0it [00:00, ?it/s]"
      ]
     },
     "metadata": {},
     "output_type": "display_data"
    },
    {
     "data": {
      "application/vnd.jupyter.widget-view+json": {
       "model_id": "4e4eec01699146a09e436e76a8abf8a4",
       "version_major": 2,
       "version_minor": 0
      },
      "text/plain": [
       "Breeding: 0it [00:00, ?it/s]"
      ]
     },
     "metadata": {},
     "output_type": "display_data"
    },
    {
     "data": {
      "application/vnd.jupyter.widget-view+json": {
       "model_id": "811583d0a847498da7e2fd06ae707c26",
       "version_major": 2,
       "version_minor": 0
      },
      "text/plain": [
       "Breeding: 0it [00:00, ?it/s]"
      ]
     },
     "metadata": {},
     "output_type": "display_data"
    },
    {
     "data": {
      "application/vnd.jupyter.widget-view+json": {
       "model_id": "b9d773e776dd489e98e78fcceea9ea3b",
       "version_major": 2,
       "version_minor": 0
      },
      "text/plain": [
       "Breeding: 0it [00:00, ?it/s]"
      ]
     },
     "metadata": {},
     "output_type": "display_data"
    },
    {
     "data": {
      "application/vnd.jupyter.widget-view+json": {
       "model_id": "677f375bb65d489d971c8ea1c4a91084",
       "version_major": 2,
       "version_minor": 0
      },
      "text/plain": [
       "Breeding: 0it [00:00, ?it/s]"
      ]
     },
     "metadata": {},
     "output_type": "display_data"
    },
    {
     "data": {
      "application/vnd.jupyter.widget-view+json": {
       "model_id": "1314745c7acc4adb93bfefce2ea8d1e1",
       "version_major": 2,
       "version_minor": 0
      },
      "text/plain": [
       "Breeding: 0it [00:00, ?it/s]"
      ]
     },
     "metadata": {},
     "output_type": "display_data"
    },
    {
     "data": {
      "application/vnd.jupyter.widget-view+json": {
       "model_id": "149aa54d58794516b99fcc18f9ca69e8",
       "version_major": 2,
       "version_minor": 0
      },
      "text/plain": [
       "Breeding: 0it [00:00, ?it/s]"
      ]
     },
     "metadata": {},
     "output_type": "display_data"
    },
    {
     "data": {
      "application/vnd.jupyter.widget-view+json": {
       "model_id": "58e9180461e74209ba7f9e829d0d1869",
       "version_major": 2,
       "version_minor": 0
      },
      "text/plain": [
       "Breeding: 0it [00:00, ?it/s]"
      ]
     },
     "metadata": {},
     "output_type": "display_data"
    },
    {
     "data": {
      "application/vnd.jupyter.widget-view+json": {
       "model_id": "9fce172357f04c18a5cc847e6e0a6c2c",
       "version_major": 2,
       "version_minor": 0
      },
      "text/plain": [
       "Breeding: 0it [00:00, ?it/s]"
      ]
     },
     "metadata": {},
     "output_type": "display_data"
    },
    {
     "data": {
      "application/vnd.jupyter.widget-view+json": {
       "model_id": "adcfae273b87431f820418fcb96c25b8",
       "version_major": 2,
       "version_minor": 0
      },
      "text/plain": [
       "Breeding: 0it [00:00, ?it/s]"
      ]
     },
     "metadata": {},
     "output_type": "display_data"
    },
    {
     "data": {
      "application/vnd.jupyter.widget-view+json": {
       "model_id": "91e106346ae54800a7d8a33ad41b747a",
       "version_major": 2,
       "version_minor": 0
      },
      "text/plain": [
       "Breeding: 0it [00:00, ?it/s]"
      ]
     },
     "metadata": {},
     "output_type": "display_data"
    },
    {
     "data": {
      "application/vnd.jupyter.widget-view+json": {
       "model_id": "8ab4693763f04d588d9371e66a6c8e83",
       "version_major": 2,
       "version_minor": 0
      },
      "text/plain": [
       "Breeding: 0it [00:00, ?it/s]"
      ]
     },
     "metadata": {},
     "output_type": "display_data"
    },
    {
     "data": {
      "application/vnd.jupyter.widget-view+json": {
       "model_id": "06a416e0d66e48b5894d93db1b6c3d12",
       "version_major": 2,
       "version_minor": 0
      },
      "text/plain": [
       "Breeding: 0it [00:00, ?it/s]"
      ]
     },
     "metadata": {},
     "output_type": "display_data"
    },
    {
     "data": {
      "application/vnd.jupyter.widget-view+json": {
       "model_id": "6b21b383fccd4336b0fae7c77e47ad05",
       "version_major": 2,
       "version_minor": 0
      },
      "text/plain": [
       "Breeding: 0it [00:00, ?it/s]"
      ]
     },
     "metadata": {},
     "output_type": "display_data"
    },
    {
     "data": {
      "application/vnd.jupyter.widget-view+json": {
       "model_id": "1942bf478879483bafdc8cccd7ab894b",
       "version_major": 2,
       "version_minor": 0
      },
      "text/plain": [
       "Breeding: 0it [00:00, ?it/s]"
      ]
     },
     "metadata": {},
     "output_type": "display_data"
    },
    {
     "data": {
      "application/vnd.jupyter.widget-view+json": {
       "model_id": "40b81649d5454900a885225550a510a1",
       "version_major": 2,
       "version_minor": 0
      },
      "text/plain": [
       "Breeding: 0it [00:00, ?it/s]"
      ]
     },
     "metadata": {},
     "output_type": "display_data"
    },
    {
     "data": {
      "application/vnd.jupyter.widget-view+json": {
       "model_id": "d5266fe8b6ad493192d579e202b18b10",
       "version_major": 2,
       "version_minor": 0
      },
      "text/plain": [
       "Breeding: 0it [00:00, ?it/s]"
      ]
     },
     "metadata": {},
     "output_type": "display_data"
    },
    {
     "data": {
      "application/vnd.jupyter.widget-view+json": {
       "model_id": "ed9ad3aaf28a4933a56e7a8135deb590",
       "version_major": 2,
       "version_minor": 0
      },
      "text/plain": [
       "Breeding: 0it [00:00, ?it/s]"
      ]
     },
     "metadata": {},
     "output_type": "display_data"
    },
    {
     "data": {
      "application/vnd.jupyter.widget-view+json": {
       "model_id": "aefd70ec416b4ff98e5210d525b949eb",
       "version_major": 2,
       "version_minor": 0
      },
      "text/plain": [
       "Breeding: 0it [00:00, ?it/s]"
      ]
     },
     "metadata": {},
     "output_type": "display_data"
    },
    {
     "data": {
      "application/vnd.jupyter.widget-view+json": {
       "model_id": "6010030b0e6541ee84a41dfb6011f0ad",
       "version_major": 2,
       "version_minor": 0
      },
      "text/plain": [
       "Breeding: 0it [00:00, ?it/s]"
      ]
     },
     "metadata": {},
     "output_type": "display_data"
    },
    {
     "data": {
      "application/vnd.jupyter.widget-view+json": {
       "model_id": "eb11796a81074020b9582428b45633e9",
       "version_major": 2,
       "version_minor": 0
      },
      "text/plain": [
       "Breeding: 0it [00:00, ?it/s]"
      ]
     },
     "metadata": {},
     "output_type": "display_data"
    },
    {
     "data": {
      "application/vnd.jupyter.widget-view+json": {
       "model_id": "567d20ac3630464daf2da9c7d1ed9757",
       "version_major": 2,
       "version_minor": 0
      },
      "text/plain": [
       "Breeding: 0it [00:00, ?it/s]"
      ]
     },
     "metadata": {},
     "output_type": "display_data"
    },
    {
     "data": {
      "application/vnd.jupyter.widget-view+json": {
       "model_id": "955d10f523ff4ce3b1a914beced884ba",
       "version_major": 2,
       "version_minor": 0
      },
      "text/plain": [
       "Breeding: 0it [00:00, ?it/s]"
      ]
     },
     "metadata": {},
     "output_type": "display_data"
    },
    {
     "data": {
      "application/vnd.jupyter.widget-view+json": {
       "model_id": "d978f9a59e1e411e8f0af4acb1cba129",
       "version_major": 2,
       "version_minor": 0
      },
      "text/plain": [
       "Breeding: 0it [00:00, ?it/s]"
      ]
     },
     "metadata": {},
     "output_type": "display_data"
    },
    {
     "data": {
      "application/vnd.jupyter.widget-view+json": {
       "model_id": "0f228fcdf3e847748f79a5ed38b1a0e6",
       "version_major": 2,
       "version_minor": 0
      },
      "text/plain": [
       "Breeding: 0it [00:00, ?it/s]"
      ]
     },
     "metadata": {},
     "output_type": "display_data"
    },
    {
     "data": {
      "application/vnd.jupyter.widget-view+json": {
       "model_id": "baec2c70413d48798db1c3bc27359860",
       "version_major": 2,
       "version_minor": 0
      },
      "text/plain": [
       "Breeding: 0it [00:00, ?it/s]"
      ]
     },
     "metadata": {},
     "output_type": "display_data"
    },
    {
     "data": {
      "application/vnd.jupyter.widget-view+json": {
       "model_id": "d2cb20c05c694d1aafedff260fcd552f",
       "version_major": 2,
       "version_minor": 0
      },
      "text/plain": [
       "Breeding: 0it [00:00, ?it/s]"
      ]
     },
     "metadata": {},
     "output_type": "display_data"
    },
    {
     "data": {
      "application/vnd.jupyter.widget-view+json": {
       "model_id": "8464af8ef9e049d392007571dbb3a6f0",
       "version_major": 2,
       "version_minor": 0
      },
      "text/plain": [
       "Breeding: 0it [00:00, ?it/s]"
      ]
     },
     "metadata": {},
     "output_type": "display_data"
    },
    {
     "data": {
      "application/vnd.jupyter.widget-view+json": {
       "model_id": "03e7403e4120406ca3b0ad0fd40d7ae2",
       "version_major": 2,
       "version_minor": 0
      },
      "text/plain": [
       "Breeding: 0it [00:00, ?it/s]"
      ]
     },
     "metadata": {},
     "output_type": "display_data"
    },
    {
     "data": {
      "application/vnd.jupyter.widget-view+json": {
       "model_id": "c90e850516ab4cc6b6f9cf022964940a",
       "version_major": 2,
       "version_minor": 0
      },
      "text/plain": [
       "Breeding: 0it [00:00, ?it/s]"
      ]
     },
     "metadata": {},
     "output_type": "display_data"
    },
    {
     "data": {
      "application/vnd.jupyter.widget-view+json": {
       "model_id": "dd9d64a9722c4d7aa07aeb0548ea319e",
       "version_major": 2,
       "version_minor": 0
      },
      "text/plain": [
       "Breeding: 0it [00:00, ?it/s]"
      ]
     },
     "metadata": {},
     "output_type": "display_data"
    },
    {
     "data": {
      "application/vnd.jupyter.widget-view+json": {
       "model_id": "b3350d7f41e74d6883721efd0865f7a1",
       "version_major": 2,
       "version_minor": 0
      },
      "text/plain": [
       "Breeding: 0it [00:00, ?it/s]"
      ]
     },
     "metadata": {},
     "output_type": "display_data"
    },
    {
     "data": {
      "application/vnd.jupyter.widget-view+json": {
       "model_id": "6bb1f02e951042c39dfb0ca0bb218760",
       "version_major": 2,
       "version_minor": 0
      },
      "text/plain": [
       "Breeding: 0it [00:00, ?it/s]"
      ]
     },
     "metadata": {},
     "output_type": "display_data"
    },
    {
     "data": {
      "application/vnd.jupyter.widget-view+json": {
       "model_id": "376c70163e0b42f3b2953ac1315f1bdc",
       "version_major": 2,
       "version_minor": 0
      },
      "text/plain": [
       "Breeding: 0it [00:00, ?it/s]"
      ]
     },
     "metadata": {},
     "output_type": "display_data"
    },
    {
     "data": {
      "application/vnd.jupyter.widget-view+json": {
       "model_id": "077e81af29d9402fabbf82e6a1d5681d",
       "version_major": 2,
       "version_minor": 0
      },
      "text/plain": [
       "Breeding: 0it [00:00, ?it/s]"
      ]
     },
     "metadata": {},
     "output_type": "display_data"
    },
    {
     "data": {
      "application/vnd.jupyter.widget-view+json": {
       "model_id": "27d4cafd8dcb43399416665eabde1265",
       "version_major": 2,
       "version_minor": 0
      },
      "text/plain": [
       "Breeding: 0it [00:00, ?it/s]"
      ]
     },
     "metadata": {},
     "output_type": "display_data"
    },
    {
     "data": {
      "application/vnd.jupyter.widget-view+json": {
       "model_id": "63e39c7052064944a34ce1efca65c8bc",
       "version_major": 2,
       "version_minor": 0
      },
      "text/plain": [
       "Breeding: 0it [00:00, ?it/s]"
      ]
     },
     "metadata": {},
     "output_type": "display_data"
    },
    {
     "data": {
      "application/vnd.jupyter.widget-view+json": {
       "model_id": "b9662640390c4a88a5ea8b3ae7f6347e",
       "version_major": 2,
       "version_minor": 0
      },
      "text/plain": [
       "Breeding: 0it [00:00, ?it/s]"
      ]
     },
     "metadata": {},
     "output_type": "display_data"
    },
    {
     "data": {
      "application/vnd.jupyter.widget-view+json": {
       "model_id": "f0fba45e4e1e4550858ca4b6663cc8f1",
       "version_major": 2,
       "version_minor": 0
      },
      "text/plain": [
       "Breeding: 0it [00:00, ?it/s]"
      ]
     },
     "metadata": {},
     "output_type": "display_data"
    },
    {
     "data": {
      "application/vnd.jupyter.widget-view+json": {
       "model_id": "1c912b23703947419dd346936d0ad9ea",
       "version_major": 2,
       "version_minor": 0
      },
      "text/plain": [
       "Breeding: 0it [00:00, ?it/s]"
      ]
     },
     "metadata": {},
     "output_type": "display_data"
    },
    {
     "data": {
      "application/vnd.jupyter.widget-view+json": {
       "model_id": "2d0cd3d0cebd4586845f285a45b8e402",
       "version_major": 2,
       "version_minor": 0
      },
      "text/plain": [
       "Breeding: 0it [00:00, ?it/s]"
      ]
     },
     "metadata": {},
     "output_type": "display_data"
    },
    {
     "data": {
      "application/vnd.jupyter.widget-view+json": {
       "model_id": "9bf112fa23c54e5db6e7e886f169d551",
       "version_major": 2,
       "version_minor": 0
      },
      "text/plain": [
       "Breeding: 0it [00:00, ?it/s]"
      ]
     },
     "metadata": {},
     "output_type": "display_data"
    },
    {
     "data": {
      "application/vnd.jupyter.widget-view+json": {
       "model_id": "73fb541c9fc44d42987fc0d0c0e04778",
       "version_major": 2,
       "version_minor": 0
      },
      "text/plain": [
       "Breeding: 0it [00:00, ?it/s]"
      ]
     },
     "metadata": {},
     "output_type": "display_data"
    },
    {
     "data": {
      "application/vnd.jupyter.widget-view+json": {
       "model_id": "c471f990ed394bfea2e25cb2c5a7bcea",
       "version_major": 2,
       "version_minor": 0
      },
      "text/plain": [
       "Breeding: 0it [00:00, ?it/s]"
      ]
     },
     "metadata": {},
     "output_type": "display_data"
    },
    {
     "data": {
      "application/vnd.jupyter.widget-view+json": {
       "model_id": "3d80dd20478a4d908c38dcfe2d88da0b",
       "version_major": 2,
       "version_minor": 0
      },
      "text/plain": [
       "Breeding: 0it [00:00, ?it/s]"
      ]
     },
     "metadata": {},
     "output_type": "display_data"
    },
    {
     "data": {
      "application/vnd.jupyter.widget-view+json": {
       "model_id": "8d7662e5c685440e9466a821cf4d5416",
       "version_major": 2,
       "version_minor": 0
      },
      "text/plain": [
       "Breeding: 0it [00:00, ?it/s]"
      ]
     },
     "metadata": {},
     "output_type": "display_data"
    },
    {
     "data": {
      "application/vnd.jupyter.widget-view+json": {
       "model_id": "4b23a025f2c7484b91a3978d2a5289f7",
       "version_major": 2,
       "version_minor": 0
      },
      "text/plain": [
       "Breeding: 0it [00:00, ?it/s]"
      ]
     },
     "metadata": {},
     "output_type": "display_data"
    },
    {
     "data": {
      "application/vnd.jupyter.widget-view+json": {
       "model_id": "9db17525f0d34c6e929b5d3be764b6dd",
       "version_major": 2,
       "version_minor": 0
      },
      "text/plain": [
       "Breeding: 0it [00:00, ?it/s]"
      ]
     },
     "metadata": {},
     "output_type": "display_data"
    },
    {
     "data": {
      "application/vnd.jupyter.widget-view+json": {
       "model_id": "e242a0bcdcaf4721a7cdae932d5ea970",
       "version_major": 2,
       "version_minor": 0
      },
      "text/plain": [
       "Breeding: 0it [00:00, ?it/s]"
      ]
     },
     "metadata": {},
     "output_type": "display_data"
    },
    {
     "data": {
      "application/vnd.jupyter.widget-view+json": {
       "model_id": "1c90b29a411f49049ea10d6673c6299b",
       "version_major": 2,
       "version_minor": 0
      },
      "text/plain": [
       "Breeding: 0it [00:00, ?it/s]"
      ]
     },
     "metadata": {},
     "output_type": "display_data"
    },
    {
     "data": {
      "application/vnd.jupyter.widget-view+json": {
       "model_id": "93859a6d8a254524b2890f5c5c5c0402",
       "version_major": 2,
       "version_minor": 0
      },
      "text/plain": [
       "Evaluating fitness:   0%|          | 0/10 [00:00<?, ?it/s]"
      ]
     },
     "metadata": {},
     "output_type": "display_data"
    },
    {
     "data": {
      "application/vnd.jupyter.widget-view+json": {
       "model_id": "d02f5e0d695f4ff2b69e4056910288be",
       "version_major": 2,
       "version_minor": 0
      },
      "text/plain": [
       "Evaluating fitness:   0%|          | 0/10 [00:00<?, ?it/s]"
      ]
     },
     "metadata": {},
     "output_type": "display_data"
    },
    {
     "data": {
      "application/vnd.jupyter.widget-view+json": {
       "model_id": "0e59cde35ac5417b93d62c09a8ebb981",
       "version_major": 2,
       "version_minor": 0
      },
      "text/plain": [
       "Evaluating fitness:   0%|          | 0/10 [00:00<?, ?it/s]"
      ]
     },
     "metadata": {},
     "output_type": "display_data"
    },
    {
     "data": {
      "application/vnd.jupyter.widget-view+json": {
       "model_id": "1aa64bb87fe041b0ae0ac772eb6ac5ae",
       "version_major": 2,
       "version_minor": 0
      },
      "text/plain": [
       "Evaluating fitness:   0%|          | 0/10 [00:00<?, ?it/s]"
      ]
     },
     "metadata": {},
     "output_type": "display_data"
    },
    {
     "data": {
      "application/vnd.jupyter.widget-view+json": {
       "model_id": "1bbabf5bc80f468d83ea79f03bd5b062",
       "version_major": 2,
       "version_minor": 0
      },
      "text/plain": [
       "Evaluating fitness:   0%|          | 0/10 [00:00<?, ?it/s]"
      ]
     },
     "metadata": {},
     "output_type": "display_data"
    },
    {
     "data": {
      "application/vnd.jupyter.widget-view+json": {
       "model_id": "f9408bd2d47f454b9ea96e78e35ba84f",
       "version_major": 2,
       "version_minor": 0
      },
      "text/plain": [
       "Evaluating fitness:   0%|          | 0/10 [00:00<?, ?it/s]"
      ]
     },
     "metadata": {},
     "output_type": "display_data"
    },
    {
     "data": {
      "application/vnd.jupyter.widget-view+json": {
       "model_id": "23efca191cff4913bd8f918bae0b8bff",
       "version_major": 2,
       "version_minor": 0
      },
      "text/plain": [
       "Evaluating fitness:   0%|          | 0/10 [00:00<?, ?it/s]"
      ]
     },
     "metadata": {},
     "output_type": "display_data"
    },
    {
     "data": {
      "application/vnd.jupyter.widget-view+json": {
       "model_id": "8b91b79539eb480eab184317276f8f43",
       "version_major": 2,
       "version_minor": 0
      },
      "text/plain": [
       "Evaluating fitness:   0%|          | 0/10 [00:00<?, ?it/s]"
      ]
     },
     "metadata": {},
     "output_type": "display_data"
    },
    {
     "data": {
      "application/vnd.jupyter.widget-view+json": {
       "model_id": "7a0ad2edbf9244aaa51257c6c0ef62de",
       "version_major": 2,
       "version_minor": 0
      },
      "text/plain": [
       "Evaluating fitness:   0%|          | 0/10 [00:00<?, ?it/s]"
      ]
     },
     "metadata": {},
     "output_type": "display_data"
    },
    {
     "data": {
      "application/vnd.jupyter.widget-view+json": {
       "model_id": "d53700570d2f4375855a1177b0c5e2c1",
       "version_major": 2,
       "version_minor": 0
      },
      "text/plain": [
       "Evaluating fitness:   0%|          | 0/10 [00:00<?, ?it/s]"
      ]
     },
     "metadata": {},
     "output_type": "display_data"
    },
    {
     "data": {
      "application/vnd.jupyter.widget-view+json": {
       "model_id": "fd546c6e5f604ec79c2c4862b00dbd8f",
       "version_major": 2,
       "version_minor": 0
      },
      "text/plain": [
       "Evaluating fitness:   0%|          | 0/10 [00:00<?, ?it/s]"
      ]
     },
     "metadata": {},
     "output_type": "display_data"
    },
    {
     "data": {
      "application/vnd.jupyter.widget-view+json": {
       "model_id": "34d9e2fb71274af1867f1ce71cbbb1e5",
       "version_major": 2,
       "version_minor": 0
      },
      "text/plain": [
       "Evaluating fitness:   0%|          | 0/10 [00:00<?, ?it/s]"
      ]
     },
     "metadata": {},
     "output_type": "display_data"
    },
    {
     "data": {
      "application/vnd.jupyter.widget-view+json": {
       "model_id": "21682229d5574c32aa08f25178634c89",
       "version_major": 2,
       "version_minor": 0
      },
      "text/plain": [
       "Evaluating fitness:   0%|          | 0/10 [00:00<?, ?it/s]"
      ]
     },
     "metadata": {},
     "output_type": "display_data"
    },
    {
     "data": {
      "application/vnd.jupyter.widget-view+json": {
       "model_id": "0d8ed6818da247508549760bdeecbdc8",
       "version_major": 2,
       "version_minor": 0
      },
      "text/plain": [
       "Evaluating fitness:   0%|          | 0/10 [00:00<?, ?it/s]"
      ]
     },
     "metadata": {},
     "output_type": "display_data"
    },
    {
     "data": {
      "application/vnd.jupyter.widget-view+json": {
       "model_id": "a3ea0cd1e1cf48b7ae02ab109ea636ae",
       "version_major": 2,
       "version_minor": 0
      },
      "text/plain": [
       "Evaluating fitness:   0%|          | 0/10 [00:00<?, ?it/s]"
      ]
     },
     "metadata": {},
     "output_type": "display_data"
    },
    {
     "data": {
      "application/vnd.jupyter.widget-view+json": {
       "model_id": "b46deb5409584ed49a515ee9b8b1505e",
       "version_major": 2,
       "version_minor": 0
      },
      "text/plain": [
       "Evaluating fitness:   0%|          | 0/10 [00:00<?, ?it/s]"
      ]
     },
     "metadata": {},
     "output_type": "display_data"
    },
    {
     "data": {
      "application/vnd.jupyter.widget-view+json": {
       "model_id": "c1f14675f0a54fbc89fd975ae1406c08",
       "version_major": 2,
       "version_minor": 0
      },
      "text/plain": [
       "Evaluating fitness:   0%|          | 0/10 [00:00<?, ?it/s]"
      ]
     },
     "metadata": {},
     "output_type": "display_data"
    },
    {
     "data": {
      "application/vnd.jupyter.widget-view+json": {
       "model_id": "29b7e94b952043e1b578bc74bcabed51",
       "version_major": 2,
       "version_minor": 0
      },
      "text/plain": [
       "Evaluating fitness:   0%|          | 0/10 [00:00<?, ?it/s]"
      ]
     },
     "metadata": {},
     "output_type": "display_data"
    },
    {
     "data": {
      "application/vnd.jupyter.widget-view+json": {
       "model_id": "0904e016efc74cd49b4f45352e559fa8",
       "version_major": 2,
       "version_minor": 0
      },
      "text/plain": [
       "Evaluating fitness:   0%|          | 0/10 [00:00<?, ?it/s]"
      ]
     },
     "metadata": {},
     "output_type": "display_data"
    },
    {
     "data": {
      "application/vnd.jupyter.widget-view+json": {
       "model_id": "5128ac2c641f4d5fb33a7a28137e7d5d",
       "version_major": 2,
       "version_minor": 0
      },
      "text/plain": [
       "Evaluating fitness:   0%|          | 0/10 [00:00<?, ?it/s]"
      ]
     },
     "metadata": {},
     "output_type": "display_data"
    },
    {
     "data": {
      "application/vnd.jupyter.widget-view+json": {
       "model_id": "8c3e54ece02044d68c855d98f8c77823",
       "version_major": 2,
       "version_minor": 0
      },
      "text/plain": [
       "Evaluating fitness:   0%|          | 0/10 [00:00<?, ?it/s]"
      ]
     },
     "metadata": {},
     "output_type": "display_data"
    },
    {
     "data": {
      "application/vnd.jupyter.widget-view+json": {
       "model_id": "b05c0da1b6ba4667a1e9c46a7cbe91b4",
       "version_major": 2,
       "version_minor": 0
      },
      "text/plain": [
       "Evaluating fitness:   0%|          | 0/10 [00:00<?, ?it/s]"
      ]
     },
     "metadata": {},
     "output_type": "display_data"
    },
    {
     "data": {
      "application/vnd.jupyter.widget-view+json": {
       "model_id": "ef9dd178915b41949ada9d8752130bcf",
       "version_major": 2,
       "version_minor": 0
      },
      "text/plain": [
       "Evaluating fitness:   0%|          | 0/10 [00:00<?, ?it/s]"
      ]
     },
     "metadata": {},
     "output_type": "display_data"
    },
    {
     "data": {
      "application/vnd.jupyter.widget-view+json": {
       "model_id": "761e4b3a93324f40b55c5f55442dab53",
       "version_major": 2,
       "version_minor": 0
      },
      "text/plain": [
       "Evaluating fitness:   0%|          | 0/10 [00:00<?, ?it/s]"
      ]
     },
     "metadata": {},
     "output_type": "display_data"
    },
    {
     "data": {
      "application/vnd.jupyter.widget-view+json": {
       "model_id": "ec944c4cd392463e99d4a3fe3b232d85",
       "version_major": 2,
       "version_minor": 0
      },
      "text/plain": [
       "Evaluating fitness:   0%|          | 0/10 [00:00<?, ?it/s]"
      ]
     },
     "metadata": {},
     "output_type": "display_data"
    },
    {
     "data": {
      "application/vnd.jupyter.widget-view+json": {
       "model_id": "fd2b78eb877b49ad852bb7d2f7393d00",
       "version_major": 2,
       "version_minor": 0
      },
      "text/plain": [
       "Evaluating fitness:   0%|          | 0/10 [00:00<?, ?it/s]"
      ]
     },
     "metadata": {},
     "output_type": "display_data"
    },
    {
     "data": {
      "application/vnd.jupyter.widget-view+json": {
       "model_id": "40580fc2e70543629a8f74576a7566a8",
       "version_major": 2,
       "version_minor": 0
      },
      "text/plain": [
       "Evaluating fitness:   0%|          | 0/10 [00:00<?, ?it/s]"
      ]
     },
     "metadata": {},
     "output_type": "display_data"
    },
    {
     "data": {
      "application/vnd.jupyter.widget-view+json": {
       "model_id": "3e5498bd0fe2405bb95d8fda5b0acc66",
       "version_major": 2,
       "version_minor": 0
      },
      "text/plain": [
       "Evaluating fitness:   0%|          | 0/10 [00:00<?, ?it/s]"
      ]
     },
     "metadata": {},
     "output_type": "display_data"
    },
    {
     "data": {
      "application/vnd.jupyter.widget-view+json": {
       "model_id": "c83bcadb75a64dee83aeb6c363efb1b4",
       "version_major": 2,
       "version_minor": 0
      },
      "text/plain": [
       "Evaluating fitness:   0%|          | 0/10 [00:00<?, ?it/s]"
      ]
     },
     "metadata": {},
     "output_type": "display_data"
    },
    {
     "data": {
      "application/vnd.jupyter.widget-view+json": {
       "model_id": "28960dd1a07d44db825dbeea6cef15ee",
       "version_major": 2,
       "version_minor": 0
      },
      "text/plain": [
       "Evaluating fitness:   0%|          | 0/10 [00:00<?, ?it/s]"
      ]
     },
     "metadata": {},
     "output_type": "display_data"
    },
    {
     "data": {
      "application/vnd.jupyter.widget-view+json": {
       "model_id": "7e9017b1e62545ca80193ed5b58deb23",
       "version_major": 2,
       "version_minor": 0
      },
      "text/plain": [
       "Evaluating fitness:   0%|          | 0/10 [00:00<?, ?it/s]"
      ]
     },
     "metadata": {},
     "output_type": "display_data"
    },
    {
     "data": {
      "application/vnd.jupyter.widget-view+json": {
       "model_id": "bc89e8ce3cfe49738521bc6adbd594df",
       "version_major": 2,
       "version_minor": 0
      },
      "text/plain": [
       "Evaluating fitness:   0%|          | 0/10 [00:00<?, ?it/s]"
      ]
     },
     "metadata": {},
     "output_type": "display_data"
    },
    {
     "data": {
      "application/vnd.jupyter.widget-view+json": {
       "model_id": "6dea5ed473d9493288d628a41be96eff",
       "version_major": 2,
       "version_minor": 0
      },
      "text/plain": [
       "Evaluating fitness:   0%|          | 0/10 [00:00<?, ?it/s]"
      ]
     },
     "metadata": {},
     "output_type": "display_data"
    },
    {
     "data": {
      "application/vnd.jupyter.widget-view+json": {
       "model_id": "f9f67e100c2849a7a980d57195fc5e5a",
       "version_major": 2,
       "version_minor": 0
      },
      "text/plain": [
       "Evaluating fitness:   0%|          | 0/10 [00:00<?, ?it/s]"
      ]
     },
     "metadata": {},
     "output_type": "display_data"
    },
    {
     "data": {
      "application/vnd.jupyter.widget-view+json": {
       "model_id": "c6b415d7ae1e44c28072b828dd7955d2",
       "version_major": 2,
       "version_minor": 0
      },
      "text/plain": [
       "Evaluating fitness:   0%|          | 0/10 [00:00<?, ?it/s]"
      ]
     },
     "metadata": {},
     "output_type": "display_data"
    },
    {
     "data": {
      "application/vnd.jupyter.widget-view+json": {
       "model_id": "a65f2316a1ce4a3ca4921a3b350795d8",
       "version_major": 2,
       "version_minor": 0
      },
      "text/plain": [
       "Evaluating fitness:   0%|          | 0/10 [00:00<?, ?it/s]"
      ]
     },
     "metadata": {},
     "output_type": "display_data"
    },
    {
     "data": {
      "application/vnd.jupyter.widget-view+json": {
       "model_id": "24b409c88db9455181adedf3c6bf65c9",
       "version_major": 2,
       "version_minor": 0
      },
      "text/plain": [
       "Evaluating fitness:   0%|          | 0/10 [00:00<?, ?it/s]"
      ]
     },
     "metadata": {},
     "output_type": "display_data"
    },
    {
     "data": {
      "application/vnd.jupyter.widget-view+json": {
       "model_id": "4271560305dc4b80a92d13e288fc1507",
       "version_major": 2,
       "version_minor": 0
      },
      "text/plain": [
       "Evaluating fitness:   0%|          | 0/10 [00:00<?, ?it/s]"
      ]
     },
     "metadata": {},
     "output_type": "display_data"
    },
    {
     "data": {
      "application/vnd.jupyter.widget-view+json": {
       "model_id": "806ead48f6294b61a549c46b1c78751f",
       "version_major": 2,
       "version_minor": 0
      },
      "text/plain": [
       "Evaluating fitness:   0%|          | 0/10 [00:00<?, ?it/s]"
      ]
     },
     "metadata": {},
     "output_type": "display_data"
    },
    {
     "data": {
      "application/vnd.jupyter.widget-view+json": {
       "model_id": "e35010106b8a4c59805304058453eb81",
       "version_major": 2,
       "version_minor": 0
      },
      "text/plain": [
       "Evaluating fitness:   0%|          | 0/10 [00:00<?, ?it/s]"
      ]
     },
     "metadata": {},
     "output_type": "display_data"
    },
    {
     "data": {
      "application/vnd.jupyter.widget-view+json": {
       "model_id": "6d52aadc134e4320ba791720476705bc",
       "version_major": 2,
       "version_minor": 0
      },
      "text/plain": [
       "Evaluating fitness:   0%|          | 0/10 [00:00<?, ?it/s]"
      ]
     },
     "metadata": {},
     "output_type": "display_data"
    },
    {
     "data": {
      "application/vnd.jupyter.widget-view+json": {
       "model_id": "716e63d7c2f649d7842f4f81c29fde98",
       "version_major": 2,
       "version_minor": 0
      },
      "text/plain": [
       "Evaluating fitness:   0%|          | 0/10 [00:00<?, ?it/s]"
      ]
     },
     "metadata": {},
     "output_type": "display_data"
    },
    {
     "data": {
      "application/vnd.jupyter.widget-view+json": {
       "model_id": "40a09f3ca2894768b310b63035f461f2",
       "version_major": 2,
       "version_minor": 0
      },
      "text/plain": [
       "Evaluating fitness:   0%|          | 0/10 [00:00<?, ?it/s]"
      ]
     },
     "metadata": {},
     "output_type": "display_data"
    },
    {
     "data": {
      "application/vnd.jupyter.widget-view+json": {
       "model_id": "2bd419120eb545b89cfba0b247e5a82c",
       "version_major": 2,
       "version_minor": 0
      },
      "text/plain": [
       "Evaluating fitness:   0%|          | 0/10 [00:00<?, ?it/s]"
      ]
     },
     "metadata": {},
     "output_type": "display_data"
    },
    {
     "data": {
      "application/vnd.jupyter.widget-view+json": {
       "model_id": "bbdb37b4a7944bcab431376556129671",
       "version_major": 2,
       "version_minor": 0
      },
      "text/plain": [
       "Evaluating fitness:   0%|          | 0/10 [00:00<?, ?it/s]"
      ]
     },
     "metadata": {},
     "output_type": "display_data"
    },
    {
     "data": {
      "application/vnd.jupyter.widget-view+json": {
       "model_id": "d4a82012fb4849e59e84acbb5b529b91",
       "version_major": 2,
       "version_minor": 0
      },
      "text/plain": [
       "Evaluating fitness:   0%|          | 0/10 [00:00<?, ?it/s]"
      ]
     },
     "metadata": {},
     "output_type": "display_data"
    },
    {
     "data": {
      "application/vnd.jupyter.widget-view+json": {
       "model_id": "528f20f73245403c95bd7c87a9a1c011",
       "version_major": 2,
       "version_minor": 0
      },
      "text/plain": [
       "Evaluating fitness:   0%|          | 0/10 [00:00<?, ?it/s]"
      ]
     },
     "metadata": {},
     "output_type": "display_data"
    },
    {
     "data": {
      "application/vnd.jupyter.widget-view+json": {
       "model_id": "6efbf32f81964c7f94b562638322b080",
       "version_major": 2,
       "version_minor": 0
      },
      "text/plain": [
       "Evaluating fitness:   0%|          | 0/10 [00:00<?, ?it/s]"
      ]
     },
     "metadata": {},
     "output_type": "display_data"
    },
    {
     "data": {
      "application/vnd.jupyter.widget-view+json": {
       "model_id": "ac0e64aee203499d9aaa6c80f9719f96",
       "version_major": 2,
       "version_minor": 0
      },
      "text/plain": [
       "Evaluating fitness:   0%|          | 0/10 [00:00<?, ?it/s]"
      ]
     },
     "metadata": {},
     "output_type": "display_data"
    },
    {
     "data": {
      "application/vnd.jupyter.widget-view+json": {
       "model_id": "06797b3381744d50b02a8d4a350a1867",
       "version_major": 2,
       "version_minor": 0
      },
      "text/plain": [
       "Evaluating fitness:   0%|          | 0/10 [00:00<?, ?it/s]"
      ]
     },
     "metadata": {},
     "output_type": "display_data"
    },
    {
     "data": {
      "application/vnd.jupyter.widget-view+json": {
       "model_id": "07b402c909d646dea58354812dd475d7",
       "version_major": 2,
       "version_minor": 0
      },
      "text/plain": [
       "Breeding: 0it [00:00, ?it/s]"
      ]
     },
     "metadata": {},
     "output_type": "display_data"
    },
    {
     "data": {
      "application/vnd.jupyter.widget-view+json": {
       "model_id": "e206dd6b48904c57bb4a5519c1841e82",
       "version_major": 2,
       "version_minor": 0
      },
      "text/plain": [
       "Breeding: 0it [00:00, ?it/s]"
      ]
     },
     "metadata": {},
     "output_type": "display_data"
    },
    {
     "data": {
      "application/vnd.jupyter.widget-view+json": {
       "model_id": "cb46e1b4b69146608e466ded46ca8539",
       "version_major": 2,
       "version_minor": 0
      },
      "text/plain": [
       "Breeding: 0it [00:00, ?it/s]"
      ]
     },
     "metadata": {},
     "output_type": "display_data"
    },
    {
     "data": {
      "application/vnd.jupyter.widget-view+json": {
       "model_id": "8d53cb9dfc084581a404b03e43f26b87",
       "version_major": 2,
       "version_minor": 0
      },
      "text/plain": [
       "Breeding: 0it [00:00, ?it/s]"
      ]
     },
     "metadata": {},
     "output_type": "display_data"
    },
    {
     "data": {
      "application/vnd.jupyter.widget-view+json": {
       "model_id": "75916250557840a3b235a42627ebfb10",
       "version_major": 2,
       "version_minor": 0
      },
      "text/plain": [
       "Breeding: 0it [00:00, ?it/s]"
      ]
     },
     "metadata": {},
     "output_type": "display_data"
    },
    {
     "data": {
      "application/vnd.jupyter.widget-view+json": {
       "model_id": "193fe2ef852e424399a1c876146096d0",
       "version_major": 2,
       "version_minor": 0
      },
      "text/plain": [
       "Breeding: 0it [00:00, ?it/s]"
      ]
     },
     "metadata": {},
     "output_type": "display_data"
    },
    {
     "data": {
      "application/vnd.jupyter.widget-view+json": {
       "model_id": "9742f59ab15741818a09cc16108e32cc",
       "version_major": 2,
       "version_minor": 0
      },
      "text/plain": [
       "Breeding: 0it [00:00, ?it/s]"
      ]
     },
     "metadata": {},
     "output_type": "display_data"
    },
    {
     "data": {
      "application/vnd.jupyter.widget-view+json": {
       "model_id": "9d059821ae7f4ec5a4037a49ab487fc2",
       "version_major": 2,
       "version_minor": 0
      },
      "text/plain": [
       "Breeding: 0it [00:00, ?it/s]"
      ]
     },
     "metadata": {},
     "output_type": "display_data"
    },
    {
     "data": {
      "application/vnd.jupyter.widget-view+json": {
       "model_id": "0f50340de7764208a7e493a2f5c02250",
       "version_major": 2,
       "version_minor": 0
      },
      "text/plain": [
       "Breeding: 0it [00:00, ?it/s]"
      ]
     },
     "metadata": {},
     "output_type": "display_data"
    },
    {
     "data": {
      "application/vnd.jupyter.widget-view+json": {
       "model_id": "0dff86b6e9be4a7891490b8638e79fee",
       "version_major": 2,
       "version_minor": 0
      },
      "text/plain": [
       "Breeding: 0it [00:00, ?it/s]"
      ]
     },
     "metadata": {},
     "output_type": "display_data"
    },
    {
     "data": {
      "application/vnd.jupyter.widget-view+json": {
       "model_id": "f414bf5c0c2d42d9b0cf23bdb2bcf44b",
       "version_major": 2,
       "version_minor": 0
      },
      "text/plain": [
       "Breeding: 0it [00:00, ?it/s]"
      ]
     },
     "metadata": {},
     "output_type": "display_data"
    },
    {
     "data": {
      "application/vnd.jupyter.widget-view+json": {
       "model_id": "70a792b552ea4f91a3108dc2129a242d",
       "version_major": 2,
       "version_minor": 0
      },
      "text/plain": [
       "Breeding: 0it [00:00, ?it/s]"
      ]
     },
     "metadata": {},
     "output_type": "display_data"
    },
    {
     "data": {
      "application/vnd.jupyter.widget-view+json": {
       "model_id": "18381b970403498eb31fda7cc52b1c85",
       "version_major": 2,
       "version_minor": 0
      },
      "text/plain": [
       "Breeding: 0it [00:00, ?it/s]"
      ]
     },
     "metadata": {},
     "output_type": "display_data"
    },
    {
     "data": {
      "application/vnd.jupyter.widget-view+json": {
       "model_id": "ad03c19468744113a3af17e9a3fa86fb",
       "version_major": 2,
       "version_minor": 0
      },
      "text/plain": [
       "Breeding: 0it [00:00, ?it/s]"
      ]
     },
     "metadata": {},
     "output_type": "display_data"
    },
    {
     "data": {
      "application/vnd.jupyter.widget-view+json": {
       "model_id": "d9b0d6fdd1734fdda4c1566fb425ebec",
       "version_major": 2,
       "version_minor": 0
      },
      "text/plain": [
       "Breeding: 0it [00:00, ?it/s]"
      ]
     },
     "metadata": {},
     "output_type": "display_data"
    },
    {
     "data": {
      "application/vnd.jupyter.widget-view+json": {
       "model_id": "fac3df4083c34f6c945eecd4d6c17738",
       "version_major": 2,
       "version_minor": 0
      },
      "text/plain": [
       "Breeding: 0it [00:00, ?it/s]"
      ]
     },
     "metadata": {},
     "output_type": "display_data"
    },
    {
     "data": {
      "application/vnd.jupyter.widget-view+json": {
       "model_id": "e0b0f62813634349b266b24d7bcd8b07",
       "version_major": 2,
       "version_minor": 0
      },
      "text/plain": [
       "Breeding: 0it [00:00, ?it/s]"
      ]
     },
     "metadata": {},
     "output_type": "display_data"
    },
    {
     "data": {
      "application/vnd.jupyter.widget-view+json": {
       "model_id": "26415455380f4852b83d27b5c7cc3039",
       "version_major": 2,
       "version_minor": 0
      },
      "text/plain": [
       "Breeding: 0it [00:00, ?it/s]"
      ]
     },
     "metadata": {},
     "output_type": "display_data"
    },
    {
     "data": {
      "application/vnd.jupyter.widget-view+json": {
       "model_id": "5e4bd2c6c5f34b62990f5837b3399ab7",
       "version_major": 2,
       "version_minor": 0
      },
      "text/plain": [
       "Breeding: 0it [00:00, ?it/s]"
      ]
     },
     "metadata": {},
     "output_type": "display_data"
    },
    {
     "data": {
      "application/vnd.jupyter.widget-view+json": {
       "model_id": "a610a790ee904d5f874db66b55092447",
       "version_major": 2,
       "version_minor": 0
      },
      "text/plain": [
       "Breeding: 0it [00:00, ?it/s]"
      ]
     },
     "metadata": {},
     "output_type": "display_data"
    },
    {
     "data": {
      "application/vnd.jupyter.widget-view+json": {
       "model_id": "2a81e2313f3a40c490be182c40e9a566",
       "version_major": 2,
       "version_minor": 0
      },
      "text/plain": [
       "Breeding: 0it [00:00, ?it/s]"
      ]
     },
     "metadata": {},
     "output_type": "display_data"
    },
    {
     "data": {
      "application/vnd.jupyter.widget-view+json": {
       "model_id": "d45d6cebf3d5448da99ea018cb9d20e5",
       "version_major": 2,
       "version_minor": 0
      },
      "text/plain": [
       "Breeding: 0it [00:00, ?it/s]"
      ]
     },
     "metadata": {},
     "output_type": "display_data"
    },
    {
     "data": {
      "application/vnd.jupyter.widget-view+json": {
       "model_id": "99f987e55fd04682bcd57edb8f16faff",
       "version_major": 2,
       "version_minor": 0
      },
      "text/plain": [
       "Breeding: 0it [00:00, ?it/s]"
      ]
     },
     "metadata": {},
     "output_type": "display_data"
    },
    {
     "data": {
      "application/vnd.jupyter.widget-view+json": {
       "model_id": "11dfa31b5dcd4712b7f48c5f8e8ece65",
       "version_major": 2,
       "version_minor": 0
      },
      "text/plain": [
       "Breeding: 0it [00:00, ?it/s]"
      ]
     },
     "metadata": {},
     "output_type": "display_data"
    },
    {
     "data": {
      "application/vnd.jupyter.widget-view+json": {
       "model_id": "031fdf8c998e41d0aaf65a19462fad8e",
       "version_major": 2,
       "version_minor": 0
      },
      "text/plain": [
       "Breeding: 0it [00:00, ?it/s]"
      ]
     },
     "metadata": {},
     "output_type": "display_data"
    },
    {
     "data": {
      "application/vnd.jupyter.widget-view+json": {
       "model_id": "dd5b0fa5d1e04c409fdf29d0141eba35",
       "version_major": 2,
       "version_minor": 0
      },
      "text/plain": [
       "Breeding: 0it [00:00, ?it/s]"
      ]
     },
     "metadata": {},
     "output_type": "display_data"
    },
    {
     "data": {
      "application/vnd.jupyter.widget-view+json": {
       "model_id": "f5c1b8842c11472caea4ba712f4bd0b2",
       "version_major": 2,
       "version_minor": 0
      },
      "text/plain": [
       "Breeding: 0it [00:00, ?it/s]"
      ]
     },
     "metadata": {},
     "output_type": "display_data"
    },
    {
     "data": {
      "application/vnd.jupyter.widget-view+json": {
       "model_id": "5147b506b7b5493a9757ccb88863a339",
       "version_major": 2,
       "version_minor": 0
      },
      "text/plain": [
       "Breeding: 0it [00:00, ?it/s]"
      ]
     },
     "metadata": {},
     "output_type": "display_data"
    },
    {
     "data": {
      "application/vnd.jupyter.widget-view+json": {
       "model_id": "5864f9a7651a4d38b39954fc21912418",
       "version_major": 2,
       "version_minor": 0
      },
      "text/plain": [
       "Breeding: 0it [00:00, ?it/s]"
      ]
     },
     "metadata": {},
     "output_type": "display_data"
    },
    {
     "data": {
      "application/vnd.jupyter.widget-view+json": {
       "model_id": "6166e116a0fb45e19d7cc005b53bf750",
       "version_major": 2,
       "version_minor": 0
      },
      "text/plain": [
       "Breeding: 0it [00:00, ?it/s]"
      ]
     },
     "metadata": {},
     "output_type": "display_data"
    },
    {
     "data": {
      "application/vnd.jupyter.widget-view+json": {
       "model_id": "808c2fa7ca40480299675ac52665f9de",
       "version_major": 2,
       "version_minor": 0
      },
      "text/plain": [
       "Breeding: 0it [00:00, ?it/s]"
      ]
     },
     "metadata": {},
     "output_type": "display_data"
    },
    {
     "data": {
      "application/vnd.jupyter.widget-view+json": {
       "model_id": "a91a9949794741318800d1e12862cfa6",
       "version_major": 2,
       "version_minor": 0
      },
      "text/plain": [
       "Breeding: 0it [00:00, ?it/s]"
      ]
     },
     "metadata": {},
     "output_type": "display_data"
    },
    {
     "data": {
      "application/vnd.jupyter.widget-view+json": {
       "model_id": "7192a9ecc97348098f3ae2589baf1486",
       "version_major": 2,
       "version_minor": 0
      },
      "text/plain": [
       "Breeding: 0it [00:00, ?it/s]"
      ]
     },
     "metadata": {},
     "output_type": "display_data"
    },
    {
     "data": {
      "application/vnd.jupyter.widget-view+json": {
       "model_id": "7b4bbfb65e194ff1920cddade9fe3079",
       "version_major": 2,
       "version_minor": 0
      },
      "text/plain": [
       "Breeding: 0it [00:00, ?it/s]"
      ]
     },
     "metadata": {},
     "output_type": "display_data"
    },
    {
     "data": {
      "application/vnd.jupyter.widget-view+json": {
       "model_id": "b212d4b27cd6438ea086a3c8f9fe5135",
       "version_major": 2,
       "version_minor": 0
      },
      "text/plain": [
       "Breeding: 0it [00:00, ?it/s]"
      ]
     },
     "metadata": {},
     "output_type": "display_data"
    },
    {
     "data": {
      "application/vnd.jupyter.widget-view+json": {
       "model_id": "95a6a23b0e33499586cb620be9f163f2",
       "version_major": 2,
       "version_minor": 0
      },
      "text/plain": [
       "Breeding: 0it [00:00, ?it/s]"
      ]
     },
     "metadata": {},
     "output_type": "display_data"
    },
    {
     "data": {
      "application/vnd.jupyter.widget-view+json": {
       "model_id": "d31fcc7ec22a4396abcc783773c866e7",
       "version_major": 2,
       "version_minor": 0
      },
      "text/plain": [
       "Breeding: 0it [00:00, ?it/s]"
      ]
     },
     "metadata": {},
     "output_type": "display_data"
    },
    {
     "data": {
      "application/vnd.jupyter.widget-view+json": {
       "model_id": "b82cbf8c690e4dc1ba80bf045944b10e",
       "version_major": 2,
       "version_minor": 0
      },
      "text/plain": [
       "Breeding: 0it [00:00, ?it/s]"
      ]
     },
     "metadata": {},
     "output_type": "display_data"
    },
    {
     "data": {
      "application/vnd.jupyter.widget-view+json": {
       "model_id": "b422a2749327418b9b6a2e786775b354",
       "version_major": 2,
       "version_minor": 0
      },
      "text/plain": [
       "Breeding: 0it [00:00, ?it/s]"
      ]
     },
     "metadata": {},
     "output_type": "display_data"
    },
    {
     "data": {
      "application/vnd.jupyter.widget-view+json": {
       "model_id": "e21c991552ad4f9181a7fd3f59fcc15a",
       "version_major": 2,
       "version_minor": 0
      },
      "text/plain": [
       "Breeding: 0it [00:00, ?it/s]"
      ]
     },
     "metadata": {},
     "output_type": "display_data"
    },
    {
     "data": {
      "application/vnd.jupyter.widget-view+json": {
       "model_id": "da51cd2d9bc8431386590fa19309bb4b",
       "version_major": 2,
       "version_minor": 0
      },
      "text/plain": [
       "Breeding: 0it [00:00, ?it/s]"
      ]
     },
     "metadata": {},
     "output_type": "display_data"
    },
    {
     "data": {
      "application/vnd.jupyter.widget-view+json": {
       "model_id": "5678dfb9e6f64ea89dac18359df6da15",
       "version_major": 2,
       "version_minor": 0
      },
      "text/plain": [
       "Breeding: 0it [00:00, ?it/s]"
      ]
     },
     "metadata": {},
     "output_type": "display_data"
    },
    {
     "data": {
      "application/vnd.jupyter.widget-view+json": {
       "model_id": "c30619531dc545e78b5611fad52daa96",
       "version_major": 2,
       "version_minor": 0
      },
      "text/plain": [
       "Breeding: 0it [00:00, ?it/s]"
      ]
     },
     "metadata": {},
     "output_type": "display_data"
    },
    {
     "data": {
      "application/vnd.jupyter.widget-view+json": {
       "model_id": "61ac9104f4c848e7bc52bf2db0387d03",
       "version_major": 2,
       "version_minor": 0
      },
      "text/plain": [
       "Breeding: 0it [00:00, ?it/s]"
      ]
     },
     "metadata": {},
     "output_type": "display_data"
    },
    {
     "data": {
      "application/vnd.jupyter.widget-view+json": {
       "model_id": "222d2bdba5894e3aa6089f9f2abc93a8",
       "version_major": 2,
       "version_minor": 0
      },
      "text/plain": [
       "Breeding: 0it [00:00, ?it/s]"
      ]
     },
     "metadata": {},
     "output_type": "display_data"
    },
    {
     "data": {
      "application/vnd.jupyter.widget-view+json": {
       "model_id": "15f958eee035409c92982ab9d8d2833c",
       "version_major": 2,
       "version_minor": 0
      },
      "text/plain": [
       "Breeding: 0it [00:00, ?it/s]"
      ]
     },
     "metadata": {},
     "output_type": "display_data"
    },
    {
     "data": {
      "application/vnd.jupyter.widget-view+json": {
       "model_id": "f8c0af3293ae47c59f4c5ef4d3fe5f61",
       "version_major": 2,
       "version_minor": 0
      },
      "text/plain": [
       "Breeding: 0it [00:00, ?it/s]"
      ]
     },
     "metadata": {},
     "output_type": "display_data"
    },
    {
     "data": {
      "application/vnd.jupyter.widget-view+json": {
       "model_id": "b7f0504c65ab4036bb76b6471e9a5b79",
       "version_major": 2,
       "version_minor": 0
      },
      "text/plain": [
       "Breeding: 0it [00:00, ?it/s]"
      ]
     },
     "metadata": {},
     "output_type": "display_data"
    },
    {
     "data": {
      "application/vnd.jupyter.widget-view+json": {
       "model_id": "a8432bf5943e4a53840fde3decf9cae0",
       "version_major": 2,
       "version_minor": 0
      },
      "text/plain": [
       "Breeding: 0it [00:00, ?it/s]"
      ]
     },
     "metadata": {},
     "output_type": "display_data"
    },
    {
     "data": {
      "application/vnd.jupyter.widget-view+json": {
       "model_id": "7b2ef0eb72c84573be220dfb7a342ba7",
       "version_major": 2,
       "version_minor": 0
      },
      "text/plain": [
       "Breeding: 0it [00:00, ?it/s]"
      ]
     },
     "metadata": {},
     "output_type": "display_data"
    },
    {
     "data": {
      "application/vnd.jupyter.widget-view+json": {
       "model_id": "ec263f44d70e4237a4314f92a219fc5f",
       "version_major": 2,
       "version_minor": 0
      },
      "text/plain": [
       "Breeding: 0it [00:00, ?it/s]"
      ]
     },
     "metadata": {},
     "output_type": "display_data"
    },
    {
     "data": {
      "application/vnd.jupyter.widget-view+json": {
       "model_id": "963b8a6f88b14780bfa10617402fb2a0",
       "version_major": 2,
       "version_minor": 0
      },
      "text/plain": [
       "Evaluating fitness:   0%|          | 0/10 [00:00<?, ?it/s]"
      ]
     },
     "metadata": {},
     "output_type": "display_data"
    },
    {
     "data": {
      "application/vnd.jupyter.widget-view+json": {
       "model_id": "0fc0853d8b6142c5acbc3ce9059f5c79",
       "version_major": 2,
       "version_minor": 0
      },
      "text/plain": [
       "Evaluating fitness:   0%|          | 0/10 [00:00<?, ?it/s]"
      ]
     },
     "metadata": {},
     "output_type": "display_data"
    },
    {
     "data": {
      "application/vnd.jupyter.widget-view+json": {
       "model_id": "b1b4f7abcdcb4cf4abfaae4d04778bcd",
       "version_major": 2,
       "version_minor": 0
      },
      "text/plain": [
       "Evaluating fitness:   0%|          | 0/10 [00:00<?, ?it/s]"
      ]
     },
     "metadata": {},
     "output_type": "display_data"
    },
    {
     "data": {
      "application/vnd.jupyter.widget-view+json": {
       "model_id": "5bb0c97d39c0452cb51c47850e4ffdd1",
       "version_major": 2,
       "version_minor": 0
      },
      "text/plain": [
       "Evaluating fitness:   0%|          | 0/10 [00:00<?, ?it/s]"
      ]
     },
     "metadata": {},
     "output_type": "display_data"
    },
    {
     "data": {
      "application/vnd.jupyter.widget-view+json": {
       "model_id": "76535565a31e489e9cd3e3b645c778cc",
       "version_major": 2,
       "version_minor": 0
      },
      "text/plain": [
       "Evaluating fitness:   0%|          | 0/10 [00:00<?, ?it/s]"
      ]
     },
     "metadata": {},
     "output_type": "display_data"
    },
    {
     "data": {
      "application/vnd.jupyter.widget-view+json": {
       "model_id": "3334cfa1b02c4ec2b0dac080e27130bf",
       "version_major": 2,
       "version_minor": 0
      },
      "text/plain": [
       "Evaluating fitness:   0%|          | 0/10 [00:00<?, ?it/s]"
      ]
     },
     "metadata": {},
     "output_type": "display_data"
    },
    {
     "data": {
      "application/vnd.jupyter.widget-view+json": {
       "model_id": "8ba4ac167dff415a980c34bd0356ce41",
       "version_major": 2,
       "version_minor": 0
      },
      "text/plain": [
       "Evaluating fitness:   0%|          | 0/10 [00:00<?, ?it/s]"
      ]
     },
     "metadata": {},
     "output_type": "display_data"
    },
    {
     "data": {
      "application/vnd.jupyter.widget-view+json": {
       "model_id": "3196137f57274a5ba9be877062b80203",
       "version_major": 2,
       "version_minor": 0
      },
      "text/plain": [
       "Evaluating fitness:   0%|          | 0/10 [00:00<?, ?it/s]"
      ]
     },
     "metadata": {},
     "output_type": "display_data"
    },
    {
     "data": {
      "application/vnd.jupyter.widget-view+json": {
       "model_id": "4699edc6fefb4c06a0eac0fc8be044c8",
       "version_major": 2,
       "version_minor": 0
      },
      "text/plain": [
       "Evaluating fitness:   0%|          | 0/10 [00:00<?, ?it/s]"
      ]
     },
     "metadata": {},
     "output_type": "display_data"
    },
    {
     "data": {
      "application/vnd.jupyter.widget-view+json": {
       "model_id": "3838fbde1a154c589e7e8539bc2c97c4",
       "version_major": 2,
       "version_minor": 0
      },
      "text/plain": [
       "Evaluating fitness:   0%|          | 0/10 [00:00<?, ?it/s]"
      ]
     },
     "metadata": {},
     "output_type": "display_data"
    },
    {
     "data": {
      "application/vnd.jupyter.widget-view+json": {
       "model_id": "6f59a2254d51442db1a903e5e8b4a20f",
       "version_major": 2,
       "version_minor": 0
      },
      "text/plain": [
       "Evaluating fitness:   0%|          | 0/10 [00:00<?, ?it/s]"
      ]
     },
     "metadata": {},
     "output_type": "display_data"
    },
    {
     "data": {
      "application/vnd.jupyter.widget-view+json": {
       "model_id": "70e07a862d4a48f5b767cd2bed2928c0",
       "version_major": 2,
       "version_minor": 0
      },
      "text/plain": [
       "Evaluating fitness:   0%|          | 0/10 [00:00<?, ?it/s]"
      ]
     },
     "metadata": {},
     "output_type": "display_data"
    },
    {
     "data": {
      "application/vnd.jupyter.widget-view+json": {
       "model_id": "81d0b4f4a4174b53b66021deb43354ed",
       "version_major": 2,
       "version_minor": 0
      },
      "text/plain": [
       "Evaluating fitness:   0%|          | 0/10 [00:00<?, ?it/s]"
      ]
     },
     "metadata": {},
     "output_type": "display_data"
    },
    {
     "data": {
      "application/vnd.jupyter.widget-view+json": {
       "model_id": "005a4b10cd9946b2b7cbb601324ef0e5",
       "version_major": 2,
       "version_minor": 0
      },
      "text/plain": [
       "Evaluating fitness:   0%|          | 0/10 [00:00<?, ?it/s]"
      ]
     },
     "metadata": {},
     "output_type": "display_data"
    },
    {
     "data": {
      "application/vnd.jupyter.widget-view+json": {
       "model_id": "501038f4e2dd47ab919d2a728b8dbc86",
       "version_major": 2,
       "version_minor": 0
      },
      "text/plain": [
       "Evaluating fitness:   0%|          | 0/10 [00:00<?, ?it/s]"
      ]
     },
     "metadata": {},
     "output_type": "display_data"
    },
    {
     "data": {
      "application/vnd.jupyter.widget-view+json": {
       "model_id": "5a6e4d6055334aabbe8fe40997f2af8b",
       "version_major": 2,
       "version_minor": 0
      },
      "text/plain": [
       "Evaluating fitness:   0%|          | 0/10 [00:00<?, ?it/s]"
      ]
     },
     "metadata": {},
     "output_type": "display_data"
    },
    {
     "data": {
      "application/vnd.jupyter.widget-view+json": {
       "model_id": "239ea03547ed4be18b958e04f2ecfc36",
       "version_major": 2,
       "version_minor": 0
      },
      "text/plain": [
       "Evaluating fitness:   0%|          | 0/10 [00:00<?, ?it/s]"
      ]
     },
     "metadata": {},
     "output_type": "display_data"
    },
    {
     "data": {
      "application/vnd.jupyter.widget-view+json": {
       "model_id": "9752d6f745a44cef9f219f33b4a7ecbd",
       "version_major": 2,
       "version_minor": 0
      },
      "text/plain": [
       "Evaluating fitness:   0%|          | 0/10 [00:00<?, ?it/s]"
      ]
     },
     "metadata": {},
     "output_type": "display_data"
    },
    {
     "data": {
      "application/vnd.jupyter.widget-view+json": {
       "model_id": "2c48e77e7a7a43839319d66fb64d4c8b",
       "version_major": 2,
       "version_minor": 0
      },
      "text/plain": [
       "Evaluating fitness:   0%|          | 0/10 [00:00<?, ?it/s]"
      ]
     },
     "metadata": {},
     "output_type": "display_data"
    },
    {
     "data": {
      "application/vnd.jupyter.widget-view+json": {
       "model_id": "b73462bb6fa245da825384e996cd34b5",
       "version_major": 2,
       "version_minor": 0
      },
      "text/plain": [
       "Evaluating fitness:   0%|          | 0/10 [00:00<?, ?it/s]"
      ]
     },
     "metadata": {},
     "output_type": "display_data"
    },
    {
     "data": {
      "application/vnd.jupyter.widget-view+json": {
       "model_id": "b441a34b95b44a289aae16ca9d7db712",
       "version_major": 2,
       "version_minor": 0
      },
      "text/plain": [
       "Evaluating fitness:   0%|          | 0/10 [00:00<?, ?it/s]"
      ]
     },
     "metadata": {},
     "output_type": "display_data"
    },
    {
     "data": {
      "application/vnd.jupyter.widget-view+json": {
       "model_id": "ba6150398d494f02908f6760b4ce60c4",
       "version_major": 2,
       "version_minor": 0
      },
      "text/plain": [
       "Evaluating fitness:   0%|          | 0/10 [00:00<?, ?it/s]"
      ]
     },
     "metadata": {},
     "output_type": "display_data"
    },
    {
     "data": {
      "application/vnd.jupyter.widget-view+json": {
       "model_id": "2d77af95e88644d7af14cffe99cfb039",
       "version_major": 2,
       "version_minor": 0
      },
      "text/plain": [
       "Evaluating fitness:   0%|          | 0/10 [00:00<?, ?it/s]"
      ]
     },
     "metadata": {},
     "output_type": "display_data"
    },
    {
     "data": {
      "application/vnd.jupyter.widget-view+json": {
       "model_id": "0d6a55d81a134096966e1461623d2867",
       "version_major": 2,
       "version_minor": 0
      },
      "text/plain": [
       "Evaluating fitness:   0%|          | 0/10 [00:00<?, ?it/s]"
      ]
     },
     "metadata": {},
     "output_type": "display_data"
    },
    {
     "data": {
      "application/vnd.jupyter.widget-view+json": {
       "model_id": "38a22a9140124742bb62bb7444e4d243",
       "version_major": 2,
       "version_minor": 0
      },
      "text/plain": [
       "Evaluating fitness:   0%|          | 0/10 [00:00<?, ?it/s]"
      ]
     },
     "metadata": {},
     "output_type": "display_data"
    },
    {
     "data": {
      "application/vnd.jupyter.widget-view+json": {
       "model_id": "6d71a99bee394d4a8d52c95db356bffd",
       "version_major": 2,
       "version_minor": 0
      },
      "text/plain": [
       "Evaluating fitness:   0%|          | 0/10 [00:00<?, ?it/s]"
      ]
     },
     "metadata": {},
     "output_type": "display_data"
    },
    {
     "data": {
      "application/vnd.jupyter.widget-view+json": {
       "model_id": "1169cf4432c146848bf992798034ea44",
       "version_major": 2,
       "version_minor": 0
      },
      "text/plain": [
       "Evaluating fitness:   0%|          | 0/10 [00:00<?, ?it/s]"
      ]
     },
     "metadata": {},
     "output_type": "display_data"
    },
    {
     "data": {
      "application/vnd.jupyter.widget-view+json": {
       "model_id": "46402a973d79487fa50afcfaf471be42",
       "version_major": 2,
       "version_minor": 0
      },
      "text/plain": [
       "Evaluating fitness:   0%|          | 0/10 [00:00<?, ?it/s]"
      ]
     },
     "metadata": {},
     "output_type": "display_data"
    },
    {
     "data": {
      "application/vnd.jupyter.widget-view+json": {
       "model_id": "6886315359af455b8a50925b888f43a5",
       "version_major": 2,
       "version_minor": 0
      },
      "text/plain": [
       "Evaluating fitness:   0%|          | 0/10 [00:00<?, ?it/s]"
      ]
     },
     "metadata": {},
     "output_type": "display_data"
    },
    {
     "data": {
      "application/vnd.jupyter.widget-view+json": {
       "model_id": "448d45d4767946c980e8ad1382c9f561",
       "version_major": 2,
       "version_minor": 0
      },
      "text/plain": [
       "Evaluating fitness:   0%|          | 0/10 [00:00<?, ?it/s]"
      ]
     },
     "metadata": {},
     "output_type": "display_data"
    },
    {
     "data": {
      "application/vnd.jupyter.widget-view+json": {
       "model_id": "e0297fab057b443c8c6f17a4504d284e",
       "version_major": 2,
       "version_minor": 0
      },
      "text/plain": [
       "Evaluating fitness:   0%|          | 0/10 [00:00<?, ?it/s]"
      ]
     },
     "metadata": {},
     "output_type": "display_data"
    },
    {
     "data": {
      "application/vnd.jupyter.widget-view+json": {
       "model_id": "a9b30c97a755407694bb9aa9a96d0e77",
       "version_major": 2,
       "version_minor": 0
      },
      "text/plain": [
       "Evaluating fitness:   0%|          | 0/10 [00:00<?, ?it/s]"
      ]
     },
     "metadata": {},
     "output_type": "display_data"
    },
    {
     "data": {
      "application/vnd.jupyter.widget-view+json": {
       "model_id": "edf5384eca9e41e6a4d7034e579631b2",
       "version_major": 2,
       "version_minor": 0
      },
      "text/plain": [
       "Evaluating fitness:   0%|          | 0/10 [00:00<?, ?it/s]"
      ]
     },
     "metadata": {},
     "output_type": "display_data"
    },
    {
     "data": {
      "application/vnd.jupyter.widget-view+json": {
       "model_id": "d82c896e8c094c06b087a16932d1ae04",
       "version_major": 2,
       "version_minor": 0
      },
      "text/plain": [
       "Evaluating fitness:   0%|          | 0/10 [00:00<?, ?it/s]"
      ]
     },
     "metadata": {},
     "output_type": "display_data"
    },
    {
     "data": {
      "application/vnd.jupyter.widget-view+json": {
       "model_id": "43428572c83d4967906a51a04e3d5b40",
       "version_major": 2,
       "version_minor": 0
      },
      "text/plain": [
       "Evaluating fitness:   0%|          | 0/10 [00:00<?, ?it/s]"
      ]
     },
     "metadata": {},
     "output_type": "display_data"
    },
    {
     "data": {
      "application/vnd.jupyter.widget-view+json": {
       "model_id": "b43082de9fa2427895edaed9def2fc8e",
       "version_major": 2,
       "version_minor": 0
      },
      "text/plain": [
       "Evaluating fitness:   0%|          | 0/10 [00:00<?, ?it/s]"
      ]
     },
     "metadata": {},
     "output_type": "display_data"
    },
    {
     "data": {
      "application/vnd.jupyter.widget-view+json": {
       "model_id": "75a82339a0644d51b4147e1292cf8fc5",
       "version_major": 2,
       "version_minor": 0
      },
      "text/plain": [
       "Evaluating fitness:   0%|          | 0/10 [00:00<?, ?it/s]"
      ]
     },
     "metadata": {},
     "output_type": "display_data"
    },
    {
     "data": {
      "application/vnd.jupyter.widget-view+json": {
       "model_id": "db0134b0c05b45ed81a8a7e2e3cedb50",
       "version_major": 2,
       "version_minor": 0
      },
      "text/plain": [
       "Evaluating fitness:   0%|          | 0/10 [00:00<?, ?it/s]"
      ]
     },
     "metadata": {},
     "output_type": "display_data"
    },
    {
     "data": {
      "application/vnd.jupyter.widget-view+json": {
       "model_id": "30f2dd2557e54eb3a2c198eb763d38ed",
       "version_major": 2,
       "version_minor": 0
      },
      "text/plain": [
       "Evaluating fitness:   0%|          | 0/10 [00:00<?, ?it/s]"
      ]
     },
     "metadata": {},
     "output_type": "display_data"
    },
    {
     "data": {
      "application/vnd.jupyter.widget-view+json": {
       "model_id": "7d17877d758a4412876a8e2e34b6217b",
       "version_major": 2,
       "version_minor": 0
      },
      "text/plain": [
       "Evaluating fitness:   0%|          | 0/10 [00:00<?, ?it/s]"
      ]
     },
     "metadata": {},
     "output_type": "display_data"
    },
    {
     "data": {
      "application/vnd.jupyter.widget-view+json": {
       "model_id": "0dde70b73f1542c990389eb8eefcbbe4",
       "version_major": 2,
       "version_minor": 0
      },
      "text/plain": [
       "Evaluating fitness:   0%|          | 0/10 [00:00<?, ?it/s]"
      ]
     },
     "metadata": {},
     "output_type": "display_data"
    },
    {
     "data": {
      "application/vnd.jupyter.widget-view+json": {
       "model_id": "aa60747a581143cfb49bd2c8bdecf050",
       "version_major": 2,
       "version_minor": 0
      },
      "text/plain": [
       "Evaluating fitness:   0%|          | 0/10 [00:00<?, ?it/s]"
      ]
     },
     "metadata": {},
     "output_type": "display_data"
    },
    {
     "data": {
      "application/vnd.jupyter.widget-view+json": {
       "model_id": "c6658581956b4bfeb60a24e23c3926bd",
       "version_major": 2,
       "version_minor": 0
      },
      "text/plain": [
       "Evaluating fitness:   0%|          | 0/10 [00:00<?, ?it/s]"
      ]
     },
     "metadata": {},
     "output_type": "display_data"
    },
    {
     "data": {
      "application/vnd.jupyter.widget-view+json": {
       "model_id": "25c4251bb74942b987b3a784cb46202f",
       "version_major": 2,
       "version_minor": 0
      },
      "text/plain": [
       "Evaluating fitness:   0%|          | 0/10 [00:00<?, ?it/s]"
      ]
     },
     "metadata": {},
     "output_type": "display_data"
    },
    {
     "data": {
      "application/vnd.jupyter.widget-view+json": {
       "model_id": "593c8521c920477ea03806cc57c903ee",
       "version_major": 2,
       "version_minor": 0
      },
      "text/plain": [
       "Evaluating fitness:   0%|          | 0/10 [00:00<?, ?it/s]"
      ]
     },
     "metadata": {},
     "output_type": "display_data"
    },
    {
     "data": {
      "application/vnd.jupyter.widget-view+json": {
       "model_id": "e1ba3595107242bc858e904a84f5428b",
       "version_major": 2,
       "version_minor": 0
      },
      "text/plain": [
       "Evaluating fitness:   0%|          | 0/10 [00:00<?, ?it/s]"
      ]
     },
     "metadata": {},
     "output_type": "display_data"
    },
    {
     "data": {
      "application/vnd.jupyter.widget-view+json": {
       "model_id": "f767c31a7a534ac283be313bc3240ddc",
       "version_major": 2,
       "version_minor": 0
      },
      "text/plain": [
       "Evaluating fitness:   0%|          | 0/10 [00:00<?, ?it/s]"
      ]
     },
     "metadata": {},
     "output_type": "display_data"
    },
    {
     "data": {
      "application/vnd.jupyter.widget-view+json": {
       "model_id": "c108702618384bedb11d292415faf38f",
       "version_major": 2,
       "version_minor": 0
      },
      "text/plain": [
       "Evaluating fitness:   0%|          | 0/10 [00:00<?, ?it/s]"
      ]
     },
     "metadata": {},
     "output_type": "display_data"
    },
    {
     "data": {
      "application/vnd.jupyter.widget-view+json": {
       "model_id": "22aa649ec7fa484d9443c35c713ee0ae",
       "version_major": 2,
       "version_minor": 0
      },
      "text/plain": [
       "Evaluating fitness:   0%|          | 0/10 [00:00<?, ?it/s]"
      ]
     },
     "metadata": {},
     "output_type": "display_data"
    },
    {
     "data": {
      "application/vnd.jupyter.widget-view+json": {
       "model_id": "d5fe93d2c41b4deb96dcb5ebec580ee9",
       "version_major": 2,
       "version_minor": 0
      },
      "text/plain": [
       "Evaluating fitness:   0%|          | 0/10 [00:00<?, ?it/s]"
      ]
     },
     "metadata": {},
     "output_type": "display_data"
    },
    {
     "data": {
      "application/vnd.jupyter.widget-view+json": {
       "model_id": "e4fbc2423a0f484ba734c69e46162dc3",
       "version_major": 2,
       "version_minor": 0
      },
      "text/plain": [
       "Breeding: 0it [00:00, ?it/s]"
      ]
     },
     "metadata": {},
     "output_type": "display_data"
    },
    {
     "data": {
      "application/vnd.jupyter.widget-view+json": {
       "model_id": "7f6d7b9e402e4798981503e23ed4b642",
       "version_major": 2,
       "version_minor": 0
      },
      "text/plain": [
       "Breeding: 0it [00:00, ?it/s]"
      ]
     },
     "metadata": {},
     "output_type": "display_data"
    },
    {
     "data": {
      "application/vnd.jupyter.widget-view+json": {
       "model_id": "e401e9f9f856467a81649eca6a888226",
       "version_major": 2,
       "version_minor": 0
      },
      "text/plain": [
       "Breeding: 0it [00:00, ?it/s]"
      ]
     },
     "metadata": {},
     "output_type": "display_data"
    },
    {
     "data": {
      "application/vnd.jupyter.widget-view+json": {
       "model_id": "967889f3b4b14d90aa641bf0390498a9",
       "version_major": 2,
       "version_minor": 0
      },
      "text/plain": [
       "Breeding: 0it [00:00, ?it/s]"
      ]
     },
     "metadata": {},
     "output_type": "display_data"
    },
    {
     "data": {
      "application/vnd.jupyter.widget-view+json": {
       "model_id": "d7f32093255644e2b71c4fc81a265539",
       "version_major": 2,
       "version_minor": 0
      },
      "text/plain": [
       "Breeding: 0it [00:00, ?it/s]"
      ]
     },
     "metadata": {},
     "output_type": "display_data"
    },
    {
     "data": {
      "application/vnd.jupyter.widget-view+json": {
       "model_id": "887762ca611747dfb76b0014d839b78e",
       "version_major": 2,
       "version_minor": 0
      },
      "text/plain": [
       "Breeding: 0it [00:00, ?it/s]"
      ]
     },
     "metadata": {},
     "output_type": "display_data"
    },
    {
     "data": {
      "application/vnd.jupyter.widget-view+json": {
       "model_id": "ac4a83597ca24d209a5d471729eab11f",
       "version_major": 2,
       "version_minor": 0
      },
      "text/plain": [
       "Breeding: 0it [00:00, ?it/s]"
      ]
     },
     "metadata": {},
     "output_type": "display_data"
    },
    {
     "data": {
      "application/vnd.jupyter.widget-view+json": {
       "model_id": "21819341eb3f44348febd87c0712ba6e",
       "version_major": 2,
       "version_minor": 0
      },
      "text/plain": [
       "Breeding: 0it [00:00, ?it/s]"
      ]
     },
     "metadata": {},
     "output_type": "display_data"
    },
    {
     "data": {
      "application/vnd.jupyter.widget-view+json": {
       "model_id": "705af183d892487880b3e5b52e4d9c96",
       "version_major": 2,
       "version_minor": 0
      },
      "text/plain": [
       "Breeding: 0it [00:00, ?it/s]"
      ]
     },
     "metadata": {},
     "output_type": "display_data"
    },
    {
     "data": {
      "application/vnd.jupyter.widget-view+json": {
       "model_id": "665e0f4678054ee7b9e60fced715c3a6",
       "version_major": 2,
       "version_minor": 0
      },
      "text/plain": [
       "Breeding: 0it [00:00, ?it/s]"
      ]
     },
     "metadata": {},
     "output_type": "display_data"
    },
    {
     "data": {
      "application/vnd.jupyter.widget-view+json": {
       "model_id": "53eb101ecb0e49e5ab3eb6234cf8a028",
       "version_major": 2,
       "version_minor": 0
      },
      "text/plain": [
       "Breeding: 0it [00:00, ?it/s]"
      ]
     },
     "metadata": {},
     "output_type": "display_data"
    },
    {
     "data": {
      "application/vnd.jupyter.widget-view+json": {
       "model_id": "623d6ca8dd674afaa85e82a925308544",
       "version_major": 2,
       "version_minor": 0
      },
      "text/plain": [
       "Breeding: 0it [00:00, ?it/s]"
      ]
     },
     "metadata": {},
     "output_type": "display_data"
    },
    {
     "data": {
      "application/vnd.jupyter.widget-view+json": {
       "model_id": "a25685e8aaf14155b3ca0ea7e1dc1c32",
       "version_major": 2,
       "version_minor": 0
      },
      "text/plain": [
       "Breeding: 0it [00:00, ?it/s]"
      ]
     },
     "metadata": {},
     "output_type": "display_data"
    },
    {
     "data": {
      "application/vnd.jupyter.widget-view+json": {
       "model_id": "0598ed77e0ef48b4802dbb184d5efaef",
       "version_major": 2,
       "version_minor": 0
      },
      "text/plain": [
       "Breeding: 0it [00:00, ?it/s]"
      ]
     },
     "metadata": {},
     "output_type": "display_data"
    },
    {
     "data": {
      "application/vnd.jupyter.widget-view+json": {
       "model_id": "71853e4f5c274985ab96741c4a0bfec9",
       "version_major": 2,
       "version_minor": 0
      },
      "text/plain": [
       "Breeding: 0it [00:00, ?it/s]"
      ]
     },
     "metadata": {},
     "output_type": "display_data"
    },
    {
     "data": {
      "application/vnd.jupyter.widget-view+json": {
       "model_id": "044e92c62db94d199f3d2fa6b96cb6b7",
       "version_major": 2,
       "version_minor": 0
      },
      "text/plain": [
       "Breeding: 0it [00:00, ?it/s]"
      ]
     },
     "metadata": {},
     "output_type": "display_data"
    },
    {
     "data": {
      "application/vnd.jupyter.widget-view+json": {
       "model_id": "d466cad4a6ef4dcda95334bb39e3a72b",
       "version_major": 2,
       "version_minor": 0
      },
      "text/plain": [
       "Breeding: 0it [00:00, ?it/s]"
      ]
     },
     "metadata": {},
     "output_type": "display_data"
    },
    {
     "data": {
      "application/vnd.jupyter.widget-view+json": {
       "model_id": "92a2c37e86c849c68fa4badeac3b076b",
       "version_major": 2,
       "version_minor": 0
      },
      "text/plain": [
       "Breeding: 0it [00:00, ?it/s]"
      ]
     },
     "metadata": {},
     "output_type": "display_data"
    },
    {
     "data": {
      "application/vnd.jupyter.widget-view+json": {
       "model_id": "7eba9f0e3b544a46aa8cc896430f0f58",
       "version_major": 2,
       "version_minor": 0
      },
      "text/plain": [
       "Breeding: 0it [00:00, ?it/s]"
      ]
     },
     "metadata": {},
     "output_type": "display_data"
    },
    {
     "data": {
      "application/vnd.jupyter.widget-view+json": {
       "model_id": "3e264a74b48042dea12f2a5084c55d3b",
       "version_major": 2,
       "version_minor": 0
      },
      "text/plain": [
       "Breeding: 0it [00:00, ?it/s]"
      ]
     },
     "metadata": {},
     "output_type": "display_data"
    },
    {
     "data": {
      "application/vnd.jupyter.widget-view+json": {
       "model_id": "0efd174212264a49aa921ad17846ecbd",
       "version_major": 2,
       "version_minor": 0
      },
      "text/plain": [
       "Breeding: 0it [00:00, ?it/s]"
      ]
     },
     "metadata": {},
     "output_type": "display_data"
    },
    {
     "data": {
      "application/vnd.jupyter.widget-view+json": {
       "model_id": "bf40858d5da346178f8539dc02b8a7b5",
       "version_major": 2,
       "version_minor": 0
      },
      "text/plain": [
       "Breeding: 0it [00:00, ?it/s]"
      ]
     },
     "metadata": {},
     "output_type": "display_data"
    },
    {
     "data": {
      "application/vnd.jupyter.widget-view+json": {
       "model_id": "6b4e9d051df24e26b4f0f6d4d37c1506",
       "version_major": 2,
       "version_minor": 0
      },
      "text/plain": [
       "Breeding: 0it [00:00, ?it/s]"
      ]
     },
     "metadata": {},
     "output_type": "display_data"
    },
    {
     "data": {
      "application/vnd.jupyter.widget-view+json": {
       "model_id": "b2994e165c6c4917b7a0feaf8126dfd6",
       "version_major": 2,
       "version_minor": 0
      },
      "text/plain": [
       "Breeding: 0it [00:00, ?it/s]"
      ]
     },
     "metadata": {},
     "output_type": "display_data"
    },
    {
     "data": {
      "application/vnd.jupyter.widget-view+json": {
       "model_id": "6689e3c0e8b94ae59f92c1cda94c50d7",
       "version_major": 2,
       "version_minor": 0
      },
      "text/plain": [
       "Breeding: 0it [00:00, ?it/s]"
      ]
     },
     "metadata": {},
     "output_type": "display_data"
    },
    {
     "data": {
      "application/vnd.jupyter.widget-view+json": {
       "model_id": "4c28acf20e614438a9f5cbfd7b7df013",
       "version_major": 2,
       "version_minor": 0
      },
      "text/plain": [
       "Breeding: 0it [00:00, ?it/s]"
      ]
     },
     "metadata": {},
     "output_type": "display_data"
    },
    {
     "data": {
      "application/vnd.jupyter.widget-view+json": {
       "model_id": "658e955ad3e74098bc5deac76ed4fe1f",
       "version_major": 2,
       "version_minor": 0
      },
      "text/plain": [
       "Breeding: 0it [00:00, ?it/s]"
      ]
     },
     "metadata": {},
     "output_type": "display_data"
    },
    {
     "data": {
      "application/vnd.jupyter.widget-view+json": {
       "model_id": "352ef8ca220444eaaaa3fed17eb43a52",
       "version_major": 2,
       "version_minor": 0
      },
      "text/plain": [
       "Breeding: 0it [00:00, ?it/s]"
      ]
     },
     "metadata": {},
     "output_type": "display_data"
    },
    {
     "data": {
      "application/vnd.jupyter.widget-view+json": {
       "model_id": "9f626d6766ee4b9ab5180c44f2f4c8ab",
       "version_major": 2,
       "version_minor": 0
      },
      "text/plain": [
       "Breeding: 0it [00:00, ?it/s]"
      ]
     },
     "metadata": {},
     "output_type": "display_data"
    },
    {
     "data": {
      "application/vnd.jupyter.widget-view+json": {
       "model_id": "860e441ad8fb44b286e9e48559588777",
       "version_major": 2,
       "version_minor": 0
      },
      "text/plain": [
       "Breeding: 0it [00:00, ?it/s]"
      ]
     },
     "metadata": {},
     "output_type": "display_data"
    },
    {
     "data": {
      "application/vnd.jupyter.widget-view+json": {
       "model_id": "201e5ab27d4540f68f8a94a74a41d4c9",
       "version_major": 2,
       "version_minor": 0
      },
      "text/plain": [
       "Breeding: 0it [00:00, ?it/s]"
      ]
     },
     "metadata": {},
     "output_type": "display_data"
    },
    {
     "data": {
      "application/vnd.jupyter.widget-view+json": {
       "model_id": "219cc786bfb947648ef153a0fe1e6163",
       "version_major": 2,
       "version_minor": 0
      },
      "text/plain": [
       "Breeding: 0it [00:00, ?it/s]"
      ]
     },
     "metadata": {},
     "output_type": "display_data"
    },
    {
     "data": {
      "application/vnd.jupyter.widget-view+json": {
       "model_id": "b37da76e5a16468c81278c5d72915f7b",
       "version_major": 2,
       "version_minor": 0
      },
      "text/plain": [
       "Breeding: 0it [00:00, ?it/s]"
      ]
     },
     "metadata": {},
     "output_type": "display_data"
    },
    {
     "data": {
      "application/vnd.jupyter.widget-view+json": {
       "model_id": "467ede58702d4201bb015f0c8063fb1d",
       "version_major": 2,
       "version_minor": 0
      },
      "text/plain": [
       "Breeding: 0it [00:00, ?it/s]"
      ]
     },
     "metadata": {},
     "output_type": "display_data"
    },
    {
     "data": {
      "application/vnd.jupyter.widget-view+json": {
       "model_id": "019a849031824881a668f2946db404b3",
       "version_major": 2,
       "version_minor": 0
      },
      "text/plain": [
       "Breeding: 0it [00:00, ?it/s]"
      ]
     },
     "metadata": {},
     "output_type": "display_data"
    },
    {
     "data": {
      "application/vnd.jupyter.widget-view+json": {
       "model_id": "a915b55183354c50aa4f782f2c8b2b1c",
       "version_major": 2,
       "version_minor": 0
      },
      "text/plain": [
       "Breeding: 0it [00:00, ?it/s]"
      ]
     },
     "metadata": {},
     "output_type": "display_data"
    },
    {
     "data": {
      "application/vnd.jupyter.widget-view+json": {
       "model_id": "1e82c0038b1d4ae1a4d160c0398af161",
       "version_major": 2,
       "version_minor": 0
      },
      "text/plain": [
       "Breeding: 0it [00:00, ?it/s]"
      ]
     },
     "metadata": {},
     "output_type": "display_data"
    },
    {
     "data": {
      "application/vnd.jupyter.widget-view+json": {
       "model_id": "93e347d27f3e46599eecbaae4b12a3ef",
       "version_major": 2,
       "version_minor": 0
      },
      "text/plain": [
       "Breeding: 0it [00:00, ?it/s]"
      ]
     },
     "metadata": {},
     "output_type": "display_data"
    },
    {
     "data": {
      "application/vnd.jupyter.widget-view+json": {
       "model_id": "44d983fce71b427cb2fc0542e6507c7e",
       "version_major": 2,
       "version_minor": 0
      },
      "text/plain": [
       "Breeding: 0it [00:00, ?it/s]"
      ]
     },
     "metadata": {},
     "output_type": "display_data"
    },
    {
     "data": {
      "application/vnd.jupyter.widget-view+json": {
       "model_id": "f3edda4247814674a263a04360dba355",
       "version_major": 2,
       "version_minor": 0
      },
      "text/plain": [
       "Breeding: 0it [00:00, ?it/s]"
      ]
     },
     "metadata": {},
     "output_type": "display_data"
    },
    {
     "data": {
      "application/vnd.jupyter.widget-view+json": {
       "model_id": "ab795d78379540b782556533c93108e1",
       "version_major": 2,
       "version_minor": 0
      },
      "text/plain": [
       "Breeding: 0it [00:00, ?it/s]"
      ]
     },
     "metadata": {},
     "output_type": "display_data"
    },
    {
     "data": {
      "application/vnd.jupyter.widget-view+json": {
       "model_id": "e07f720da8254eca95b369f9b0684959",
       "version_major": 2,
       "version_minor": 0
      },
      "text/plain": [
       "Breeding: 0it [00:00, ?it/s]"
      ]
     },
     "metadata": {},
     "output_type": "display_data"
    },
    {
     "data": {
      "application/vnd.jupyter.widget-view+json": {
       "model_id": "9e2657f831994e7ab48e412fbebb550f",
       "version_major": 2,
       "version_minor": 0
      },
      "text/plain": [
       "Breeding: 0it [00:00, ?it/s]"
      ]
     },
     "metadata": {},
     "output_type": "display_data"
    },
    {
     "data": {
      "application/vnd.jupyter.widget-view+json": {
       "model_id": "5ed25e6139d247f09ad7d7b5f06faf6e",
       "version_major": 2,
       "version_minor": 0
      },
      "text/plain": [
       "Breeding: 0it [00:00, ?it/s]"
      ]
     },
     "metadata": {},
     "output_type": "display_data"
    },
    {
     "data": {
      "application/vnd.jupyter.widget-view+json": {
       "model_id": "166ccb1bc06e477499258b9426cdae83",
       "version_major": 2,
       "version_minor": 0
      },
      "text/plain": [
       "Breeding: 0it [00:00, ?it/s]"
      ]
     },
     "metadata": {},
     "output_type": "display_data"
    },
    {
     "data": {
      "application/vnd.jupyter.widget-view+json": {
       "model_id": "cd687b7f83c14fd7ba3a9a71015904a8",
       "version_major": 2,
       "version_minor": 0
      },
      "text/plain": [
       "Breeding: 0it [00:00, ?it/s]"
      ]
     },
     "metadata": {},
     "output_type": "display_data"
    },
    {
     "data": {
      "application/vnd.jupyter.widget-view+json": {
       "model_id": "c23ba78453fa4779a3839e3ab29e41ab",
       "version_major": 2,
       "version_minor": 0
      },
      "text/plain": [
       "Breeding: 0it [00:00, ?it/s]"
      ]
     },
     "metadata": {},
     "output_type": "display_data"
    },
    {
     "data": {
      "application/vnd.jupyter.widget-view+json": {
       "model_id": "fc8045add28e417c8e94fb0de89f5427",
       "version_major": 2,
       "version_minor": 0
      },
      "text/plain": [
       "Breeding: 0it [00:00, ?it/s]"
      ]
     },
     "metadata": {},
     "output_type": "display_data"
    },
    {
     "data": {
      "application/vnd.jupyter.widget-view+json": {
       "model_id": "0a7c27b64cd14140a29c8bed1d06b538",
       "version_major": 2,
       "version_minor": 0
      },
      "text/plain": [
       "Breeding: 0it [00:00, ?it/s]"
      ]
     },
     "metadata": {},
     "output_type": "display_data"
    },
    {
     "data": {
      "application/vnd.jupyter.widget-view+json": {
       "model_id": "94450f14c9874f3cbdcf43340be2de5a",
       "version_major": 2,
       "version_minor": 0
      },
      "text/plain": [
       "Breeding: 0it [00:00, ?it/s]"
      ]
     },
     "metadata": {},
     "output_type": "display_data"
    },
    {
     "data": {
      "application/vnd.jupyter.widget-view+json": {
       "model_id": "2e4e8439327243be9029a00e344ce658",
       "version_major": 2,
       "version_minor": 0
      },
      "text/plain": [
       "Breeding: 0it [00:00, ?it/s]"
      ]
     },
     "metadata": {},
     "output_type": "display_data"
    },
    {
     "data": {
      "application/vnd.jupyter.widget-view+json": {
       "model_id": "e3eecfa6e24a413e8eff124372e965e2",
       "version_major": 2,
       "version_minor": 0
      },
      "text/plain": [
       "Evaluating fitness:   0%|          | 0/10 [00:00<?, ?it/s]"
      ]
     },
     "metadata": {},
     "output_type": "display_data"
    },
    {
     "data": {
      "application/vnd.jupyter.widget-view+json": {
       "model_id": "23ec56ec2b33425caa10810f52d91514",
       "version_major": 2,
       "version_minor": 0
      },
      "text/plain": [
       "Evaluating fitness:   0%|          | 0/10 [00:00<?, ?it/s]"
      ]
     },
     "metadata": {},
     "output_type": "display_data"
    },
    {
     "data": {
      "application/vnd.jupyter.widget-view+json": {
       "model_id": "4668f68c40174a74bd697db5fcee56ac",
       "version_major": 2,
       "version_minor": 0
      },
      "text/plain": [
       "Evaluating fitness:   0%|          | 0/10 [00:00<?, ?it/s]"
      ]
     },
     "metadata": {},
     "output_type": "display_data"
    },
    {
     "data": {
      "application/vnd.jupyter.widget-view+json": {
       "model_id": "e400b42a13db464895379c39c3a1c24d",
       "version_major": 2,
       "version_minor": 0
      },
      "text/plain": [
       "Evaluating fitness:   0%|          | 0/10 [00:00<?, ?it/s]"
      ]
     },
     "metadata": {},
     "output_type": "display_data"
    },
    {
     "data": {
      "application/vnd.jupyter.widget-view+json": {
       "model_id": "0fa3ee08def7436a8986ac5211a6503c",
       "version_major": 2,
       "version_minor": 0
      },
      "text/plain": [
       "Evaluating fitness:   0%|          | 0/10 [00:00<?, ?it/s]"
      ]
     },
     "metadata": {},
     "output_type": "display_data"
    },
    {
     "data": {
      "application/vnd.jupyter.widget-view+json": {
       "model_id": "4d381d0daa3143d6b2ae0f13c6f770c6",
       "version_major": 2,
       "version_minor": 0
      },
      "text/plain": [
       "Evaluating fitness:   0%|          | 0/10 [00:00<?, ?it/s]"
      ]
     },
     "metadata": {},
     "output_type": "display_data"
    },
    {
     "data": {
      "application/vnd.jupyter.widget-view+json": {
       "model_id": "b1d29685748f49e6954ffcaa79567231",
       "version_major": 2,
       "version_minor": 0
      },
      "text/plain": [
       "Evaluating fitness:   0%|          | 0/10 [00:00<?, ?it/s]"
      ]
     },
     "metadata": {},
     "output_type": "display_data"
    },
    {
     "data": {
      "application/vnd.jupyter.widget-view+json": {
       "model_id": "d51a7570e98c4b84a1be4d3f17d690d9",
       "version_major": 2,
       "version_minor": 0
      },
      "text/plain": [
       "Evaluating fitness:   0%|          | 0/10 [00:00<?, ?it/s]"
      ]
     },
     "metadata": {},
     "output_type": "display_data"
    },
    {
     "data": {
      "application/vnd.jupyter.widget-view+json": {
       "model_id": "1da41b6123e44191b920f1c743b48263",
       "version_major": 2,
       "version_minor": 0
      },
      "text/plain": [
       "Evaluating fitness:   0%|          | 0/10 [00:00<?, ?it/s]"
      ]
     },
     "metadata": {},
     "output_type": "display_data"
    },
    {
     "data": {
      "application/vnd.jupyter.widget-view+json": {
       "model_id": "579c2492ed884167bca624a0503c797e",
       "version_major": 2,
       "version_minor": 0
      },
      "text/plain": [
       "Evaluating fitness:   0%|          | 0/10 [00:00<?, ?it/s]"
      ]
     },
     "metadata": {},
     "output_type": "display_data"
    },
    {
     "data": {
      "application/vnd.jupyter.widget-view+json": {
       "model_id": "b33430fb85b54f5295d8a49968c5373e",
       "version_major": 2,
       "version_minor": 0
      },
      "text/plain": [
       "Evaluating fitness:   0%|          | 0/10 [00:00<?, ?it/s]"
      ]
     },
     "metadata": {},
     "output_type": "display_data"
    },
    {
     "data": {
      "application/vnd.jupyter.widget-view+json": {
       "model_id": "8f39f926d25346a189ac9e5f335478ba",
       "version_major": 2,
       "version_minor": 0
      },
      "text/plain": [
       "Evaluating fitness:   0%|          | 0/10 [00:00<?, ?it/s]"
      ]
     },
     "metadata": {},
     "output_type": "display_data"
    },
    {
     "data": {
      "application/vnd.jupyter.widget-view+json": {
       "model_id": "10ce216c85d24c9288cde4151037934b",
       "version_major": 2,
       "version_minor": 0
      },
      "text/plain": [
       "Evaluating fitness:   0%|          | 0/10 [00:00<?, ?it/s]"
      ]
     },
     "metadata": {},
     "output_type": "display_data"
    },
    {
     "data": {
      "application/vnd.jupyter.widget-view+json": {
       "model_id": "44fed45a88f64cf9a154167d2b52cd9c",
       "version_major": 2,
       "version_minor": 0
      },
      "text/plain": [
       "Evaluating fitness:   0%|          | 0/10 [00:00<?, ?it/s]"
      ]
     },
     "metadata": {},
     "output_type": "display_data"
    },
    {
     "data": {
      "application/vnd.jupyter.widget-view+json": {
       "model_id": "7c3f80f96c87463aac7de8eaacfa2498",
       "version_major": 2,
       "version_minor": 0
      },
      "text/plain": [
       "Evaluating fitness:   0%|          | 0/10 [00:00<?, ?it/s]"
      ]
     },
     "metadata": {},
     "output_type": "display_data"
    },
    {
     "data": {
      "application/vnd.jupyter.widget-view+json": {
       "model_id": "c75f7111541641fa883b5db2ce01eb13",
       "version_major": 2,
       "version_minor": 0
      },
      "text/plain": [
       "Evaluating fitness:   0%|          | 0/10 [00:00<?, ?it/s]"
      ]
     },
     "metadata": {},
     "output_type": "display_data"
    },
    {
     "data": {
      "application/vnd.jupyter.widget-view+json": {
       "model_id": "3096127f0a9a45f9a079fce4273dc826",
       "version_major": 2,
       "version_minor": 0
      },
      "text/plain": [
       "Evaluating fitness:   0%|          | 0/10 [00:00<?, ?it/s]"
      ]
     },
     "metadata": {},
     "output_type": "display_data"
    },
    {
     "data": {
      "application/vnd.jupyter.widget-view+json": {
       "model_id": "25fae462f32d4c8dab1212c513a2dba9",
       "version_major": 2,
       "version_minor": 0
      },
      "text/plain": [
       "Evaluating fitness:   0%|          | 0/10 [00:00<?, ?it/s]"
      ]
     },
     "metadata": {},
     "output_type": "display_data"
    },
    {
     "data": {
      "application/vnd.jupyter.widget-view+json": {
       "model_id": "7d2924fb2c314a95a591c6eb2174b17c",
       "version_major": 2,
       "version_minor": 0
      },
      "text/plain": [
       "Evaluating fitness:   0%|          | 0/10 [00:00<?, ?it/s]"
      ]
     },
     "metadata": {},
     "output_type": "display_data"
    },
    {
     "data": {
      "application/vnd.jupyter.widget-view+json": {
       "model_id": "f5e5097e6d9a4e449287a93f8d115d3c",
       "version_major": 2,
       "version_minor": 0
      },
      "text/plain": [
       "Evaluating fitness:   0%|          | 0/10 [00:00<?, ?it/s]"
      ]
     },
     "metadata": {},
     "output_type": "display_data"
    },
    {
     "data": {
      "application/vnd.jupyter.widget-view+json": {
       "model_id": "881d8cb2caae446889cb7c1259ae3a87",
       "version_major": 2,
       "version_minor": 0
      },
      "text/plain": [
       "Evaluating fitness:   0%|          | 0/10 [00:00<?, ?it/s]"
      ]
     },
     "metadata": {},
     "output_type": "display_data"
    },
    {
     "data": {
      "application/vnd.jupyter.widget-view+json": {
       "model_id": "c974d9fb47b6475892d59f6cc5d3f291",
       "version_major": 2,
       "version_minor": 0
      },
      "text/plain": [
       "Evaluating fitness:   0%|          | 0/10 [00:00<?, ?it/s]"
      ]
     },
     "metadata": {},
     "output_type": "display_data"
    },
    {
     "data": {
      "application/vnd.jupyter.widget-view+json": {
       "model_id": "104265ec664442d0a969f80e116132ae",
       "version_major": 2,
       "version_minor": 0
      },
      "text/plain": [
       "Evaluating fitness:   0%|          | 0/10 [00:00<?, ?it/s]"
      ]
     },
     "metadata": {},
     "output_type": "display_data"
    },
    {
     "data": {
      "application/vnd.jupyter.widget-view+json": {
       "model_id": "33cd4c386bf0400f85576ce465519342",
       "version_major": 2,
       "version_minor": 0
      },
      "text/plain": [
       "Evaluating fitness:   0%|          | 0/10 [00:00<?, ?it/s]"
      ]
     },
     "metadata": {},
     "output_type": "display_data"
    },
    {
     "data": {
      "application/vnd.jupyter.widget-view+json": {
       "model_id": "2423078fcc4d4cd6820a2c240d4a9894",
       "version_major": 2,
       "version_minor": 0
      },
      "text/plain": [
       "Evaluating fitness:   0%|          | 0/10 [00:00<?, ?it/s]"
      ]
     },
     "metadata": {},
     "output_type": "display_data"
    },
    {
     "data": {
      "application/vnd.jupyter.widget-view+json": {
       "model_id": "ade1b714248749fc845d801f0258da1a",
       "version_major": 2,
       "version_minor": 0
      },
      "text/plain": [
       "Evaluating fitness:   0%|          | 0/10 [00:00<?, ?it/s]"
      ]
     },
     "metadata": {},
     "output_type": "display_data"
    },
    {
     "data": {
      "application/vnd.jupyter.widget-view+json": {
       "model_id": "06055dcd9aa24525834a7a1024d1ed0c",
       "version_major": 2,
       "version_minor": 0
      },
      "text/plain": [
       "Evaluating fitness:   0%|          | 0/10 [00:00<?, ?it/s]"
      ]
     },
     "metadata": {},
     "output_type": "display_data"
    },
    {
     "data": {
      "application/vnd.jupyter.widget-view+json": {
       "model_id": "a21c19cee45341ae903b46aa9cde12c7",
       "version_major": 2,
       "version_minor": 0
      },
      "text/plain": [
       "Evaluating fitness:   0%|          | 0/10 [00:00<?, ?it/s]"
      ]
     },
     "metadata": {},
     "output_type": "display_data"
    },
    {
     "data": {
      "application/vnd.jupyter.widget-view+json": {
       "model_id": "7d8d1ccf8812442c9d286cae1c37cdf1",
       "version_major": 2,
       "version_minor": 0
      },
      "text/plain": [
       "Evaluating fitness:   0%|          | 0/10 [00:00<?, ?it/s]"
      ]
     },
     "metadata": {},
     "output_type": "display_data"
    },
    {
     "data": {
      "application/vnd.jupyter.widget-view+json": {
       "model_id": "018e2ed56e4848078cb18ba2a9372922",
       "version_major": 2,
       "version_minor": 0
      },
      "text/plain": [
       "Evaluating fitness:   0%|          | 0/10 [00:00<?, ?it/s]"
      ]
     },
     "metadata": {},
     "output_type": "display_data"
    },
    {
     "data": {
      "application/vnd.jupyter.widget-view+json": {
       "model_id": "1072db32162945f2bac4f3ee18ba112a",
       "version_major": 2,
       "version_minor": 0
      },
      "text/plain": [
       "Evaluating fitness:   0%|          | 0/10 [00:00<?, ?it/s]"
      ]
     },
     "metadata": {},
     "output_type": "display_data"
    },
    {
     "data": {
      "application/vnd.jupyter.widget-view+json": {
       "model_id": "63589d790c904f0bb4cfceaf7b5b110e",
       "version_major": 2,
       "version_minor": 0
      },
      "text/plain": [
       "Evaluating fitness:   0%|          | 0/10 [00:00<?, ?it/s]"
      ]
     },
     "metadata": {},
     "output_type": "display_data"
    },
    {
     "data": {
      "application/vnd.jupyter.widget-view+json": {
       "model_id": "9f7e389c0f194b48b5d60295d208402c",
       "version_major": 2,
       "version_minor": 0
      },
      "text/plain": [
       "Evaluating fitness:   0%|          | 0/10 [00:00<?, ?it/s]"
      ]
     },
     "metadata": {},
     "output_type": "display_data"
    },
    {
     "data": {
      "application/vnd.jupyter.widget-view+json": {
       "model_id": "82e9ba8624c14a2b84e72af487ab8491",
       "version_major": 2,
       "version_minor": 0
      },
      "text/plain": [
       "Evaluating fitness:   0%|          | 0/10 [00:00<?, ?it/s]"
      ]
     },
     "metadata": {},
     "output_type": "display_data"
    },
    {
     "data": {
      "application/vnd.jupyter.widget-view+json": {
       "model_id": "1d1d27dfc7254bd18a09754d93247c34",
       "version_major": 2,
       "version_minor": 0
      },
      "text/plain": [
       "Evaluating fitness:   0%|          | 0/10 [00:00<?, ?it/s]"
      ]
     },
     "metadata": {},
     "output_type": "display_data"
    },
    {
     "data": {
      "application/vnd.jupyter.widget-view+json": {
       "model_id": "338dc5814efb42429f4612f5031b77ad",
       "version_major": 2,
       "version_minor": 0
      },
      "text/plain": [
       "Evaluating fitness:   0%|          | 0/10 [00:00<?, ?it/s]"
      ]
     },
     "metadata": {},
     "output_type": "display_data"
    },
    {
     "data": {
      "application/vnd.jupyter.widget-view+json": {
       "model_id": "692cb3e587ee40a6bc8798dc0bf24d82",
       "version_major": 2,
       "version_minor": 0
      },
      "text/plain": [
       "Evaluating fitness:   0%|          | 0/10 [00:00<?, ?it/s]"
      ]
     },
     "metadata": {},
     "output_type": "display_data"
    },
    {
     "data": {
      "application/vnd.jupyter.widget-view+json": {
       "model_id": "6fbbdf845f03412d84950124656cc9c0",
       "version_major": 2,
       "version_minor": 0
      },
      "text/plain": [
       "Evaluating fitness:   0%|          | 0/10 [00:00<?, ?it/s]"
      ]
     },
     "metadata": {},
     "output_type": "display_data"
    },
    {
     "data": {
      "application/vnd.jupyter.widget-view+json": {
       "model_id": "1e04548cebef4a138101a22bb3221855",
       "version_major": 2,
       "version_minor": 0
      },
      "text/plain": [
       "Evaluating fitness:   0%|          | 0/10 [00:00<?, ?it/s]"
      ]
     },
     "metadata": {},
     "output_type": "display_data"
    },
    {
     "data": {
      "application/vnd.jupyter.widget-view+json": {
       "model_id": "8baac15aa3c340628b5a71a6a4cf2160",
       "version_major": 2,
       "version_minor": 0
      },
      "text/plain": [
       "Evaluating fitness:   0%|          | 0/10 [00:00<?, ?it/s]"
      ]
     },
     "metadata": {},
     "output_type": "display_data"
    },
    {
     "data": {
      "application/vnd.jupyter.widget-view+json": {
       "model_id": "69bd280038d4406299f3815dd4bfa444",
       "version_major": 2,
       "version_minor": 0
      },
      "text/plain": [
       "Evaluating fitness:   0%|          | 0/10 [00:00<?, ?it/s]"
      ]
     },
     "metadata": {},
     "output_type": "display_data"
    },
    {
     "data": {
      "application/vnd.jupyter.widget-view+json": {
       "model_id": "c4842f51c9ff4a3e8855421c9a976c44",
       "version_major": 2,
       "version_minor": 0
      },
      "text/plain": [
       "Evaluating fitness:   0%|          | 0/10 [00:00<?, ?it/s]"
      ]
     },
     "metadata": {},
     "output_type": "display_data"
    },
    {
     "data": {
      "application/vnd.jupyter.widget-view+json": {
       "model_id": "4c09065a42444f5ebd4b641267f921bc",
       "version_major": 2,
       "version_minor": 0
      },
      "text/plain": [
       "Evaluating fitness:   0%|          | 0/10 [00:00<?, ?it/s]"
      ]
     },
     "metadata": {},
     "output_type": "display_data"
    },
    {
     "data": {
      "application/vnd.jupyter.widget-view+json": {
       "model_id": "bc726afa709544b0998ed0691dfe72b5",
       "version_major": 2,
       "version_minor": 0
      },
      "text/plain": [
       "Evaluating fitness:   0%|          | 0/10 [00:00<?, ?it/s]"
      ]
     },
     "metadata": {},
     "output_type": "display_data"
    },
    {
     "data": {
      "application/vnd.jupyter.widget-view+json": {
       "model_id": "17b83bc71a6d47a39003a2f8f6f7f49d",
       "version_major": 2,
       "version_minor": 0
      },
      "text/plain": [
       "Evaluating fitness:   0%|          | 0/10 [00:00<?, ?it/s]"
      ]
     },
     "metadata": {},
     "output_type": "display_data"
    },
    {
     "data": {
      "application/vnd.jupyter.widget-view+json": {
       "model_id": "47f4e67fba20486eb8e7ddffc363a927",
       "version_major": 2,
       "version_minor": 0
      },
      "text/plain": [
       "Evaluating fitness:   0%|          | 0/10 [00:00<?, ?it/s]"
      ]
     },
     "metadata": {},
     "output_type": "display_data"
    },
    {
     "data": {
      "application/vnd.jupyter.widget-view+json": {
       "model_id": "bc0489ab637846c9acef6599f78fce7a",
       "version_major": 2,
       "version_minor": 0
      },
      "text/plain": [
       "Evaluating fitness:   0%|          | 0/10 [00:00<?, ?it/s]"
      ]
     },
     "metadata": {},
     "output_type": "display_data"
    },
    {
     "data": {
      "application/vnd.jupyter.widget-view+json": {
       "model_id": "20dfbf824ff948a198ca648e8238aa6a",
       "version_major": 2,
       "version_minor": 0
      },
      "text/plain": [
       "Evaluating fitness:   0%|          | 0/10 [00:00<?, ?it/s]"
      ]
     },
     "metadata": {},
     "output_type": "display_data"
    },
    {
     "data": {
      "application/vnd.jupyter.widget-view+json": {
       "model_id": "ef3c75f2484a4e0eafbd64d34339a449",
       "version_major": 2,
       "version_minor": 0
      },
      "text/plain": [
       "Evaluating fitness:   0%|          | 0/10 [00:00<?, ?it/s]"
      ]
     },
     "metadata": {},
     "output_type": "display_data"
    },
    {
     "data": {
      "application/vnd.jupyter.widget-view+json": {
       "model_id": "cbb4faa7255b464f8280a679d288b820",
       "version_major": 2,
       "version_minor": 0
      },
      "text/plain": [
       "Evaluating fitness:   0%|          | 0/10 [00:00<?, ?it/s]"
      ]
     },
     "metadata": {},
     "output_type": "display_data"
    },
    {
     "data": {
      "application/vnd.jupyter.widget-view+json": {
       "model_id": "1ac7deeccd2e4f52af22f03616f19caa",
       "version_major": 2,
       "version_minor": 0
      },
      "text/plain": [
       "Breeding: 0it [00:00, ?it/s]"
      ]
     },
     "metadata": {},
     "output_type": "display_data"
    },
    {
     "data": {
      "application/vnd.jupyter.widget-view+json": {
       "model_id": "a044437f970c47b8b7188dec548b7971",
       "version_major": 2,
       "version_minor": 0
      },
      "text/plain": [
       "Breeding: 0it [00:00, ?it/s]"
      ]
     },
     "metadata": {},
     "output_type": "display_data"
    },
    {
     "data": {
      "application/vnd.jupyter.widget-view+json": {
       "model_id": "a44df8a175bc4d468b2207f18390b352",
       "version_major": 2,
       "version_minor": 0
      },
      "text/plain": [
       "Breeding: 0it [00:00, ?it/s]"
      ]
     },
     "metadata": {},
     "output_type": "display_data"
    },
    {
     "data": {
      "application/vnd.jupyter.widget-view+json": {
       "model_id": "f736c73c95c64731973a1a82aadf137c",
       "version_major": 2,
       "version_minor": 0
      },
      "text/plain": [
       "Breeding: 0it [00:00, ?it/s]"
      ]
     },
     "metadata": {},
     "output_type": "display_data"
    },
    {
     "data": {
      "application/vnd.jupyter.widget-view+json": {
       "model_id": "65a36cc1b4de443cbf40219df6f4804b",
       "version_major": 2,
       "version_minor": 0
      },
      "text/plain": [
       "Breeding: 0it [00:00, ?it/s]"
      ]
     },
     "metadata": {},
     "output_type": "display_data"
    },
    {
     "data": {
      "application/vnd.jupyter.widget-view+json": {
       "model_id": "6cb912f080494c0d8bcd3474b24a2421",
       "version_major": 2,
       "version_minor": 0
      },
      "text/plain": [
       "Breeding: 0it [00:00, ?it/s]"
      ]
     },
     "metadata": {},
     "output_type": "display_data"
    },
    {
     "data": {
      "application/vnd.jupyter.widget-view+json": {
       "model_id": "a61805ea518b4830bda5ecff0c3486e4",
       "version_major": 2,
       "version_minor": 0
      },
      "text/plain": [
       "Breeding: 0it [00:00, ?it/s]"
      ]
     },
     "metadata": {},
     "output_type": "display_data"
    },
    {
     "data": {
      "application/vnd.jupyter.widget-view+json": {
       "model_id": "0a3616174c444d32ae3ee32d1c5a4c22",
       "version_major": 2,
       "version_minor": 0
      },
      "text/plain": [
       "Breeding: 0it [00:00, ?it/s]"
      ]
     },
     "metadata": {},
     "output_type": "display_data"
    },
    {
     "data": {
      "application/vnd.jupyter.widget-view+json": {
       "model_id": "90319312c30b49d5b8b85d65e751aa16",
       "version_major": 2,
       "version_minor": 0
      },
      "text/plain": [
       "Breeding: 0it [00:00, ?it/s]"
      ]
     },
     "metadata": {},
     "output_type": "display_data"
    },
    {
     "data": {
      "application/vnd.jupyter.widget-view+json": {
       "model_id": "18256117561c4c3e98a377c89c4aea75",
       "version_major": 2,
       "version_minor": 0
      },
      "text/plain": [
       "Breeding: 0it [00:00, ?it/s]"
      ]
     },
     "metadata": {},
     "output_type": "display_data"
    },
    {
     "data": {
      "application/vnd.jupyter.widget-view+json": {
       "model_id": "1e6aeec0608e43e88feacd31426e0469",
       "version_major": 2,
       "version_minor": 0
      },
      "text/plain": [
       "Breeding: 0it [00:00, ?it/s]"
      ]
     },
     "metadata": {},
     "output_type": "display_data"
    },
    {
     "data": {
      "application/vnd.jupyter.widget-view+json": {
       "model_id": "013d59be82f64f7b8933608ebf97eb57",
       "version_major": 2,
       "version_minor": 0
      },
      "text/plain": [
       "Breeding: 0it [00:00, ?it/s]"
      ]
     },
     "metadata": {},
     "output_type": "display_data"
    },
    {
     "data": {
      "application/vnd.jupyter.widget-view+json": {
       "model_id": "1c5fed37968b4c2599580a3ca15c51f3",
       "version_major": 2,
       "version_minor": 0
      },
      "text/plain": [
       "Breeding: 0it [00:00, ?it/s]"
      ]
     },
     "metadata": {},
     "output_type": "display_data"
    },
    {
     "data": {
      "application/vnd.jupyter.widget-view+json": {
       "model_id": "d3dff9b9d65e49f5a75ada5e30613031",
       "version_major": 2,
       "version_minor": 0
      },
      "text/plain": [
       "Breeding: 0it [00:00, ?it/s]"
      ]
     },
     "metadata": {},
     "output_type": "display_data"
    },
    {
     "data": {
      "application/vnd.jupyter.widget-view+json": {
       "model_id": "7afff36c31e345e7a188950f10144170",
       "version_major": 2,
       "version_minor": 0
      },
      "text/plain": [
       "Breeding: 0it [00:00, ?it/s]"
      ]
     },
     "metadata": {},
     "output_type": "display_data"
    },
    {
     "data": {
      "application/vnd.jupyter.widget-view+json": {
       "model_id": "76bd0e723352493490873c5075985a4b",
       "version_major": 2,
       "version_minor": 0
      },
      "text/plain": [
       "Breeding: 0it [00:00, ?it/s]"
      ]
     },
     "metadata": {},
     "output_type": "display_data"
    },
    {
     "data": {
      "application/vnd.jupyter.widget-view+json": {
       "model_id": "25ce9cd8a5d946a295980b22e5370f68",
       "version_major": 2,
       "version_minor": 0
      },
      "text/plain": [
       "Breeding: 0it [00:00, ?it/s]"
      ]
     },
     "metadata": {},
     "output_type": "display_data"
    },
    {
     "data": {
      "application/vnd.jupyter.widget-view+json": {
       "model_id": "a0938378a8d0446bab250b75bf967fb8",
       "version_major": 2,
       "version_minor": 0
      },
      "text/plain": [
       "Breeding: 0it [00:00, ?it/s]"
      ]
     },
     "metadata": {},
     "output_type": "display_data"
    },
    {
     "data": {
      "application/vnd.jupyter.widget-view+json": {
       "model_id": "6c7346642bb046a594037b52e729afc2",
       "version_major": 2,
       "version_minor": 0
      },
      "text/plain": [
       "Breeding: 0it [00:00, ?it/s]"
      ]
     },
     "metadata": {},
     "output_type": "display_data"
    },
    {
     "data": {
      "application/vnd.jupyter.widget-view+json": {
       "model_id": "4a1ed95d473946b990315a93bb7c24c0",
       "version_major": 2,
       "version_minor": 0
      },
      "text/plain": [
       "Breeding: 0it [00:00, ?it/s]"
      ]
     },
     "metadata": {},
     "output_type": "display_data"
    },
    {
     "data": {
      "application/vnd.jupyter.widget-view+json": {
       "model_id": "9421c3d36f7644968d7d4166ab8a425a",
       "version_major": 2,
       "version_minor": 0
      },
      "text/plain": [
       "Breeding: 0it [00:00, ?it/s]"
      ]
     },
     "metadata": {},
     "output_type": "display_data"
    },
    {
     "data": {
      "application/vnd.jupyter.widget-view+json": {
       "model_id": "083b5b9de0a143bc982166bfbf6897cb",
       "version_major": 2,
       "version_minor": 0
      },
      "text/plain": [
       "Breeding: 0it [00:00, ?it/s]"
      ]
     },
     "metadata": {},
     "output_type": "display_data"
    },
    {
     "data": {
      "application/vnd.jupyter.widget-view+json": {
       "model_id": "45bab7d2c5544760b7a7f4af5d13384f",
       "version_major": 2,
       "version_minor": 0
      },
      "text/plain": [
       "Breeding: 0it [00:00, ?it/s]"
      ]
     },
     "metadata": {},
     "output_type": "display_data"
    },
    {
     "data": {
      "application/vnd.jupyter.widget-view+json": {
       "model_id": "3cb465be14854635a5061e861900731d",
       "version_major": 2,
       "version_minor": 0
      },
      "text/plain": [
       "Breeding: 0it [00:00, ?it/s]"
      ]
     },
     "metadata": {},
     "output_type": "display_data"
    },
    {
     "data": {
      "application/vnd.jupyter.widget-view+json": {
       "model_id": "558d208455274e788e4abd3c0cfdda97",
       "version_major": 2,
       "version_minor": 0
      },
      "text/plain": [
       "Breeding: 0it [00:00, ?it/s]"
      ]
     },
     "metadata": {},
     "output_type": "display_data"
    },
    {
     "data": {
      "application/vnd.jupyter.widget-view+json": {
       "model_id": "f3d0c0e56d3c407fa64b19f3264780f3",
       "version_major": 2,
       "version_minor": 0
      },
      "text/plain": [
       "Breeding: 0it [00:00, ?it/s]"
      ]
     },
     "metadata": {},
     "output_type": "display_data"
    },
    {
     "data": {
      "application/vnd.jupyter.widget-view+json": {
       "model_id": "aa53e5f92f114f1aac8257a0cb4f249e",
       "version_major": 2,
       "version_minor": 0
      },
      "text/plain": [
       "Breeding: 0it [00:00, ?it/s]"
      ]
     },
     "metadata": {},
     "output_type": "display_data"
    },
    {
     "data": {
      "application/vnd.jupyter.widget-view+json": {
       "model_id": "d35a2671e5ee4477b435a69c96748c9c",
       "version_major": 2,
       "version_minor": 0
      },
      "text/plain": [
       "Breeding: 0it [00:00, ?it/s]"
      ]
     },
     "metadata": {},
     "output_type": "display_data"
    },
    {
     "data": {
      "application/vnd.jupyter.widget-view+json": {
       "model_id": "10d300b6fb524f7c9b2fb016da3e0c9e",
       "version_major": 2,
       "version_minor": 0
      },
      "text/plain": [
       "Breeding: 0it [00:00, ?it/s]"
      ]
     },
     "metadata": {},
     "output_type": "display_data"
    },
    {
     "data": {
      "application/vnd.jupyter.widget-view+json": {
       "model_id": "0b3a689421624541b5b875970ce20590",
       "version_major": 2,
       "version_minor": 0
      },
      "text/plain": [
       "Breeding: 0it [00:00, ?it/s]"
      ]
     },
     "metadata": {},
     "output_type": "display_data"
    },
    {
     "data": {
      "application/vnd.jupyter.widget-view+json": {
       "model_id": "36298c716fb24e9fa9c845d6b07d8386",
       "version_major": 2,
       "version_minor": 0
      },
      "text/plain": [
       "Breeding: 0it [00:00, ?it/s]"
      ]
     },
     "metadata": {},
     "output_type": "display_data"
    },
    {
     "data": {
      "application/vnd.jupyter.widget-view+json": {
       "model_id": "59df083406544a98b27e072ab11ccb04",
       "version_major": 2,
       "version_minor": 0
      },
      "text/plain": [
       "Breeding: 0it [00:00, ?it/s]"
      ]
     },
     "metadata": {},
     "output_type": "display_data"
    },
    {
     "data": {
      "application/vnd.jupyter.widget-view+json": {
       "model_id": "01f9b1b68e0747f39ce5bf24645cafa1",
       "version_major": 2,
       "version_minor": 0
      },
      "text/plain": [
       "Breeding: 0it [00:00, ?it/s]"
      ]
     },
     "metadata": {},
     "output_type": "display_data"
    },
    {
     "data": {
      "application/vnd.jupyter.widget-view+json": {
       "model_id": "12424b802c6f424192d271cc03b41bf3",
       "version_major": 2,
       "version_minor": 0
      },
      "text/plain": [
       "Breeding: 0it [00:00, ?it/s]"
      ]
     },
     "metadata": {},
     "output_type": "display_data"
    },
    {
     "data": {
      "application/vnd.jupyter.widget-view+json": {
       "model_id": "97f0c9c734ab4084936a42e3cb4d7ee5",
       "version_major": 2,
       "version_minor": 0
      },
      "text/plain": [
       "Breeding: 0it [00:00, ?it/s]"
      ]
     },
     "metadata": {},
     "output_type": "display_data"
    },
    {
     "data": {
      "application/vnd.jupyter.widget-view+json": {
       "model_id": "03158c8a49704f26b3d6807aa119f4f4",
       "version_major": 2,
       "version_minor": 0
      },
      "text/plain": [
       "Breeding: 0it [00:00, ?it/s]"
      ]
     },
     "metadata": {},
     "output_type": "display_data"
    },
    {
     "data": {
      "application/vnd.jupyter.widget-view+json": {
       "model_id": "9f97398ced0f4abfabb879f6b14b081b",
       "version_major": 2,
       "version_minor": 0
      },
      "text/plain": [
       "Breeding: 0it [00:00, ?it/s]"
      ]
     },
     "metadata": {},
     "output_type": "display_data"
    },
    {
     "data": {
      "application/vnd.jupyter.widget-view+json": {
       "model_id": "4b1c6a6382dd4726a3c19f3a43e46e2e",
       "version_major": 2,
       "version_minor": 0
      },
      "text/plain": [
       "Breeding: 0it [00:00, ?it/s]"
      ]
     },
     "metadata": {},
     "output_type": "display_data"
    },
    {
     "data": {
      "application/vnd.jupyter.widget-view+json": {
       "model_id": "63131bae31034c609b7412d68a53ed5e",
       "version_major": 2,
       "version_minor": 0
      },
      "text/plain": [
       "Breeding: 0it [00:00, ?it/s]"
      ]
     },
     "metadata": {},
     "output_type": "display_data"
    },
    {
     "data": {
      "application/vnd.jupyter.widget-view+json": {
       "model_id": "fe6e653e094a42f09b85969c01f5dc07",
       "version_major": 2,
       "version_minor": 0
      },
      "text/plain": [
       "Breeding: 0it [00:00, ?it/s]"
      ]
     },
     "metadata": {},
     "output_type": "display_data"
    },
    {
     "data": {
      "application/vnd.jupyter.widget-view+json": {
       "model_id": "95109d0dc45e4057b739b58ec1a13481",
       "version_major": 2,
       "version_minor": 0
      },
      "text/plain": [
       "Breeding: 0it [00:00, ?it/s]"
      ]
     },
     "metadata": {},
     "output_type": "display_data"
    },
    {
     "data": {
      "application/vnd.jupyter.widget-view+json": {
       "model_id": "0f6b3023215043319c92ceeaafe5f8e9",
       "version_major": 2,
       "version_minor": 0
      },
      "text/plain": [
       "Breeding: 0it [00:00, ?it/s]"
      ]
     },
     "metadata": {},
     "output_type": "display_data"
    },
    {
     "data": {
      "application/vnd.jupyter.widget-view+json": {
       "model_id": "64a5523353e74d439963d2aadc9954ed",
       "version_major": 2,
       "version_minor": 0
      },
      "text/plain": [
       "Breeding: 0it [00:00, ?it/s]"
      ]
     },
     "metadata": {},
     "output_type": "display_data"
    },
    {
     "data": {
      "application/vnd.jupyter.widget-view+json": {
       "model_id": "3fd7cc1ef059419c81c0d75515b6cfba",
       "version_major": 2,
       "version_minor": 0
      },
      "text/plain": [
       "Breeding: 0it [00:00, ?it/s]"
      ]
     },
     "metadata": {},
     "output_type": "display_data"
    },
    {
     "data": {
      "application/vnd.jupyter.widget-view+json": {
       "model_id": "91021e1cd79347d6be2c4ed5abaaf33e",
       "version_major": 2,
       "version_minor": 0
      },
      "text/plain": [
       "Breeding: 0it [00:00, ?it/s]"
      ]
     },
     "metadata": {},
     "output_type": "display_data"
    },
    {
     "data": {
      "application/vnd.jupyter.widget-view+json": {
       "model_id": "189f74c9aaca46b7a7650657cba4f80d",
       "version_major": 2,
       "version_minor": 0
      },
      "text/plain": [
       "Breeding: 0it [00:00, ?it/s]"
      ]
     },
     "metadata": {},
     "output_type": "display_data"
    },
    {
     "data": {
      "application/vnd.jupyter.widget-view+json": {
       "model_id": "f5837cbd4f71409aaac9c69c237c414c",
       "version_major": 2,
       "version_minor": 0
      },
      "text/plain": [
       "Breeding: 0it [00:00, ?it/s]"
      ]
     },
     "metadata": {},
     "output_type": "display_data"
    },
    {
     "data": {
      "application/vnd.jupyter.widget-view+json": {
       "model_id": "45757268d7c84af9ad3517eda007b7a2",
       "version_major": 2,
       "version_minor": 0
      },
      "text/plain": [
       "Breeding: 0it [00:00, ?it/s]"
      ]
     },
     "metadata": {},
     "output_type": "display_data"
    },
    {
     "data": {
      "application/vnd.jupyter.widget-view+json": {
       "model_id": "618e1d1062d34109a2e2ec54f4dda03f",
       "version_major": 2,
       "version_minor": 0
      },
      "text/plain": [
       "Breeding: 0it [00:00, ?it/s]"
      ]
     },
     "metadata": {},
     "output_type": "display_data"
    },
    {
     "data": {
      "application/vnd.jupyter.widget-view+json": {
       "model_id": "a448c9a4f1e84b809b67957df0ff6159",
       "version_major": 2,
       "version_minor": 0
      },
      "text/plain": [
       "Breeding: 0it [00:00, ?it/s]"
      ]
     },
     "metadata": {},
     "output_type": "display_data"
    },
    {
     "data": {
      "application/vnd.jupyter.widget-view+json": {
       "model_id": "6e39d5efd1c84afb90a63b7ab0b503ad",
       "version_major": 2,
       "version_minor": 0
      },
      "text/plain": [
       "Breeding: 0it [00:00, ?it/s]"
      ]
     },
     "metadata": {},
     "output_type": "display_data"
    },
    {
     "data": {
      "application/vnd.jupyter.widget-view+json": {
       "model_id": "0e1b1c115a334321b2a880b164cb5e54",
       "version_major": 2,
       "version_minor": 0
      },
      "text/plain": [
       "Evaluating fitness:   0%|          | 0/10 [00:00<?, ?it/s]"
      ]
     },
     "metadata": {},
     "output_type": "display_data"
    },
    {
     "data": {
      "application/vnd.jupyter.widget-view+json": {
       "model_id": "ab36a21caa04443a82ca1b8b0011769e",
       "version_major": 2,
       "version_minor": 0
      },
      "text/plain": [
       "Evaluating fitness:   0%|          | 0/10 [00:00<?, ?it/s]"
      ]
     },
     "metadata": {},
     "output_type": "display_data"
    },
    {
     "data": {
      "application/vnd.jupyter.widget-view+json": {
       "model_id": "9ac9adcd4dbf41969fc37dbaeac807c6",
       "version_major": 2,
       "version_minor": 0
      },
      "text/plain": [
       "Evaluating fitness:   0%|          | 0/10 [00:00<?, ?it/s]"
      ]
     },
     "metadata": {},
     "output_type": "display_data"
    },
    {
     "data": {
      "application/vnd.jupyter.widget-view+json": {
       "model_id": "85b0ca33bf1d4bd3b595cef01d100378",
       "version_major": 2,
       "version_minor": 0
      },
      "text/plain": [
       "Evaluating fitness:   0%|          | 0/10 [00:00<?, ?it/s]"
      ]
     },
     "metadata": {},
     "output_type": "display_data"
    },
    {
     "data": {
      "application/vnd.jupyter.widget-view+json": {
       "model_id": "8111dab13b174e5f900d34798f172db5",
       "version_major": 2,
       "version_minor": 0
      },
      "text/plain": [
       "Evaluating fitness:   0%|          | 0/10 [00:00<?, ?it/s]"
      ]
     },
     "metadata": {},
     "output_type": "display_data"
    },
    {
     "data": {
      "application/vnd.jupyter.widget-view+json": {
       "model_id": "75bad3593d88488b8b44c85c079b5064",
       "version_major": 2,
       "version_minor": 0
      },
      "text/plain": [
       "Evaluating fitness:   0%|          | 0/10 [00:00<?, ?it/s]"
      ]
     },
     "metadata": {},
     "output_type": "display_data"
    },
    {
     "data": {
      "application/vnd.jupyter.widget-view+json": {
       "model_id": "5ca03dcfd8794669b9589d8a61fe3e6a",
       "version_major": 2,
       "version_minor": 0
      },
      "text/plain": [
       "Evaluating fitness:   0%|          | 0/10 [00:00<?, ?it/s]"
      ]
     },
     "metadata": {},
     "output_type": "display_data"
    },
    {
     "data": {
      "application/vnd.jupyter.widget-view+json": {
       "model_id": "5d3f4e0de402414f92ea06406a11d0d9",
       "version_major": 2,
       "version_minor": 0
      },
      "text/plain": [
       "Evaluating fitness:   0%|          | 0/10 [00:00<?, ?it/s]"
      ]
     },
     "metadata": {},
     "output_type": "display_data"
    },
    {
     "data": {
      "application/vnd.jupyter.widget-view+json": {
       "model_id": "f777743899894739b6840498884d7c0c",
       "version_major": 2,
       "version_minor": 0
      },
      "text/plain": [
       "Evaluating fitness:   0%|          | 0/10 [00:00<?, ?it/s]"
      ]
     },
     "metadata": {},
     "output_type": "display_data"
    },
    {
     "data": {
      "application/vnd.jupyter.widget-view+json": {
       "model_id": "3ea7875e74964f07a6048341ea1c7231",
       "version_major": 2,
       "version_minor": 0
      },
      "text/plain": [
       "Evaluating fitness:   0%|          | 0/10 [00:00<?, ?it/s]"
      ]
     },
     "metadata": {},
     "output_type": "display_data"
    },
    {
     "data": {
      "application/vnd.jupyter.widget-view+json": {
       "model_id": "a0bf96bc8fa14079b333e8be64995801",
       "version_major": 2,
       "version_minor": 0
      },
      "text/plain": [
       "Evaluating fitness:   0%|          | 0/10 [00:00<?, ?it/s]"
      ]
     },
     "metadata": {},
     "output_type": "display_data"
    },
    {
     "data": {
      "application/vnd.jupyter.widget-view+json": {
       "model_id": "2c248fb9380e4d81a653f379f1388111",
       "version_major": 2,
       "version_minor": 0
      },
      "text/plain": [
       "Evaluating fitness:   0%|          | 0/10 [00:00<?, ?it/s]"
      ]
     },
     "metadata": {},
     "output_type": "display_data"
    },
    {
     "data": {
      "application/vnd.jupyter.widget-view+json": {
       "model_id": "6b02aa7259d743f0982de1ba6c362d7f",
       "version_major": 2,
       "version_minor": 0
      },
      "text/plain": [
       "Evaluating fitness:   0%|          | 0/10 [00:00<?, ?it/s]"
      ]
     },
     "metadata": {},
     "output_type": "display_data"
    },
    {
     "data": {
      "application/vnd.jupyter.widget-view+json": {
       "model_id": "8fb746698a144d2b8a8bf42d926d6904",
       "version_major": 2,
       "version_minor": 0
      },
      "text/plain": [
       "Evaluating fitness:   0%|          | 0/10 [00:00<?, ?it/s]"
      ]
     },
     "metadata": {},
     "output_type": "display_data"
    },
    {
     "data": {
      "application/vnd.jupyter.widget-view+json": {
       "model_id": "ed38fa77347d420c8e92d163597960ea",
       "version_major": 2,
       "version_minor": 0
      },
      "text/plain": [
       "Evaluating fitness:   0%|          | 0/10 [00:00<?, ?it/s]"
      ]
     },
     "metadata": {},
     "output_type": "display_data"
    },
    {
     "data": {
      "application/vnd.jupyter.widget-view+json": {
       "model_id": "da84cb526d88496f904572f50fff741e",
       "version_major": 2,
       "version_minor": 0
      },
      "text/plain": [
       "Evaluating fitness:   0%|          | 0/10 [00:00<?, ?it/s]"
      ]
     },
     "metadata": {},
     "output_type": "display_data"
    },
    {
     "data": {
      "application/vnd.jupyter.widget-view+json": {
       "model_id": "69e947c2262c406aa63e1d679a4c4dca",
       "version_major": 2,
       "version_minor": 0
      },
      "text/plain": [
       "Evaluating fitness:   0%|          | 0/10 [00:00<?, ?it/s]"
      ]
     },
     "metadata": {},
     "output_type": "display_data"
    },
    {
     "data": {
      "application/vnd.jupyter.widget-view+json": {
       "model_id": "ace29089eb3648e1b3ce05fe4cc61e78",
       "version_major": 2,
       "version_minor": 0
      },
      "text/plain": [
       "Evaluating fitness:   0%|          | 0/10 [00:00<?, ?it/s]"
      ]
     },
     "metadata": {},
     "output_type": "display_data"
    },
    {
     "data": {
      "application/vnd.jupyter.widget-view+json": {
       "model_id": "196239d231114f39aa11c61677c9b5f2",
       "version_major": 2,
       "version_minor": 0
      },
      "text/plain": [
       "Evaluating fitness:   0%|          | 0/10 [00:00<?, ?it/s]"
      ]
     },
     "metadata": {},
     "output_type": "display_data"
    },
    {
     "data": {
      "application/vnd.jupyter.widget-view+json": {
       "model_id": "656e6f747ea74905bd27985a082e9a1f",
       "version_major": 2,
       "version_minor": 0
      },
      "text/plain": [
       "Evaluating fitness:   0%|          | 0/10 [00:00<?, ?it/s]"
      ]
     },
     "metadata": {},
     "output_type": "display_data"
    },
    {
     "data": {
      "application/vnd.jupyter.widget-view+json": {
       "model_id": "c4d14f8e9f474294b43cf58bff9497fb",
       "version_major": 2,
       "version_minor": 0
      },
      "text/plain": [
       "Evaluating fitness:   0%|          | 0/10 [00:00<?, ?it/s]"
      ]
     },
     "metadata": {},
     "output_type": "display_data"
    },
    {
     "data": {
      "application/vnd.jupyter.widget-view+json": {
       "model_id": "dad2967692a944fba69a8f8f0bd46081",
       "version_major": 2,
       "version_minor": 0
      },
      "text/plain": [
       "Evaluating fitness:   0%|          | 0/10 [00:00<?, ?it/s]"
      ]
     },
     "metadata": {},
     "output_type": "display_data"
    },
    {
     "data": {
      "application/vnd.jupyter.widget-view+json": {
       "model_id": "1a026117c5bc49539b382851b12819cf",
       "version_major": 2,
       "version_minor": 0
      },
      "text/plain": [
       "Evaluating fitness:   0%|          | 0/10 [00:00<?, ?it/s]"
      ]
     },
     "metadata": {},
     "output_type": "display_data"
    },
    {
     "data": {
      "application/vnd.jupyter.widget-view+json": {
       "model_id": "cec2e92f8f2f4f5986f59ef767d11450",
       "version_major": 2,
       "version_minor": 0
      },
      "text/plain": [
       "Evaluating fitness:   0%|          | 0/10 [00:00<?, ?it/s]"
      ]
     },
     "metadata": {},
     "output_type": "display_data"
    },
    {
     "data": {
      "application/vnd.jupyter.widget-view+json": {
       "model_id": "29b710a6e22d49a390d3590a4bfa7f72",
       "version_major": 2,
       "version_minor": 0
      },
      "text/plain": [
       "Evaluating fitness:   0%|          | 0/10 [00:00<?, ?it/s]"
      ]
     },
     "metadata": {},
     "output_type": "display_data"
    },
    {
     "data": {
      "application/vnd.jupyter.widget-view+json": {
       "model_id": "bd5f0299ebdf47f490d8123c6e37a9f3",
       "version_major": 2,
       "version_minor": 0
      },
      "text/plain": [
       "Evaluating fitness:   0%|          | 0/10 [00:00<?, ?it/s]"
      ]
     },
     "metadata": {},
     "output_type": "display_data"
    },
    {
     "data": {
      "application/vnd.jupyter.widget-view+json": {
       "model_id": "ac169b62aa2c47fbb9d4145b1f621342",
       "version_major": 2,
       "version_minor": 0
      },
      "text/plain": [
       "Evaluating fitness:   0%|          | 0/10 [00:00<?, ?it/s]"
      ]
     },
     "metadata": {},
     "output_type": "display_data"
    },
    {
     "data": {
      "application/vnd.jupyter.widget-view+json": {
       "model_id": "a60c1deff0c44506b3edc6aa76acbe21",
       "version_major": 2,
       "version_minor": 0
      },
      "text/plain": [
       "Evaluating fitness:   0%|          | 0/10 [00:00<?, ?it/s]"
      ]
     },
     "metadata": {},
     "output_type": "display_data"
    },
    {
     "data": {
      "application/vnd.jupyter.widget-view+json": {
       "model_id": "1d98065722f04f91b81e67485d1a08ac",
       "version_major": 2,
       "version_minor": 0
      },
      "text/plain": [
       "Evaluating fitness:   0%|          | 0/10 [00:00<?, ?it/s]"
      ]
     },
     "metadata": {},
     "output_type": "display_data"
    },
    {
     "data": {
      "application/vnd.jupyter.widget-view+json": {
       "model_id": "d9f6b7b61e6d4680bfbe5f0e85385df8",
       "version_major": 2,
       "version_minor": 0
      },
      "text/plain": [
       "Evaluating fitness:   0%|          | 0/10 [00:00<?, ?it/s]"
      ]
     },
     "metadata": {},
     "output_type": "display_data"
    },
    {
     "data": {
      "application/vnd.jupyter.widget-view+json": {
       "model_id": "b128214a2a4b4d85b53496acd01b8571",
       "version_major": 2,
       "version_minor": 0
      },
      "text/plain": [
       "Evaluating fitness:   0%|          | 0/10 [00:00<?, ?it/s]"
      ]
     },
     "metadata": {},
     "output_type": "display_data"
    },
    {
     "data": {
      "application/vnd.jupyter.widget-view+json": {
       "model_id": "20f9aa625b6b456d8b87b4660bcc3167",
       "version_major": 2,
       "version_minor": 0
      },
      "text/plain": [
       "Evaluating fitness:   0%|          | 0/10 [00:00<?, ?it/s]"
      ]
     },
     "metadata": {},
     "output_type": "display_data"
    },
    {
     "data": {
      "application/vnd.jupyter.widget-view+json": {
       "model_id": "a16e705f79044119b088feff707afd9a",
       "version_major": 2,
       "version_minor": 0
      },
      "text/plain": [
       "Evaluating fitness:   0%|          | 0/10 [00:00<?, ?it/s]"
      ]
     },
     "metadata": {},
     "output_type": "display_data"
    },
    {
     "data": {
      "application/vnd.jupyter.widget-view+json": {
       "model_id": "abee5fc0eca24a1ba2e429d8cca536af",
       "version_major": 2,
       "version_minor": 0
      },
      "text/plain": [
       "Evaluating fitness:   0%|          | 0/10 [00:00<?, ?it/s]"
      ]
     },
     "metadata": {},
     "output_type": "display_data"
    },
    {
     "data": {
      "application/vnd.jupyter.widget-view+json": {
       "model_id": "b6befc840b764008890dcdd29e5a7616",
       "version_major": 2,
       "version_minor": 0
      },
      "text/plain": [
       "Evaluating fitness:   0%|          | 0/10 [00:00<?, ?it/s]"
      ]
     },
     "metadata": {},
     "output_type": "display_data"
    },
    {
     "data": {
      "application/vnd.jupyter.widget-view+json": {
       "model_id": "d963b2d4374140f3928da56d9c436992",
       "version_major": 2,
       "version_minor": 0
      },
      "text/plain": [
       "Evaluating fitness:   0%|          | 0/10 [00:00<?, ?it/s]"
      ]
     },
     "metadata": {},
     "output_type": "display_data"
    },
    {
     "data": {
      "application/vnd.jupyter.widget-view+json": {
       "model_id": "76ae9a17e1ef4a11bd92331a68a3cf3d",
       "version_major": 2,
       "version_minor": 0
      },
      "text/plain": [
       "Evaluating fitness:   0%|          | 0/10 [00:00<?, ?it/s]"
      ]
     },
     "metadata": {},
     "output_type": "display_data"
    },
    {
     "data": {
      "application/vnd.jupyter.widget-view+json": {
       "model_id": "8e37faca41a34516a8a811dfcc3a4d8a",
       "version_major": 2,
       "version_minor": 0
      },
      "text/plain": [
       "Evaluating fitness:   0%|          | 0/10 [00:00<?, ?it/s]"
      ]
     },
     "metadata": {},
     "output_type": "display_data"
    },
    {
     "data": {
      "application/vnd.jupyter.widget-view+json": {
       "model_id": "c496f9914f0149758ef018cb5cf77b49",
       "version_major": 2,
       "version_minor": 0
      },
      "text/plain": [
       "Evaluating fitness:   0%|          | 0/10 [00:00<?, ?it/s]"
      ]
     },
     "metadata": {},
     "output_type": "display_data"
    },
    {
     "data": {
      "application/vnd.jupyter.widget-view+json": {
       "model_id": "e43526c717c64cad91687d665fac6c99",
       "version_major": 2,
       "version_minor": 0
      },
      "text/plain": [
       "Evaluating fitness:   0%|          | 0/10 [00:00<?, ?it/s]"
      ]
     },
     "metadata": {},
     "output_type": "display_data"
    },
    {
     "data": {
      "application/vnd.jupyter.widget-view+json": {
       "model_id": "9eb8ba4ae30c432f800b5039f15f09d4",
       "version_major": 2,
       "version_minor": 0
      },
      "text/plain": [
       "Evaluating fitness:   0%|          | 0/10 [00:00<?, ?it/s]"
      ]
     },
     "metadata": {},
     "output_type": "display_data"
    },
    {
     "data": {
      "application/vnd.jupyter.widget-view+json": {
       "model_id": "3ca0e6ccc7a542a9a84dc32d4d55bc10",
       "version_major": 2,
       "version_minor": 0
      },
      "text/plain": [
       "Evaluating fitness:   0%|          | 0/10 [00:00<?, ?it/s]"
      ]
     },
     "metadata": {},
     "output_type": "display_data"
    },
    {
     "data": {
      "application/vnd.jupyter.widget-view+json": {
       "model_id": "13b7160dbbcb4bd8b23875f16aae93ad",
       "version_major": 2,
       "version_minor": 0
      },
      "text/plain": [
       "Evaluating fitness:   0%|          | 0/10 [00:00<?, ?it/s]"
      ]
     },
     "metadata": {},
     "output_type": "display_data"
    },
    {
     "data": {
      "application/vnd.jupyter.widget-view+json": {
       "model_id": "cb452aceafc9401d97fd1a04c1926977",
       "version_major": 2,
       "version_minor": 0
      },
      "text/plain": [
       "Evaluating fitness:   0%|          | 0/10 [00:00<?, ?it/s]"
      ]
     },
     "metadata": {},
     "output_type": "display_data"
    },
    {
     "data": {
      "application/vnd.jupyter.widget-view+json": {
       "model_id": "c81baf90a1c64979ab604b07538e29f1",
       "version_major": 2,
       "version_minor": 0
      },
      "text/plain": [
       "Evaluating fitness:   0%|          | 0/10 [00:00<?, ?it/s]"
      ]
     },
     "metadata": {},
     "output_type": "display_data"
    },
    {
     "data": {
      "application/vnd.jupyter.widget-view+json": {
       "model_id": "71edaded71104efbae65361c8bf13220",
       "version_major": 2,
       "version_minor": 0
      },
      "text/plain": [
       "Evaluating fitness:   0%|          | 0/10 [00:00<?, ?it/s]"
      ]
     },
     "metadata": {},
     "output_type": "display_data"
    },
    {
     "data": {
      "application/vnd.jupyter.widget-view+json": {
       "model_id": "ee828ea88823447c94399d109202e209",
       "version_major": 2,
       "version_minor": 0
      },
      "text/plain": [
       "Evaluating fitness:   0%|          | 0/10 [00:00<?, ?it/s]"
      ]
     },
     "metadata": {},
     "output_type": "display_data"
    },
    {
     "data": {
      "application/vnd.jupyter.widget-view+json": {
       "model_id": "9fae78da429042d29a9ac18aa2f1800c",
       "version_major": 2,
       "version_minor": 0
      },
      "text/plain": [
       "Evaluating fitness:   0%|          | 0/10 [00:00<?, ?it/s]"
      ]
     },
     "metadata": {},
     "output_type": "display_data"
    },
    {
     "data": {
      "application/vnd.jupyter.widget-view+json": {
       "model_id": "460ce8a3d63b4d469bd9f1c444b9743a",
       "version_major": 2,
       "version_minor": 0
      },
      "text/plain": [
       "Evaluating fitness:   0%|          | 0/10 [00:00<?, ?it/s]"
      ]
     },
     "metadata": {},
     "output_type": "display_data"
    },
    {
     "data": {
      "application/vnd.jupyter.widget-view+json": {
       "model_id": "83ed17aa201940849b5e1d18c0b72006",
       "version_major": 2,
       "version_minor": 0
      },
      "text/plain": [
       "Evaluating fitness:   0%|          | 0/10 [00:00<?, ?it/s]"
      ]
     },
     "metadata": {},
     "output_type": "display_data"
    },
    {
     "data": {
      "application/vnd.jupyter.widget-view+json": {
       "model_id": "2d8259f540a6498b8f150ddf3c9cba7f",
       "version_major": 2,
       "version_minor": 0
      },
      "text/plain": [
       "Breeding: 0it [00:00, ?it/s]"
      ]
     },
     "metadata": {},
     "output_type": "display_data"
    },
    {
     "data": {
      "application/vnd.jupyter.widget-view+json": {
       "model_id": "21a8c38707424f739287759c2e019b7b",
       "version_major": 2,
       "version_minor": 0
      },
      "text/plain": [
       "Breeding: 0it [00:00, ?it/s]"
      ]
     },
     "metadata": {},
     "output_type": "display_data"
    },
    {
     "data": {
      "application/vnd.jupyter.widget-view+json": {
       "model_id": "a57487a3c0e44bff92c811c858b315a8",
       "version_major": 2,
       "version_minor": 0
      },
      "text/plain": [
       "Breeding: 0it [00:00, ?it/s]"
      ]
     },
     "metadata": {},
     "output_type": "display_data"
    },
    {
     "data": {
      "application/vnd.jupyter.widget-view+json": {
       "model_id": "db6a1fd304e148b5b80bfe46669fab8e",
       "version_major": 2,
       "version_minor": 0
      },
      "text/plain": [
       "Breeding: 0it [00:00, ?it/s]"
      ]
     },
     "metadata": {},
     "output_type": "display_data"
    },
    {
     "data": {
      "application/vnd.jupyter.widget-view+json": {
       "model_id": "05f0f198c94c4ddc90fb89d74e84b319",
       "version_major": 2,
       "version_minor": 0
      },
      "text/plain": [
       "Breeding: 0it [00:00, ?it/s]"
      ]
     },
     "metadata": {},
     "output_type": "display_data"
    },
    {
     "data": {
      "application/vnd.jupyter.widget-view+json": {
       "model_id": "3ba02ea71fec4cc08f6b3ee29b2fa8aa",
       "version_major": 2,
       "version_minor": 0
      },
      "text/plain": [
       "Breeding: 0it [00:00, ?it/s]"
      ]
     },
     "metadata": {},
     "output_type": "display_data"
    },
    {
     "data": {
      "application/vnd.jupyter.widget-view+json": {
       "model_id": "7bc131c1ec0b422483ec922975ce3ccc",
       "version_major": 2,
       "version_minor": 0
      },
      "text/plain": [
       "Breeding: 0it [00:00, ?it/s]"
      ]
     },
     "metadata": {},
     "output_type": "display_data"
    },
    {
     "data": {
      "application/vnd.jupyter.widget-view+json": {
       "model_id": "05ecf058d97a4aef8424cb586fc05373",
       "version_major": 2,
       "version_minor": 0
      },
      "text/plain": [
       "Breeding: 0it [00:00, ?it/s]"
      ]
     },
     "metadata": {},
     "output_type": "display_data"
    },
    {
     "data": {
      "application/vnd.jupyter.widget-view+json": {
       "model_id": "3e52f9580782481389b948e0e1effd4b",
       "version_major": 2,
       "version_minor": 0
      },
      "text/plain": [
       "Breeding: 0it [00:00, ?it/s]"
      ]
     },
     "metadata": {},
     "output_type": "display_data"
    },
    {
     "data": {
      "application/vnd.jupyter.widget-view+json": {
       "model_id": "12447dbaba4f465f9326be93e2d5318a",
       "version_major": 2,
       "version_minor": 0
      },
      "text/plain": [
       "Breeding: 0it [00:00, ?it/s]"
      ]
     },
     "metadata": {},
     "output_type": "display_data"
    },
    {
     "data": {
      "application/vnd.jupyter.widget-view+json": {
       "model_id": "3bc853465e2c40dfa9af2b5c11a8cca1",
       "version_major": 2,
       "version_minor": 0
      },
      "text/plain": [
       "Breeding: 0it [00:00, ?it/s]"
      ]
     },
     "metadata": {},
     "output_type": "display_data"
    },
    {
     "data": {
      "application/vnd.jupyter.widget-view+json": {
       "model_id": "47c28fb1afba4621a6f34ab8195edda7",
       "version_major": 2,
       "version_minor": 0
      },
      "text/plain": [
       "Breeding: 0it [00:00, ?it/s]"
      ]
     },
     "metadata": {},
     "output_type": "display_data"
    },
    {
     "data": {
      "application/vnd.jupyter.widget-view+json": {
       "model_id": "e98eb4a4f09542f4a6652038e32caa33",
       "version_major": 2,
       "version_minor": 0
      },
      "text/plain": [
       "Breeding: 0it [00:00, ?it/s]"
      ]
     },
     "metadata": {},
     "output_type": "display_data"
    },
    {
     "data": {
      "application/vnd.jupyter.widget-view+json": {
       "model_id": "9796e7962ab1456b9928370972753bec",
       "version_major": 2,
       "version_minor": 0
      },
      "text/plain": [
       "Breeding: 0it [00:00, ?it/s]"
      ]
     },
     "metadata": {},
     "output_type": "display_data"
    },
    {
     "data": {
      "application/vnd.jupyter.widget-view+json": {
       "model_id": "dd972929c2e94b589063b57647112440",
       "version_major": 2,
       "version_minor": 0
      },
      "text/plain": [
       "Breeding: 0it [00:00, ?it/s]"
      ]
     },
     "metadata": {},
     "output_type": "display_data"
    },
    {
     "data": {
      "application/vnd.jupyter.widget-view+json": {
       "model_id": "87e39ef87ec246038318f817ff99612e",
       "version_major": 2,
       "version_minor": 0
      },
      "text/plain": [
       "Breeding: 0it [00:00, ?it/s]"
      ]
     },
     "metadata": {},
     "output_type": "display_data"
    },
    {
     "data": {
      "application/vnd.jupyter.widget-view+json": {
       "model_id": "fa8d74d8535c49c283d0ef5aeb73c5c9",
       "version_major": 2,
       "version_minor": 0
      },
      "text/plain": [
       "Breeding: 0it [00:00, ?it/s]"
      ]
     },
     "metadata": {},
     "output_type": "display_data"
    },
    {
     "data": {
      "application/vnd.jupyter.widget-view+json": {
       "model_id": "78f6c3f67e9c4c9bbface63a91397af3",
       "version_major": 2,
       "version_minor": 0
      },
      "text/plain": [
       "Breeding: 0it [00:00, ?it/s]"
      ]
     },
     "metadata": {},
     "output_type": "display_data"
    },
    {
     "data": {
      "application/vnd.jupyter.widget-view+json": {
       "model_id": "098b048f71704723a076a29845c9a5ad",
       "version_major": 2,
       "version_minor": 0
      },
      "text/plain": [
       "Breeding: 0it [00:00, ?it/s]"
      ]
     },
     "metadata": {},
     "output_type": "display_data"
    },
    {
     "data": {
      "application/vnd.jupyter.widget-view+json": {
       "model_id": "f18cb18c728f4e00a8a47e64203b7c27",
       "version_major": 2,
       "version_minor": 0
      },
      "text/plain": [
       "Breeding: 0it [00:00, ?it/s]"
      ]
     },
     "metadata": {},
     "output_type": "display_data"
    },
    {
     "data": {
      "application/vnd.jupyter.widget-view+json": {
       "model_id": "fddd1b15a5a444d09a7693b6283a3b1c",
       "version_major": 2,
       "version_minor": 0
      },
      "text/plain": [
       "Breeding: 0it [00:00, ?it/s]"
      ]
     },
     "metadata": {},
     "output_type": "display_data"
    },
    {
     "data": {
      "application/vnd.jupyter.widget-view+json": {
       "model_id": "5852d44ff3384146ac2b47433555a3f2",
       "version_major": 2,
       "version_minor": 0
      },
      "text/plain": [
       "Breeding: 0it [00:00, ?it/s]"
      ]
     },
     "metadata": {},
     "output_type": "display_data"
    },
    {
     "data": {
      "application/vnd.jupyter.widget-view+json": {
       "model_id": "03be96e66f7c4a74aae55c04470a961d",
       "version_major": 2,
       "version_minor": 0
      },
      "text/plain": [
       "Breeding: 0it [00:00, ?it/s]"
      ]
     },
     "metadata": {},
     "output_type": "display_data"
    },
    {
     "data": {
      "application/vnd.jupyter.widget-view+json": {
       "model_id": "ff5714d6f37743539b50cd1add8ec4c8",
       "version_major": 2,
       "version_minor": 0
      },
      "text/plain": [
       "Breeding: 0it [00:00, ?it/s]"
      ]
     },
     "metadata": {},
     "output_type": "display_data"
    },
    {
     "data": {
      "application/vnd.jupyter.widget-view+json": {
       "model_id": "66058bcc242844eab80609ea7f12c01c",
       "version_major": 2,
       "version_minor": 0
      },
      "text/plain": [
       "Breeding: 0it [00:00, ?it/s]"
      ]
     },
     "metadata": {},
     "output_type": "display_data"
    },
    {
     "data": {
      "application/vnd.jupyter.widget-view+json": {
       "model_id": "845b5e4c78314325b2e079b6c3a5b4a2",
       "version_major": 2,
       "version_minor": 0
      },
      "text/plain": [
       "Breeding: 0it [00:00, ?it/s]"
      ]
     },
     "metadata": {},
     "output_type": "display_data"
    },
    {
     "data": {
      "application/vnd.jupyter.widget-view+json": {
       "model_id": "27aea0ef85874fcab88b22360a5ab80d",
       "version_major": 2,
       "version_minor": 0
      },
      "text/plain": [
       "Breeding: 0it [00:00, ?it/s]"
      ]
     },
     "metadata": {},
     "output_type": "display_data"
    },
    {
     "data": {
      "application/vnd.jupyter.widget-view+json": {
       "model_id": "b0b2cba7aa804f05957b645f7282a89a",
       "version_major": 2,
       "version_minor": 0
      },
      "text/plain": [
       "Breeding: 0it [00:00, ?it/s]"
      ]
     },
     "metadata": {},
     "output_type": "display_data"
    },
    {
     "data": {
      "application/vnd.jupyter.widget-view+json": {
       "model_id": "ecd229e3e6e34ab9bd3a122bfdb568d7",
       "version_major": 2,
       "version_minor": 0
      },
      "text/plain": [
       "Breeding: 0it [00:00, ?it/s]"
      ]
     },
     "metadata": {},
     "output_type": "display_data"
    },
    {
     "data": {
      "application/vnd.jupyter.widget-view+json": {
       "model_id": "d7e4b3ab477249fea29e1825725a1e13",
       "version_major": 2,
       "version_minor": 0
      },
      "text/plain": [
       "Breeding: 0it [00:00, ?it/s]"
      ]
     },
     "metadata": {},
     "output_type": "display_data"
    },
    {
     "data": {
      "application/vnd.jupyter.widget-view+json": {
       "model_id": "bf852e6a7bc14b7a9c124bec3f6cf673",
       "version_major": 2,
       "version_minor": 0
      },
      "text/plain": [
       "Breeding: 0it [00:00, ?it/s]"
      ]
     },
     "metadata": {},
     "output_type": "display_data"
    },
    {
     "data": {
      "application/vnd.jupyter.widget-view+json": {
       "model_id": "09754d42ec2844e9a6746d5f6d5db787",
       "version_major": 2,
       "version_minor": 0
      },
      "text/plain": [
       "Breeding: 0it [00:00, ?it/s]"
      ]
     },
     "metadata": {},
     "output_type": "display_data"
    },
    {
     "data": {
      "application/vnd.jupyter.widget-view+json": {
       "model_id": "532db084d1ad4123a958996dee743919",
       "version_major": 2,
       "version_minor": 0
      },
      "text/plain": [
       "Breeding: 0it [00:00, ?it/s]"
      ]
     },
     "metadata": {},
     "output_type": "display_data"
    },
    {
     "data": {
      "application/vnd.jupyter.widget-view+json": {
       "model_id": "bbd39948cea04b909475075d4d0b9b5d",
       "version_major": 2,
       "version_minor": 0
      },
      "text/plain": [
       "Breeding: 0it [00:00, ?it/s]"
      ]
     },
     "metadata": {},
     "output_type": "display_data"
    },
    {
     "data": {
      "application/vnd.jupyter.widget-view+json": {
       "model_id": "617fef666e414e4cba3281c9104b7072",
       "version_major": 2,
       "version_minor": 0
      },
      "text/plain": [
       "Breeding: 0it [00:00, ?it/s]"
      ]
     },
     "metadata": {},
     "output_type": "display_data"
    },
    {
     "data": {
      "application/vnd.jupyter.widget-view+json": {
       "model_id": "8f925d37fcf64207b638fcafd1c68bbd",
       "version_major": 2,
       "version_minor": 0
      },
      "text/plain": [
       "Breeding: 0it [00:00, ?it/s]"
      ]
     },
     "metadata": {},
     "output_type": "display_data"
    },
    {
     "data": {
      "application/vnd.jupyter.widget-view+json": {
       "model_id": "22586d9491474b13a53b0af935c03710",
       "version_major": 2,
       "version_minor": 0
      },
      "text/plain": [
       "Breeding: 0it [00:00, ?it/s]"
      ]
     },
     "metadata": {},
     "output_type": "display_data"
    },
    {
     "data": {
      "application/vnd.jupyter.widget-view+json": {
       "model_id": "5293da128ca94e00910a22b0c561f885",
       "version_major": 2,
       "version_minor": 0
      },
      "text/plain": [
       "Breeding: 0it [00:00, ?it/s]"
      ]
     },
     "metadata": {},
     "output_type": "display_data"
    },
    {
     "data": {
      "application/vnd.jupyter.widget-view+json": {
       "model_id": "a04b728f26aa45148b5b7d2e544801f9",
       "version_major": 2,
       "version_minor": 0
      },
      "text/plain": [
       "Breeding: 0it [00:00, ?it/s]"
      ]
     },
     "metadata": {},
     "output_type": "display_data"
    },
    {
     "data": {
      "application/vnd.jupyter.widget-view+json": {
       "model_id": "d0434af24bc3417b822c5e64c2cd963e",
       "version_major": 2,
       "version_minor": 0
      },
      "text/plain": [
       "Breeding: 0it [00:00, ?it/s]"
      ]
     },
     "metadata": {},
     "output_type": "display_data"
    },
    {
     "data": {
      "application/vnd.jupyter.widget-view+json": {
       "model_id": "5314a479f7dd4f2aa6e5776c6b4a1ac0",
       "version_major": 2,
       "version_minor": 0
      },
      "text/plain": [
       "Breeding: 0it [00:00, ?it/s]"
      ]
     },
     "metadata": {},
     "output_type": "display_data"
    },
    {
     "data": {
      "application/vnd.jupyter.widget-view+json": {
       "model_id": "18b53d0190144609ae15f09a563dc6d1",
       "version_major": 2,
       "version_minor": 0
      },
      "text/plain": [
       "Breeding: 0it [00:00, ?it/s]"
      ]
     },
     "metadata": {},
     "output_type": "display_data"
    },
    {
     "data": {
      "application/vnd.jupyter.widget-view+json": {
       "model_id": "f2d0cb7246e04245879d4b9761ba62a1",
       "version_major": 2,
       "version_minor": 0
      },
      "text/plain": [
       "Breeding: 0it [00:00, ?it/s]"
      ]
     },
     "metadata": {},
     "output_type": "display_data"
    },
    {
     "data": {
      "application/vnd.jupyter.widget-view+json": {
       "model_id": "dfc4f1328c8a46d595b729d66896bef0",
       "version_major": 2,
       "version_minor": 0
      },
      "text/plain": [
       "Breeding: 0it [00:00, ?it/s]"
      ]
     },
     "metadata": {},
     "output_type": "display_data"
    },
    {
     "data": {
      "application/vnd.jupyter.widget-view+json": {
       "model_id": "c0e8e6926fc44a119e9576b4e3d3a112",
       "version_major": 2,
       "version_minor": 0
      },
      "text/plain": [
       "Breeding: 0it [00:00, ?it/s]"
      ]
     },
     "metadata": {},
     "output_type": "display_data"
    },
    {
     "data": {
      "application/vnd.jupyter.widget-view+json": {
       "model_id": "4b3b408ec94f432ba5342ce053087c3e",
       "version_major": 2,
       "version_minor": 0
      },
      "text/plain": [
       "Breeding: 0it [00:00, ?it/s]"
      ]
     },
     "metadata": {},
     "output_type": "display_data"
    },
    {
     "data": {
      "application/vnd.jupyter.widget-view+json": {
       "model_id": "1ee40ca0a7384f36aabdb21abebb3b21",
       "version_major": 2,
       "version_minor": 0
      },
      "text/plain": [
       "Breeding: 0it [00:00, ?it/s]"
      ]
     },
     "metadata": {},
     "output_type": "display_data"
    },
    {
     "data": {
      "application/vnd.jupyter.widget-view+json": {
       "model_id": "8591ad83500f426995b8b316f3227160",
       "version_major": 2,
       "version_minor": 0
      },
      "text/plain": [
       "Breeding: 0it [00:00, ?it/s]"
      ]
     },
     "metadata": {},
     "output_type": "display_data"
    },
    {
     "data": {
      "application/vnd.jupyter.widget-view+json": {
       "model_id": "aa150f092f794610b25287a039775a4c",
       "version_major": 2,
       "version_minor": 0
      },
      "text/plain": [
       "Breeding: 0it [00:00, ?it/s]"
      ]
     },
     "metadata": {},
     "output_type": "display_data"
    },
    {
     "data": {
      "application/vnd.jupyter.widget-view+json": {
       "model_id": "4c36947fc59245ce9494fe3ba56bb420",
       "version_major": 2,
       "version_minor": 0
      },
      "text/plain": [
       "Breeding: 0it [00:00, ?it/s]"
      ]
     },
     "metadata": {},
     "output_type": "display_data"
    },
    {
     "data": {
      "application/vnd.jupyter.widget-view+json": {
       "model_id": "c17e1810341648b8ad27f909a8631ad1",
       "version_major": 2,
       "version_minor": 0
      },
      "text/plain": [
       "Breeding: 0it [00:00, ?it/s]"
      ]
     },
     "metadata": {},
     "output_type": "display_data"
    },
    {
     "data": {
      "application/vnd.jupyter.widget-view+json": {
       "model_id": "02993d47c997495cba66267a5cb9c6c7",
       "version_major": 2,
       "version_minor": 0
      },
      "text/plain": [
       "Evaluating fitness:   0%|          | 0/10 [00:00<?, ?it/s]"
      ]
     },
     "metadata": {},
     "output_type": "display_data"
    },
    {
     "data": {
      "application/vnd.jupyter.widget-view+json": {
       "model_id": "7db38d8c07374208a217eb4d650a00a6",
       "version_major": 2,
       "version_minor": 0
      },
      "text/plain": [
       "Evaluating fitness:   0%|          | 0/10 [00:00<?, ?it/s]"
      ]
     },
     "metadata": {},
     "output_type": "display_data"
    },
    {
     "data": {
      "application/vnd.jupyter.widget-view+json": {
       "model_id": "2a8c5411808e43ad8a40dbc16e9073a7",
       "version_major": 2,
       "version_minor": 0
      },
      "text/plain": [
       "Evaluating fitness:   0%|          | 0/10 [00:00<?, ?it/s]"
      ]
     },
     "metadata": {},
     "output_type": "display_data"
    },
    {
     "data": {
      "application/vnd.jupyter.widget-view+json": {
       "model_id": "19b2077b1ef743c69e14a91eee0d9f7a",
       "version_major": 2,
       "version_minor": 0
      },
      "text/plain": [
       "Evaluating fitness:   0%|          | 0/10 [00:00<?, ?it/s]"
      ]
     },
     "metadata": {},
     "output_type": "display_data"
    },
    {
     "data": {
      "application/vnd.jupyter.widget-view+json": {
       "model_id": "479e836fd7dc4723b1ed743d4f26e9c8",
       "version_major": 2,
       "version_minor": 0
      },
      "text/plain": [
       "Evaluating fitness:   0%|          | 0/10 [00:00<?, ?it/s]"
      ]
     },
     "metadata": {},
     "output_type": "display_data"
    },
    {
     "data": {
      "application/vnd.jupyter.widget-view+json": {
       "model_id": "5adb51649b674b599b9478e495d289a6",
       "version_major": 2,
       "version_minor": 0
      },
      "text/plain": [
       "Evaluating fitness:   0%|          | 0/10 [00:00<?, ?it/s]"
      ]
     },
     "metadata": {},
     "output_type": "display_data"
    },
    {
     "data": {
      "application/vnd.jupyter.widget-view+json": {
       "model_id": "5bb11b0175f049a792e910c4a7534060",
       "version_major": 2,
       "version_minor": 0
      },
      "text/plain": [
       "Evaluating fitness:   0%|          | 0/10 [00:00<?, ?it/s]"
      ]
     },
     "metadata": {},
     "output_type": "display_data"
    },
    {
     "data": {
      "application/vnd.jupyter.widget-view+json": {
       "model_id": "44b4890f8c8c4270bb8413d00d0323ff",
       "version_major": 2,
       "version_minor": 0
      },
      "text/plain": [
       "Evaluating fitness:   0%|          | 0/10 [00:00<?, ?it/s]"
      ]
     },
     "metadata": {},
     "output_type": "display_data"
    },
    {
     "data": {
      "application/vnd.jupyter.widget-view+json": {
       "model_id": "7b55ce9380d14dd4b17fdcffbc9769c4",
       "version_major": 2,
       "version_minor": 0
      },
      "text/plain": [
       "Evaluating fitness:   0%|          | 0/10 [00:00<?, ?it/s]"
      ]
     },
     "metadata": {},
     "output_type": "display_data"
    },
    {
     "data": {
      "application/vnd.jupyter.widget-view+json": {
       "model_id": "c93c533ec2a946cc9a95083e845911c5",
       "version_major": 2,
       "version_minor": 0
      },
      "text/plain": [
       "Evaluating fitness:   0%|          | 0/10 [00:00<?, ?it/s]"
      ]
     },
     "metadata": {},
     "output_type": "display_data"
    },
    {
     "data": {
      "application/vnd.jupyter.widget-view+json": {
       "model_id": "9966a23d309944489b435c295eaf106d",
       "version_major": 2,
       "version_minor": 0
      },
      "text/plain": [
       "Evaluating fitness:   0%|          | 0/10 [00:00<?, ?it/s]"
      ]
     },
     "metadata": {},
     "output_type": "display_data"
    },
    {
     "data": {
      "application/vnd.jupyter.widget-view+json": {
       "model_id": "f83aaaa60890490aac9f5b34ada7fe90",
       "version_major": 2,
       "version_minor": 0
      },
      "text/plain": [
       "Evaluating fitness:   0%|          | 0/10 [00:00<?, ?it/s]"
      ]
     },
     "metadata": {},
     "output_type": "display_data"
    },
    {
     "data": {
      "application/vnd.jupyter.widget-view+json": {
       "model_id": "9e28fa57eb9e4db9b68d43b0688ca1ee",
       "version_major": 2,
       "version_minor": 0
      },
      "text/plain": [
       "Evaluating fitness:   0%|          | 0/10 [00:00<?, ?it/s]"
      ]
     },
     "metadata": {},
     "output_type": "display_data"
    },
    {
     "data": {
      "application/vnd.jupyter.widget-view+json": {
       "model_id": "b9d8c74781ce4dc9b406104ed257b2ab",
       "version_major": 2,
       "version_minor": 0
      },
      "text/plain": [
       "Evaluating fitness:   0%|          | 0/10 [00:00<?, ?it/s]"
      ]
     },
     "metadata": {},
     "output_type": "display_data"
    },
    {
     "data": {
      "application/vnd.jupyter.widget-view+json": {
       "model_id": "8398793cbdf94f23a95a2cf4916797ee",
       "version_major": 2,
       "version_minor": 0
      },
      "text/plain": [
       "Evaluating fitness:   0%|          | 0/10 [00:00<?, ?it/s]"
      ]
     },
     "metadata": {},
     "output_type": "display_data"
    },
    {
     "data": {
      "application/vnd.jupyter.widget-view+json": {
       "model_id": "15a6dbf6636d40c3be8963c758caeda6",
       "version_major": 2,
       "version_minor": 0
      },
      "text/plain": [
       "Evaluating fitness:   0%|          | 0/10 [00:00<?, ?it/s]"
      ]
     },
     "metadata": {},
     "output_type": "display_data"
    },
    {
     "data": {
      "application/vnd.jupyter.widget-view+json": {
       "model_id": "f623e360d35145e1b8d2b0389a7cdac4",
       "version_major": 2,
       "version_minor": 0
      },
      "text/plain": [
       "Evaluating fitness:   0%|          | 0/10 [00:00<?, ?it/s]"
      ]
     },
     "metadata": {},
     "output_type": "display_data"
    },
    {
     "data": {
      "application/vnd.jupyter.widget-view+json": {
       "model_id": "6ee935e9bb9e4a888a1a526729794c8d",
       "version_major": 2,
       "version_minor": 0
      },
      "text/plain": [
       "Evaluating fitness:   0%|          | 0/10 [00:00<?, ?it/s]"
      ]
     },
     "metadata": {},
     "output_type": "display_data"
    },
    {
     "data": {
      "application/vnd.jupyter.widget-view+json": {
       "model_id": "49cf006348894e67881974fdedff18a2",
       "version_major": 2,
       "version_minor": 0
      },
      "text/plain": [
       "Evaluating fitness:   0%|          | 0/10 [00:00<?, ?it/s]"
      ]
     },
     "metadata": {},
     "output_type": "display_data"
    },
    {
     "data": {
      "application/vnd.jupyter.widget-view+json": {
       "model_id": "0370d3a24e8649098973014bac45025c",
       "version_major": 2,
       "version_minor": 0
      },
      "text/plain": [
       "Evaluating fitness:   0%|          | 0/10 [00:00<?, ?it/s]"
      ]
     },
     "metadata": {},
     "output_type": "display_data"
    },
    {
     "data": {
      "application/vnd.jupyter.widget-view+json": {
       "model_id": "f210f2ac14d141c38505cd7c2d9e66a3",
       "version_major": 2,
       "version_minor": 0
      },
      "text/plain": [
       "Evaluating fitness:   0%|          | 0/10 [00:00<?, ?it/s]"
      ]
     },
     "metadata": {},
     "output_type": "display_data"
    },
    {
     "data": {
      "application/vnd.jupyter.widget-view+json": {
       "model_id": "48703121b0f04975a54ede3753006a1d",
       "version_major": 2,
       "version_minor": 0
      },
      "text/plain": [
       "Evaluating fitness:   0%|          | 0/10 [00:00<?, ?it/s]"
      ]
     },
     "metadata": {},
     "output_type": "display_data"
    },
    {
     "data": {
      "application/vnd.jupyter.widget-view+json": {
       "model_id": "b4f4c25444dd426daaf6201d55354e67",
       "version_major": 2,
       "version_minor": 0
      },
      "text/plain": [
       "Evaluating fitness:   0%|          | 0/10 [00:00<?, ?it/s]"
      ]
     },
     "metadata": {},
     "output_type": "display_data"
    },
    {
     "data": {
      "application/vnd.jupyter.widget-view+json": {
       "model_id": "fb596522c13945c48472ac7e05a7db37",
       "version_major": 2,
       "version_minor": 0
      },
      "text/plain": [
       "Evaluating fitness:   0%|          | 0/10 [00:00<?, ?it/s]"
      ]
     },
     "metadata": {},
     "output_type": "display_data"
    },
    {
     "data": {
      "application/vnd.jupyter.widget-view+json": {
       "model_id": "73c9927825f846558f95304b84dea84e",
       "version_major": 2,
       "version_minor": 0
      },
      "text/plain": [
       "Evaluating fitness:   0%|          | 0/10 [00:00<?, ?it/s]"
      ]
     },
     "metadata": {},
     "output_type": "display_data"
    },
    {
     "data": {
      "application/vnd.jupyter.widget-view+json": {
       "model_id": "b7f88b014db94cbda8a21282633d7c5a",
       "version_major": 2,
       "version_minor": 0
      },
      "text/plain": [
       "Evaluating fitness:   0%|          | 0/10 [00:00<?, ?it/s]"
      ]
     },
     "metadata": {},
     "output_type": "display_data"
    },
    {
     "data": {
      "application/vnd.jupyter.widget-view+json": {
       "model_id": "1d3dfb4f3eb54a9385dafe5a894fcb53",
       "version_major": 2,
       "version_minor": 0
      },
      "text/plain": [
       "Evaluating fitness:   0%|          | 0/10 [00:00<?, ?it/s]"
      ]
     },
     "metadata": {},
     "output_type": "display_data"
    },
    {
     "data": {
      "application/vnd.jupyter.widget-view+json": {
       "model_id": "bf3c12f094a4487cb849e1d1c74193a2",
       "version_major": 2,
       "version_minor": 0
      },
      "text/plain": [
       "Evaluating fitness:   0%|          | 0/10 [00:00<?, ?it/s]"
      ]
     },
     "metadata": {},
     "output_type": "display_data"
    },
    {
     "data": {
      "application/vnd.jupyter.widget-view+json": {
       "model_id": "a4faaef09dcf44eba27fa0c58e6215ca",
       "version_major": 2,
       "version_minor": 0
      },
      "text/plain": [
       "Evaluating fitness:   0%|          | 0/10 [00:00<?, ?it/s]"
      ]
     },
     "metadata": {},
     "output_type": "display_data"
    },
    {
     "data": {
      "application/vnd.jupyter.widget-view+json": {
       "model_id": "27a53550f9044f4380ab65fe12749a53",
       "version_major": 2,
       "version_minor": 0
      },
      "text/plain": [
       "Evaluating fitness:   0%|          | 0/10 [00:00<?, ?it/s]"
      ]
     },
     "metadata": {},
     "output_type": "display_data"
    },
    {
     "data": {
      "application/vnd.jupyter.widget-view+json": {
       "model_id": "a3f3376f743948e08641b9add24d3848",
       "version_major": 2,
       "version_minor": 0
      },
      "text/plain": [
       "Evaluating fitness:   0%|          | 0/10 [00:00<?, ?it/s]"
      ]
     },
     "metadata": {},
     "output_type": "display_data"
    },
    {
     "data": {
      "application/vnd.jupyter.widget-view+json": {
       "model_id": "0936d11b0c4346619040bfea566f1e52",
       "version_major": 2,
       "version_minor": 0
      },
      "text/plain": [
       "Evaluating fitness:   0%|          | 0/10 [00:00<?, ?it/s]"
      ]
     },
     "metadata": {},
     "output_type": "display_data"
    },
    {
     "data": {
      "application/vnd.jupyter.widget-view+json": {
       "model_id": "02349fde3a0f46d784670bee2f5d0963",
       "version_major": 2,
       "version_minor": 0
      },
      "text/plain": [
       "Evaluating fitness:   0%|          | 0/10 [00:00<?, ?it/s]"
      ]
     },
     "metadata": {},
     "output_type": "display_data"
    },
    {
     "data": {
      "application/vnd.jupyter.widget-view+json": {
       "model_id": "baa23b30e2964f0f8c649c76c7755c1e",
       "version_major": 2,
       "version_minor": 0
      },
      "text/plain": [
       "Evaluating fitness:   0%|          | 0/10 [00:00<?, ?it/s]"
      ]
     },
     "metadata": {},
     "output_type": "display_data"
    },
    {
     "data": {
      "application/vnd.jupyter.widget-view+json": {
       "model_id": "7cbba7208fc14db0896fc95e06b7fafe",
       "version_major": 2,
       "version_minor": 0
      },
      "text/plain": [
       "Evaluating fitness:   0%|          | 0/10 [00:00<?, ?it/s]"
      ]
     },
     "metadata": {},
     "output_type": "display_data"
    },
    {
     "data": {
      "application/vnd.jupyter.widget-view+json": {
       "model_id": "05b2e87119434c55b5958550655ba7a2",
       "version_major": 2,
       "version_minor": 0
      },
      "text/plain": [
       "Evaluating fitness:   0%|          | 0/10 [00:00<?, ?it/s]"
      ]
     },
     "metadata": {},
     "output_type": "display_data"
    },
    {
     "data": {
      "application/vnd.jupyter.widget-view+json": {
       "model_id": "405eb989d5dc485094d78d6dfd6613f5",
       "version_major": 2,
       "version_minor": 0
      },
      "text/plain": [
       "Evaluating fitness:   0%|          | 0/10 [00:00<?, ?it/s]"
      ]
     },
     "metadata": {},
     "output_type": "display_data"
    },
    {
     "data": {
      "application/vnd.jupyter.widget-view+json": {
       "model_id": "0c4675336e984598bb108a4a077be071",
       "version_major": 2,
       "version_minor": 0
      },
      "text/plain": [
       "Evaluating fitness:   0%|          | 0/10 [00:00<?, ?it/s]"
      ]
     },
     "metadata": {},
     "output_type": "display_data"
    },
    {
     "data": {
      "application/vnd.jupyter.widget-view+json": {
       "model_id": "0fb6ad68f36e4fe2bb05cde8062d9bf6",
       "version_major": 2,
       "version_minor": 0
      },
      "text/plain": [
       "Evaluating fitness:   0%|          | 0/10 [00:00<?, ?it/s]"
      ]
     },
     "metadata": {},
     "output_type": "display_data"
    },
    {
     "data": {
      "application/vnd.jupyter.widget-view+json": {
       "model_id": "448f6238a13a44388d2b572f581ee7f1",
       "version_major": 2,
       "version_minor": 0
      },
      "text/plain": [
       "Evaluating fitness:   0%|          | 0/10 [00:00<?, ?it/s]"
      ]
     },
     "metadata": {},
     "output_type": "display_data"
    },
    {
     "data": {
      "application/vnd.jupyter.widget-view+json": {
       "model_id": "cb96c2d04d9b4fa0996230438d0011b0",
       "version_major": 2,
       "version_minor": 0
      },
      "text/plain": [
       "Evaluating fitness:   0%|          | 0/10 [00:00<?, ?it/s]"
      ]
     },
     "metadata": {},
     "output_type": "display_data"
    },
    {
     "data": {
      "application/vnd.jupyter.widget-view+json": {
       "model_id": "eef74205a27642d2a6710f7309e791e9",
       "version_major": 2,
       "version_minor": 0
      },
      "text/plain": [
       "Evaluating fitness:   0%|          | 0/10 [00:00<?, ?it/s]"
      ]
     },
     "metadata": {},
     "output_type": "display_data"
    },
    {
     "data": {
      "application/vnd.jupyter.widget-view+json": {
       "model_id": "5d0a613fdeec4234a22de489e26c14ec",
       "version_major": 2,
       "version_minor": 0
      },
      "text/plain": [
       "Evaluating fitness:   0%|          | 0/10 [00:00<?, ?it/s]"
      ]
     },
     "metadata": {},
     "output_type": "display_data"
    },
    {
     "data": {
      "application/vnd.jupyter.widget-view+json": {
       "model_id": "f735035f143f41c7bd05620446b080d1",
       "version_major": 2,
       "version_minor": 0
      },
      "text/plain": [
       "Evaluating fitness:   0%|          | 0/10 [00:00<?, ?it/s]"
      ]
     },
     "metadata": {},
     "output_type": "display_data"
    },
    {
     "data": {
      "application/vnd.jupyter.widget-view+json": {
       "model_id": "d0f77864bf37413aaddc8d832954212c",
       "version_major": 2,
       "version_minor": 0
      },
      "text/plain": [
       "Evaluating fitness:   0%|          | 0/10 [00:00<?, ?it/s]"
      ]
     },
     "metadata": {},
     "output_type": "display_data"
    },
    {
     "data": {
      "application/vnd.jupyter.widget-view+json": {
       "model_id": "42d657cd37604f988e9b4885d1919fd8",
       "version_major": 2,
       "version_minor": 0
      },
      "text/plain": [
       "Evaluating fitness:   0%|          | 0/10 [00:00<?, ?it/s]"
      ]
     },
     "metadata": {},
     "output_type": "display_data"
    },
    {
     "data": {
      "application/vnd.jupyter.widget-view+json": {
       "model_id": "141b576addf64fce8f99bb01bd8fd5ad",
       "version_major": 2,
       "version_minor": 0
      },
      "text/plain": [
       "Evaluating fitness:   0%|          | 0/10 [00:00<?, ?it/s]"
      ]
     },
     "metadata": {},
     "output_type": "display_data"
    },
    {
     "data": {
      "application/vnd.jupyter.widget-view+json": {
       "model_id": "de64200db303493eb38798bf9fe33674",
       "version_major": 2,
       "version_minor": 0
      },
      "text/plain": [
       "Evaluating fitness:   0%|          | 0/10 [00:00<?, ?it/s]"
      ]
     },
     "metadata": {},
     "output_type": "display_data"
    },
    {
     "data": {
      "application/vnd.jupyter.widget-view+json": {
       "model_id": "4da5285c2d004322841dc686088539f6",
       "version_major": 2,
       "version_minor": 0
      },
      "text/plain": [
       "Evaluating fitness:   0%|          | 0/10 [00:00<?, ?it/s]"
      ]
     },
     "metadata": {},
     "output_type": "display_data"
    },
    {
     "data": {
      "application/vnd.jupyter.widget-view+json": {
       "model_id": "7af6b2c377a34e7d93fc845b820a224c",
       "version_major": 2,
       "version_minor": 0
      },
      "text/plain": [
       "Evaluating fitness:   0%|          | 0/10 [00:00<?, ?it/s]"
      ]
     },
     "metadata": {},
     "output_type": "display_data"
    },
    {
     "data": {
      "application/vnd.jupyter.widget-view+json": {
       "model_id": "58844c0131ad4aa79a6dd7479cdd88bf",
       "version_major": 2,
       "version_minor": 0
      },
      "text/plain": [
       "Breeding: 0it [00:00, ?it/s]"
      ]
     },
     "metadata": {},
     "output_type": "display_data"
    },
    {
     "data": {
      "application/vnd.jupyter.widget-view+json": {
       "model_id": "4d1de7575af841cc89bff5ba02c0d68f",
       "version_major": 2,
       "version_minor": 0
      },
      "text/plain": [
       "Breeding: 0it [00:00, ?it/s]"
      ]
     },
     "metadata": {},
     "output_type": "display_data"
    },
    {
     "data": {
      "application/vnd.jupyter.widget-view+json": {
       "model_id": "7c6ba36bc3834022874a0c4ec0caa6f2",
       "version_major": 2,
       "version_minor": 0
      },
      "text/plain": [
       "Breeding: 0it [00:00, ?it/s]"
      ]
     },
     "metadata": {},
     "output_type": "display_data"
    },
    {
     "data": {
      "application/vnd.jupyter.widget-view+json": {
       "model_id": "afc3f9a61deb42edb9fa3972a0232c08",
       "version_major": 2,
       "version_minor": 0
      },
      "text/plain": [
       "Breeding: 0it [00:00, ?it/s]"
      ]
     },
     "metadata": {},
     "output_type": "display_data"
    },
    {
     "ename": "KeyboardInterrupt",
     "evalue": "",
     "output_type": "error",
     "traceback": [
      "\u001b[1;31m---------------------------------------------------------------------------\u001b[0m",
      "\u001b[1;31mKeyboardInterrupt\u001b[0m                         Traceback (most recent call last)",
      "\u001b[1;32m~\\AppData\\Local\\Temp\\ipykernel_2348\\520728748.py\u001b[0m in \u001b[0;36m<module>\u001b[1;34m\u001b[0m\n\u001b[1;32m----> 1\u001b[1;33m \u001b[0mgs\u001b[0m\u001b[1;33m.\u001b[0m\u001b[0massign_processes\u001b[0m\u001b[1;33m(\u001b[0m\u001b[0mprocesses\u001b[0m\u001b[1;33m,\u001b[0m \u001b[0mservers\u001b[0m\u001b[1;33m,\u001b[0m \u001b[0mpopulation_size\u001b[0m\u001b[1;33m=\u001b[0m\u001b[1;36m50\u001b[0m\u001b[1;33m)\u001b[0m\u001b[1;33m\u001b[0m\u001b[1;33m\u001b[0m\u001b[0m\n\u001b[0m",
      "\u001b[1;32m~\\Desktop\\AILEC3\\Code\\GeneticSuite.ipynb\u001b[0m in \u001b[0;36massign_processes\u001b[1;34m(processes, servers, population_size, n_iter)\u001b[0m\n",
      "\u001b[1;32m~\\Desktop\\AILEC3\\Code\\GeneticSuite.ipynb\u001b[0m in \u001b[0;36mcreate_offspring\u001b[1;34m(fittest, population_size)\u001b[0m\n",
      "\u001b[1;32m~\\Desktop\\AILEC3\\Code\\GeneticSuite.ipynb\u001b[0m in \u001b[0;36mbreed\u001b[1;34m(parent1, parent2)\u001b[0m\n",
      "\u001b[1;32m~\\anaconda3\\lib\\random.py\u001b[0m in \u001b[0;36mshuffle\u001b[1;34m(self, x, random)\u001b[0m\n\u001b[0;32m    359\u001b[0m             \u001b[1;32mfor\u001b[0m \u001b[0mi\u001b[0m \u001b[1;32min\u001b[0m \u001b[0mreversed\u001b[0m\u001b[1;33m(\u001b[0m\u001b[0mrange\u001b[0m\u001b[1;33m(\u001b[0m\u001b[1;36m1\u001b[0m\u001b[1;33m,\u001b[0m \u001b[0mlen\u001b[0m\u001b[1;33m(\u001b[0m\u001b[0mx\u001b[0m\u001b[1;33m)\u001b[0m\u001b[1;33m)\u001b[0m\u001b[1;33m)\u001b[0m\u001b[1;33m:\u001b[0m\u001b[1;33m\u001b[0m\u001b[1;33m\u001b[0m\u001b[0m\n\u001b[0;32m    360\u001b[0m                 \u001b[1;31m# pick an element in x[:i+1] with which to exchange x[i]\u001b[0m\u001b[1;33m\u001b[0m\u001b[1;33m\u001b[0m\u001b[0m\n\u001b[1;32m--> 361\u001b[1;33m                 \u001b[0mj\u001b[0m \u001b[1;33m=\u001b[0m \u001b[0mrandbelow\u001b[0m\u001b[1;33m(\u001b[0m\u001b[0mi\u001b[0m \u001b[1;33m+\u001b[0m \u001b[1;36m1\u001b[0m\u001b[1;33m)\u001b[0m\u001b[1;33m\u001b[0m\u001b[1;33m\u001b[0m\u001b[0m\n\u001b[0m\u001b[0;32m    362\u001b[0m                 \u001b[0mx\u001b[0m\u001b[1;33m[\u001b[0m\u001b[0mi\u001b[0m\u001b[1;33m]\u001b[0m\u001b[1;33m,\u001b[0m \u001b[0mx\u001b[0m\u001b[1;33m[\u001b[0m\u001b[0mj\u001b[0m\u001b[1;33m]\u001b[0m \u001b[1;33m=\u001b[0m \u001b[0mx\u001b[0m\u001b[1;33m[\u001b[0m\u001b[0mj\u001b[0m\u001b[1;33m]\u001b[0m\u001b[1;33m,\u001b[0m \u001b[0mx\u001b[0m\u001b[1;33m[\u001b[0m\u001b[0mi\u001b[0m\u001b[1;33m]\u001b[0m\u001b[1;33m\u001b[0m\u001b[1;33m\u001b[0m\u001b[0m\n\u001b[0;32m    363\u001b[0m         \u001b[1;32melse\u001b[0m\u001b[1;33m:\u001b[0m\u001b[1;33m\u001b[0m\u001b[1;33m\u001b[0m\u001b[0m\n",
      "\u001b[1;32m~\\anaconda3\\lib\\random.py\u001b[0m in \u001b[0;36m_randbelow_with_getrandbits\u001b[1;34m(self, n)\u001b[0m\n\u001b[0;32m    244\u001b[0m         \u001b[0mr\u001b[0m \u001b[1;33m=\u001b[0m \u001b[0mgetrandbits\u001b[0m\u001b[1;33m(\u001b[0m\u001b[0mk\u001b[0m\u001b[1;33m)\u001b[0m  \u001b[1;31m# 0 <= r < 2**k\u001b[0m\u001b[1;33m\u001b[0m\u001b[1;33m\u001b[0m\u001b[0m\n\u001b[0;32m    245\u001b[0m         \u001b[1;32mwhile\u001b[0m \u001b[0mr\u001b[0m \u001b[1;33m>=\u001b[0m \u001b[0mn\u001b[0m\u001b[1;33m:\u001b[0m\u001b[1;33m\u001b[0m\u001b[1;33m\u001b[0m\u001b[0m\n\u001b[1;32m--> 246\u001b[1;33m             \u001b[0mr\u001b[0m \u001b[1;33m=\u001b[0m \u001b[0mgetrandbits\u001b[0m\u001b[1;33m(\u001b[0m\u001b[0mk\u001b[0m\u001b[1;33m)\u001b[0m\u001b[1;33m\u001b[0m\u001b[1;33m\u001b[0m\u001b[0m\n\u001b[0m\u001b[0;32m    247\u001b[0m         \u001b[1;32mreturn\u001b[0m \u001b[0mr\u001b[0m\u001b[1;33m\u001b[0m\u001b[1;33m\u001b[0m\u001b[0m\n\u001b[0;32m    248\u001b[0m \u001b[1;33m\u001b[0m\u001b[0m\n",
      "\u001b[1;31mKeyboardInterrupt\u001b[0m: "
     ]
    }
   ],
   "source": [
    "gs.assign_processes(processes, servers, population_size=50)"
   ]
  },
  {
   "cell_type": "code",
   "execution_count": null,
   "id": "f360ad01",
   "metadata": {},
   "outputs": [],
   "source": []
  }
 ],
 "metadata": {
  "kernelspec": {
   "display_name": "Python 3 (ipykernel)",
   "language": "python",
   "name": "python3"
  },
  "language_info": {
   "codemirror_mode": {
    "name": "ipython",
    "version": 3
   },
   "file_extension": ".py",
   "mimetype": "text/x-python",
   "name": "python",
   "nbconvert_exporter": "python",
   "pygments_lexer": "ipython3",
   "version": "3.9.13"
  }
 },
 "nbformat": 4,
 "nbformat_minor": 5
}
