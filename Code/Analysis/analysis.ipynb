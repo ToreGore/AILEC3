{
 "cells": [
  {
   "cell_type": "code",
   "execution_count": 5,
   "metadata": {},
   "outputs": [
    {
     "data": {
      "text/plain": [
       "'c:\\\\Users\\\\Ettore\\\\Desktop\\\\AILEC3\\\\Code\\\\Analysis'"
      ]
     },
     "execution_count": 5,
     "metadata": {},
     "output_type": "execute_result"
    }
   ],
   "source": [
    "import os\n",
    "import json\n",
    "import numpy as np\n",
    "\n",
    "os.getcwd()"
   ]
  },
  {
   "cell_type": "code",
   "execution_count": 6,
   "metadata": {},
   "outputs": [],
   "source": [
    "def magnitude(vector):\n",
    "    return np.sqrt(np.sum(np.square(vector)))"
   ]
  },
  {
   "cell_type": "code",
   "execution_count": 11,
   "metadata": {},
   "outputs": [],
   "source": [
    "def average_fitnesses_analysis(folder):\n",
    "    paths = [f\"{folder}/best_fitness_{i}.json\" for i in range(10)]\n",
    "    all_fitnesses = []\n",
    "    for path in paths:\n",
    "        with open(path, \"r\") as f:\n",
    "            fitnesses = json.loads(f.read())\n",
    "        fitnesses = [magnitude(fitness) for fitness in fitnesses]\n",
    "        all_fitnesses.append(fitnesses)\n",
    "    all_fitnesses = np.array(all_fitnesses)\n",
    "    average_fitnesses = np.average(all_fitnesses, axis=0)\n",
    "    return average_fitnesses"
   ]
  },
  {
   "cell_type": "code",
   "execution_count": 20,
   "metadata": {},
   "outputs": [
    {
     "data": {
      "text/plain": [
       "((231, 1.2238762928404852), (2, 1.2440477202603324))"
      ]
     },
     "execution_count": 20,
     "metadata": {},
     "output_type": "execute_result"
    },
    {
     "ename": "",
     "evalue": "",
     "output_type": "error",
     "traceback": [
      "\u001b[1;31mThe Kernel crashed while executing code in the the current cell or a previous cell. Please review the code in the cell(s) to identify a possible cause of the failure. Click <a href='https://aka.ms/vscodeJupyterKernelCrash'>here</a> for more info. View Jupyter <a href='command:jupyter.viewOutput'>log</a> for further details."
     ]
    }
   ],
   "source": [
    "avg = average_fitnesses_analysis(\"../Genetic/results/baseline\")\n",
    "(avg.tolist().index(min(avg)), min(avg)), (avg.tolist().index(max(avg)), max(avg))"
   ]
  },
  {
   "cell_type": "code",
   "execution_count": null,
   "metadata": {},
   "outputs": [],
   "source": []
  }
 ],
 "metadata": {
  "kernelspec": {
   "display_name": "Python 3",
   "language": "python",
   "name": "python3"
  },
  "language_info": {
   "codemirror_mode": {
    "name": "ipython",
    "version": 3
   },
   "file_extension": ".py",
   "mimetype": "text/x-python",
   "name": "python",
   "nbconvert_exporter": "python",
   "pygments_lexer": "ipython3",
   "version": "3.6.7"
  },
  "orig_nbformat": 4,
  "vscode": {
   "interpreter": {
    "hash": "912596e0d5ecb2df87544ef1170cf819985134fa9921897eac69bda7a0613b58"
   }
  }
 },
 "nbformat": 4,
 "nbformat_minor": 2
}
