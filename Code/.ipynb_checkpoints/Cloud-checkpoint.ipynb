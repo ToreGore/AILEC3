{
 "cells": [
  {
   "cell_type": "code",
   "execution_count": 1,
   "id": "0a686c6b",
   "metadata": {},
   "outputs": [],
   "source": [
    "import numpy as np"
   ]
  },
  {
   "cell_type": "code",
   "execution_count": 1,
   "id": "f1018dcc",
   "metadata": {},
   "outputs": [],
   "source": [
    "class Server:\n",
    "    def __init__(self, name, cpu_speed, cores):\n",
    "        self.name = name\n",
    "        self.cpu_speed = cpu_speed # Measured in gigahertz\n",
    "        self.cores = cores\n",
    "        self.workload = []\n",
    "    def toArray(self):\n",
    "        return np.asarray([self.cpu_speed, self.cores, self.workload])\n",
    "    def __repr__(self):\n",
    "        return \"Server: {0}\\n\\tNumber of Cores: {1}\\n\\tCore Speed: {2}\".format(self.name,\n",
    "                                                                               self.cores,\n",
    "                                                                               self.cpu_speed)"
   ]
  },
  {
   "cell_type": "code",
   "execution_count": 2,
   "id": "efe23ea3",
   "metadata": {},
   "outputs": [],
   "source": [
    "class Process:\n",
    "    def __init__(self, pid, process_length):\n",
    "        self.pid = pid\n",
    "        self.process_length = process_length # Number of clock cycles to complete the process, it's scaled to fit the gigahertz of the server\n",
    "    def __repr__(self):\n",
    "        return \"PID: {0}\\n\\tLength of process: {1} instructions\".format(self.pid, self.process_length)"
   ]
  },
  {
   "cell_type": "code",
   "execution_count": null,
   "id": "8d86ae1d",
   "metadata": {},
   "outputs": [],
   "source": []
  }
 ],
 "metadata": {
  "kernelspec": {
   "display_name": "Python 3 (ipykernel)",
   "language": "python",
   "name": "python3"
  },
  "language_info": {
   "codemirror_mode": {
    "name": "ipython",
    "version": 3
   },
   "file_extension": ".py",
   "mimetype": "text/x-python",
   "name": "python",
   "nbconvert_exporter": "python",
   "pygments_lexer": "ipython3",
   "version": "3.9.12"
  }
 },
 "nbformat": 4,
 "nbformat_minor": 5
}
