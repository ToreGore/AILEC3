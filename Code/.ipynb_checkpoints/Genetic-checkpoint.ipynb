{
 "cells": [
  {
   "cell_type": "code",
   "execution_count": 149,
   "id": "79dfea5c",
   "metadata": {},
   "outputs": [],
   "source": [
    "import import_ipynb\n",
    "import itertools\n",
    "\n",
    "import random as rnd\n",
    "import Cloud as cld\n",
    "import numpy as np\n",
    "import copy\n",
    "\n",
    "from tqdm.notebook import tqdm\n",
    "from pprint import pprint"
   ]
  },
  {
   "cell_type": "code",
   "execution_count": 4,
   "id": "f892dc8e",
   "metadata": {},
   "outputs": [],
   "source": [
    "def shuffle(lst):\n",
    "    arr = lst\n",
    "    # Get length of List\n",
    "    n = len(arr)\n",
    "    #repeat the following for n number of times\n",
    "    for i in range(n):\n",
    "        #select an index randomly\n",
    "        j = rnd.randint(0, n-1)\n",
    "        #delete the element at that index.\n",
    "        element=arr.pop(j)\n",
    "        #now append that deleted element to the list\n",
    "        arr.append(element)\n",
    "    return arr"
   ]
  },
  {
   "cell_type": "code",
   "execution_count": 63,
   "id": "461b7875",
   "metadata": {},
   "outputs": [],
   "source": [
    "def array_split(lst, num_chunks):\n",
    "    if num_chunks > len(lst):\n",
    "        return lst\n",
    "    assert(num_chunks > 0)\n",
    "    # Chunk length\n",
    "    i = len(lst) // num_chunks\n",
    "    #print(i)\n",
    "    l = [lst[k*i:(k+1)*i] for k in range(num_chunks-1)]\n",
    "    l.append(lst[i*(num_chunks-1):])\n",
    "    return l"
   ]
  },
  {
   "cell_type": "code",
   "execution_count": 62,
   "id": "bec2562a",
   "metadata": {},
   "outputs": [
    {
     "name": "stdout",
     "output_type": "stream",
     "text": [
      "1 :  [[1, 2, 3, 4, 5, 6, 7, 8, 9, 0]]\n",
      "[array([1, 2, 3, 4, 5, 6, 7, 8, 9, 0])] \n",
      "\n",
      "2 :  [[1, 2, 3, 4, 5], [6, 7, 8, 9, 0]]\n",
      "[array([1, 2, 3, 4, 5]), array([6, 7, 8, 9, 0])] \n",
      "\n",
      "3 :  [[1, 2, 3], [4, 5, 6], [7, 8, 9, 0]]\n",
      "[array([1, 2, 3, 4]), array([5, 6, 7]), array([8, 9, 0])] \n",
      "\n",
      "4 :  [[1, 2], [3, 4], [5, 6], [7, 8, 9, 0]]\n",
      "[array([1, 2, 3]), array([4, 5, 6]), array([7, 8]), array([9, 0])] \n",
      "\n",
      "5 :  [[1, 2], [3, 4], [5, 6], [7, 8], [9, 0]]\n",
      "[array([1, 2]), array([3, 4]), array([5, 6]), array([7, 8]), array([9, 0])] \n",
      "\n",
      "6 :  [[1], [2], [3], [4], [5], [6, 7, 8, 9, 0]]\n",
      "[array([1, 2]), array([3, 4]), array([5, 6]), array([7, 8]), array([9]), array([0])] \n",
      "\n",
      "7 :  [[1], [2], [3], [4], [5], [6], [7, 8, 9, 0]]\n",
      "[array([1, 2]), array([3, 4]), array([5, 6]), array([7]), array([8]), array([9]), array([0])] \n",
      "\n",
      "8 :  [[1], [2], [3], [4], [5], [6], [7], [8, 9, 0]]\n",
      "[array([1, 2]), array([3, 4]), array([5]), array([6]), array([7]), array([8]), array([9]), array([0])] \n",
      "\n",
      "9 :  [[1], [2], [3], [4], [5], [6], [7], [8], [9, 0]]\n",
      "[array([1, 2]), array([3]), array([4]), array([5]), array([6]), array([7]), array([8]), array([9]), array([0])] \n",
      "\n"
     ]
    }
   ],
   "source": [
    "a = [1,2,3,4,5,6,7,8,9,0]\n",
    "for x in range(1,len(a)):\n",
    "    print(x, \": \", array_split(a, x))\n",
    "    print(np.array_split(a, x), \"\\n\")"
   ]
  },
  {
   "cell_type": "code",
   "execution_count": 145,
   "id": "dfdb1f23",
   "metadata": {},
   "outputs": [],
   "source": [
    "class Chromosome:\n",
    "    def __init__(self, servers, processes, fitness, individual=None, generation=0):\n",
    "        self.servers = servers\n",
    "        self.processes = processes\n",
    "        self.fitness = fitness\n",
    "        self.average_fitness = sum([y for x, y in self.fitness])/len(self.fitness)\n",
    "        self.individual = individual\n",
    "        self.generation = generation\n",
    "    def __lt__(self, other):\n",
    "         return self.average_fitness < other.average_fitness\n",
    "    def __repr__(self):\n",
    "        return \"Average Chromosome fitness: {0}\\n\\tIndividual: {1}\\n\\tGENERATION: {2}\".format(self.average_fitness, self.individual, self.generation)"
   ]
  },
  {
   "cell_type": "code",
   "execution_count": 6,
   "id": "f7136682",
   "metadata": {},
   "outputs": [],
   "source": [
    "num_servers = 20\n",
    "cores = [16, 18, 20, 24, 48, 96]\n",
    "cpu_speeds = [3, 4, 5, 10, 20]\n",
    "rnd.seed(42)\n",
    "servers = [cld.Server(name=x, cpu_speed=cpu_speeds[rnd.randint(0, 4)], cores=cores[rnd.randint(0, 4)]) for x in range(0, num_servers)]"
   ]
  },
  {
   "cell_type": "code",
   "execution_count": 7,
   "id": "a51c7e9e",
   "metadata": {},
   "outputs": [],
   "source": [
    "num_processes = 100\n",
    "processes_lengths = [round(rnd.uniform(0.02, 1.000), 2) for x in range(0, num_processes)] \n",
    "# Fraction of billion of instructions. 1 = 1 billion instructions\n",
    "processes = [cld.Process(x, processes_lengths[rnd.randint(0, len(processes_lengths)-1)]) for x in range(0, num_processes)]"
   ]
  },
  {
   "cell_type": "code",
   "execution_count": 8,
   "id": "6f97d7d0",
   "metadata": {},
   "outputs": [],
   "source": [
    "# Must split the processes each time for each chromosome!!!"
   ]
  },
  {
   "cell_type": "code",
   "execution_count": 9,
   "id": "a005785d",
   "metadata": {},
   "outputs": [],
   "source": [
    "#split_processes = np.array_split(np.asarray(processes), len(servers))"
   ]
  },
  {
   "cell_type": "markdown",
   "id": "a1100a2b",
   "metadata": {},
   "source": [
    "#### Fitness function to calculate the fitness score of each gene\n",
    "Calculated the max time that each server expends on its own workload.<br>\n",
    "Need to take into account the speed of the processors"
   ]
  },
  {
   "cell_type": "code",
   "execution_count": 10,
   "id": "f69f9c75",
   "metadata": {},
   "outputs": [],
   "source": [
    "def server_fitness(server):\n",
    "    cores, speed, processes = server.cores, server.cpu_speed, server.workload\n",
    "    print(processes)\n",
    "    fitness = sorted([process.process_length for process in processes[:cores]])\n",
    "    for process in processes[cores:]:\n",
    "        fitness[0] += process.process_length\n",
    "        fitness = sorted(fitness)\n",
    "    return fitness"
   ]
  },
  {
   "cell_type": "code",
   "execution_count": null,
   "id": "cf695651",
   "metadata": {},
   "outputs": [],
   "source": [
    "def cacca(d):\n",
    "    return d[0][1]"
   ]
  },
  {
   "cell_type": "code",
   "execution_count": 151,
   "id": "b8fbaff1",
   "metadata": {},
   "outputs": [],
   "source": [
    "def fitness(chromosome):\n",
    "    servers_fitness = []\n",
    "    best_d = {}\n",
    "    # IN EXEQ CI STANNO I ROMANI E VADO AD ASSEGNARE AL CORE CON TEMPO MINORE IL PROCESSO PROC DA \"FOR PROC IN ...\"\n",
    "    # CRISTO CAZZO\n",
    "    for server in chromosome.servers:\n",
    "        core_num, core_speed, server_processes = server.cores, server.cpu_speed, server.workload\n",
    "        execq = {c:[[server_processes[c]], server_processes[c].process_length] for c in range(core_num)}\n",
    "        # Execution queue starts from longest process in first core_num processes of workload\n",
    "        #execq = {server_processes[:core_num]}\n",
    "        for proc in server_processes:#[core_num:]:\n",
    "            #min(d, key=lambda p: p.values[1])\n",
    "            key = min(execq, key=lambda p: d[p][1])\n",
    "            core = execq[key]\n",
    "            time_core = core[1]\n",
    "            time_core += proc.process_length\n",
    "            execq[key][0].append(proc)\n",
    "            execq[key][1] = time_core\n",
    "        pprint(d)\n",
    "            #execq.sort(key=lambda p: p.process_length)\n",
    "            #execq[0].append()\n",
    "    max_d\n",
    "        \n",
    "    \"\"\"for server in (chromosome):\n",
    "        cores, speed, processes = server.cores, server.cpu_speed, server.workload\n",
    "        fitness = sorted([process.process_length for process in processes[:cores]])\n",
    "        for process in processes[cores:]:\n",
    "            fitness[0] += process.process_length\n",
    "            fitness = sorted(fitness)\n",
    "        servers_fitness.append((server.name, fitness[-1] / speed))\n",
    "    return servers_fitness\"\"\"\n",
    "    "
   ]
  },
  {
   "cell_type": "code",
   "execution_count": 142,
   "id": "35ce0391",
   "metadata": {},
   "outputs": [
    {
     "data": {
      "text/plain": [
       "0"
      ]
     },
     "execution_count": 142,
     "metadata": {},
     "output_type": "execute_result"
    }
   ],
   "source": [
    "d = {c:[[],0] for c in range(4)}\n",
    "d = {1:[[],1],2:[[],2],3:[[],3],4:[[],0]}\n",
    "d[min(d, key=lambda p: d[p][1])][1]#, key=lambda p: p.values[1])"
   ]
  },
  {
   "cell_type": "code",
   "execution_count": 12,
   "id": "746fcdc6",
   "metadata": {},
   "outputs": [],
   "source": [
    "def overall_fitness(population):\n",
    "    overall_fitnesses = []\n",
    "    solution = 0\n",
    "    for chromosome in population:\n",
    "        overall_fitnesses.append((fitness(chromosome), solution))\n",
    "        solution += 1\n",
    "    return overall_fitnesses"
   ]
  },
  {
   "cell_type": "markdown",
   "id": "2ae0d42f",
   "metadata": {},
   "source": [
    "#### Function to create a first generation chromosome"
   ]
  },
  {
   "cell_type": "code",
   "execution_count": 115,
   "id": "67534d3b",
   "metadata": {},
   "outputs": [],
   "source": [
    "def make_first_chromosome(servers, processes, individual):\n",
    "    #shuffled_processes = shuffle(processes)\n",
    "    #shuffled_processes = np.random.choice(copy.deepcopy(processes[:]), len(processes), replace=False)\n",
    "    shuffled_processes = copy.deepcopy(processes)\n",
    "    np.random.shuffle(shuffled_processes)\n",
    "    #temp = copy.deepcopy(shuffled_processes)\n",
    "    #np.random.shuffle(temp)\n",
    "    #print([x.pid for x in shuffled_processes][:10])\n",
    "    #print([x.pid for x in temp][:10])\n",
    "    #assert(temp == shuffled_processes)\n",
    "    #split_processes = np.array_split(np.asarray(shuffled_processes), len(servers))\n",
    "    split_processes = array_split(np.asarray(shuffled_processes), len(servers))\n",
    "    for i in range(len(split_processes)):\n",
    "        servers[i].workload = split_processes[i]\n",
    "    return Chromosome(servers, processes, fitness(servers), individual)#(servers, fitness(servers))#, split_processes)"
   ]
  },
  {
   "cell_type": "code",
   "execution_count": 113,
   "id": "7dae75ab",
   "metadata": {},
   "outputs": [],
   "source": [
    "def q(servers, processes, individual):\n",
    "    shuffled_processes = copy.deepcopy(processes)\n",
    "    np.random.shuffle(shuffled_processes)\n",
    "    split_processes = array_split(np.asarray(shuffled_processes), len(servers))\n",
    "    for i in range(len(split_processes)):\n",
    "        servers[i].workload = split_processes[i]\n",
    "    #print(servers[0].workload)\n",
    "    return Chromosome(servers, processes, [[1,2]], individual)"
   ]
  },
  {
   "cell_type": "code",
   "execution_count": 116,
   "id": "c9c2feaf",
   "metadata": {},
   "outputs": [
    {
     "data": {
      "text/plain": [
       "array([PID: 75\n",
       "       \tLength of process: 0.71 instructions,\n",
       "       PID: 28\n",
       "       \tLength of process: 0.94 instructions,\n",
       "       PID: 34\n",
       "       \tLength of process: 0.41 instructions,\n",
       "       PID: 14\n",
       "       \tLength of process: 0.1 instructions,\n",
       "       PID: 22\n",
       "       \tLength of process: 0.59 instructions], dtype=object)"
      ]
     },
     "execution_count": 116,
     "metadata": {},
     "output_type": "execute_result"
    }
   ],
   "source": [
    "q(servers, processes, 0).servers[0].workload"
   ]
  },
  {
   "cell_type": "code",
   "execution_count": 117,
   "id": "68697cd1",
   "metadata": {},
   "outputs": [
    {
     "data": {
      "text/plain": [
       "array([PID: 99\n",
       "       \tLength of process: 0.25 instructions,\n",
       "       PID: 81\n",
       "       \tLength of process: 0.57 instructions,\n",
       "       PID: 33\n",
       "       \tLength of process: 0.28 instructions,\n",
       "       PID: 69\n",
       "       \tLength of process: 0.73 instructions,\n",
       "       PID: 86\n",
       "       \tLength of process: 0.28 instructions], dtype=object)"
      ]
     },
     "execution_count": 117,
     "metadata": {},
     "output_type": "execute_result"
    }
   ],
   "source": [
    "q(servers, processes, 0).servers[0].workload"
   ]
  },
  {
   "cell_type": "code",
   "execution_count": 147,
   "id": "dfcf0e91",
   "metadata": {},
   "outputs": [
    {
     "name": "stdout",
     "output_type": "stream",
     "text": [
      "<class 'list'>\n"
     ]
    },
    {
     "ename": "AttributeError",
     "evalue": "'list' object has no attribute 'servers'",
     "output_type": "error",
     "traceback": [
      "\u001b[1;31m---------------------------------------------------------------------------\u001b[0m",
      "\u001b[1;31mAttributeError\u001b[0m                            Traceback (most recent call last)",
      "Input \u001b[1;32mIn [147]\u001b[0m, in \u001b[0;36m<cell line: 1>\u001b[1;34m()\u001b[0m\n\u001b[1;32m----> 1\u001b[0m chromo_1 \u001b[38;5;241m=\u001b[39m \u001b[43mmake_first_chromosome\u001b[49m\u001b[43m(\u001b[49m\u001b[43mservers\u001b[49m\u001b[43m,\u001b[49m\u001b[43m \u001b[49m\u001b[43mprocesses\u001b[49m\u001b[43m,\u001b[49m\u001b[43m \u001b[49m\u001b[38;5;241;43m0\u001b[39;49m\u001b[43m)\u001b[49m\n",
      "Input \u001b[1;32mIn [115]\u001b[0m, in \u001b[0;36mmake_first_chromosome\u001b[1;34m(servers, processes, individual)\u001b[0m\n\u001b[0;32m     13\u001b[0m \u001b[38;5;28;01mfor\u001b[39;00m i \u001b[38;5;129;01min\u001b[39;00m \u001b[38;5;28mrange\u001b[39m(\u001b[38;5;28mlen\u001b[39m(split_processes)):\n\u001b[0;32m     14\u001b[0m     servers[i]\u001b[38;5;241m.\u001b[39mworkload \u001b[38;5;241m=\u001b[39m split_processes[i]\n\u001b[1;32m---> 15\u001b[0m \u001b[38;5;28;01mreturn\u001b[39;00m Chromosome(servers, processes, \u001b[43mfitness\u001b[49m\u001b[43m(\u001b[49m\u001b[43mservers\u001b[49m\u001b[43m)\u001b[49m, individual)\n",
      "Input \u001b[1;32mIn [146]\u001b[0m, in \u001b[0;36mfitness\u001b[1;34m(chromosome)\u001b[0m\n\u001b[0;32m      2\u001b[0m servers_fitness \u001b[38;5;241m=\u001b[39m []\n\u001b[0;32m      3\u001b[0m \u001b[38;5;28mprint\u001b[39m(\u001b[38;5;28mtype\u001b[39m(chromosome))\n\u001b[1;32m----> 4\u001b[0m \u001b[38;5;28;01mfor\u001b[39;00m server \u001b[38;5;129;01min\u001b[39;00m \u001b[43mchromosome\u001b[49m\u001b[38;5;241;43m.\u001b[39;49m\u001b[43mservers\u001b[49m:\n\u001b[0;32m      5\u001b[0m     core_num, core_speed, server_processes \u001b[38;5;241m=\u001b[39m server\u001b[38;5;241m.\u001b[39mcores, server\u001b[38;5;241m.\u001b[39mcpu_speed, server\u001b[38;5;241m.\u001b[39mworkload\n\u001b[0;32m      6\u001b[0m     d \u001b[38;5;241m=\u001b[39m {c:[[],\u001b[38;5;241m0\u001b[39m] \u001b[38;5;28;01mfor\u001b[39;00m c \u001b[38;5;129;01min\u001b[39;00m \u001b[38;5;28mrange\u001b[39m(core_num)}\n",
      "\u001b[1;31mAttributeError\u001b[0m: 'list' object has no attribute 'servers'"
     ]
    }
   ],
   "source": [
    "chromo_1 = make_first_chromosome(servers, processes, 0)"
   ]
  },
  {
   "cell_type": "code",
   "execution_count": 152,
   "id": "5a91259b",
   "metadata": {},
   "outputs": [
    {
     "name": "stdout",
     "output_type": "stream",
     "text": [
      "{0: [[PID: 10\n",
      "\tLength of process: 0.34 instructions], 0.34],\n",
      " 1: [[PID: 74\n",
      "\tLength of process: 0.28 instructions], 0.28],\n",
      " 2: [[PID: 64\n",
      "\tLength of process: 0.62 instructions], 0.62],\n",
      " 3: [[PID: 27\n",
      "\tLength of process: 0.31 instructions], 0.31],\n",
      " 4: [[PID: 37\n",
      "\tLength of process: 0.23 instructions], 0.23],\n",
      " 5: [[], 0],\n",
      " 6: [[], 0],\n",
      " 7: [[], 0],\n",
      " 8: [[], 0],\n",
      " 9: [[], 0],\n",
      " 10: [[], 0],\n",
      " 11: [[], 0],\n",
      " 12: [[], 0],\n",
      " 13: [[], 0],\n",
      " 14: [[], 0],\n",
      " 15: [[], 0]}\n",
      "{0: [[PID: 31\n",
      "\tLength of process: 0.26 instructions], 0.26],\n",
      " 1: [[PID: 16\n",
      "\tLength of process: 0.11 instructions], 0.11],\n",
      " 2: [[PID: 14\n",
      "\tLength of process: 0.1 instructions], 0.1],\n",
      " 3: [[PID: 29\n",
      "\tLength of process: 0.17 instructions], 0.17],\n",
      " 4: [[PID: 72\n",
      "\tLength of process: 0.11 instructions], 0.11],\n",
      " 5: [[], 0],\n",
      " 6: [[], 0],\n",
      " 7: [[], 0],\n",
      " 8: [[], 0],\n",
      " 9: [[], 0],\n",
      " 10: [[], 0],\n",
      " 11: [[], 0],\n",
      " 12: [[], 0],\n",
      " 13: [[], 0],\n",
      " 14: [[], 0],\n",
      " 15: [[], 0],\n",
      " 16: [[], 0],\n",
      " 17: [[], 0]}\n",
      "{0: [[PID: 21\n",
      "\tLength of process: 0.65 instructions], 0.65],\n",
      " 1: [[PID: 3\n",
      "\tLength of process: 0.18 instructions], 0.18],\n",
      " 2: [[PID: 40\n",
      "\tLength of process: 0.19 instructions], 0.19],\n",
      " 3: [[PID: 57\n",
      "\tLength of process: 0.23 instructions], 0.23],\n",
      " 4: [[PID: 92\n",
      "\tLength of process: 0.94 instructions], 0.94],\n",
      " 5: [[], 0],\n",
      " 6: [[], 0],\n",
      " 7: [[], 0],\n",
      " 8: [[], 0],\n",
      " 9: [[], 0],\n",
      " 10: [[], 0],\n",
      " 11: [[], 0],\n",
      " 12: [[], 0],\n",
      " 13: [[], 0],\n",
      " 14: [[], 0],\n",
      " 15: [[], 0],\n",
      " 16: [[], 0],\n",
      " 17: [[], 0]}\n",
      "{0: [[PID: 17\n",
      "\tLength of process: 0.97 instructions], 0.97],\n",
      " 1: [[PID: 63\n",
      "\tLength of process: 0.13 instructions], 0.13],\n",
      " 2: [[PID: 9\n",
      "\tLength of process: 0.83 instructions], 0.83],\n",
      " 3: [[PID: 89\n",
      "\tLength of process: 0.56 instructions], 0.56],\n",
      " 4: [[PID: 20\n",
      "\tLength of process: 0.39 instructions], 0.39],\n",
      " 5: [[], 0],\n",
      " 6: [[], 0],\n",
      " 7: [[], 0],\n",
      " 8: [[], 0],\n",
      " 9: [[], 0],\n",
      " 10: [[], 0],\n",
      " 11: [[], 0],\n",
      " 12: [[], 0],\n",
      " 13: [[], 0],\n",
      " 14: [[], 0],\n",
      " 15: [[], 0],\n",
      " 16: [[], 0],\n",
      " 17: [[], 0],\n",
      " 18: [[], 0],\n",
      " 19: [[], 0],\n",
      " 20: [[], 0],\n",
      " 21: [[], 0],\n",
      " 22: [[], 0],\n",
      " 23: [[], 0],\n",
      " 24: [[], 0],\n",
      " 25: [[], 0],\n",
      " 26: [[], 0],\n",
      " 27: [[], 0],\n",
      " 28: [[], 0],\n",
      " 29: [[], 0],\n",
      " 30: [[], 0],\n",
      " 31: [[], 0],\n",
      " 32: [[], 0],\n",
      " 33: [[], 0],\n",
      " 34: [[], 0],\n",
      " 35: [[], 0],\n",
      " 36: [[], 0],\n",
      " 37: [[], 0],\n",
      " 38: [[], 0],\n",
      " 39: [[], 0],\n",
      " 40: [[], 0],\n",
      " 41: [[], 0],\n",
      " 42: [[], 0],\n",
      " 43: [[], 0],\n",
      " 44: [[], 0],\n",
      " 45: [[], 0],\n",
      " 46: [[], 0],\n",
      " 47: [[], 0]}\n",
      "{0: [[PID: 53\n",
      "\tLength of process: 0.56 instructions], 0.56],\n",
      " 1: [[PID: 25\n",
      "\tLength of process: 0.02 instructions], 0.02],\n",
      " 2: [[PID: 90\n",
      "\tLength of process: 0.26 instructions], 0.26],\n",
      " 3: [[PID: 52\n",
      "\tLength of process: 0.46 instructions], 0.46],\n",
      " 4: [[PID: 87\n",
      "\tLength of process: 0.88 instructions], 0.88],\n",
      " 5: [[], 0],\n",
      " 6: [[], 0],\n",
      " 7: [[], 0],\n",
      " 8: [[], 0],\n",
      " 9: [[], 0],\n",
      " 10: [[], 0],\n",
      " 11: [[], 0],\n",
      " 12: [[], 0],\n",
      " 13: [[], 0],\n",
      " 14: [[], 0],\n",
      " 15: [[], 0],\n",
      " 16: [[], 0],\n",
      " 17: [[], 0],\n",
      " 18: [[], 0],\n",
      " 19: [[], 0],\n",
      " 20: [[], 0],\n",
      " 21: [[], 0],\n",
      " 22: [[], 0],\n",
      " 23: [[], 0],\n",
      " 24: [[], 0],\n",
      " 25: [[], 0],\n",
      " 26: [[], 0],\n",
      " 27: [[], 0],\n",
      " 28: [[], 0],\n",
      " 29: [[], 0],\n",
      " 30: [[], 0],\n",
      " 31: [[], 0],\n",
      " 32: [[], 0],\n",
      " 33: [[], 0],\n",
      " 34: [[], 0],\n",
      " 35: [[], 0],\n",
      " 36: [[], 0],\n",
      " 37: [[], 0],\n",
      " 38: [[], 0],\n",
      " 39: [[], 0],\n",
      " 40: [[], 0],\n",
      " 41: [[], 0],\n",
      " 42: [[], 0],\n",
      " 43: [[], 0],\n",
      " 44: [[], 0],\n",
      " 45: [[], 0],\n",
      " 46: [[], 0],\n",
      " 47: [[], 0]}\n",
      "{0: [[PID: 4\n",
      "\tLength of process: 0.03 instructions], 0.03],\n",
      " 1: [[PID: 71\n",
      "\tLength of process: 0.39 instructions], 0.39],\n",
      " 2: [[PID: 88\n",
      "\tLength of process: 0.71 instructions], 0.71],\n",
      " 3: [[PID: 1\n",
      "\tLength of process: 0.18 instructions], 0.18],\n",
      " 4: [[PID: 0\n",
      "\tLength of process: 0.05 instructions], 0.05],\n",
      " 5: [[], 0],\n",
      " 6: [[], 0],\n",
      " 7: [[], 0],\n",
      " 8: [[], 0],\n",
      " 9: [[], 0],\n",
      " 10: [[], 0],\n",
      " 11: [[], 0],\n",
      " 12: [[], 0],\n",
      " 13: [[], 0],\n",
      " 14: [[], 0],\n",
      " 15: [[], 0]}\n",
      "{0: [[PID: 55\n",
      "\tLength of process: 0.83 instructions], 0.83],\n",
      " 1: [[PID: 68\n",
      "\tLength of process: 0.73 instructions], 0.73],\n",
      " 2: [[PID: 42\n",
      "\tLength of process: 0.94 instructions], 0.94],\n",
      " 3: [[PID: 39\n",
      "\tLength of process: 0.39 instructions], 0.39],\n",
      " 4: [[PID: 75\n",
      "\tLength of process: 0.71 instructions], 0.71],\n",
      " 5: [[], 0],\n",
      " 6: [[], 0],\n",
      " 7: [[], 0],\n",
      " 8: [[], 0],\n",
      " 9: [[], 0],\n",
      " 10: [[], 0],\n",
      " 11: [[], 0],\n",
      " 12: [[], 0],\n",
      " 13: [[], 0],\n",
      " 14: [[], 0],\n",
      " 15: [[], 0]}\n",
      "{0: [[PID: 69\n",
      "\tLength of process: 0.73 instructions], 0.73],\n",
      " 1: [[PID: 61\n",
      "\tLength of process: 0.69 instructions], 0.69],\n",
      " 2: [[PID: 58\n",
      "\tLength of process: 0.63 instructions], 0.63],\n",
      " 3: [[PID: 11\n",
      "\tLength of process: 1.0 instructions], 1.0],\n",
      " 4: [[PID: 32\n",
      "\tLength of process: 0.2 instructions], 0.2],\n",
      " 5: [[], 0],\n",
      " 6: [[], 0],\n",
      " 7: [[], 0],\n",
      " 8: [[], 0],\n",
      " 9: [[], 0],\n",
      " 10: [[], 0],\n",
      " 11: [[], 0],\n",
      " 12: [[], 0],\n",
      " 13: [[], 0],\n",
      " 14: [[], 0],\n",
      " 15: [[], 0],\n",
      " 16: [[], 0],\n",
      " 17: [[], 0]}\n",
      "{0: [[PID: 99\n",
      "\tLength of process: 0.25 instructions], 0.25],\n",
      " 1: [[PID: 38\n",
      "\tLength of process: 0.3 instructions], 0.3],\n",
      " 2: [[PID: 33\n",
      "\tLength of process: 0.28 instructions], 0.28],\n",
      " 3: [[PID: 44\n",
      "\tLength of process: 0.55 instructions], 0.55],\n",
      " 4: [[PID: 28\n",
      "\tLength of process: 0.94 instructions], 0.94],\n",
      " 5: [[], 0],\n",
      " 6: [[], 0],\n",
      " 7: [[], 0],\n",
      " 8: [[], 0],\n",
      " 9: [[], 0],\n",
      " 10: [[], 0],\n",
      " 11: [[], 0],\n",
      " 12: [[], 0],\n",
      " 13: [[], 0],\n",
      " 14: [[], 0],\n",
      " 15: [[], 0],\n",
      " 16: [[], 0],\n",
      " 17: [[], 0],\n",
      " 18: [[], 0],\n",
      " 19: [[], 0],\n",
      " 20: [[], 0],\n",
      " 21: [[], 0],\n",
      " 22: [[], 0],\n",
      " 23: [[], 0],\n",
      " 24: [[], 0],\n",
      " 25: [[], 0],\n",
      " 26: [[], 0],\n",
      " 27: [[], 0],\n",
      " 28: [[], 0],\n",
      " 29: [[], 0],\n",
      " 30: [[], 0],\n",
      " 31: [[], 0],\n",
      " 32: [[], 0],\n",
      " 33: [[], 0],\n",
      " 34: [[], 0],\n",
      " 35: [[], 0],\n",
      " 36: [[], 0],\n",
      " 37: [[], 0],\n",
      " 38: [[], 0],\n",
      " 39: [[], 0],\n",
      " 40: [[], 0],\n",
      " 41: [[], 0],\n",
      " 42: [[], 0],\n",
      " 43: [[], 0],\n",
      " 44: [[], 0],\n",
      " 45: [[], 0],\n",
      " 46: [[], 0],\n",
      " 47: [[], 0]}\n",
      "{0: [[PID: 76\n",
      "\tLength of process: 0.71 instructions], 0.71],\n",
      " 1: [[PID: 77\n",
      "\tLength of process: 0.51 instructions], 0.51],\n",
      " 2: [[PID: 59\n",
      "\tLength of process: 0.43 instructions], 0.43],\n",
      " 3: [[PID: 82\n",
      "\tLength of process: 0.52 instructions], 0.52],\n",
      " 4: [[PID: 18\n",
      "\tLength of process: 0.38 instructions], 0.38],\n",
      " 5: [[], 0],\n",
      " 6: [[], 0],\n",
      " 7: [[], 0],\n",
      " 8: [[], 0],\n",
      " 9: [[], 0],\n",
      " 10: [[], 0],\n",
      " 11: [[], 0],\n",
      " 12: [[], 0],\n",
      " 13: [[], 0],\n",
      " 14: [[], 0],\n",
      " 15: [[], 0],\n",
      " 16: [[], 0],\n",
      " 17: [[], 0],\n",
      " 18: [[], 0],\n",
      " 19: [[], 0],\n",
      " 20: [[], 0],\n",
      " 21: [[], 0],\n",
      " 22: [[], 0],\n",
      " 23: [[], 0],\n",
      " 24: [[], 0],\n",
      " 25: [[], 0],\n",
      " 26: [[], 0],\n",
      " 27: [[], 0],\n",
      " 28: [[], 0],\n",
      " 29: [[], 0],\n",
      " 30: [[], 0],\n",
      " 31: [[], 0],\n",
      " 32: [[], 0],\n",
      " 33: [[], 0],\n",
      " 34: [[], 0],\n",
      " 35: [[], 0],\n",
      " 36: [[], 0],\n",
      " 37: [[], 0],\n",
      " 38: [[], 0],\n",
      " 39: [[], 0],\n",
      " 40: [[], 0],\n",
      " 41: [[], 0],\n",
      " 42: [[], 0],\n",
      " 43: [[], 0],\n",
      " 44: [[], 0],\n",
      " 45: [[], 0],\n",
      " 46: [[], 0],\n",
      " 47: [[], 0]}\n",
      "{0: [[PID: 94\n",
      "\tLength of process: 0.39 instructions], 0.39],\n",
      " 1: [[PID: 60\n",
      "\tLength of process: 0.18 instructions], 0.18],\n",
      " 2: [[PID: 30\n",
      "\tLength of process: 0.05 instructions], 0.05],\n",
      " 3: [[PID: 46\n",
      "\tLength of process: 0.73 instructions], 0.73],\n",
      " 4: [[PID: 80\n",
      "\tLength of process: 0.59 instructions], 0.59],\n",
      " 5: [[], 0],\n",
      " 6: [[], 0],\n",
      " 7: [[], 0],\n",
      " 8: [[], 0],\n",
      " 9: [[], 0],\n",
      " 10: [[], 0],\n",
      " 11: [[], 0],\n",
      " 12: [[], 0],\n",
      " 13: [[], 0],\n",
      " 14: [[], 0],\n",
      " 15: [[], 0],\n",
      " 16: [[], 0],\n",
      " 17: [[], 0],\n",
      " 18: [[], 0],\n",
      " 19: [[], 0],\n",
      " 20: [[], 0],\n",
      " 21: [[], 0],\n",
      " 22: [[], 0],\n",
      " 23: [[], 0],\n",
      " 24: [[], 0],\n",
      " 25: [[], 0],\n",
      " 26: [[], 0],\n",
      " 27: [[], 0],\n",
      " 28: [[], 0],\n",
      " 29: [[], 0],\n",
      " 30: [[], 0],\n",
      " 31: [[], 0],\n",
      " 32: [[], 0],\n",
      " 33: [[], 0],\n",
      " 34: [[], 0],\n",
      " 35: [[], 0],\n",
      " 36: [[], 0],\n",
      " 37: [[], 0],\n",
      " 38: [[], 0],\n",
      " 39: [[], 0],\n",
      " 40: [[], 0],\n",
      " 41: [[], 0],\n",
      " 42: [[], 0],\n",
      " 43: [[], 0],\n",
      " 44: [[], 0],\n",
      " 45: [[], 0],\n",
      " 46: [[], 0],\n",
      " 47: [[], 0]}\n",
      "{0: [[PID: 54\n",
      "\tLength of process: 0.73 instructions], 0.73],\n",
      " 1: [[PID: 6\n",
      "\tLength of process: 0.86 instructions], 0.86],\n",
      " 2: [[PID: 8\n",
      "\tLength of process: 0.13 instructions], 0.13],\n",
      " 3: [[PID: 95\n",
      "\tLength of process: 0.28 instructions], 0.28],\n",
      " 4: [[PID: 47\n",
      "\tLength of process: 0.55 instructions], 0.55],\n",
      " 5: [[], 0],\n",
      " 6: [[], 0],\n",
      " 7: [[], 0],\n",
      " 8: [[], 0],\n",
      " 9: [[], 0],\n",
      " 10: [[], 0],\n",
      " 11: [[], 0],\n",
      " 12: [[], 0],\n",
      " 13: [[], 0],\n",
      " 14: [[], 0],\n",
      " 15: [[], 0],\n",
      " 16: [[], 0],\n",
      " 17: [[], 0]}\n",
      "{0: [[PID: 36\n",
      "\tLength of process: 0.08 instructions], 0.08],\n",
      " 1: [[PID: 19\n",
      "\tLength of process: 0.65 instructions], 0.65],\n",
      " 2: [[PID: 43\n",
      "\tLength of process: 0.81 instructions], 0.81],\n",
      " 3: [[PID: 85\n",
      "\tLength of process: 0.91 instructions], 0.91],\n",
      " 4: [[PID: 13\n",
      "\tLength of process: 0.1 instructions], 0.1],\n",
      " 5: [[], 0],\n",
      " 6: [[], 0],\n",
      " 7: [[], 0],\n",
      " 8: [[], 0],\n",
      " 9: [[], 0],\n",
      " 10: [[], 0],\n",
      " 11: [[], 0],\n"
     ]
    },
    {
     "name": "stdout",
     "output_type": "stream",
     "text": [
      " 12: [[], 0],\n",
      " 13: [[], 0],\n",
      " 14: [[], 0],\n",
      " 15: [[], 0],\n",
      " 16: [[], 0],\n",
      " 17: [[], 0],\n",
      " 18: [[], 0],\n",
      " 19: [[], 0],\n",
      " 20: [[], 0],\n",
      " 21: [[], 0],\n",
      " 22: [[], 0],\n",
      " 23: [[], 0],\n",
      " 24: [[], 0],\n",
      " 25: [[], 0],\n",
      " 26: [[], 0],\n",
      " 27: [[], 0],\n",
      " 28: [[], 0],\n",
      " 29: [[], 0],\n",
      " 30: [[], 0],\n",
      " 31: [[], 0],\n",
      " 32: [[], 0],\n",
      " 33: [[], 0],\n",
      " 34: [[], 0],\n",
      " 35: [[], 0],\n",
      " 36: [[], 0],\n",
      " 37: [[], 0],\n",
      " 38: [[], 0],\n",
      " 39: [[], 0],\n",
      " 40: [[], 0],\n",
      " 41: [[], 0],\n",
      " 42: [[], 0],\n",
      " 43: [[], 0],\n",
      " 44: [[], 0],\n",
      " 45: [[], 0],\n",
      " 46: [[], 0],\n",
      " 47: [[], 0]}\n",
      "{0: [[PID: 83\n",
      "\tLength of process: 0.55 instructions], 0.55],\n",
      " 1: [[PID: 62\n",
      "\tLength of process: 0.2 instructions], 0.2],\n",
      " 2: [[PID: 26\n",
      "\tLength of process: 0.55 instructions], 0.55],\n",
      " 3: [[PID: 65\n",
      "\tLength of process: 0.54 instructions], 0.54],\n",
      " 4: [[PID: 35\n",
      "\tLength of process: 0.41 instructions], 0.41],\n",
      " 5: [[], 0],\n",
      " 6: [[], 0],\n",
      " 7: [[], 0],\n",
      " 8: [[], 0],\n",
      " 9: [[], 0],\n",
      " 10: [[], 0],\n",
      " 11: [[], 0],\n",
      " 12: [[], 0],\n",
      " 13: [[], 0],\n",
      " 14: [[], 0],\n",
      " 15: [[], 0]}\n",
      "{0: [[PID: 15\n",
      "\tLength of process: 0.51 instructions], 0.51],\n",
      " 1: [[PID: 7\n",
      "\tLength of process: 0.55 instructions], 0.55],\n",
      " 2: [[PID: 24\n",
      "\tLength of process: 0.54 instructions], 0.54],\n",
      " 3: [[PID: 48\n",
      "\tLength of process: 0.19 instructions], 0.19],\n",
      " 4: [[PID: 50\n",
      "\tLength of process: 0.63 instructions], 0.63],\n",
      " 5: [[], 0],\n",
      " 6: [[], 0],\n",
      " 7: [[], 0],\n",
      " 8: [[], 0],\n",
      " 9: [[], 0],\n",
      " 10: [[], 0],\n",
      " 11: [[], 0],\n",
      " 12: [[], 0],\n",
      " 13: [[], 0],\n",
      " 14: [[], 0],\n",
      " 15: [[], 0],\n",
      " 16: [[], 0],\n",
      " 17: [[], 0],\n",
      " 18: [[], 0],\n",
      " 19: [[], 0],\n",
      " 20: [[], 0],\n",
      " 21: [[], 0],\n",
      " 22: [[], 0],\n",
      " 23: [[], 0]}\n",
      "{0: [[PID: 70\n",
      "\tLength of process: 0.11 instructions], 0.11],\n",
      " 1: [[PID: 5\n",
      "\tLength of process: 0.86 instructions], 0.86],\n",
      " 2: [[PID: 12\n",
      "\tLength of process: 0.04 instructions], 0.04],\n",
      " 3: [[PID: 98\n",
      "\tLength of process: 0.23 instructions], 0.23],\n",
      " 4: [[PID: 2\n",
      "\tLength of process: 0.56 instructions], 0.56],\n",
      " 5: [[], 0],\n",
      " 6: [[], 0],\n",
      " 7: [[], 0],\n",
      " 8: [[], 0],\n",
      " 9: [[], 0],\n",
      " 10: [[], 0],\n",
      " 11: [[], 0],\n",
      " 12: [[], 0],\n",
      " 13: [[], 0],\n",
      " 14: [[], 0],\n",
      " 15: [[], 0],\n",
      " 16: [[], 0],\n",
      " 17: [[], 0],\n",
      " 18: [[], 0],\n",
      " 19: [[], 0]}\n",
      "{0: [[PID: 56\n",
      "\tLength of process: 0.55 instructions], 0.55],\n",
      " 1: [[PID: 67\n",
      "\tLength of process: 0.77 instructions], 0.77],\n",
      " 2: [[PID: 84\n",
      "\tLength of process: 0.39 instructions], 0.39],\n",
      " 3: [[PID: 91\n",
      "\tLength of process: 0.55 instructions], 0.55],\n",
      " 4: [[PID: 86\n",
      "\tLength of process: 0.28 instructions], 0.28],\n",
      " 5: [[], 0],\n",
      " 6: [[], 0],\n",
      " 7: [[], 0],\n",
      " 8: [[], 0],\n",
      " 9: [[], 0],\n",
      " 10: [[], 0],\n",
      " 11: [[], 0],\n",
      " 12: [[], 0],\n",
      " 13: [[], 0],\n",
      " 14: [[], 0],\n",
      " 15: [[], 0],\n",
      " 16: [[], 0],\n",
      " 17: [[], 0]}\n",
      "{0: [[PID: 93\n",
      "\tLength of process: 0.06 instructions], 0.06],\n",
      " 1: [[PID: 81\n",
      "\tLength of process: 0.57 instructions], 0.57],\n",
      " 2: [[PID: 78\n",
      "\tLength of process: 0.9 instructions], 0.9],\n",
      " 3: [[PID: 49\n",
      "\tLength of process: 0.85 instructions], 0.85],\n",
      " 4: [[PID: 66\n",
      "\tLength of process: 0.1 instructions], 0.1],\n",
      " 5: [[], 0],\n",
      " 6: [[], 0],\n",
      " 7: [[], 0],\n",
      " 8: [[], 0],\n",
      " 9: [[], 0],\n",
      " 10: [[], 0],\n",
      " 11: [[], 0],\n",
      " 12: [[], 0],\n",
      " 13: [[], 0],\n",
      " 14: [[], 0],\n",
      " 15: [[], 0]}\n",
      "{0: [[PID: 51\n",
      "\tLength of process: 0.62 instructions], 0.62],\n",
      " 1: [[PID: 96\n",
      "\tLength of process: 0.28 instructions], 0.28],\n",
      " 2: [[PID: 22\n",
      "\tLength of process: 0.59 instructions], 0.59],\n",
      " 3: [[PID: 34\n",
      "\tLength of process: 0.41 instructions], 0.41],\n",
      " 4: [[PID: 41\n",
      "\tLength of process: 0.83 instructions], 0.83],\n",
      " 5: [[], 0],\n",
      " 6: [[], 0],\n",
      " 7: [[], 0],\n",
      " 8: [[], 0],\n",
      " 9: [[], 0],\n",
      " 10: [[], 0],\n",
      " 11: [[], 0],\n",
      " 12: [[], 0],\n",
      " 13: [[], 0],\n",
      " 14: [[], 0],\n",
      " 15: [[], 0],\n",
      " 16: [[], 0],\n",
      " 17: [[], 0],\n",
      " 18: [[], 0],\n",
      " 19: [[], 0],\n",
      " 20: [[], 0],\n",
      " 21: [[], 0],\n",
      " 22: [[], 0],\n",
      " 23: [[], 0]}\n",
      "{0: [[PID: 79\n",
      "\tLength of process: 0.33 instructions], 0.33],\n",
      " 1: [[PID: 23\n",
      "\tLength of process: 0.62 instructions], 0.62],\n",
      " 2: [[PID: 73\n",
      "\tLength of process: 0.57 instructions], 0.57],\n",
      " 3: [[PID: 45\n",
      "\tLength of process: 0.97 instructions], 0.97],\n",
      " 4: [[PID: 97\n",
      "\tLength of process: 1.0 instructions], 1.0],\n",
      " 5: [[], 0],\n",
      " 6: [[], 0],\n",
      " 7: [[], 0],\n",
      " 8: [[], 0],\n",
      " 9: [[], 0],\n",
      " 10: [[], 0],\n",
      " 11: [[], 0],\n",
      " 12: [[], 0],\n",
      " 13: [[], 0],\n",
      " 14: [[], 0],\n",
      " 15: [[], 0],\n",
      " 16: [[], 0],\n",
      " 17: [[], 0],\n",
      " 18: [[], 0],\n",
      " 19: [[], 0]}\n"
     ]
    }
   ],
   "source": [
    "fitness(chromo_1)"
   ]
  },
  {
   "cell_type": "code",
   "execution_count": 98,
   "id": "c36720cf",
   "metadata": {},
   "outputs": [],
   "source": [
    "k = copy.deepcopy(processes)\n",
    "k = rnd.sample(k, len(k))"
   ]
  },
  {
   "cell_type": "code",
   "execution_count": 99,
   "id": "47d41b8f",
   "metadata": {},
   "outputs": [],
   "source": [
    "chromo_2 = make_first_chromosome(servers, k, 0)"
   ]
  },
  {
   "cell_type": "code",
   "execution_count": 100,
   "id": "c81606eb",
   "metadata": {},
   "outputs": [
    {
     "data": {
      "text/plain": [
       "(array([PID: 28\n",
       "        \tLength of process: 0.94 instructions,\n",
       "        PID: 24\n",
       "        \tLength of process: 0.54 instructions,\n",
       "        PID: 94\n",
       "        \tLength of process: 0.39 instructions,\n",
       "        PID: 69\n",
       "        \tLength of process: 0.73 instructions,\n",
       "        PID: 10\n",
       "        \tLength of process: 0.34 instructions], dtype=object),\n",
       " array([PID: 28\n",
       "        \tLength of process: 0.94 instructions,\n",
       "        PID: 24\n",
       "        \tLength of process: 0.54 instructions,\n",
       "        PID: 94\n",
       "        \tLength of process: 0.39 instructions,\n",
       "        PID: 69\n",
       "        \tLength of process: 0.73 instructions,\n",
       "        PID: 10\n",
       "        \tLength of process: 0.34 instructions], dtype=object))"
      ]
     },
     "execution_count": 100,
     "metadata": {},
     "output_type": "execute_result"
    }
   ],
   "source": [
    "chromo_1.servers[1].workload, chromo_2.servers[1].workload"
   ]
  },
  {
   "cell_type": "code",
   "execution_count": 270,
   "id": "048d8ff5",
   "metadata": {},
   "outputs": [],
   "source": [
    "#make_first_chromosome(servers, processes, \"A\")"
   ]
  },
  {
   "cell_type": "code",
   "execution_count": 30,
   "id": "cd77c0dd",
   "metadata": {},
   "outputs": [
    {
     "data": {
      "text/plain": [
       "list"
      ]
     },
     "execution_count": 30,
     "metadata": {},
     "output_type": "execute_result"
    }
   ],
   "source": [
    "import copy\n",
    "a = [1,2,3,4]\n",
    "type(copy.deepcopy(a))"
   ]
  },
  {
   "cell_type": "code",
   "execution_count": 31,
   "id": "905ce895",
   "metadata": {},
   "outputs": [
    {
     "data": {
      "text/plain": [
       "[1, 4, 3, 2]"
      ]
     },
     "execution_count": 31,
     "metadata": {},
     "output_type": "execute_result"
    }
   ],
   "source": [
    "np.random.shuffle(a)\n",
    "a"
   ]
  },
  {
   "cell_type": "code",
   "execution_count": 272,
   "id": "974a9afc",
   "metadata": {},
   "outputs": [
    {
     "data": {
      "text/plain": [
       "array([2, 3, 1])"
      ]
     },
     "execution_count": 272,
     "metadata": {},
     "output_type": "execute_result"
    }
   ],
   "source": [
    "a = np.random.choice(a, len(a), replace=False)\n",
    "a"
   ]
  },
  {
   "cell_type": "markdown",
   "id": "1e0819e9",
   "metadata": {},
   "source": [
    "#### Function to create the first generation population"
   ]
  },
  {
   "cell_type": "code",
   "execution_count": 305,
   "id": "3eccc256",
   "metadata": {},
   "outputs": [],
   "source": [
    "def make_first_gen(servers, processes, pop_size):\n",
    "    population = []\n",
    "    x = 0\n",
    "    for i in tqdm(range(pop_size)):\n",
    "        rnd.seed(i)#RandomState(i)\n",
    "        #np.random.shuffle(processes)\n",
    "        population.append(make_first_chromosome(servers, rnd.sample(copy.deepcopy(processes[:]), len(processes)), x))\n",
    "        x += 1\n",
    "    return sorted(population)"
   ]
  },
  {
   "cell_type": "code",
   "execution_count": 306,
   "id": "9cdec467",
   "metadata": {},
   "outputs": [
    {
     "data": {
      "application/vnd.jupyter.widget-view+json": {
       "model_id": "14930aa15227499b92c935662c3c6f84",
       "version_major": 2,
       "version_minor": 0
      },
      "text/plain": [
       "  0%|          | 0/20 [00:00<?, ?it/s]"
      ]
     },
     "metadata": {},
     "output_type": "display_data"
    }
   ],
   "source": [
    "first_gen = make_first_gen(servers, processes, num_servers)"
   ]
  },
  {
   "cell_type": "code",
   "execution_count": 307,
   "id": "bdb18e4d",
   "metadata": {},
   "outputs": [],
   "source": [
    "a = [x.pid for x in first_gen[0].servers[0].workload]\n",
    "b = [x.pid for x in first_gen[1].servers[0].workload]\n",
    "d = [x.pid for x in first_gen[2].servers[0].workload]"
   ]
  },
  {
   "cell_type": "code",
   "execution_count": 308,
   "id": "26261f52",
   "metadata": {},
   "outputs": [
    {
     "data": {
      "text/plain": [
       "True"
      ]
     },
     "execution_count": 308,
     "metadata": {},
     "output_type": "execute_result"
    }
   ],
   "source": [
    "a == b == d"
   ]
  },
  {
   "cell_type": "code",
   "execution_count": 309,
   "id": "4e0bb2dd",
   "metadata": {},
   "outputs": [
    {
     "name": "stdout",
     "output_type": "stream",
     "text": [
      "73  --  73  --  73\n",
      "98  --  98  --  98\n",
      "20  --  20  --  20\n",
      "1  --  1  --  1\n",
      "66  --  66  --  66\n"
     ]
    }
   ],
   "source": [
    "for i in range(len(a)):\n",
    "    print(a[i], \" -- \", b[i], \" -- \", d[i])"
   ]
  },
  {
   "cell_type": "code",
   "execution_count": 229,
   "id": "5a3a91d7",
   "metadata": {},
   "outputs": [
    {
     "data": {
      "text/plain": [
       "([(0, 0.20666666666666667),\n",
       "  (1, 0.2),\n",
       "  (2, 0.22),\n",
       "  (3, 0.3333333333333333),\n",
       "  (4, 0.25),\n",
       "  (5, 0.088),\n",
       "  (6, 0.25),\n",
       "  (7, 0.23),\n",
       "  (8, 0.048),\n",
       "  (9, 0.16666666666666666),\n",
       "  (10, 0.1475),\n",
       "  (11, 0.093),\n",
       "  (12, 0.053000000000000005),\n",
       "  (13, 0.192),\n",
       "  (14, 0.2475),\n",
       "  (15, 0.198),\n",
       "  (16, 0.2425),\n",
       "  (17, 0.11200000000000002),\n",
       "  (18, 0.3333333333333333),\n",
       "  (19, 0.33)],\n",
       " [(0, 0.2966666666666667),\n",
       "  (1, 0.198),\n",
       "  (2, 0.1475),\n",
       "  (3, 0.3233333333333333),\n",
       "  (4, 0.16666666666666666),\n",
       "  (5, 0.072),\n",
       "  (6, 0.13666666666666666),\n",
       "  (7, 0.2475),\n",
       "  (8, 0.043),\n",
       "  (9, 0.3333333333333333),\n",
       "  (10, 0.22),\n",
       "  (11, 0.091),\n",
       "  (12, 0.096),\n",
       "  (13, 0.184),\n",
       "  (14, 0.2475),\n",
       "  (15, 0.16799999999999998),\n",
       "  (16, 0.25),\n",
       "  (17, 0.2),\n",
       "  (18, 0.31),\n",
       "  (19, 0.27999999999999997)])"
      ]
     },
     "execution_count": 229,
     "metadata": {},
     "output_type": "execute_result"
    }
   ],
   "source": [
    "first_gen[0].fitness, first_gen[1].fitness"
   ]
  },
  {
   "cell_type": "markdown",
   "id": "fceead68",
   "metadata": {},
   "source": [
    "#### Mutation Function\n",
    "This function remixes the process list in a chromosome"
   ]
  },
  {
   "cell_type": "code",
   "execution_count": 246,
   "id": "01c9c892",
   "metadata": {},
   "outputs": [],
   "source": [
    "def mutation(chromosome):\n",
    "    pass"
   ]
  },
  {
   "cell_type": "markdown",
   "id": "606374c2",
   "metadata": {},
   "source": [
    "#### Crossover Function\n",
    "This function selects the best subjects from one generation and \"breeds\" them into the next. <br>\n",
    "The two best subjects from the previous generation cross into the next. <br>\n",
    "<br>\n",
    "##### Crossbreed Logic\n",
    "Compare the best performing workloads on each server. <br>\n",
    "Take workload with best performance. <br>\n",
    "If there are shared processess between servers:\n",
    "1. Keep process on faster server;\n",
    "2. Eliminate the process on slower server;\n",
    "3. Place this process in a list;\n",
    "4. Insert a random pending process from the list; **This is a mutation** \n",
    "5. Repeat redistribution 3. and 4. for num_children times.\n",
    "6. The parents cross in the next generation pool.<br>\n",
    "\n",
    "This should ensure a steadily improve each generation."
   ]
  },
  {
   "cell_type": "code",
   "execution_count": 249,
   "id": "748030a4",
   "metadata": {},
   "outputs": [],
   "source": [
    "def crossover(generation, num_children, num_surv=2):\n",
    "    # Select best specimen\n",
    "    survivors = generation[:2]#[:num_surv]\n",
    "    # Num_surv is variable but let's assume it is always two\n",
    "    father, mother = survivors[0], survivors[1]\n",
    "    # Here are placed the best servers with no workload in common\n",
    "    absolute_gene_expression = []\n",
    "    for i in range(len(father.workload)):\n",
    "        \n",
    "    # Check fittest servers between the two chromosomes\n",
    "        # Need to calculate the fitness of each server"
   ]
  },
  {
   "cell_type": "code",
   "execution_count": 248,
   "id": "316e4421",
   "metadata": {},
   "outputs": [
    {
     "data": {
      "text/plain": [
       "[Average Chromosome fitness: 8.927691666666664\n",
       " \tIndividual: 3\n",
       " \tGENERATION: 0,\n",
       " Average Chromosome fitness: 8.942316666666667\n",
       " \tIndividual: 4\n",
       " \tGENERATION: 0,\n",
       " Average Chromosome fitness: 8.942441666666666\n",
       " \tIndividual: 1\n",
       " \tGENERATION: 0,\n",
       " Average Chromosome fitness: 8.943133333333332\n",
       " \tIndividual: 5\n",
       " \tGENERATION: 0]"
      ]
     },
     "execution_count": 248,
     "metadata": {},
     "output_type": "execute_result"
    }
   ],
   "source": [
    "first_gen[:4]"
   ]
  },
  {
   "cell_type": "code",
   "execution_count": 213,
   "id": "26d90a28",
   "metadata": {},
   "outputs": [
    {
     "name": "stdout",
     "output_type": "stream",
     "text": [
      "[PID: 23937\n",
      " \tLength of process: 0.3 instructions\n",
      " PID: 18078\n",
      " \tLength of process: 0.17 instructions\n",
      " PID: 26913\n",
      " \tLength of process: 0.23 instructions ...\n",
      " PID: 12210\n",
      " \tLength of process: 0.73 instructions\n",
      " PID: 4394\n",
      " \tLength of process: 0.24 instructions\n",
      " PID: 12619\n",
      " \tLength of process: 0.47 instructions]\n",
      "[PID: 23937\n",
      " \tLength of process: 0.3 instructions\n",
      " PID: 18078\n",
      " \tLength of process: 0.17 instructions\n",
      " PID: 26913\n",
      " \tLength of process: 0.23 instructions ...\n",
      " PID: 12210\n",
      " \tLength of process: 0.73 instructions\n",
      " PID: 4394\n",
      " \tLength of process: 0.24 instructions\n",
      " PID: 12619\n",
      " \tLength of process: 0.47 instructions]\n"
     ]
    },
    {
     "data": {
      "text/plain": [
       "True"
      ]
     },
     "execution_count": 213,
     "metadata": {},
     "output_type": "execute_result"
    }
   ],
   "source": [
    "a, b = first_gen[0], first_gen[4]\n",
    "server_fitness(a.__dict__[\"servers\"][0]) == server_fitness(b.__dict__[\"servers\"][0])#.workload"
   ]
  },
  {
   "cell_type": "code",
   "execution_count": 214,
   "id": "8833f628",
   "metadata": {},
   "outputs": [
    {
     "data": {
      "text/plain": [
       "array([PID: 23937\n",
       "       \tLength of process: 0.3 instructions,\n",
       "       PID: 18078\n",
       "       \tLength of process: 0.17 instructions,\n",
       "       PID: 26913\n",
       "       \tLength of process: 0.23 instructions, ...,\n",
       "       PID: 12210\n",
       "       \tLength of process: 0.73 instructions,\n",
       "       PID: 4394\n",
       "       \tLength of process: 0.24 instructions,\n",
       "       PID: 12619\n",
       "       \tLength of process: 0.47 instructions], dtype=object)"
      ]
     },
     "execution_count": 214,
     "metadata": {},
     "output_type": "execute_result"
    }
   ],
   "source": []
  },
  {
   "cell_type": "code",
   "execution_count": 216,
   "id": "00bc43d9",
   "metadata": {},
   "outputs": [
    {
     "data": {
      "text/plain": [
       "array([ True,  True,  True, ...,  True,  True,  True])"
      ]
     },
     "execution_count": 216,
     "metadata": {},
     "output_type": "execute_result"
    }
   ],
   "source": [
    "a.__dict__[\"servers\"][0].workload==b.__dict__[\"servers\"][0].workload"
   ]
  },
  {
   "cell_type": "code",
   "execution_count": null,
   "id": "e2e82d84",
   "metadata": {},
   "outputs": [],
   "source": []
  }
 ],
 "metadata": {
  "kernelspec": {
   "display_name": "Python 3 (ipykernel)",
   "language": "python",
   "name": "python3"
  },
  "language_info": {
   "codemirror_mode": {
    "name": "ipython",
    "version": 3
   },
   "file_extension": ".py",
   "mimetype": "text/x-python",
   "name": "python",
   "nbconvert_exporter": "python",
   "pygments_lexer": "ipython3",
   "version": "3.9.12"
  }
 },
 "nbformat": 4,
 "nbformat_minor": 5
}
