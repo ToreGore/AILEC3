{
 "cells": [
  {
   "cell_type": "code",
   "execution_count": 11,
   "id": "9ef10283",
   "metadata": {},
   "outputs": [],
   "source": [
    "import random\n",
    "from tqdm.notebook import tqdm"
   ]
  },
  {
   "cell_type": "code",
   "execution_count": 12,
   "id": "d1ae172c",
   "metadata": {},
   "outputs": [],
   "source": [
    "class Process:\n",
    "    def __init__(self, pid, length):\n",
    "        self.pid = pid\n",
    "        self.length = length\n",
    "\n",
    "    def __repr__(self):\n",
    "        return f'Process(pid={self.pid}, length={self.length})'"
   ]
  },
  {
   "cell_type": "code",
   "execution_count": 13,
   "id": "0d00a942",
   "metadata": {},
   "outputs": [],
   "source": [
    "class Server:\n",
    "    def __init__(self, core_speed, num_cores):\n",
    "        self.core_speed = core_speed\n",
    "        self.num_cores = num_cores\n",
    "        self.workload = []\n",
    "\n",
    "    def __repr__(self):\n",
    "        return f'Server(core_speed={self.core_speed}, num_cores={self.num_cores}, workload={self.workload})'"
   ]
  },
  {
   "cell_type": "code",
   "execution_count": 14,
   "id": "f2deb9af",
   "metadata": {},
   "outputs": [],
   "source": [
    "def evaluate_fitness(member):\n",
    "    processes, servers = member\n",
    "    fitness = 0\n",
    "    for server in tqdm(servers, desc=\"Evaluating fitness\"):\n",
    "        execution_time = 0\n",
    "        for process in processes:\n",
    "            if process in server.workload:\n",
    "                execution_time += process.length / (server.core_speed * server.num_cores)\n",
    "        fitness += execution_time\n",
    "    return fitness"
   ]
  },
  {
   "cell_type": "code",
   "execution_count": 15,
   "id": "831d03b7",
   "metadata": {},
   "outputs": [],
   "source": [
    "def get_fittest_indexes(fitnesses, population_size):\n",
    "    return sorted(range(len(fitnesses)), key=lambda x: fitnesses[x])[:int(population_size/2)]"
   ]
  },
  {
   "cell_type": "code",
   "execution_count": 16,
   "id": "de69e737",
   "metadata": {},
   "outputs": [],
   "source": [
    "def create_offspring(fittest, population_size):\n",
    "    offspring = []\n",
    "    while tqdm(len(offspring) < population_size, desc=\"Breeding\"):\n",
    "        parent1 = random.choice(fittest)\n",
    "        parent2 = random.choice(fittest)\n",
    "        child = breed(parent1, parent2)\n",
    "        offspring.append(child)\n",
    "    return offspring"
   ]
  },
  {
   "cell_type": "code",
   "execution_count": 17,
   "id": "f2a9c098",
   "metadata": {},
   "outputs": [],
   "source": [
    "def mutate(member):\n",
    "    processes, servers = member\n",
    "    # Choose a random process and assign it to a random server\n",
    "    process = random.choice(processes)\n",
    "    server = random.choice(servers)\n",
    "    process_index = processes.index(process)\n",
    "    processes[process_index] = None\n",
    "    server.workload.append(process)\n",
    "    return [processes, servers]"
   ]
  },
  {
   "cell_type": "code",
   "execution_count": 18,
   "id": "764a49f8",
   "metadata": {},
   "outputs": [],
   "source": [
    "def mutate_offspring(offspring):\n",
    "    for i in range(len(offspring)):\n",
    "        if random.random() < 0.1:\n",
    "            offspring[i] = mutate(offspring[i])\n",
    "    return offspring"
   ]
  },
  {
   "cell_type": "code",
   "execution_count": 19,
   "id": "49dbf683",
   "metadata": {},
   "outputs": [],
   "source": [
    "def breed(parent1, parent2):\n",
    "    # Combine the process lists of the parents and shuffle them to create the child\n",
    "    child_processes = parent1[0] + parent2[0]\n",
    "    random.shuffle(child_processes)\n",
    "    return [child_processes, parent1[1]]"
   ]
  },
  {
   "cell_type": "code",
   "execution_count": 20,
   "id": "d671a314",
   "metadata": {},
   "outputs": [],
   "source": [
    "def assign_processes(processes, servers, population_size=100, n_iter=100):\n",
    "    # Initialize the population with randomly assigned sets of processes to servers\n",
    "    population = []\n",
    "    for _ in range(population_size):\n",
    "        population.append([random.sample(processes, k=len(processes)), servers])\n",
    "    \n",
    "    for i in tqdm(range(n_iter), desc=\"Assign process\"):\n",
    "        # Evaluate the fitness of each member of the population\n",
    "        fitnesses = []\n",
    "        for member in population:\n",
    "            fitnesses.append(evaluate_fitness(member))\n",
    "        \n",
    "        # Select the fittest members of the population for reproduction\n",
    "        fittest_indexes = get_fittest_indexes(fitnesses, population_size)\n",
    "        fittest = [population[i] for i in fittest_indexes]\n",
    "        \n",
    "        # Breed new members by combining the process lists of the fittest members\n",
    "        offspring = create_offspring(fittest, population_size)\n",
    "        \n",
    "        # Add some random mutations to the process lists of the new members\n",
    "        offspring = mutate_offspring(offspring)\n",
    "        \n",
    "        # Replace the current population with the offspring\n",
    "        population = offspring\n",
    "    \n",
    "    # Return the fittest member of the final population\n",
    "    fitnesses = []\n",
    "    for member in population:\n",
    "        fitnesses.append(evaluate_fitness(member))\n",
    "    fittest_index = min(range(len(fitnesses)), key=lambda x: fitnesses[x])\n",
    "    return population[fittest_index]"
   ]
  },
  {
   "cell_type": "code",
   "execution_count": null,
   "id": "95c8ba35",
   "metadata": {},
   "outputs": [],
   "source": []
  }
 ],
 "metadata": {
  "kernelspec": {
   "display_name": "Python 3 (ipykernel)",
   "language": "python",
   "name": "python3"
  },
  "language_info": {
   "codemirror_mode": {
    "name": "ipython",
    "version": 3
   },
   "file_extension": ".py",
   "mimetype": "text/x-python",
   "name": "python",
   "nbconvert_exporter": "python",
   "pygments_lexer": "ipython3",
   "version": "3.9.13"
  }
 },
 "nbformat": 4,
 "nbformat_minor": 5
}
