{
 "cells": [
  {
   "cell_type": "code",
   "execution_count": 33,
   "id": "0a686c6b",
   "metadata": {},
   "outputs": [],
   "source": [
    "import numpy as np"
   ]
  },
  {
   "cell_type": "code",
   "execution_count": 34,
   "id": "efe23ea3",
   "metadata": {},
   "outputs": [],
   "source": [
    "class Process:\n",
    "    def __init__(self, pid, ram_usage, completition_time):\n",
    "        self.pid = pid\n",
    "        self.ram_usage = ram_usage # Size in MB\n",
    "        self.completition_time = completition_time # Number of instructions\n",
    "    def __repr__(self):\n",
    "        return \"PID: {0}\\n\\tRAM Usage: {1}\\n\\tCompletition Time: {2}\".format(self.pid, self.ram_usage, self.completition_time)"
   ]
  },
  {
   "cell_type": "code",
   "execution_count": 39,
   "id": "14cd93fa",
   "metadata": {},
   "outputs": [],
   "source": [
    "class CPU:\n",
    "    def __init__(self, model, speed):\n",
    "        self.model = model\n",
    "        self.speed = speed\n",
    "    def __repr__(self):\n",
    "        return \"CPU Model: {0}\\n\\tSpeed: {1}GHz\".format(self.model, self.speed)"
   ]
  },
  {
   "cell_type": "code",
   "execution_count": 58,
   "id": "b9d8beda",
   "metadata": {},
   "outputs": [],
   "source": [
    "class RAM:\n",
    "    def __init__(self, model, capacity):\n",
    "        self.model = model\n",
    "        self.capacity = capacity\n",
    "    def __repr__(self):\n",
    "        return \"RAM Model: {0}\\n\\tCapacity: {1}GB\".format(self.model, self.capacity)"
   ]
  },
  {
   "cell_type": "code",
   "execution_count": 59,
   "id": "f1018dcc",
   "metadata": {},
   "outputs": [],
   "source": [
    "class Cloud:\n",
    "    def __init__(self, name, cpu: CPU, ram: RAM, workload: list[\"Process\"] = []):\n",
    "        self.name = name\n",
    "        self.cpu = cpu\n",
    "        self.ram = ram\n",
    "        self.resources = (cpu.speed, ram.capacity)\n",
    "        self.workload = workload\n",
    "    def toArray(self):\n",
    "        return np.asarray([self.cpu, self.ram, self.resource, self.workload])\n",
    "    def dictRepr(self):\n",
    "        return {self.name: self.toArray()}\n",
    "    def __repr__(self):\n",
    "        return \"ID: {0}\\n\\t{1}\\n\\t{2}\\n\\tResources: {3} \\n\\tWorkload: {4}\".format(self.name, self.cpu, self.ram, self.resources, self.workload)"
   ]
  },
  {
   "cell_type": "code",
   "execution_count": 60,
   "id": "45254f1e",
   "metadata": {},
   "outputs": [],
   "source": [
    "cloud = Cloud(\"Pollo\", CPU(\"intel\", 16), RAM(\"corsair\", 8))"
   ]
  },
  {
   "cell_type": "code",
   "execution_count": null,
   "id": "66b54fd7",
   "metadata": {},
   "outputs": [],
   "source": [
    "\n"
   ]
  }
 ],
 "metadata": {
  "kernelspec": {
   "display_name": "Python 3 (ipykernel)",
   "language": "python",
   "name": "python3"
  },
  "language_info": {
   "codemirror_mode": {
    "name": "ipython",
    "version": 3
   },
   "file_extension": ".py",
   "mimetype": "text/x-python",
   "name": "python",
   "nbconvert_exporter": "python",
   "pygments_lexer": "ipython3",
   "version": "3.9.7"
  }
 },
 "nbformat": 4,
 "nbformat_minor": 5
}
