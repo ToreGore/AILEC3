{
 "cells": [
  {
   "cell_type": "code",
   "execution_count": 221,
   "id": "79dfea5c",
   "metadata": {},
   "outputs": [],
   "source": [
    "import import_ipynb\n",
    "import itertools\n",
    "\n",
    "import random as rnd\n",
    "import Cloud as cld\n",
    "import numpy as np\n",
    "import copy\n",
    "\n",
    "from tqdm.notebook import tqdm"
   ]
  },
  {
   "cell_type": "code",
   "execution_count": 295,
   "id": "f892dc8e",
   "metadata": {},
   "outputs": [],
   "source": [
    "def shuffle(lst):\n",
    "    arr = lst\n",
    "    # Get length of List\n",
    "    n = len(arr)\n",
    " \n",
    "    #repeat the following for n number of times\n",
    "    for i in range(n):\n",
    "        #select an index randomly\n",
    "        j = rnd.randint(0, n-1)\n",
    "        #delete the element at that index.\n",
    "        element=arr.pop(j)\n",
    "        #now append that deleted element to the list\n",
    "        arr.append(element)\n",
    "    return arr"
   ]
  },
  {
   "cell_type": "code",
   "execution_count": 156,
   "id": "dfdb1f23",
   "metadata": {},
   "outputs": [],
   "source": [
    "class Chromosome:\n",
    "    def __init__(self, servers, processes, fitness, individual=None, generation=0):\n",
    "        self.servers = servers\n",
    "        self.processes = processes\n",
    "        self.fitness = fitness\n",
    "        self.average_fitness = sum([y for x, y in self.fitness])/len(self.fitness)\n",
    "        self.individual = individual\n",
    "        self.generation = generation\n",
    "    def __lt__(self, other):\n",
    "         return self.average_fitness < other.average_fitness\n",
    "    def __repr__(self):\n",
    "        return \"Average Chromosome fitness: {0}\\n\\tIndividual: {1}\\n\\tGENERATION: {2}\".format(self.average_fitness, self.individual, self.generation)"
   ]
  },
  {
   "cell_type": "code",
   "execution_count": 157,
   "id": "f7136682",
   "metadata": {},
   "outputs": [],
   "source": [
    "num_servers = 20\n",
    "cores = [16, 18, 20, 24, 48, 96]\n",
    "cpu_speeds = [3, 4, 5, 10, 20]\n",
    "rnd.seed(42)\n",
    "servers = [cld.Server(name=x, cpu_speed=cpu_speeds[rnd.randint(0, 4)], cores=cores[rnd.randint(0, 4)]) for x in range(0, num_servers)]"
   ]
  },
  {
   "cell_type": "code",
   "execution_count": 174,
   "id": "a51c7e9e",
   "metadata": {},
   "outputs": [],
   "source": [
    "num_processes = 100\n",
    "processes_lengths = [round(rnd.uniform(0.02, 1.000), 2) for x in range(0, num_processes)] \n",
    "# Fraction of billion of instructions. 1 = 1 billion instructions\n",
    "processes = [cld.Process(x, processes_lengths[rnd.randint(0, len(processes_lengths)-1)]) for x in range(0, num_processes)]"
   ]
  },
  {
   "cell_type": "code",
   "execution_count": 159,
   "id": "6f97d7d0",
   "metadata": {},
   "outputs": [],
   "source": [
    "# Must split the processes each time for each chromosome!!!"
   ]
  },
  {
   "cell_type": "code",
   "execution_count": 160,
   "id": "a005785d",
   "metadata": {},
   "outputs": [],
   "source": [
    "split_processes = np.array_split(np.asarray(processes), len(servers))"
   ]
  },
  {
   "cell_type": "markdown",
   "id": "a1100a2b",
   "metadata": {},
   "source": [
    "#### Fitness function to calculate the fitness score of each gene\n",
    "Calculated the max time that each server expends on its own workload.<br>\n",
    "Need to take into account the speed of the processors"
   ]
  },
  {
   "cell_type": "code",
   "execution_count": 146,
   "id": "f69f9c75",
   "metadata": {},
   "outputs": [],
   "source": [
    "def server_fitness(server):\n",
    "    cores, speed, processes = server.cores, server.cpu_speed, server.workload\n",
    "    print(processes)\n",
    "    fitness = sorted([process.process_length for process in processes[:cores]])\n",
    "    for process in processes[cores:]:\n",
    "        fitness[0] += process.process_length\n",
    "        fitness = sorted(fitness)\n",
    "    return fitness"
   ]
  },
  {
   "cell_type": "code",
   "execution_count": 163,
   "id": "b8fbaff1",
   "metadata": {},
   "outputs": [],
   "source": [
    "def fitness(chromosome):\n",
    "    servers_fitness = []\n",
    "    for server in (chromosome):\n",
    "        cores, speed, processes = server.cores, server.cpu_speed, server.workload\n",
    "        fitness = sorted([process.process_length for process in processes[:cores]])\n",
    "        for process in processes[cores:]:\n",
    "            fitness[0] += process.process_length\n",
    "            fitness = sorted(fitness)\n",
    "        servers_fitness.append((server.name, fitness[-1] / speed))\n",
    "    return servers_fitness"
   ]
  },
  {
   "cell_type": "code",
   "execution_count": 164,
   "id": "746fcdc6",
   "metadata": {},
   "outputs": [],
   "source": [
    "def overall_fitness(population):\n",
    "    overall_fitnesses = []\n",
    "    solution = 0\n",
    "    for chromosome in population:\n",
    "        overall_fitnesses.append((fitness(chromosome), solution))\n",
    "        solution += 1\n",
    "    return overall_fitnesses"
   ]
  },
  {
   "cell_type": "markdown",
   "id": "2ae0d42f",
   "metadata": {},
   "source": [
    "#### Function to create a first generation chromosome"
   ]
  },
  {
   "cell_type": "code",
   "execution_count": 296,
   "id": "67534d3b",
   "metadata": {},
   "outputs": [],
   "source": [
    "def make_first_chromosome(servers, processes, individual):\n",
    "    shuffled_processes = shuffle(processes)#np.random.choice(copy.deepcopy(processes[:]), len(processes), replace=False)#copy.deepcopy(processes[:])\n",
    "    #np.random.shuffle(shuffled_processes)\n",
    "    split_processes = np.array_split(np.asarray(shuffled_processes), len(servers))\n",
    "    for i in range(len(split_processes)):\n",
    "        servers[i].workload = split_processes[i]\n",
    "    return Chromosome(servers, processes, fitness(servers), individual)#(servers, fitness(servers))#, split_processes)"
   ]
  },
  {
   "cell_type": "code",
   "execution_count": 297,
   "id": "dfcf0e91",
   "metadata": {},
   "outputs": [],
   "source": [
    "chromo_1 = make_first_chromosome(servers, processes, 0)"
   ]
  },
  {
   "cell_type": "code",
   "execution_count": 298,
   "id": "47d41b8f",
   "metadata": {},
   "outputs": [],
   "source": [
    "chromo_2 = make_first_chromosome(servers, processes, 0)"
   ]
  },
  {
   "cell_type": "code",
   "execution_count": 299,
   "id": "c81606eb",
   "metadata": {},
   "outputs": [
    {
     "data": {
      "text/plain": [
       "(array([PID: 2\n",
       "        \tLength of process: 0.44 instructions,\n",
       "        PID: 19\n",
       "        \tLength of process: 0.45 instructions,\n",
       "        PID: 24\n",
       "        \tLength of process: 0.72 instructions,\n",
       "        PID: 28\n",
       "        \tLength of process: 0.89 instructions,\n",
       "        PID: 29\n",
       "        \tLength of process: 0.86 instructions], dtype=object),\n",
       " array([PID: 2\n",
       "        \tLength of process: 0.44 instructions,\n",
       "        PID: 19\n",
       "        \tLength of process: 0.45 instructions,\n",
       "        PID: 24\n",
       "        \tLength of process: 0.72 instructions,\n",
       "        PID: 28\n",
       "        \tLength of process: 0.89 instructions,\n",
       "        PID: 29\n",
       "        \tLength of process: 0.86 instructions], dtype=object))"
      ]
     },
     "execution_count": 299,
     "metadata": {},
     "output_type": "execute_result"
    }
   ],
   "source": [
    "chromo_1.servers[0].workload, chromo_2.servers[0].workload"
   ]
  },
  {
   "cell_type": "code",
   "execution_count": 270,
   "id": "048d8ff5",
   "metadata": {},
   "outputs": [],
   "source": [
    "#make_first_chromosome(servers, processes, \"A\")"
   ]
  },
  {
   "cell_type": "code",
   "execution_count": 271,
   "id": "cd77c0dd",
   "metadata": {},
   "outputs": [
    {
     "data": {
      "text/plain": [
       "list"
      ]
     },
     "execution_count": 271,
     "metadata": {},
     "output_type": "execute_result"
    }
   ],
   "source": [
    "import copy\n",
    "a = [1,2,3]\n",
    "type(copy.deepcopy(a))"
   ]
  },
  {
   "cell_type": "code",
   "execution_count": 272,
   "id": "974a9afc",
   "metadata": {},
   "outputs": [
    {
     "data": {
      "text/plain": [
       "array([2, 3, 1])"
      ]
     },
     "execution_count": 272,
     "metadata": {},
     "output_type": "execute_result"
    }
   ],
   "source": [
    "a = np.random.choice(a, len(a), replace=False)\n",
    "a"
   ]
  },
  {
   "cell_type": "markdown",
   "id": "1e0819e9",
   "metadata": {},
   "source": [
    "#### Function to create the first generation population"
   ]
  },
  {
   "cell_type": "code",
   "execution_count": 305,
   "id": "3eccc256",
   "metadata": {},
   "outputs": [],
   "source": [
    "def make_first_gen(servers, processes, pop_size):\n",
    "    population = []\n",
    "    x = 0\n",
    "    for i in tqdm(range(pop_size)):\n",
    "        rnd.seed(i)#RandomState(i)\n",
    "        #np.random.shuffle(processes)\n",
    "        population.append(make_first_chromosome(servers, rnd.sample(copy.deepcopy(processes[:]), len(processes)), x))\n",
    "        x += 1\n",
    "    return sorted(population)"
   ]
  },
  {
   "cell_type": "code",
   "execution_count": 306,
   "id": "9cdec467",
   "metadata": {},
   "outputs": [
    {
     "data": {
      "application/vnd.jupyter.widget-view+json": {
       "model_id": "14930aa15227499b92c935662c3c6f84",
       "version_major": 2,
       "version_minor": 0
      },
      "text/plain": [
       "  0%|          | 0/20 [00:00<?, ?it/s]"
      ]
     },
     "metadata": {},
     "output_type": "display_data"
    }
   ],
   "source": [
    "first_gen = make_first_gen(servers, processes, num_servers)"
   ]
  },
  {
   "cell_type": "code",
   "execution_count": 307,
   "id": "bdb18e4d",
   "metadata": {},
   "outputs": [],
   "source": [
    "a = [x.pid for x in first_gen[0].servers[0].workload]\n",
    "b = [x.pid for x in first_gen[1].servers[0].workload]\n",
    "d = [x.pid for x in first_gen[2].servers[0].workload]"
   ]
  },
  {
   "cell_type": "code",
   "execution_count": 308,
   "id": "26261f52",
   "metadata": {},
   "outputs": [
    {
     "data": {
      "text/plain": [
       "True"
      ]
     },
     "execution_count": 308,
     "metadata": {},
     "output_type": "execute_result"
    }
   ],
   "source": [
    "a == b == d"
   ]
  },
  {
   "cell_type": "code",
   "execution_count": 309,
   "id": "4e0bb2dd",
   "metadata": {},
   "outputs": [
    {
     "name": "stdout",
     "output_type": "stream",
     "text": [
      "73  --  73  --  73\n",
      "98  --  98  --  98\n",
      "20  --  20  --  20\n",
      "1  --  1  --  1\n",
      "66  --  66  --  66\n"
     ]
    }
   ],
   "source": [
    "for i in range(len(a)):\n",
    "    print(a[i], \" -- \", b[i], \" -- \", d[i])"
   ]
  },
  {
   "cell_type": "code",
   "execution_count": 229,
   "id": "5a3a91d7",
   "metadata": {},
   "outputs": [
    {
     "data": {
      "text/plain": [
       "([(0, 0.20666666666666667),\n",
       "  (1, 0.2),\n",
       "  (2, 0.22),\n",
       "  (3, 0.3333333333333333),\n",
       "  (4, 0.25),\n",
       "  (5, 0.088),\n",
       "  (6, 0.25),\n",
       "  (7, 0.23),\n",
       "  (8, 0.048),\n",
       "  (9, 0.16666666666666666),\n",
       "  (10, 0.1475),\n",
       "  (11, 0.093),\n",
       "  (12, 0.053000000000000005),\n",
       "  (13, 0.192),\n",
       "  (14, 0.2475),\n",
       "  (15, 0.198),\n",
       "  (16, 0.2425),\n",
       "  (17, 0.11200000000000002),\n",
       "  (18, 0.3333333333333333),\n",
       "  (19, 0.33)],\n",
       " [(0, 0.2966666666666667),\n",
       "  (1, 0.198),\n",
       "  (2, 0.1475),\n",
       "  (3, 0.3233333333333333),\n",
       "  (4, 0.16666666666666666),\n",
       "  (5, 0.072),\n",
       "  (6, 0.13666666666666666),\n",
       "  (7, 0.2475),\n",
       "  (8, 0.043),\n",
       "  (9, 0.3333333333333333),\n",
       "  (10, 0.22),\n",
       "  (11, 0.091),\n",
       "  (12, 0.096),\n",
       "  (13, 0.184),\n",
       "  (14, 0.2475),\n",
       "  (15, 0.16799999999999998),\n",
       "  (16, 0.25),\n",
       "  (17, 0.2),\n",
       "  (18, 0.31),\n",
       "  (19, 0.27999999999999997)])"
      ]
     },
     "execution_count": 229,
     "metadata": {},
     "output_type": "execute_result"
    }
   ],
   "source": [
    "first_gen[0].fitness, first_gen[1].fitness"
   ]
  },
  {
   "cell_type": "markdown",
   "id": "fceead68",
   "metadata": {},
   "source": [
    "#### Mutation Function\n",
    "This function remixes the process list in a chromosome"
   ]
  },
  {
   "cell_type": "code",
   "execution_count": 246,
   "id": "01c9c892",
   "metadata": {},
   "outputs": [],
   "source": [
    "def mutation(chromosome):\n",
    "    pass"
   ]
  },
  {
   "cell_type": "markdown",
   "id": "606374c2",
   "metadata": {},
   "source": [
    "#### Crossover Function\n",
    "This function selects the best subjects from one generation and \"breeds\" them into the next. <br>\n",
    "The two best subjects from the previous generation cross into the next. <br>\n",
    "<br>\n",
    "##### Crossbreed Logic\n",
    "Compare the best performing workloads on each server. <br>\n",
    "Take workload with best performance. <br>\n",
    "If there are shared processess between servers:\n",
    "1. Keep process on faster server;\n",
    "2. Eliminate the process on slower server;\n",
    "3. Place this process in a list;\n",
    "4. Insert a random pending process from the list; **This is a mutation** \n",
    "5. Repeat redistribution 3. and 4. for num_children times.\n",
    "6. The parents cross in the next generation pool.<br>\n",
    "\n",
    "This should ensure a steadily improve each generation."
   ]
  },
  {
   "cell_type": "code",
   "execution_count": 249,
   "id": "748030a4",
   "metadata": {},
   "outputs": [],
   "source": [
    "def crossover(generation, num_children, num_surv=2):\n",
    "    # Select best specimen\n",
    "    survivors = generation[:2]#[:num_surv]\n",
    "    # Num_surv is variable but let's assume it is always two\n",
    "    father, mother = survivors[0], survivors[1]\n",
    "    # Here are placed the best servers with no workload in common\n",
    "    absolute_gene_expression = []\n",
    "    for i in range(len(father.workload)):\n",
    "        \n",
    "    # Check fittest servers between the two chromosomes\n",
    "        # Need to calculate the fitness of each server"
   ]
  },
  {
   "cell_type": "code",
   "execution_count": 248,
   "id": "316e4421",
   "metadata": {},
   "outputs": [
    {
     "data": {
      "text/plain": [
       "[Average Chromosome fitness: 8.927691666666664\n",
       " \tIndividual: 3\n",
       " \tGENERATION: 0,\n",
       " Average Chromosome fitness: 8.942316666666667\n",
       " \tIndividual: 4\n",
       " \tGENERATION: 0,\n",
       " Average Chromosome fitness: 8.942441666666666\n",
       " \tIndividual: 1\n",
       " \tGENERATION: 0,\n",
       " Average Chromosome fitness: 8.943133333333332\n",
       " \tIndividual: 5\n",
       " \tGENERATION: 0]"
      ]
     },
     "execution_count": 248,
     "metadata": {},
     "output_type": "execute_result"
    }
   ],
   "source": [
    "first_gen[:4]"
   ]
  },
  {
   "cell_type": "code",
   "execution_count": 213,
   "id": "26d90a28",
   "metadata": {},
   "outputs": [
    {
     "name": "stdout",
     "output_type": "stream",
     "text": [
      "[PID: 23937\n",
      " \tLength of process: 0.3 instructions\n",
      " PID: 18078\n",
      " \tLength of process: 0.17 instructions\n",
      " PID: 26913\n",
      " \tLength of process: 0.23 instructions ...\n",
      " PID: 12210\n",
      " \tLength of process: 0.73 instructions\n",
      " PID: 4394\n",
      " \tLength of process: 0.24 instructions\n",
      " PID: 12619\n",
      " \tLength of process: 0.47 instructions]\n",
      "[PID: 23937\n",
      " \tLength of process: 0.3 instructions\n",
      " PID: 18078\n",
      " \tLength of process: 0.17 instructions\n",
      " PID: 26913\n",
      " \tLength of process: 0.23 instructions ...\n",
      " PID: 12210\n",
      " \tLength of process: 0.73 instructions\n",
      " PID: 4394\n",
      " \tLength of process: 0.24 instructions\n",
      " PID: 12619\n",
      " \tLength of process: 0.47 instructions]\n"
     ]
    },
    {
     "data": {
      "text/plain": [
       "True"
      ]
     },
     "execution_count": 213,
     "metadata": {},
     "output_type": "execute_result"
    }
   ],
   "source": [
    "a, b = first_gen[0], first_gen[4]\n",
    "server_fitness(a.__dict__[\"servers\"][0]) == server_fitness(b.__dict__[\"servers\"][0])#.workload"
   ]
  },
  {
   "cell_type": "code",
   "execution_count": 214,
   "id": "8833f628",
   "metadata": {},
   "outputs": [
    {
     "data": {
      "text/plain": [
       "array([PID: 23937\n",
       "       \tLength of process: 0.3 instructions,\n",
       "       PID: 18078\n",
       "       \tLength of process: 0.17 instructions,\n",
       "       PID: 26913\n",
       "       \tLength of process: 0.23 instructions, ...,\n",
       "       PID: 12210\n",
       "       \tLength of process: 0.73 instructions,\n",
       "       PID: 4394\n",
       "       \tLength of process: 0.24 instructions,\n",
       "       PID: 12619\n",
       "       \tLength of process: 0.47 instructions], dtype=object)"
      ]
     },
     "execution_count": 214,
     "metadata": {},
     "output_type": "execute_result"
    }
   ],
   "source": []
  },
  {
   "cell_type": "code",
   "execution_count": 216,
   "id": "00bc43d9",
   "metadata": {},
   "outputs": [
    {
     "data": {
      "text/plain": [
       "array([ True,  True,  True, ...,  True,  True,  True])"
      ]
     },
     "execution_count": 216,
     "metadata": {},
     "output_type": "execute_result"
    }
   ],
   "source": [
    "a.__dict__[\"servers\"][0].workload==b.__dict__[\"servers\"][0].workload"
   ]
  },
  {
   "cell_type": "code",
   "execution_count": null,
   "id": "e2e82d84",
   "metadata": {},
   "outputs": [],
   "source": []
  }
 ],
 "metadata": {
  "kernelspec": {
   "display_name": "Python 3 (ipykernel)",
   "language": "python",
   "name": "python3"
  },
  "language_info": {
   "codemirror_mode": {
    "name": "ipython",
    "version": 3
   },
   "file_extension": ".py",
   "mimetype": "text/x-python",
   "name": "python",
   "nbconvert_exporter": "python",
   "pygments_lexer": "ipython3",
   "version": "3.9.7"
  }
 },
 "nbformat": 4,
 "nbformat_minor": 5
}
